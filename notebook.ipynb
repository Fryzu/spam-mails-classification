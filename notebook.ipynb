{
 "cells": [
  {
   "cell_type": "markdown",
   "metadata": {},
   "source": [
    "# Spam emails filter"
   ]
  },
  {
   "cell_type": "markdown",
   "metadata": {},
   "source": [
    "## Data exploration"
   ]
  },
  {
   "cell_type": "code",
   "execution_count": 1,
   "metadata": {},
   "outputs": [],
   "source": [
    "import os\n",
    "\n",
    "cwd = os.getcwd()\n",
    "DATA_DIR = os.path.join(cwd, \"data\")"
   ]
  },
  {
   "cell_type": "markdown",
   "metadata": {},
   "source": [
    "The dataset is divided into examples of two groups of emails: `spam` and not spam `clean`."
   ]
  },
  {
   "cell_type": "code",
   "execution_count": 2,
   "metadata": {},
   "outputs": [
    {
     "data": {
      "text/plain": [
       "['spam', 'all', 'clean']"
      ]
     },
     "execution_count": 2,
     "metadata": {},
     "output_type": "execute_result"
    }
   ],
   "source": [
    "os.listdir(DATA_DIR)"
   ]
  },
  {
   "cell_type": "code",
   "execution_count": 3,
   "metadata": {},
   "outputs": [],
   "source": [
    "def get_filenames(dir_name):\n",
    "    return [name for name in sorted(os.listdir(dir_name))]"
   ]
  },
  {
   "cell_type": "code",
   "execution_count": 4,
   "metadata": {},
   "outputs": [],
   "source": [
    "\n",
    "clean_filesnames = get_filenames(os.path.join(DATA_DIR, 'clean'))\n",
    "spam_filenames = get_filenames(os.path.join(DATA_DIR, 'spam'))\n"
   ]
  },
  {
   "cell_type": "code",
   "execution_count": 5,
   "metadata": {},
   "outputs": [
    {
     "data": {
      "image/png": "[encoded data removed]",
      "text/plain": [
       "<Figure size 432x288 with 1 Axes>"
      ]
     },
     "metadata": {
      "needs_background": "light"
     },
     "output_type": "display_data"
    }
   ],
   "source": [
    "import matplotlib.pyplot as plt\n",
    "\n",
    "fig = plt.figure()\n",
    "ax = fig.add_axes([0,0,1,1])\n",
    "ax.bar([\"spam\", \"non-spam\"],[len(spam_filenames), len(clean_filesnames)])\n",
    "\n",
    "plt.title(\"Number of examples of each class\")\n",
    "plt.show()"
   ]
  },
  {
   "cell_type": "markdown",
   "metadata": {},
   "source": [
    "The dataset mostly consists of `non-spam` emails."
   ]
  },
  {
   "cell_type": "code",
   "execution_count": 6,
   "metadata": {},
   "outputs": [],
   "source": [
    "import email\n",
    "import email.policy\n",
    "\n",
    "ALL_EMAILS_DIR = os.path.join(DATA_DIR, \"all\")\n",
    "\n",
    "def load_email(filename):\n",
    "    with open(os.path.join(ALL_EMAILS_DIR, filename), \"rb\") as f:\n",
    "        return email.parser.BytesParser(policy=email.policy.default).parse(f)"
   ]
  },
  {
   "cell_type": "code",
   "execution_count": 7,
   "metadata": {},
   "outputs": [],
   "source": [
    "example_spam_email = load_email(spam_filenames[123])\n"
   ]
  },
  {
   "cell_type": "markdown",
   "metadata": {},
   "source": [
    "Let's see an example of spam email."
   ]
  },
  {
   "cell_type": "code",
   "execution_count": 8,
   "metadata": {},
   "outputs": [
    {
     "name": "stdout",
     "output_type": "stream",
     "text": [
      "Header Field Names:\n",
      " ['Return-Path', 'Delivered-To', 'Received', 'Received', 'Received', 'Received', 'Received', 'From', 'To', 'X-Mailer', 'Content-Type', 'Message-Id', 'Subject', 'Sender', 'Errors-To', 'X-Beenthere', 'X-Mailman-Version', 'Precedence', 'List-Help', 'List-Post', 'List-Subscribe', 'List-Id', 'List-Unsubscribe', 'List-Archive', 'X-Original-Date', 'Date', 'Content-Transfer-Encoding', 'X-MIME-Autoconverted']\n"
     ]
    }
   ],
   "source": [
    "print('Header Field Names:\\n',example_spam_email.keys())"
   ]
  },
  {
   "cell_type": "code",
   "execution_count": 9,
   "metadata": {},
   "outputs": [
    {
     "name": "stdout",
     "output_type": "stream",
     "text": [
      "Subject:\n",
      " [scoop] Haberdar olun\n"
     ]
    }
   ],
   "source": [
    "\n",
    "print('Subject:\\n',example_spam_email['Subject'])\n"
   ]
  },
  {
   "cell_type": "code",
   "execution_count": 10,
   "metadata": {},
   "outputs": [
    {
     "name": "stdout",
     "output_type": "stream",
     "text": [
      "Message Field Values:\n",
      " ['<sitescooper-talk-admin@lists.sourceforge.net>', 'zzzz@localhost.example.com', 'from localhost (localhost [127.0.0.1])\\tby phobos.labs.example.com (Postfix) with ESMTP id 92C1843F9B\\tfor <zzzz@localhost>; Mon, 26 Aug 2002 15:15:19 -0400 (EDT)', 'from phobos [127.0.0.1]\\tby localhost with IMAP (fetchmail-5.9.0)\\tfor zzzz@localhost (single-drop); Mon, 26 Aug 2002 20:15:19 +0100 (IST)', 'from usw-sf-list2.sourceforge.net (usw-sf-fw2.sourceforge.net    [216.136.171.252]) by dogma.slashnull.org (8.11.6/8.11.6) with ESMTP id    g7QJ9ZZ05743 for <zzzz-scoop@jmason.org>; Mon, 26 Aug 2002 20:09:35 +0100', 'from usw-sf-list1-b.sourceforge.net ([10.3.1.13]    helo=usw-sf-list1.sourceforge.net) by usw-sf-list2.sourceforge.net with    esmtp (Exim 3.31-VA-mm2 #1 (Debian)) id 17jPEm-0001Sc-00; Mon,    26 Aug 2002 12:09:20 -0700', 'from [65.198.220.134] (helo=ejhvvet) by    usw-sf-list1.sourceforge.net with smtp (Exim 3.31-VA-mm2 #1 (Debian)) id    17jPDw-0006Aq-00 for <sitescooper-talk@lists.sourceforge.net>;    Mon, 26 Aug 2002 12:08:29 -0700', 'Senem Oncul <smgrdphcv@t-online.de>', 'sitescooper-talk@lists.sourceforge.net', 'Microsoft Outlook Express 5.50.4133.2400', 'text/plain', '<vewaeurtngep@lists.sourceforge.net>', '[scoop] Haberdar olun', 'sitescooper-talk-admin@lists.sourceforge.net', 'sitescooper-talk-admin@lists.sourceforge.net', 'sitescooper-talk@lists.sourceforge.net', '2.0.9-sf.net', 'bulk', '<mailto:sitescooper-talk-request@lists.sourceforge.net?subject=help>', '<mailto:sitescooper-talk@lists.sourceforge.net>', '<https://lists.sourceforge.net/lists/listinfo/sitescooper-talk>,    <mailto:sitescooper-talk-request@lists.sourceforge.net?subject=subscribe>', 'Discussion of sitescooper - see http://sitescooper.org/    <sitescooper-talk.lists.sourceforge.net>', '<https://lists.sourceforge.net/lists/listinfo/sitescooper-talk>,    <mailto:sitescooper-talk-request@lists.sourceforge.net?subject=unsubscribe>', '<http://www.geocrawler.com/redir-sf.php3?list=sitescooper-talk>', 'Mon, 26 Aug 2002 20:05:24 -0400', 'Mon, 26 Aug 2002 20:05:24 -0400', '8bit', 'from base64 to 8bit by dogma.slashnull.org id    g7QJ9ZZ05743']\n"
     ]
    }
   ],
   "source": [
    "print('Message Field Values:\\n',example_spam_email.values())"
   ]
  },
  {
   "cell_type": "code",
   "execution_count": 11,
   "metadata": {
    "tags": []
   },
   "outputs": [
    {
     "name": "stdout",
     "output_type": "stream",
     "text": [
      "Message Content:\n",
      " HABERDAR.COM - HABER VE MEDYA PORTALI\n",
      "Art�k t�m haberleri sadece tek siteden takip edebileceksiniz. Haberdar.com a��ld�!\n",
      "Haber ba�l�klar�, spor haberleri, teknoloji haberleri, k�lt�r ve sanat haberleri, internet haberleri, bilim ve uzay, \n",
      "sinema, sa�l�k...\n",
      "Arad���n�z i�erik http://www.haberdar.com adresinde\n",
      "Sadece t�klay�n ve haberdar olun\n",
      "\n",
      "�������������������������������������������+,������X���'���u��9 ��8�y�\u001f�\u0016�����W\\zYi����g�jw����~��DA���i����\f",
      "��za�x���&�����������\u001e",
      "���}�\u001d",
      "{�}�������������������������������������J+^��(�����d����x%��R���r�)z��jY��+-��(��\u001e",
      "~��{���\u001bm����X�������y�+���z����l�X��)���\"��\u001c",
      "��^��Z\n",
      "\n",
      "\n"
     ]
    }
   ],
   "source": [
    "print('Message Content:\\n',example_spam_email.get_content())"
   ]
  },
  {
   "cell_type": "markdown",
   "metadata": {},
   "source": [
    "## Data preparation"
   ]
  },
  {
   "cell_type": "markdown",
   "metadata": {},
   "source": [
    "First we need to prepare the training and test `dataset` for our model."
   ]
  },
  {
   "cell_type": "code",
   "execution_count": 12,
   "metadata": {},
   "outputs": [
    {
     "name": "stdout",
     "output_type": "stream",
     "text": [
      "Importing clean mails\n",
      "\n",
      "\n",
      "Importing spam mails\n",
      "\n"
     ]
    }
   ],
   "source": [
    "print(\"Importing clean mails\\n\")\n",
    "clean_emails = [load_email(email) for email in clean_filesnames]\n",
    "print(\"\\nImporting spam mails\\n\")\n",
    "spam_emails = [load_email(email) for email in spam_filenames]\n"
   ]
  },
  {
   "cell_type": "markdown",
   "metadata": {},
   "source": [
    "### Struture of emails"
   ]
  },
  {
   "cell_type": "code",
   "execution_count": 13,
   "metadata": {},
   "outputs": [],
   "source": [
    "from collections import Counter\n",
    "\n",
    "def get_email_structure(email):\n",
    "    if isinstance(email, str):\n",
    "        return email\n",
    "    payload = email.get_payload()\n",
    "    if isinstance(payload, list):\n",
    "        return \"multipart({})\".format(\", \".join([\n",
    "            get_email_structure(sub_email)\n",
    "            for sub_email in payload\n",
    "        ]))\n",
    "    else:\n",
    "        return email.get_content_type()\n",
    "\n",
    "def structures_counter(emails):\n",
    "    structures = Counter()\n",
    "    for email in emails:\n",
    "        structure = get_email_structure(email)\n",
    "        structures[structure] += 1\n",
    "    return structures\n"
   ]
  },
  {
   "cell_type": "code",
   "execution_count": 14,
   "metadata": {},
   "outputs": [
    {
     "name": "stdout",
     "output_type": "stream",
     "text": [
      "Clean mails structure:\n",
      " Counter({'text/plain': 2453, 'multipart(text/plain, application/pgp-signature)': 72, 'multipart(text/plain, text/html)': 8, 'multipart(text/plain, text/plain)': 4, 'multipart(text/plain)': 3, 'multipart(text/plain, application/octet-stream)': 2, 'multipart(text/plain, text/enriched)': 1, 'multipart(text/plain, application/ms-tnef, text/plain)': 1, 'multipart(multipart(text/plain, text/plain, text/plain), application/pgp-signature)': 1, 'multipart(text/plain, video/mng)': 1, 'multipart(text/plain, multipart(text/plain))': 1, 'multipart(text/plain, application/x-pkcs7-signature)': 1, 'multipart(text/plain, multipart(text/plain, text/plain), text/rfc822-headers)': 1, 'multipart(text/plain, multipart(text/plain, text/plain), multipart(multipart(text/plain, application/x-pkcs7-signature)))': 1, 'multipart(text/plain, application/x-java-applet)': 1})\n"
     ]
    }
   ],
   "source": [
    "clean_structures = structures_counter(clean_emails)\n",
    "print(\"Clean mails structure:\\n\", clean_structures)"
   ]
  },
  {
   "cell_type": "code",
   "execution_count": 15,
   "metadata": {},
   "outputs": [
    {
     "name": "stdout",
     "output_type": "stream",
     "text": [
      "Clean mails structure:\n",
      " Counter({'text/plain': 222, 'text/html': 181, 'multipart(text/plain, text/html)': 45, 'multipart(text/html)': 19, 'multipart(text/plain)': 19, 'multipart(multipart(text/html))': 5, 'multipart(text/plain, image/jpeg)': 3, 'multipart(text/html, application/octet-stream)': 2, 'multipart(text/plain, application/octet-stream)': 1, 'multipart(text/html, text/plain)': 1, 'multipart(multipart(text/html), application/octet-stream, image/jpeg)': 1, 'multipart(multipart(text/plain, text/html), image/gif)': 1, 'multipart/alternative': 1})\n"
     ]
    }
   ],
   "source": [
    "spam_structures = structures_counter(spam_emails)\n",
    "print(\"Clean mails structure:\\n\", spam_structures)"
   ]
  },
  {
   "cell_type": "code",
   "execution_count": 16,
   "metadata": {},
   "outputs": [
    {
     "name": "stderr",
     "output_type": "stream",
     "text": [
      "/usr/local/anaconda3/envs/CI/lib/python3.7/site-packages/ipykernel_launcher.py:13: UserWarning: Matplotlib is currently using module://ipykernel.pylab.backend_inline, which is a non-GUI backend, so cannot show the figure.\n",
      "  del sys.path[0]\n"
     ]
    },
    {
     "data": {
      "image/png": "[encoded data removed]",
      "text/plain": [
       "<Figure size 1080x288 with 2 Axes>"
      ]
     },
     "metadata": {},
     "output_type": "display_data"
    }
   ],
   "source": [
    "fig, (ax1, ax2) = plt.subplots(1, 2)\n",
    "fig.suptitle('Structures popularity')\n",
    "\n",
    "ax1.pie(list(spam_structures.values())[:5],labels=list(spam_structures.keys())[:5])\n",
    "ax1.set_title(\"Spam emails\")\n",
    "ax1.plot()\n",
    "\n",
    "ax2.pie(list(clean_structures.values())[:3],labels=list(clean_structures.keys())[:3])\n",
    "ax2.set_title(\"Clean emails\")\n",
    "ax2.plot() \n",
    "\n",
    "fig.set_figwidth(15)\n",
    "fig.show()"
   ]
  },
  {
   "cell_type": "markdown",
   "metadata": {},
   "source": [
    "As we can see in the plot above, spam emails consist mostly of plain text content while in the spam emails html and multipart structures are more common. \n",
    "\n",
    "In order to properly classify emails we need to use also the html text content so it has to be transformed into plain text. "
   ]
  },
  {
   "cell_type": "markdown",
   "metadata": {},
   "source": [
    "### Converting email contents to plain text"
   ]
  },
  {
   "cell_type": "markdown",
   "metadata": {},
   "source": [
    "As we could see in the example and the graphs above some of the emails are formatted as HTML documents. In order to work on them we need to transform them into plain text. I will use one of the most popular python HTML parser `BeautifulSoup`."
   ]
  },
  {
   "cell_type": "code",
   "execution_count": 17,
   "metadata": {
    "tags": []
   },
   "outputs": [
    {
     "name": "stdout",
     "output_type": "stream",
     "text": [
      "Message Content:\n",
      " HABERDAR.COM - HABER VE MEDYA PORTALI\n",
      "Art�k t�m haberleri sadece tek siteden takip edebileceksiniz. Haberdar.com a��ld�!\n",
      "Haber ba�l�klar�, spor haberleri, teknoloji haberleri, k�lt�r ve sanat haberleri, internet haberleri, bilim ve uzay, \n",
      "sinema, sa�l�k...\n",
      "Arad���n�z i�erik http://www.haberdar.com adresinde\n",
      "Sadece t�klay�n ve haberdar olun\n",
      "\n",
      "�������������������������������������������+,������X���'���u��9 ��8�y�\u001f�\u0016�����W\\zYi����g�jw����~��DA���i����\f",
      "��za�x���&�����������\u001e",
      "���}�\u001d",
      "{�}�������������������������������������J+^��(�����d����x%��R���r�)z��jY��+-��(��\u001e",
      "~��{���\u001bm����X�������y�+���z����l�X��)���\"��\u001c",
      "��^��Z\n",
      "\n",
      "\n"
     ]
    }
   ],
   "source": [
    "print('Message Content:\\n',example_spam_email.get_content())"
   ]
  },
  {
   "cell_type": "code",
   "execution_count": 18,
   "metadata": {},
   "outputs": [],
   "source": [
    "from bs4 import BeautifulSoup\n",
    "\n",
    "def html_to_plain(html_content):\n",
    "    try:\n",
    "        soup = BeautifulSoup(html_content, 'html.parser')\n",
    "        return soup.text.replace('\\n\\n','')\n",
    "    except:\n",
    "        return \"empty\"\n"
   ]
  },
  {
   "cell_type": "code",
   "execution_count": 19,
   "metadata": {},
   "outputs": [
    {
     "name": "stdout",
     "output_type": "stream",
     "text": [
      "HABERDAR.COM - HABER VE MEDYA PORTALI\n",
      "Art�k t�m haberleri sadece tek siteden takip edebileceksiniz. Haberdar.com a��ld�!\n",
      "Haber ba�l�klar�, spor haberleri, teknoloji haberleri, k�lt�r ve sanat haberleri, internet haberleri, bilim ve uzay, \n",
      "sinema, sa�l�k...\n",
      "Arad���n�z i�erik http://www.haberdar.com adresinde\n",
      "Sadece t�klay�n ve haberdar olun�������������������������������������������+,������X���'���u��9 ��8�y�\u001f�\u0016�����W\\zYi����g�jw����~��DA���i����\f",
      "��za�x���&�����������\u001e",
      "���}�\u001d",
      "{�}�������������������������������������J+^��(�����d����x%��R���r�)z��jY��+-��(��\u001e",
      "~��{���\u001bm����X�������y�+���z����l�X��)���\"��\u001c",
      "��^��Z\n"
     ]
    }
   ],
   "source": [
    "print(html_to_plain(example_spam_email.get_content()))"
   ]
  },
  {
   "cell_type": "code",
   "execution_count": 20,
   "metadata": {},
   "outputs": [],
   "source": [
    "def parse_email(email):\n",
    "    for part in email.walk():\n",
    "        part_type = part.get_content_type()\n",
    "        if part_type not in ['text/plain','text/html']:\n",
    "            continue\n",
    "        try:\n",
    "            part_content = part.get_content()\n",
    "        except: # in case of encoding issues\n",
    "            part_content = str(part.get_payload())\n",
    "        if part_type == 'text/plain':\n",
    "            return part_content\n",
    "        else:\n",
    "            return html_to_plain(part)"
   ]
  },
  {
   "cell_type": "code",
   "execution_count": 21,
   "metadata": {},
   "outputs": [],
   "source": [
    "spam_emails = [parse_email(email) for email in spam_emails]"
   ]
  },
  {
   "cell_type": "code",
   "execution_count": 22,
   "metadata": {},
   "outputs": [],
   "source": [
    "clean_emails = [parse_email(email) for email in clean_emails]"
   ]
  },
  {
   "cell_type": "markdown",
   "metadata": {},
   "source": [
    "### Tokenization"
   ]
  },
  {
   "cell_type": "markdown",
   "metadata": {},
   "source": [
    "To use the emails content in order to train our model we need to transform the text into tokens. To acheive that I will use Python natural language processing module NLTK."
   ]
  },
  {
   "cell_type": "code",
   "execution_count": 23,
   "metadata": {},
   "outputs": [
    {
     "name": "stdout",
     "output_type": "stream",
     "text": [
      "crash => crash\n",
      "crashes => crash\n",
      "crashed => crash\n",
      "crashing => crash\n"
     ]
    }
   ],
   "source": [
    "import nltk\n",
    "\n",
    "stemmer = nltk.PorterStemmer()\n",
    "for word in (\"crash\", \"crashes\", \"crashed\", \"crashing\"):\n",
    "        print(word, \"=>\", stemmer.stem(word))"
   ]
  },
  {
   "cell_type": "code",
   "execution_count": 24,
   "metadata": {},
   "outputs": [
    {
     "data": {
      "text/plain": [
       "'test test test'"
      ]
     },
     "execution_count": 24,
     "metadata": {},
     "output_type": "execute_result"
    }
   ],
   "source": [
    "import string\n",
    "\n",
    "def remove_punctuation(text):\n",
    "    return text.translate(str.maketrans('', '', string.punctuation))\n",
    "\n",
    "\n",
    "remove_punctuation(\"test. test. test?\")"
   ]
  },
  {
   "cell_type": "code",
   "execution_count": 25,
   "metadata": {
    "tags": []
   },
   "outputs": [
    {
     "name": "stderr",
     "output_type": "stream",
     "text": [
      "100%|██████████| 4/4 [00:00<00:00, 8568.55it/s]\n"
     ]
    }
   ],
   "source": [
    "import re\n",
    "import tqdm\n",
    "import numpy as np\n",
    "\n",
    "class Tokenizer:\n",
    "    def __init__(self, text_leraning_set, vocabulary_size=1000):\n",
    "        self._dictionary = {}\n",
    "        self._words_count = Counter()\n",
    "        global_words_count = Counter()\n",
    "        for email in tqdm.tqdm(text_leraning_set):\n",
    "            email_word_count = self.get_words_counter(email)\n",
    "            self._words_count += email_word_count\n",
    "        most_frequent = self._words_count.most_common(vocabulary_size)\n",
    "\n",
    "        for idx, element in enumerate(most_frequent):\n",
    "            word, _ = element\n",
    "            self._dictionary[word] = idx\n",
    "\n",
    "    def clean_text(self, text):\n",
    "        \"\"\" Prepares the text and returns the list of stemmed words \"\"\"\n",
    "        if text is None:\n",
    "            text = 'empty'\n",
    "        text = text.lower()\n",
    "        text = remove_punctuation(text)\n",
    "        text = re.sub(\"\\s\\s+\" , \" \", text)\n",
    "        text = text.split(\" \")\n",
    "        return [stemmer.stem(word) for word in text]\n",
    "\n",
    "    def get_words_counter(self, text):\n",
    "        text = self.clean_text(text)\n",
    "        return Counter(text)\n",
    "\n",
    "    def transform(self, text):\n",
    "        text = self.clean_text(text)\n",
    "        words_list = self._dictionary.keys()\n",
    "        result_vector = np.zeros(len(self._dictionary))\n",
    "        for word in text:\n",
    "            if word in words_list:\n",
    "                index = self._dictionary[word]\n",
    "                result_vector[index] = 1\n",
    "        return result_vector\n",
    "\n",
    "\n",
    "test_tokenizer = Tokenizer([\"Example test sentence one\", \"here is another\", \"and next one\", \"Last sentence\"])"
   ]
  },
  {
   "cell_type": "code",
   "execution_count": 26,
   "metadata": {},
   "outputs": [
    {
     "data": {
      "text/plain": [
       "{'sentenc': 0,\n",
       " 'one': 1,\n",
       " 'exampl': 2,\n",
       " 'test': 3,\n",
       " 'here': 4,\n",
       " 'is': 5,\n",
       " 'anoth': 6,\n",
       " 'and': 7,\n",
       " 'next': 8,\n",
       " 'last': 9}"
      ]
     },
     "execution_count": 26,
     "metadata": {},
     "output_type": "execute_result"
    }
   ],
   "source": [
    "test_tokenizer._dictionary"
   ]
  },
  {
   "cell_type": "code",
   "execution_count": 27,
   "metadata": {
    "tags": []
   },
   "outputs": [
    {
     "data": {
      "text/plain": [
       "array([0., 1., 0., 0., 0., 0., 0., 1., 1., 0.])"
      ]
     },
     "execution_count": 27,
     "metadata": {},
     "output_type": "execute_result"
    }
   ],
   "source": [
    "test_tokenizer.transform(\"and next one\")"
   ]
  },
  {
   "cell_type": "markdown",
   "metadata": {},
   "source": [
    "Tokenizer method get_words_counter parses the text and returns dictionary of words from the text mapped to their count. Tokenizer on construction iterates through the emails and creates dictionary of size `vocabulary_size`."
   ]
  },
  {
   "cell_type": "code",
   "execution_count": 28,
   "metadata": {},
   "outputs": [
    {
     "name": "stdout",
     "output_type": "stream",
     "text": [
      "    Date:        Wed, 21 Aug 2002 10:54:46 -0500\n",
      "    From:        Chris Garrigues <cwg-dated-1030377287.06fa6d@DeepEddy.Com>\n",
      "    Message-ID:  <1029945287.4797.TMDA@deepeddy.vircio.com>\n",
      "\n",
      "\n",
      "  | I can't reproduce this error.\n",
      "\n",
      "For me it is very repeatable... (like every time, without fail).\n",
      "\n",
      "This is the debug log of the pick happening ...\n",
      "\n",
      "18:19:03 Pick_It {exec pick +inbox -list -lbrace -lbrace -subject ftp -rbrace -rbrace} {4852-4852 -sequence mercury}\n",
      "18:19:03 exec pick +inbox -list -lbrace -lbrace -subject ftp -rbrace -rbrace 4852-4852 -sequence mercury\n",
      "18:19:04 Ftoc_PickMsgs {{1 hit}}\n",
      "18:19:04 Marking 1 hits\n",
      "18:19:04 tkerror: syntax error in expression \"int ...\n",
      "\n",
      "Note, if I run the pick command by hand ...\n",
      "\n",
      "delta$ pick +inbox -list -lbrace -lbrace -subject ftp -rbrace -rbrace  4852-4852 -sequence mercury\n",
      "1 hit\n",
      "\n",
      "That's where the \"1 hit\" comes from (obviously).  The version of nmh I'm\n",
      "using is ...\n",
      "\n",
      "delta$ pick -version\n",
      "pick -- nmh-1.0.4 [compiled on fuchsia.cs.mu.OZ.AU at Sun Mar 17 14:55:56 ICT 2002]\n",
      "\n",
      "And the relevant part of my .mh_profile ...\n",
      "\n",
      "delta$ mhparam pick\n",
      "-seq sel -list\n",
      "\n",
      "\n",
      "Since the pick command works, the sequence (actually, both of them, the\n",
      "one that's explicit on the command line, from the search popup, and the\n",
      "one that comes from .mh_profile) do get created.\n",
      "\n",
      "kre\n",
      "\n",
      "ps: this is still using the version of the code form a day ago, I haven't\n",
      "been able to reach the cvs repository today (local routing issue I think).\n",
      "\n",
      "\n",
      "\n",
      "_______________________________________________\n",
      "Exmh-workers mailing list\n",
      "Exmh-workers@redhat.com\n",
      "https://listman.redhat.com/mailman/listinfo/exmh-workers\n",
      "\n",
      "\n",
      "Counter({'the': 13, 'pick': 7, 'lbrace': 6, 'rbrace': 6, 'of': 5, 'from': 4, 'i': 4, 'is': 4, 'list': 4, 'sequenc': 4, 'thi': 3, 'inbox': 3, 'subject': 3, 'ftp': 3, '48524852': 3, '1': 3, 'command': 3, 'delta': 3, 'that': 3, '': 2, '2002': 2, 'error': 2, 'exec': 2, 'hit': 2, 'come': 2, 'version': 2, 'on': 2, 'and': 2, 'mhprofil': 2, 'the\\non': 2, 'date': 1, 'wed': 1, '21': 1, 'aug': 1, '105446': 1, '0500': 1, 'chri': 1, 'garrigu': 1, 'cwgdated103037728706fa6ddeepeddycom': 1, 'messageid': 1, '10299452874797tmdadeepeddyvirciocom': 1, 'cant': 1, 'reproduc': 1, 'for': 1, 'me': 1, 'it': 1, 'veri': 1, 'repeat': 1, 'like': 1, 'everi': 1, 'time': 1, 'without': 1, 'fail': 1, 'debug': 1, 'log': 1, 'happen': 1, '181903': 1, 'pickit': 1, 'mercury\\n181903': 1, 'mercury\\n181904': 1, 'ftocpickmsg': 1, 'hit\\n181904': 1, 'mark': 1, 'hits\\n181904': 1, 'tkerror': 1, 'syntax': 1, 'in': 1, 'express': 1, 'int': 1, 'note': 1, 'if': 1, 'run': 1, 'by': 1, 'hand': 1, 'mercury\\n1': 1, 'where': 1, 'obvious': 1, 'nmh': 1, 'im\\nus': 1, 'version\\npick': 1, 'nmh104': 1, 'compil': 1, 'fuchsiacsmuozau': 1, 'at': 1, 'sun': 1, 'mar': 1, '17': 1, '145556': 1, 'ict': 1, 'relev': 1, 'part': 1, 'my': 1, 'mhparam': 1, 'pick\\nseq': 1, 'sel': 1, 'sinc': 1, 'work': 1, 'actual': 1, 'both': 1, 'them': 1, 'explicit': 1, 'line': 1, 'search': 1, 'popup': 1, 'do': 1, 'get': 1, 'creat': 1, 'kre': 1, 'ps': 1, 'still': 1, 'use': 1, 'code': 1, 'form': 1, 'a': 1, 'day': 1, 'ago': 1, 'havent\\nbeen': 1, 'abl': 1, 'to': 1, 'reach': 1, 'cv': 1, 'repositori': 1, 'today': 1, 'local': 1, 'rout': 1, 'issu': 1, 'think': 1, 'exmhwork': 1, 'mail': 1, 'list\\nexmhworkersredhatcom\\nhttpslistmanredhatcommailmanlistinfoexmhwork': 1})\n"
     ]
    }
   ],
   "source": [
    "test_email_content = clean_emails[0]\n",
    "\n",
    "print(test_email_content)\n",
    "print(test_tokenizer.get_words_counter(test_email_content))\n"
   ]
  },
  {
   "cell_type": "code",
   "execution_count": 29,
   "metadata": {},
   "outputs": [
    {
     "data": {
      "text/plain": [
       "['sentenc',\n",
       " 'one',\n",
       " 'exampl',\n",
       " 'test',\n",
       " 'here',\n",
       " 'is',\n",
       " 'anoth',\n",
       " 'and',\n",
       " 'next',\n",
       " 'last']"
      ]
     },
     "execution_count": 29,
     "metadata": {},
     "output_type": "execute_result"
    }
   ],
   "source": [
    "list(test_tokenizer._dictionary.keys())[0:25]"
   ]
  },
  {
   "cell_type": "markdown",
   "metadata": {},
   "source": [
    "Now lets create the leraning data set for the ML model."
   ]
  },
  {
   "cell_type": "code",
   "execution_count": 30,
   "metadata": {},
   "outputs": [
    {
     "name": "stderr",
     "output_type": "stream",
     "text": [
      "100%|██████████| 3052/3052 [00:14<00:00, 206.57it/s]\n"
     ]
    }
   ],
   "source": [
    "import pandas as pd\n",
    "\n",
    "all_emails = [*spam_emails, *clean_emails]\n",
    "tokenizer = Tokenizer(all_emails)\n",
    "\n",
    "vectors = [tokenizer.transform(email) for email in all_emails]\n",
    "labels = [\"spam\" for _ in spam_emails]+[\"clean\" for _ in clean_emails]"
   ]
  },
  {
   "cell_type": "code",
   "execution_count": 31,
   "metadata": {},
   "outputs": [],
   "source": [
    "df = pd.DataFrame({\"vector\": vectors, \"label\": labels})"
   ]
  },
  {
   "cell_type": "code",
   "execution_count": 32,
   "metadata": {},
   "outputs": [
    {
     "data": {
      "text/html": [
       "<div>\n",
       "<style scoped>\n",
       "    .dataframe tbody tr th:only-of-type {\n",
       "        vertical-align: middle;\n",
       "    }\n",
       "\n",
       "    .dataframe tbody tr th {\n",
       "        vertical-align: top;\n",
       "    }\n",
       "\n",
       "    .dataframe thead th {\n",
       "        text-align: right;\n",
       "    }\n",
       "</style>\n",
       "<table border=\"1\" class=\"dataframe\">\n",
       "  <thead>\n",
       "    <tr style=\"text-align: right;\">\n",
       "      <th></th>\n",
       "      <th>vector</th>\n",
       "      <th>label</th>\n",
       "    </tr>\n",
       "  </thead>\n",
       "  <tbody>\n",
       "    <tr>\n",
       "      <th>2400</th>\n",
       "      <td>[1.0, 1.0, 1.0, 1.0, 1.0, 1.0, 1.0, 1.0, 1.0, ...</td>\n",
       "      <td>clean</td>\n",
       "    </tr>\n",
       "    <tr>\n",
       "      <th>1571</th>\n",
       "      <td>[1.0, 1.0, 1.0, 1.0, 1.0, 1.0, 1.0, 1.0, 1.0, ...</td>\n",
       "      <td>clean</td>\n",
       "    </tr>\n",
       "    <tr>\n",
       "      <th>3033</th>\n",
       "      <td>[0.0, 0.0, 1.0, 0.0, 0.0, 1.0, 0.0, 0.0, 0.0, ...</td>\n",
       "      <td>clean</td>\n",
       "    </tr>\n",
       "    <tr>\n",
       "      <th>2716</th>\n",
       "      <td>[0.0, 0.0, 0.0, 0.0, 0.0, 0.0, 0.0, 0.0, 0.0, ...</td>\n",
       "      <td>clean</td>\n",
       "    </tr>\n",
       "    <tr>\n",
       "      <th>1595</th>\n",
       "      <td>[1.0, 1.0, 1.0, 1.0, 0.0, 1.0, 1.0, 1.0, 1.0, ...</td>\n",
       "      <td>clean</td>\n",
       "    </tr>\n",
       "  </tbody>\n",
       "</table>\n",
       "</div>"
      ],
      "text/plain": [
       "                                                 vector  label\n",
       "2400  [1.0, 1.0, 1.0, 1.0, 1.0, 1.0, 1.0, 1.0, 1.0, ...  clean\n",
       "1571  [1.0, 1.0, 1.0, 1.0, 1.0, 1.0, 1.0, 1.0, 1.0, ...  clean\n",
       "3033  [0.0, 0.0, 1.0, 0.0, 0.0, 1.0, 0.0, 0.0, 0.0, ...  clean\n",
       "2716  [0.0, 0.0, 0.0, 0.0, 0.0, 0.0, 0.0, 0.0, 0.0, ...  clean\n",
       "1595  [1.0, 1.0, 1.0, 1.0, 0.0, 1.0, 1.0, 1.0, 1.0, ...  clean"
      ]
     },
     "execution_count": 32,
     "metadata": {},
     "output_type": "execute_result"
    }
   ],
   "source": [
    "from sklearn.utils import shuffle\n",
    "\n",
    "df = shuffle(df)\n",
    "df.head()"
   ]
  },
  {
   "cell_type": "markdown",
   "metadata": {},
   "source": [
    "## Keras ML Model"
   ]
  },
  {
   "cell_type": "markdown",
   "metadata": {},
   "source": [
    "Now when we have the training data prepared I will prepare the train and test datasets as well as the model."
   ]
  },
  {
   "cell_type": "markdown",
   "metadata": {},
   "source": [
    "### Preparing model input"
   ]
  },
  {
   "cell_type": "code",
   "execution_count": 33,
   "metadata": {},
   "outputs": [
    {
     "data": {
      "text/plain": [
       "(3052, 2)"
      ]
     },
     "execution_count": 33,
     "metadata": {},
     "output_type": "execute_result"
    }
   ],
   "source": [
    "df.shape"
   ]
  },
  {
   "cell_type": "code",
   "execution_count": 34,
   "metadata": {},
   "outputs": [],
   "source": [
    "from sklearn.model_selection import train_test_split\n",
    "\n",
    "X = df[\"vector\"]\n",
    "Y = df[\"label\"]\n",
    "\n",
    "test_size_factor = 0.3\n",
    "\n",
    "X_train, X_test, y_train, y_test = train_test_split(X, Y, test_size=test_size_factor, random_state=1000)"
   ]
  },
  {
   "cell_type": "code",
   "execution_count": 35,
   "metadata": {},
   "outputs": [],
   "source": [
    "from sklearn.preprocessing import LabelEncoder\n",
    "\n",
    "label_encoder = LabelEncoder()\n",
    "label_encoder.fit(Y)\n",
    "\n",
    "y_train = label_encoder.transform(y_train)\n",
    "y_test = label_encoder.transform(y_test)"
   ]
  },
  {
   "cell_type": "code",
   "execution_count": 36,
   "metadata": {},
   "outputs": [],
   "source": [
    "y_train = np.asarray(y_train).astype('float32')\n",
    "y_test = np.asarray(y_test).astype('float32')"
   ]
  },
  {
   "cell_type": "code",
   "execution_count": 37,
   "metadata": {},
   "outputs": [],
   "source": [
    "X_train = np.stack(np.array(X_train), axis=0)\n",
    "X_test = np.stack(np.array(X_test), axis=0)"
   ]
  },
  {
   "cell_type": "code",
   "execution_count": 38,
   "metadata": {},
   "outputs": [
    {
     "name": "stdout",
     "output_type": "stream",
     "text": [
      "Train set size:  2136\n",
      "Test set size:  916\n"
     ]
    }
   ],
   "source": [
    "print(\"Train set size: \", len(X_train))\n",
    "print(\"Test set size: \", len(X_test))"
   ]
  },
  {
   "cell_type": "markdown",
   "metadata": {},
   "source": [
    "### Building first model\n",
    "\n"
   ]
  },
  {
   "cell_type": "code",
   "execution_count": 39,
   "metadata": {},
   "outputs": [],
   "source": [
    "from tensorflow.keras.models import Sequential\n",
    "from tensorflow.keras import layers"
   ]
  },
  {
   "cell_type": "code",
   "execution_count": 40,
   "metadata": {},
   "outputs": [],
   "source": [
    "input_layer_dimension = X_train.shape[1]\n",
    "\n",
    "model = Sequential()\n",
    "model.add(layers.Dense(10, input_dim=input_layer_dimension, activation='relu'))\n",
    "model.add(layers.Dense(1, activation='sigmoid'))"
   ]
  },
  {
   "cell_type": "code",
   "execution_count": 41,
   "metadata": {},
   "outputs": [
    {
     "name": "stdout",
     "output_type": "stream",
     "text": [
      "Model: \"sequential\"\n",
      "_________________________________________________________________\n",
      "Layer (type)                 Output Shape              Param #   \n",
      "=================================================================\n",
      "dense (Dense)                (None, 10)                10010     \n",
      "_________________________________________________________________\n",
      "dense_1 (Dense)              (None, 1)                 11        \n",
      "=================================================================\n",
      "Total params: 10,021\n",
      "Trainable params: 10,021\n",
      "Non-trainable params: 0\n",
      "_________________________________________________________________\n"
     ]
    }
   ],
   "source": [
    "model.compile(loss='binary_crossentropy', \n",
    "              optimizer='adam', \n",
    "              metrics=['accuracy'])\n",
    "model.summary()"
   ]
  },
  {
   "cell_type": "code",
   "execution_count": 42,
   "metadata": {},
   "outputs": [
    {
     "name": "stdout",
     "output_type": "stream",
     "text": [
      "Epoch 1/100\n",
      "214/214 [==============================] - 1s 5ms/step - loss: 0.3826 - accuracy: 0.8361 - val_loss: 0.1377 - val_accuracy: 0.9771\n",
      "Epoch 2/100\n",
      "214/214 [==============================] - 0s 955us/step - loss: 0.1135 - accuracy: 0.9837 - val_loss: 0.0822 - val_accuracy: 0.9869\n",
      "Epoch 3/100\n",
      "214/214 [==============================] - 0s 960us/step - loss: 0.0518 - accuracy: 0.9934 - val_loss: 0.0556 - val_accuracy: 0.9924\n",
      "Epoch 4/100\n",
      "214/214 [==============================] - 0s 951us/step - loss: 0.0366 - accuracy: 0.9937 - val_loss: 0.0398 - val_accuracy: 0.9934\n",
      "Epoch 5/100\n",
      "214/214 [==============================] - 0s 957us/step - loss: 0.0240 - accuracy: 0.9964 - val_loss: 0.0312 - val_accuracy: 0.9945\n",
      "Epoch 6/100\n",
      "214/214 [==============================] - 0s 957us/step - loss: 0.0163 - accuracy: 0.9969 - val_loss: 0.0252 - val_accuracy: 0.9978\n",
      "Epoch 7/100\n",
      "214/214 [==============================] - 0s 968us/step - loss: 0.0101 - accuracy: 0.9996 - val_loss: 0.0221 - val_accuracy: 0.9978\n",
      "Epoch 8/100\n",
      "214/214 [==============================] - 0s 963us/step - loss: 0.0077 - accuracy: 1.0000 - val_loss: 0.0202 - val_accuracy: 0.9967\n",
      "Epoch 9/100\n",
      "214/214 [==============================] - 0s 971us/step - loss: 0.0056 - accuracy: 1.0000 - val_loss: 0.0193 - val_accuracy: 0.9967\n",
      "Epoch 10/100\n",
      "214/214 [==============================] - 0s 986us/step - loss: 0.0050 - accuracy: 1.0000 - val_loss: 0.0182 - val_accuracy: 0.9967\n",
      "Epoch 11/100\n",
      "214/214 [==============================] - 0s 1ms/step - loss: 0.0045 - accuracy: 1.0000 - val_loss: 0.0175 - val_accuracy: 0.9967\n",
      "Epoch 12/100\n",
      "214/214 [==============================] - 0s 1ms/step - loss: 0.0028 - accuracy: 1.0000 - val_loss: 0.0174 - val_accuracy: 0.9967\n",
      "Epoch 13/100\n",
      "214/214 [==============================] - 0s 1ms/step - loss: 0.0026 - accuracy: 1.0000 - val_loss: 0.0170 - val_accuracy: 0.9967\n",
      "Epoch 14/100\n",
      "214/214 [==============================] - 0s 1ms/step - loss: 0.0016 - accuracy: 1.0000 - val_loss: 0.0167 - val_accuracy: 0.9956\n",
      "Epoch 15/100\n",
      "214/214 [==============================] - 0s 969us/step - loss: 0.0017 - accuracy: 1.0000 - val_loss: 0.0169 - val_accuracy: 0.9956\n",
      "Epoch 16/100\n",
      "214/214 [==============================] - 0s 956us/step - loss: 0.0018 - accuracy: 1.0000 - val_loss: 0.0168 - val_accuracy: 0.9956\n",
      "Epoch 17/100\n",
      "214/214 [==============================] - 0s 967us/step - loss: 0.0011 - accuracy: 1.0000 - val_loss: 0.0167 - val_accuracy: 0.9934\n",
      "Epoch 18/100\n",
      "214/214 [==============================] - 0s 1ms/step - loss: 8.2658e-04 - accuracy: 1.0000 - val_loss: 0.0166 - val_accuracy: 0.9934\n",
      "Epoch 19/100\n",
      "214/214 [==============================] - 0s 975us/step - loss: 9.1964e-04 - accuracy: 1.0000 - val_loss: 0.0165 - val_accuracy: 0.9934\n",
      "Epoch 20/100\n",
      "214/214 [==============================] - 0s 1ms/step - loss: 8.7777e-04 - accuracy: 1.0000 - val_loss: 0.0165 - val_accuracy: 0.9934\n",
      "Epoch 21/100\n",
      "214/214 [==============================] - 0s 1ms/step - loss: 7.1238e-04 - accuracy: 1.0000 - val_loss: 0.0164 - val_accuracy: 0.9934\n",
      "Epoch 22/100\n",
      "214/214 [==============================] - 0s 952us/step - loss: 8.2707e-04 - accuracy: 1.0000 - val_loss: 0.0164 - val_accuracy: 0.9934\n",
      "Epoch 23/100\n",
      "214/214 [==============================] - 0s 1ms/step - loss: 5.9113e-04 - accuracy: 1.0000 - val_loss: 0.0165 - val_accuracy: 0.9934\n",
      "Epoch 24/100\n",
      "214/214 [==============================] - 0s 1ms/step - loss: 8.1928e-04 - accuracy: 1.0000 - val_loss: 0.0166 - val_accuracy: 0.9934\n",
      "Epoch 25/100\n",
      "214/214 [==============================] - 0s 1ms/step - loss: 4.0335e-04 - accuracy: 1.0000 - val_loss: 0.0168 - val_accuracy: 0.9934\n",
      "Epoch 26/100\n",
      "214/214 [==============================] - 0s 1ms/step - loss: 3.8735e-04 - accuracy: 1.0000 - val_loss: 0.0170 - val_accuracy: 0.9934\n",
      "Epoch 27/100\n",
      "214/214 [==============================] - 0s 1ms/step - loss: 4.0948e-04 - accuracy: 1.0000 - val_loss: 0.0171 - val_accuracy: 0.9924\n",
      "Epoch 28/100\n",
      "214/214 [==============================] - 0s 1ms/step - loss: 3.7326e-04 - accuracy: 1.0000 - val_loss: 0.0173 - val_accuracy: 0.9924\n",
      "Epoch 29/100\n",
      "214/214 [==============================] - 0s 1ms/step - loss: 6.2198e-04 - accuracy: 1.0000 - val_loss: 0.0175 - val_accuracy: 0.9924\n",
      "Epoch 30/100\n",
      "214/214 [==============================] - 0s 1ms/step - loss: 3.2059e-04 - accuracy: 1.0000 - val_loss: 0.0176 - val_accuracy: 0.9924\n",
      "Epoch 31/100\n",
      "214/214 [==============================] - 0s 1ms/step - loss: 2.7444e-04 - accuracy: 1.0000 - val_loss: 0.0176 - val_accuracy: 0.9924\n",
      "Epoch 32/100\n",
      "214/214 [==============================] - 0s 1ms/step - loss: 1.6687e-04 - accuracy: 1.0000 - val_loss: 0.0177 - val_accuracy: 0.9934\n",
      "Epoch 33/100\n",
      "214/214 [==============================] - 0s 1ms/step - loss: 2.2675e-04 - accuracy: 1.0000 - val_loss: 0.0179 - val_accuracy: 0.9924\n",
      "Epoch 34/100\n",
      "214/214 [==============================] - 0s 1ms/step - loss: 1.0649e-04 - accuracy: 1.0000 - val_loss: 0.0182 - val_accuracy: 0.9934\n",
      "Epoch 35/100\n",
      "214/214 [==============================] - 0s 1ms/step - loss: 3.2487e-04 - accuracy: 1.0000 - val_loss: 0.0184 - val_accuracy: 0.9924\n",
      "Epoch 36/100\n",
      "214/214 [==============================] - 0s 1ms/step - loss: 1.6638e-04 - accuracy: 1.0000 - val_loss: 0.0185 - val_accuracy: 0.9924\n",
      "Epoch 37/100\n",
      "214/214 [==============================] - 0s 1ms/step - loss: 1.4065e-04 - accuracy: 1.0000 - val_loss: 0.0188 - val_accuracy: 0.9924\n",
      "Epoch 38/100\n",
      "214/214 [==============================] - 0s 1ms/step - loss: 1.3468e-04 - accuracy: 1.0000 - val_loss: 0.0189 - val_accuracy: 0.9924\n",
      "Epoch 39/100\n",
      "214/214 [==============================] - 0s 1ms/step - loss: 7.3304e-05 - accuracy: 1.0000 - val_loss: 0.0191 - val_accuracy: 0.9924\n",
      "Epoch 40/100\n",
      "214/214 [==============================] - 0s 1ms/step - loss: 1.0383e-04 - accuracy: 1.0000 - val_loss: 0.0194 - val_accuracy: 0.9913\n",
      "Epoch 41/100\n",
      "214/214 [==============================] - 0s 2ms/step - loss: 1.4404e-04 - accuracy: 1.0000 - val_loss: 0.0196 - val_accuracy: 0.9913\n",
      "Epoch 42/100\n",
      "214/214 [==============================] - 0s 1ms/step - loss: 1.2530e-04 - accuracy: 1.0000 - val_loss: 0.0197 - val_accuracy: 0.9924\n",
      "Epoch 43/100\n",
      "214/214 [==============================] - 0s 2ms/step - loss: 1.1397e-04 - accuracy: 1.0000 - val_loss: 0.0200 - val_accuracy: 0.9913\n",
      "Epoch 44/100\n",
      "214/214 [==============================] - 0s 2ms/step - loss: 6.9003e-05 - accuracy: 1.0000 - val_loss: 0.0202 - val_accuracy: 0.9913\n",
      "Epoch 45/100\n",
      "214/214 [==============================] - 0s 2ms/step - loss: 1.5297e-04 - accuracy: 1.0000 - val_loss: 0.0205 - val_accuracy: 0.9913\n",
      "Epoch 46/100\n",
      "214/214 [==============================] - 0s 2ms/step - loss: 4.4773e-05 - accuracy: 1.0000 - val_loss: 0.0205 - val_accuracy: 0.9924\n",
      "Epoch 47/100\n",
      "214/214 [==============================] - 0s 2ms/step - loss: 5.0015e-05 - accuracy: 1.0000 - val_loss: 0.0210 - val_accuracy: 0.9913\n",
      "Epoch 48/100\n",
      "214/214 [==============================] - 0s 2ms/step - loss: 5.3948e-05 - accuracy: 1.0000 - val_loss: 0.0209 - val_accuracy: 0.9924\n",
      "Epoch 49/100\n",
      "214/214 [==============================] - 0s 2ms/step - loss: 4.1482e-05 - accuracy: 1.0000 - val_loss: 0.0213 - val_accuracy: 0.9902\n",
      "Epoch 50/100\n",
      "214/214 [==============================] - 0s 2ms/step - loss: 6.6034e-05 - accuracy: 1.0000 - val_loss: 0.0213 - val_accuracy: 0.9924\n",
      "Epoch 51/100\n",
      "214/214 [==============================] - 0s 2ms/step - loss: 4.1866e-05 - accuracy: 1.0000 - val_loss: 0.0218 - val_accuracy: 0.9902\n",
      "Epoch 52/100\n",
      "214/214 [==============================] - 0s 2ms/step - loss: 6.1363e-05 - accuracy: 1.0000 - val_loss: 0.0219 - val_accuracy: 0.9902\n",
      "Epoch 53/100\n",
      "214/214 [==============================] - 0s 2ms/step - loss: 5.3193e-05 - accuracy: 1.0000 - val_loss: 0.0222 - val_accuracy: 0.9902\n",
      "Epoch 54/100\n",
      "214/214 [==============================] - 0s 2ms/step - loss: 2.2398e-05 - accuracy: 1.0000 - val_loss: 0.0223 - val_accuracy: 0.9902\n",
      "Epoch 55/100\n",
      "214/214 [==============================] - 0s 2ms/step - loss: 1.7976e-05 - accuracy: 1.0000 - val_loss: 0.0224 - val_accuracy: 0.9924\n",
      "Epoch 56/100\n",
      "214/214 [==============================] - 0s 2ms/step - loss: 2.6992e-05 - accuracy: 1.0000 - val_loss: 0.0226 - val_accuracy: 0.9924\n"
     ]
    },
    {
     "name": "stdout",
     "output_type": "stream",
     "text": [
      "Epoch 57/100\n",
      "214/214 [==============================] - 0s 2ms/step - loss: 2.6322e-05 - accuracy: 1.0000 - val_loss: 0.0229 - val_accuracy: 0.9924\n",
      "Epoch 58/100\n",
      "214/214 [==============================] - 0s 2ms/step - loss: 2.2078e-05 - accuracy: 1.0000 - val_loss: 0.0231 - val_accuracy: 0.9924\n",
      "Epoch 59/100\n",
      "214/214 [==============================] - 0s 2ms/step - loss: 2.1055e-05 - accuracy: 1.0000 - val_loss: 0.0233 - val_accuracy: 0.9924\n",
      "Epoch 60/100\n",
      "214/214 [==============================] - 0s 2ms/step - loss: 1.0786e-05 - accuracy: 1.0000 - val_loss: 0.0239 - val_accuracy: 0.9902\n",
      "Epoch 61/100\n",
      "214/214 [==============================] - 0s 2ms/step - loss: 4.0692e-05 - accuracy: 1.0000 - val_loss: 0.0240 - val_accuracy: 0.9913\n",
      "Epoch 62/100\n",
      "214/214 [==============================] - 0s 2ms/step - loss: 6.0955e-06 - accuracy: 1.0000 - val_loss: 0.0240 - val_accuracy: 0.9913\n",
      "Epoch 63/100\n",
      "214/214 [==============================] - 0s 2ms/step - loss: 1.0797e-05 - accuracy: 1.0000 - val_loss: 0.0245 - val_accuracy: 0.9913\n",
      "Epoch 64/100\n",
      "214/214 [==============================] - 0s 2ms/step - loss: 1.5199e-05 - accuracy: 1.0000 - val_loss: 0.0243 - val_accuracy: 0.9913\n",
      "Epoch 65/100\n",
      "214/214 [==============================] - 0s 2ms/step - loss: 1.1851e-05 - accuracy: 1.0000 - val_loss: 0.0247 - val_accuracy: 0.9913\n",
      "Epoch 66/100\n",
      "214/214 [==============================] - 0s 2ms/step - loss: 1.4535e-05 - accuracy: 1.0000 - val_loss: 0.0248 - val_accuracy: 0.9913\n",
      "Epoch 67/100\n",
      "214/214 [==============================] - 0s 2ms/step - loss: 1.9019e-05 - accuracy: 1.0000 - val_loss: 0.0252 - val_accuracy: 0.9913\n",
      "Epoch 68/100\n",
      "214/214 [==============================] - 0s 2ms/step - loss: 8.3575e-06 - accuracy: 1.0000 - val_loss: 0.0253 - val_accuracy: 0.9913\n",
      "Epoch 69/100\n",
      "214/214 [==============================] - 0s 2ms/step - loss: 1.1405e-05 - accuracy: 1.0000 - val_loss: 0.0254 - val_accuracy: 0.9913\n",
      "Epoch 70/100\n",
      "214/214 [==============================] - 0s 2ms/step - loss: 7.4686e-06 - accuracy: 1.0000 - val_loss: 0.0256 - val_accuracy: 0.9913\n",
      "Epoch 71/100\n",
      "214/214 [==============================] - 0s 2ms/step - loss: 1.9898e-05 - accuracy: 1.0000 - val_loss: 0.0259 - val_accuracy: 0.9913\n",
      "Epoch 72/100\n",
      "214/214 [==============================] - 0s 2ms/step - loss: 1.3766e-05 - accuracy: 1.0000 - val_loss: 0.0261 - val_accuracy: 0.9913\n",
      "Epoch 73/100\n",
      "214/214 [==============================] - 0s 2ms/step - loss: 4.7026e-06 - accuracy: 1.0000 - val_loss: 0.0263 - val_accuracy: 0.9913\n",
      "Epoch 74/100\n",
      "214/214 [==============================] - 0s 2ms/step - loss: 9.1916e-06 - accuracy: 1.0000 - val_loss: 0.0267 - val_accuracy: 0.9902\n",
      "Epoch 75/100\n",
      "214/214 [==============================] - 0s 2ms/step - loss: 4.9195e-06 - accuracy: 1.0000 - val_loss: 0.0267 - val_accuracy: 0.9902\n",
      "Epoch 76/100\n",
      "214/214 [==============================] - 0s 2ms/step - loss: 4.9501e-06 - accuracy: 1.0000 - val_loss: 0.0271 - val_accuracy: 0.9902\n",
      "Epoch 77/100\n",
      "214/214 [==============================] - 0s 2ms/step - loss: 4.1702e-06 - accuracy: 1.0000 - val_loss: 0.0271 - val_accuracy: 0.9902\n",
      "Epoch 78/100\n",
      "214/214 [==============================] - 0s 2ms/step - loss: 5.4804e-06 - accuracy: 1.0000 - val_loss: 0.0278 - val_accuracy: 0.9891\n",
      "Epoch 79/100\n",
      "214/214 [==============================] - 0s 2ms/step - loss: 3.9612e-06 - accuracy: 1.0000 - val_loss: 0.0278 - val_accuracy: 0.9902\n",
      "Epoch 80/100\n",
      "214/214 [==============================] - 0s 2ms/step - loss: 2.4666e-06 - accuracy: 1.0000 - val_loss: 0.0277 - val_accuracy: 0.9902\n",
      "Epoch 81/100\n",
      "214/214 [==============================] - 0s 2ms/step - loss: 1.5309e-06 - accuracy: 1.0000 - val_loss: 0.0284 - val_accuracy: 0.9891\n",
      "Epoch 82/100\n",
      "214/214 [==============================] - 0s 2ms/step - loss: 1.9457e-06 - accuracy: 1.0000 - val_loss: 0.0281 - val_accuracy: 0.9902\n",
      "Epoch 83/100\n",
      "214/214 [==============================] - 0s 2ms/step - loss: 2.5298e-06 - accuracy: 1.0000 - val_loss: 0.0289 - val_accuracy: 0.9891\n",
      "Epoch 84/100\n",
      "214/214 [==============================] - 0s 2ms/step - loss: 2.5097e-06 - accuracy: 1.0000 - val_loss: 0.0287 - val_accuracy: 0.9902\n",
      "Epoch 85/100\n",
      "214/214 [==============================] - 0s 2ms/step - loss: 4.9247e-06 - accuracy: 1.0000 - val_loss: 0.0289 - val_accuracy: 0.9891\n",
      "Epoch 86/100\n",
      "214/214 [==============================] - 0s 2ms/step - loss: 2.6087e-06 - accuracy: 1.0000 - val_loss: 0.0293 - val_accuracy: 0.9891\n",
      "Epoch 87/100\n",
      "214/214 [==============================] - 0s 2ms/step - loss: 2.3739e-06 - accuracy: 1.0000 - val_loss: 0.0296 - val_accuracy: 0.9891\n",
      "Epoch 88/100\n",
      "214/214 [==============================] - 0s 2ms/step - loss: 1.6957e-06 - accuracy: 1.0000 - val_loss: 0.0295 - val_accuracy: 0.9891\n",
      "Epoch 89/100\n",
      "214/214 [==============================] - 0s 2ms/step - loss: 2.1925e-06 - accuracy: 1.0000 - val_loss: 0.0298 - val_accuracy: 0.9891\n",
      "Epoch 90/100\n",
      "214/214 [==============================] - 0s 2ms/step - loss: 1.1689e-06 - accuracy: 1.0000 - val_loss: 0.0306 - val_accuracy: 0.9891\n",
      "Epoch 91/100\n",
      "214/214 [==============================] - 0s 2ms/step - loss: 1.2759e-06 - accuracy: 1.0000 - val_loss: 0.0305 - val_accuracy: 0.9891\n",
      "Epoch 92/100\n",
      "214/214 [==============================] - 0s 2ms/step - loss: 9.8614e-07 - accuracy: 1.0000 - val_loss: 0.0308 - val_accuracy: 0.9891\n",
      "Epoch 93/100\n",
      "214/214 [==============================] - 0s 2ms/step - loss: 2.3002e-06 - accuracy: 1.0000 - val_loss: 0.0308 - val_accuracy: 0.9891\n",
      "Epoch 94/100\n",
      "214/214 [==============================] - 0s 2ms/step - loss: 1.5913e-06 - accuracy: 1.0000 - val_loss: 0.0310 - val_accuracy: 0.9891\n",
      "Epoch 95/100\n",
      "214/214 [==============================] - 0s 2ms/step - loss: 1.1246e-06 - accuracy: 1.0000 - val_loss: 0.0312 - val_accuracy: 0.9891\n",
      "Epoch 96/100\n",
      "214/214 [==============================] - 0s 2ms/step - loss: 1.3127e-06 - accuracy: 1.0000 - val_loss: 0.0320 - val_accuracy: 0.9891\n",
      "Epoch 97/100\n",
      "214/214 [==============================] - 0s 2ms/step - loss: 8.2425e-07 - accuracy: 1.0000 - val_loss: 0.0318 - val_accuracy: 0.9891\n",
      "Epoch 98/100\n",
      "214/214 [==============================] - 0s 2ms/step - loss: 1.0178e-06 - accuracy: 1.0000 - val_loss: 0.0320 - val_accuracy: 0.9891\n",
      "Epoch 99/100\n",
      "214/214 [==============================] - 0s 2ms/step - loss: 6.0742e-07 - accuracy: 1.0000 - val_loss: 0.0323 - val_accuracy: 0.9891\n",
      "Epoch 100/100\n",
      "214/214 [==============================] - 0s 2ms/step - loss: 6.4828e-07 - accuracy: 1.0000 - val_loss: 0.0328 - val_accuracy: 0.9891\n"
     ]
    }
   ],
   "source": [
    "history = model.fit(X_train, y_train,\n",
    "                    epochs=100,\n",
    "                    verbose=True,\n",
    "                    validation_data=(X_test, y_test),\n",
    "                    batch_size=10)"
   ]
  },
  {
   "cell_type": "code",
   "execution_count": 43,
   "metadata": {},
   "outputs": [],
   "source": [
    "def plot_history(history):\n",
    "    accuracy = history.history['accuracy']\n",
    "    val_accuracy = history.history['val_accuracy']\n",
    "    loss = history.history['loss']\n",
    "    val_loss = history.history['val_loss']\n",
    "    x = range(1, len(accuracy) + 1)\n",
    "\n",
    "    plt.figure(figsize=(12, 5))\n",
    "    plt.subplot(1, 2, 1)\n",
    "    plt.plot(x, accuracy, 'b', label='training')\n",
    "    plt.plot(x, val_accuracy, 'r', label='validation')\n",
    "    plt.title('Accuracy')\n",
    "    plt.legend()\n",
    "    plt.subplot(1, 2, 2)\n",
    "    plt.plot(x, loss, 'b', label='training')\n",
    "    plt.plot(x, val_loss, 'r', label='validation')\n",
    "    plt.title('Loss')\n",
    "    plt.legend()"
   ]
  },
  {
   "cell_type": "code",
   "execution_count": 44,
   "metadata": {},
   "outputs": [
    {
     "data": {
      "image/png": "[encoded data removed]",
      "text/plain": [
       "<Figure size 864x360 with 2 Axes>"
      ]
     },
     "metadata": {
      "needs_background": "light"
     },
     "output_type": "display_data"
    }
   ],
   "source": [
    "plot_history(history)"
   ]
  },
  {
   "cell_type": "code",
   "execution_count": 45,
   "metadata": {},
   "outputs": [
    {
     "name": "stdout",
     "output_type": "stream",
     "text": [
      "Training Accuracy: 100.00%\n",
      "Testing Accuracy:  98.91%\n"
     ]
    }
   ],
   "source": [
    "loss, accuracy = model.evaluate(X_train, y_train, verbose=False)\n",
    "print(\"Training Accuracy: {:.2%}\".format(accuracy))\n",
    "loss, accuracy = model.evaluate(X_test, y_test, verbose=False)\n",
    "print(\"Testing Accuracy:  {:.2%}\".format(accuracy))"
   ]
  },
  {
   "cell_type": "markdown",
   "metadata": {},
   "source": [
    "As you can see the accuracy on both `training` and `test` data is already very good. Let's see whether we can squeeze out something more."
   ]
  },
  {
   "cell_type": "markdown",
   "metadata": {},
   "source": [
    "### Hyperparameters Optimization"
   ]
  },
  {
   "cell_type": "markdown",
   "metadata": {},
   "source": [
    "Let's try using grid search hyperparameter optimization, to do we need to create an abstraction for the model creation phase."
   ]
  },
  {
   "cell_type": "code",
   "execution_count": 46,
   "metadata": {},
   "outputs": [],
   "source": [
    "def create_model(first_layer_size, second_layer_size, optimizer):\n",
    "    model = Sequential()\n",
    "    model.add(layers.Dense(first_layer_size, input_dim=input_layer_dimension, activation='relu'))\n",
    "    model.add(layers.Dense(second_layer_size, activation='relu'))\n",
    "    model.add(layers.Dense(1, activation='sigmoid'))\n",
    "    model.compile(optimizer=optimizer,\n",
    "                  loss='binary_crossentropy',\n",
    "                  metrics=['accuracy'])\n",
    "    return model"
   ]
  },
  {
   "cell_type": "code",
   "execution_count": 47,
   "metadata": {},
   "outputs": [],
   "source": [
    "grid = dict(\n",
    "    optimizer=[\"rmsprop\", \"adam\"],\n",
    "    first_layer_size=[5, 10, 15, 20],\n",
    "    second_layer_size=[5, 10, 15, 20])\n"
   ]
  },
  {
   "cell_type": "code",
   "execution_count": 48,
   "metadata": {},
   "outputs": [],
   "source": [
    "from tensorflow.keras.wrappers.scikit_learn import KerasClassifier\n",
    "from sklearn.model_selection import RandomizedSearchCV\n",
    "\n",
    "model = KerasClassifier(build_fn=create_model,\n",
    "                        epochs=30, batch_size=10,\n",
    "                        verbose=False)\n",
    "grid = RandomizedSearchCV(estimator=model, param_distributions=grid, cv=4, verbose=1, n_iter=5)"
   ]
  },
  {
   "cell_type": "code",
   "execution_count": 49,
   "metadata": {
    "tags": []
   },
   "outputs": [
    {
     "name": "stdout",
     "output_type": "stream",
     "text": [
      "Fitting 4 folds for each of 5 candidates, totalling 20 fits\n"
     ]
    }
   ],
   "source": [
    "grid_result = grid.fit(X_train, y_train)"
   ]
  },
  {
   "cell_type": "code",
   "execution_count": 50,
   "metadata": {},
   "outputs": [],
   "source": [
    "test_accuracy = grid.score(X_test, y_test)"
   ]
  },
  {
   "cell_type": "code",
   "execution_count": 56,
   "metadata": {},
   "outputs": [
    {
     "name": "stdout",
     "output_type": "stream",
     "text": [
      "Best Accuracy : 98.92% for params: {'second_layer_size': 10, 'optimizer': 'rmsprop', 'first_layer_size': 15}\n"
     ]
    }
   ],
   "source": [
    "print('Best Accuracy: {:.2%} for params: {}'.format(grid_result.best_score_, grid_result.best_params_))"
   ]
  },
  {
   "cell_type": "markdown",
   "metadata": {},
   "source": [
    "We achieved above accuracy for the grid search on the train set. Let's check it out on the train set."
   ]
  },
  {
   "cell_type": "code",
   "execution_count": 57,
   "metadata": {},
   "outputs": [
    {
     "name": "stdout",
     "output_type": "stream",
     "text": [
      "Best params accuracy on test set: 99.34%\n"
     ]
    }
   ],
   "source": [
    "print('Best params accuracy on test set: {:.2%}'.format(test_accuracy))"
   ]
  },
  {
   "cell_type": "markdown",
   "metadata": {},
   "source": [
    "## Logistic Regression"
   ]
  },
  {
   "cell_type": "markdown",
   "metadata": {},
   "source": [
    "Now let's compare our previous models performance with LogisticRegresion model."
   ]
  },
  {
   "cell_type": "code",
   "execution_count": 87,
   "metadata": {},
   "outputs": [
    {
     "name": "stdout",
     "output_type": "stream",
     "text": [
      "Accuracy: 98.69%\n"
     ]
    }
   ],
   "source": [
    "from sklearn.linear_model import LogisticRegression\n",
    "\n",
    "classifier = LogisticRegression()\n",
    "classifier.fit(X_train, y_train)\n",
    "\n",
    "score = classifier.score(X_test, y_test)\n",
    "\n",
    "print(\"Accuracy:\", \"{:.2%}\".format(score))"
   ]
  },
  {
   "cell_type": "markdown",
   "metadata": {},
   "source": [
    "As you can see that the logistic regression result is pretty impresive – above 95%."
   ]
  }
 ],
 "metadata": {
  "interpreter": {
   "hash": "f7083fe511133daffeb49be461125359fe7d6b3c2688ba4e67215bcacd5aa8a4"
  },
  "kernelspec": {
   "display_name": "Python 3",
   "language": "python",
   "name": "python3"
  },
  "language_info": {
   "codemirror_mode": {
    "name": "ipython",
    "version": 3
   },
   "file_extension": ".py",
   "mimetype": "text/x-python",
   "name": "python",
   "nbconvert_exporter": "python",
   "pygments_lexer": "ipython3",
   "version": "3.7.7"
  }
 },
 "nbformat": 4,
 "nbformat_minor": 2
}
