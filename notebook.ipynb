{
 "metadata": {
  "language_info": {
   "codemirror_mode": {
    "name": "ipython",
    "version": 3
   },
   "file_extension": ".py",
   "mimetype": "text/x-python",
   "name": "python",
   "nbconvert_exporter": "python",
   "pygments_lexer": "ipython3",
   "version": "3.7.7"
  },
  "orig_nbformat": 4,
  "kernelspec": {
   "name": "python3",
   "display_name": "Python 3.7.7 64-bit ('CI': conda)"
  },
  "interpreter": {
   "hash": "f7083fe511133daffeb49be461125359fe7d6b3c2688ba4e67215bcacd5aa8a4"
  }
 },
 "nbformat": 4,
 "nbformat_minor": 2,
 "cells": [
  {
   "source": [
    "# Spam emails filter"
   ],
   "cell_type": "markdown",
   "metadata": {}
  },
  {
   "source": [
    "## Data exploration"
   ],
   "cell_type": "markdown",
   "metadata": {}
  },
  {
   "cell_type": "code",
   "execution_count": 1,
   "metadata": {},
   "outputs": [],
   "source": [
    "import os\n",
    "\n",
    "cwd = os.getcwd()\n",
    "DATA_DIR = os.path.join(cwd, \"data\")"
   ]
  },
  {
   "source": [
    "The dataset is divided into examples of two groups of emails: `spam` and not spam `clean`."
   ],
   "cell_type": "markdown",
   "metadata": {}
  },
  {
   "cell_type": "code",
   "execution_count": 2,
   "metadata": {},
   "outputs": [
    {
     "output_type": "execute_result",
     "data": {
      "text/plain": [
       "['spam', 'all', 'clean']"
      ]
     },
     "metadata": {},
     "execution_count": 2
    }
   ],
   "source": [
    "os.listdir(DATA_DIR)"
   ]
  },
  {
   "cell_type": "code",
   "execution_count": 3,
   "metadata": {},
   "outputs": [],
   "source": [
    "def get_filenames(dir_name):\n",
    "    return [name for name in sorted(os.listdir(dir_name))]"
   ]
  },
  {
   "cell_type": "code",
   "execution_count": 4,
   "metadata": {},
   "outputs": [],
   "source": [
    "\n",
    "clean_filesnames = get_filenames(os.path.join(DATA_DIR, 'clean'))\n",
    "spam_filenames = get_filenames(os.path.join(DATA_DIR, 'spam'))\n"
   ]
  },
  {
   "cell_type": "code",
   "execution_count": 5,
   "metadata": {},
   "outputs": [
    {
     "output_type": "display_data",
     "data": {
      "text/plain": "<Figure size 432x288 with 1 Axes>",
      "image/svg+xml": "<?xml version=\"1.0\" encoding=\"utf-8\" standalone=\"no\"?>\n<!DOCTYPE svg PUBLIC \"-//W3C//DTD SVG 1.1//EN\"\n  \"http://www.w3.org/Graphics/SVG/1.1/DTD/svg11.dtd\">\n<!-- Created with matplotlib (https://matplotlib.org/) -->\n<svg height=\"334.19625pt\" version=\"1.1\" viewBox=\"0 0 478.85 334.19625\" width=\"478.85pt\" xmlns=\"http://www.w3.org/2000/svg\" xmlns:xlink=\"http://www.w3.org/1999/xlink\">\n <metadata>\n  <rdf:RDF xmlns:cc=\"http://creativecommons.org/ns#\" xmlns:dc=\"http://purl.org/dc/elements/1.1/\" xmlns:rdf=\"http://www.w3.org/1999/02/22-rdf-syntax-ns#\">\n   <cc:Work>\n    <dc:type rdf:resource=\"http://purl.org/dc/dcmitype/StillImage\"/>\n    <dc:date>2021-06-18T15:59:44.239906</dc:date>\n    <dc:format>image/svg+xml</dc:format>\n    <dc:creator>\n     <cc:Agent>\n      <dc:title>Matplotlib v3.3.4, https://matplotlib.org/</dc:title>\n     </cc:Agent>\n    </dc:creator>\n   </cc:Work>\n  </rdf:RDF>\n </metadata>\n <defs>\n  <style type=\"text/css\">*{stroke-linecap:butt;stroke-linejoin:round;}</style>\n </defs>\n <g id=\"figure_1\">\n  <g id=\"patch_1\">\n   <path d=\"M 0 334.19625 \nL 478.85 334.19625 \nL 478.85 0 \nL 0 0 \nz\n\" style=\"fill:none;\"/>\n  </g>\n  <g id=\"axes_1\">\n   <g id=\"patch_2\">\n    <path d=\"M 39.65 310.318125 \nL 471.65 310.318125 \nL 471.65 22.318125 \nL 39.65 22.318125 \nz\n\" style=\"fill:#ffffff;\"/>\n   </g>\n   <g id=\"patch_3\">\n    <path clip-path=\"url(#pa3d4ad564e)\" d=\"M 59.286364 310.318125 \nL 233.831818 310.318125 \nL 233.831818 256.450174 \nL 59.286364 256.450174 \nz\n\" style=\"fill:#1f77b4;\"/>\n   </g>\n   <g id=\"patch_4\">\n    <path clip-path=\"url(#pa3d4ad564e)\" d=\"M 277.468182 310.318125 \nL 452.013636 310.318125 \nL 452.013636 36.032411 \nL 277.468182 36.032411 \nz\n\" style=\"fill:#1f77b4;\"/>\n   </g>\n   <g id=\"matplotlib.axis_1\">\n    <g id=\"xtick_1\">\n     <g id=\"line2d_1\">\n      <defs>\n       <path d=\"M 0 0 \nL 0 3.5 \n\" id=\"m9def4fed0d\" style=\"stroke:#000000;stroke-width:0.8;\"/>\n      </defs>\n      <g>\n       <use style=\"stroke:#000000;stroke-width:0.8;\" x=\"146.559091\" xlink:href=\"#m9def4fed0d\" y=\"310.318125\"/>\n      </g>\n     </g>\n     <g id=\"text_1\">\n      <!-- spam -->\n      <g transform=\"translate(132.84581 324.916562)scale(0.1 -0.1)\">\n       <defs>\n        <path d=\"M 44.28125 53.078125 \nL 44.28125 44.578125 \nQ 40.484375 46.53125 36.375 47.5 \nQ 32.28125 48.484375 27.875 48.484375 \nQ 21.1875 48.484375 17.84375 46.4375 \nQ 14.5 44.390625 14.5 40.28125 \nQ 14.5 37.15625 16.890625 35.375 \nQ 19.28125 33.59375 26.515625 31.984375 \nL 29.59375 31.296875 \nQ 39.15625 29.25 43.1875 25.515625 \nQ 47.21875 21.78125 47.21875 15.09375 \nQ 47.21875 7.46875 41.1875 3.015625 \nQ 35.15625 -1.421875 24.609375 -1.421875 \nQ 20.21875 -1.421875 15.453125 -0.5625 \nQ 10.6875 0.296875 5.421875 2 \nL 5.421875 11.28125 \nQ 10.40625 8.6875 15.234375 7.390625 \nQ 20.0625 6.109375 24.8125 6.109375 \nQ 31.15625 6.109375 34.5625 8.28125 \nQ 37.984375 10.453125 37.984375 14.40625 \nQ 37.984375 18.0625 35.515625 20.015625 \nQ 33.0625 21.96875 24.703125 23.78125 \nL 21.578125 24.515625 \nQ 13.234375 26.265625 9.515625 29.90625 \nQ 5.8125 33.546875 5.8125 39.890625 \nQ 5.8125 47.609375 11.28125 51.796875 \nQ 16.75 56 26.8125 56 \nQ 31.78125 56 36.171875 55.265625 \nQ 40.578125 54.546875 44.28125 53.078125 \nz\n\" id=\"DejaVuSans-115\"/>\n        <path d=\"M 18.109375 8.203125 \nL 18.109375 -20.796875 \nL 9.078125 -20.796875 \nL 9.078125 54.6875 \nL 18.109375 54.6875 \nL 18.109375 46.390625 \nQ 20.953125 51.265625 25.265625 53.625 \nQ 29.59375 56 35.59375 56 \nQ 45.5625 56 51.78125 48.09375 \nQ 58.015625 40.1875 58.015625 27.296875 \nQ 58.015625 14.40625 51.78125 6.484375 \nQ 45.5625 -1.421875 35.59375 -1.421875 \nQ 29.59375 -1.421875 25.265625 0.953125 \nQ 20.953125 3.328125 18.109375 8.203125 \nz\nM 48.6875 27.296875 \nQ 48.6875 37.203125 44.609375 42.84375 \nQ 40.53125 48.484375 33.40625 48.484375 \nQ 26.265625 48.484375 22.1875 42.84375 \nQ 18.109375 37.203125 18.109375 27.296875 \nQ 18.109375 17.390625 22.1875 11.75 \nQ 26.265625 6.109375 33.40625 6.109375 \nQ 40.53125 6.109375 44.609375 11.75 \nQ 48.6875 17.390625 48.6875 27.296875 \nz\n\" id=\"DejaVuSans-112\"/>\n        <path d=\"M 34.28125 27.484375 \nQ 23.390625 27.484375 19.1875 25 \nQ 14.984375 22.515625 14.984375 16.5 \nQ 14.984375 11.71875 18.140625 8.90625 \nQ 21.296875 6.109375 26.703125 6.109375 \nQ 34.1875 6.109375 38.703125 11.40625 \nQ 43.21875 16.703125 43.21875 25.484375 \nL 43.21875 27.484375 \nz\nM 52.203125 31.203125 \nL 52.203125 0 \nL 43.21875 0 \nL 43.21875 8.296875 \nQ 40.140625 3.328125 35.546875 0.953125 \nQ 30.953125 -1.421875 24.3125 -1.421875 \nQ 15.921875 -1.421875 10.953125 3.296875 \nQ 6 8.015625 6 15.921875 \nQ 6 25.140625 12.171875 29.828125 \nQ 18.359375 34.515625 30.609375 34.515625 \nL 43.21875 34.515625 \nL 43.21875 35.40625 \nQ 43.21875 41.609375 39.140625 45 \nQ 35.0625 48.390625 27.6875 48.390625 \nQ 23 48.390625 18.546875 47.265625 \nQ 14.109375 46.140625 10.015625 43.890625 \nL 10.015625 52.203125 \nQ 14.9375 54.109375 19.578125 55.046875 \nQ 24.21875 56 28.609375 56 \nQ 40.484375 56 46.34375 49.84375 \nQ 52.203125 43.703125 52.203125 31.203125 \nz\n\" id=\"DejaVuSans-97\"/>\n        <path d=\"M 52 44.1875 \nQ 55.375 50.25 60.0625 53.125 \nQ 64.75 56 71.09375 56 \nQ 79.640625 56 84.28125 50.015625 \nQ 88.921875 44.046875 88.921875 33.015625 \nL 88.921875 0 \nL 79.890625 0 \nL 79.890625 32.71875 \nQ 79.890625 40.578125 77.09375 44.375 \nQ 74.3125 48.1875 68.609375 48.1875 \nQ 61.625 48.1875 57.5625 43.546875 \nQ 53.515625 38.921875 53.515625 30.90625 \nL 53.515625 0 \nL 44.484375 0 \nL 44.484375 32.71875 \nQ 44.484375 40.625 41.703125 44.40625 \nQ 38.921875 48.1875 33.109375 48.1875 \nQ 26.21875 48.1875 22.15625 43.53125 \nQ 18.109375 38.875 18.109375 30.90625 \nL 18.109375 0 \nL 9.078125 0 \nL 9.078125 54.6875 \nL 18.109375 54.6875 \nL 18.109375 46.1875 \nQ 21.1875 51.21875 25.484375 53.609375 \nQ 29.78125 56 35.6875 56 \nQ 41.65625 56 45.828125 52.96875 \nQ 50 49.953125 52 44.1875 \nz\n\" id=\"DejaVuSans-109\"/>\n       </defs>\n       <use xlink:href=\"#DejaVuSans-115\"/>\n       <use x=\"52.099609\" xlink:href=\"#DejaVuSans-112\"/>\n       <use x=\"115.576172\" xlink:href=\"#DejaVuSans-97\"/>\n       <use x=\"176.855469\" xlink:href=\"#DejaVuSans-109\"/>\n      </g>\n     </g>\n    </g>\n    <g id=\"xtick_2\">\n     <g id=\"line2d_2\">\n      <g>\n       <use style=\"stroke:#000000;stroke-width:0.8;\" x=\"364.740909\" xlink:href=\"#m9def4fed0d\" y=\"310.318125\"/>\n      </g>\n     </g>\n     <g id=\"text_2\">\n      <!-- non-spam -->\n      <g transform=\"translate(339.826847 324.916562)scale(0.1 -0.1)\">\n       <defs>\n        <path d=\"M 54.890625 33.015625 \nL 54.890625 0 \nL 45.90625 0 \nL 45.90625 32.71875 \nQ 45.90625 40.484375 42.875 44.328125 \nQ 39.84375 48.1875 33.796875 48.1875 \nQ 26.515625 48.1875 22.3125 43.546875 \nQ 18.109375 38.921875 18.109375 30.90625 \nL 18.109375 0 \nL 9.078125 0 \nL 9.078125 54.6875 \nL 18.109375 54.6875 \nL 18.109375 46.1875 \nQ 21.34375 51.125 25.703125 53.5625 \nQ 30.078125 56 35.796875 56 \nQ 45.21875 56 50.046875 50.171875 \nQ 54.890625 44.34375 54.890625 33.015625 \nz\n\" id=\"DejaVuSans-110\"/>\n        <path d=\"M 30.609375 48.390625 \nQ 23.390625 48.390625 19.1875 42.75 \nQ 14.984375 37.109375 14.984375 27.296875 \nQ 14.984375 17.484375 19.15625 11.84375 \nQ 23.34375 6.203125 30.609375 6.203125 \nQ 37.796875 6.203125 41.984375 11.859375 \nQ 46.1875 17.53125 46.1875 27.296875 \nQ 46.1875 37.015625 41.984375 42.703125 \nQ 37.796875 48.390625 30.609375 48.390625 \nz\nM 30.609375 56 \nQ 42.328125 56 49.015625 48.375 \nQ 55.71875 40.765625 55.71875 27.296875 \nQ 55.71875 13.875 49.015625 6.21875 \nQ 42.328125 -1.421875 30.609375 -1.421875 \nQ 18.84375 -1.421875 12.171875 6.21875 \nQ 5.515625 13.875 5.515625 27.296875 \nQ 5.515625 40.765625 12.171875 48.375 \nQ 18.84375 56 30.609375 56 \nz\n\" id=\"DejaVuSans-111\"/>\n        <path d=\"M 4.890625 31.390625 \nL 31.203125 31.390625 \nL 31.203125 23.390625 \nL 4.890625 23.390625 \nz\n\" id=\"DejaVuSans-45\"/>\n       </defs>\n       <use xlink:href=\"#DejaVuSans-110\"/>\n       <use x=\"63.378906\" xlink:href=\"#DejaVuSans-111\"/>\n       <use x=\"124.560547\" xlink:href=\"#DejaVuSans-110\"/>\n       <use x=\"187.939453\" xlink:href=\"#DejaVuSans-45\"/>\n       <use x=\"224.023438\" xlink:href=\"#DejaVuSans-115\"/>\n       <use x=\"276.123047\" xlink:href=\"#DejaVuSans-112\"/>\n       <use x=\"339.599609\" xlink:href=\"#DejaVuSans-97\"/>\n       <use x=\"400.878906\" xlink:href=\"#DejaVuSans-109\"/>\n      </g>\n     </g>\n    </g>\n   </g>\n   <g id=\"matplotlib.axis_2\">\n    <g id=\"ytick_1\">\n     <g id=\"line2d_3\">\n      <defs>\n       <path d=\"M 0 0 \nL -3.5 0 \n\" id=\"m1f1c9680e5\" style=\"stroke:#000000;stroke-width:0.8;\"/>\n      </defs>\n      <g>\n       <use style=\"stroke:#000000;stroke-width:0.8;\" x=\"39.65\" xlink:href=\"#m1f1c9680e5\" y=\"310.318125\"/>\n      </g>\n     </g>\n     <g id=\"text_3\">\n      <!-- 0 -->\n      <g transform=\"translate(26.2875 314.117344)scale(0.1 -0.1)\">\n       <defs>\n        <path d=\"M 31.78125 66.40625 \nQ 24.171875 66.40625 20.328125 58.90625 \nQ 16.5 51.421875 16.5 36.375 \nQ 16.5 21.390625 20.328125 13.890625 \nQ 24.171875 6.390625 31.78125 6.390625 \nQ 39.453125 6.390625 43.28125 13.890625 \nQ 47.125 21.390625 47.125 36.375 \nQ 47.125 51.421875 43.28125 58.90625 \nQ 39.453125 66.40625 31.78125 66.40625 \nz\nM 31.78125 74.21875 \nQ 44.046875 74.21875 50.515625 64.515625 \nQ 56.984375 54.828125 56.984375 36.375 \nQ 56.984375 17.96875 50.515625 8.265625 \nQ 44.046875 -1.421875 31.78125 -1.421875 \nQ 19.53125 -1.421875 13.0625 8.265625 \nQ 6.59375 17.96875 6.59375 36.375 \nQ 6.59375 54.828125 13.0625 64.515625 \nQ 19.53125 74.21875 31.78125 74.21875 \nz\n\" id=\"DejaVuSans-48\"/>\n       </defs>\n       <use xlink:href=\"#DejaVuSans-48\"/>\n      </g>\n     </g>\n    </g>\n    <g id=\"ytick_2\">\n     <g id=\"line2d_4\">\n      <g>\n       <use style=\"stroke:#000000;stroke-width:0.8;\" x=\"39.65\" xlink:href=\"#m1f1c9680e5\" y=\"256.557695\"/>\n      </g>\n     </g>\n     <g id=\"text_4\">\n      <!-- 500 -->\n      <g transform=\"translate(13.5625 260.356914)scale(0.1 -0.1)\">\n       <defs>\n        <path d=\"M 10.796875 72.90625 \nL 49.515625 72.90625 \nL 49.515625 64.59375 \nL 19.828125 64.59375 \nL 19.828125 46.734375 \nQ 21.96875 47.46875 24.109375 47.828125 \nQ 26.265625 48.1875 28.421875 48.1875 \nQ 40.625 48.1875 47.75 41.5 \nQ 54.890625 34.8125 54.890625 23.390625 \nQ 54.890625 11.625 47.5625 5.09375 \nQ 40.234375 -1.421875 26.90625 -1.421875 \nQ 22.3125 -1.421875 17.546875 -0.640625 \nQ 12.796875 0.140625 7.71875 1.703125 \nL 7.71875 11.625 \nQ 12.109375 9.234375 16.796875 8.0625 \nQ 21.484375 6.890625 26.703125 6.890625 \nQ 35.15625 6.890625 40.078125 11.328125 \nQ 45.015625 15.765625 45.015625 23.390625 \nQ 45.015625 31 40.078125 35.4375 \nQ 35.15625 39.890625 26.703125 39.890625 \nQ 22.75 39.890625 18.8125 39.015625 \nQ 14.890625 38.140625 10.796875 36.28125 \nz\n\" id=\"DejaVuSans-53\"/>\n       </defs>\n       <use xlink:href=\"#DejaVuSans-53\"/>\n       <use x=\"63.623047\" xlink:href=\"#DejaVuSans-48\"/>\n       <use x=\"127.246094\" xlink:href=\"#DejaVuSans-48\"/>\n      </g>\n     </g>\n    </g>\n    <g id=\"ytick_3\">\n     <g id=\"line2d_5\">\n      <g>\n       <use style=\"stroke:#000000;stroke-width:0.8;\" x=\"39.65\" xlink:href=\"#m1f1c9680e5\" y=\"202.797265\"/>\n      </g>\n     </g>\n     <g id=\"text_5\">\n      <!-- 1000 -->\n      <g transform=\"translate(7.2 206.596484)scale(0.1 -0.1)\">\n       <defs>\n        <path d=\"M 12.40625 8.296875 \nL 28.515625 8.296875 \nL 28.515625 63.921875 \nL 10.984375 60.40625 \nL 10.984375 69.390625 \nL 28.421875 72.90625 \nL 38.28125 72.90625 \nL 38.28125 8.296875 \nL 54.390625 8.296875 \nL 54.390625 0 \nL 12.40625 0 \nz\n\" id=\"DejaVuSans-49\"/>\n       </defs>\n       <use xlink:href=\"#DejaVuSans-49\"/>\n       <use x=\"63.623047\" xlink:href=\"#DejaVuSans-48\"/>\n       <use x=\"127.246094\" xlink:href=\"#DejaVuSans-48\"/>\n       <use x=\"190.869141\" xlink:href=\"#DejaVuSans-48\"/>\n      </g>\n     </g>\n    </g>\n    <g id=\"ytick_4\">\n     <g id=\"line2d_6\">\n      <g>\n       <use style=\"stroke:#000000;stroke-width:0.8;\" x=\"39.65\" xlink:href=\"#m1f1c9680e5\" y=\"149.036835\"/>\n      </g>\n     </g>\n     <g id=\"text_6\">\n      <!-- 1500 -->\n      <g transform=\"translate(7.2 152.836053)scale(0.1 -0.1)\">\n       <use xlink:href=\"#DejaVuSans-49\"/>\n       <use x=\"63.623047\" xlink:href=\"#DejaVuSans-53\"/>\n       <use x=\"127.246094\" xlink:href=\"#DejaVuSans-48\"/>\n       <use x=\"190.869141\" xlink:href=\"#DejaVuSans-48\"/>\n      </g>\n     </g>\n    </g>\n    <g id=\"ytick_5\">\n     <g id=\"line2d_7\">\n      <g>\n       <use style=\"stroke:#000000;stroke-width:0.8;\" x=\"39.65\" xlink:href=\"#m1f1c9680e5\" y=\"95.276405\"/>\n      </g>\n     </g>\n     <g id=\"text_7\">\n      <!-- 2000 -->\n      <g transform=\"translate(7.2 99.075623)scale(0.1 -0.1)\">\n       <defs>\n        <path d=\"M 19.1875 8.296875 \nL 53.609375 8.296875 \nL 53.609375 0 \nL 7.328125 0 \nL 7.328125 8.296875 \nQ 12.9375 14.109375 22.625 23.890625 \nQ 32.328125 33.6875 34.8125 36.53125 \nQ 39.546875 41.84375 41.421875 45.53125 \nQ 43.3125 49.21875 43.3125 52.78125 \nQ 43.3125 58.59375 39.234375 62.25 \nQ 35.15625 65.921875 28.609375 65.921875 \nQ 23.96875 65.921875 18.8125 64.3125 \nQ 13.671875 62.703125 7.8125 59.421875 \nL 7.8125 69.390625 \nQ 13.765625 71.78125 18.9375 73 \nQ 24.125 74.21875 28.421875 74.21875 \nQ 39.75 74.21875 46.484375 68.546875 \nQ 53.21875 62.890625 53.21875 53.421875 \nQ 53.21875 48.921875 51.53125 44.890625 \nQ 49.859375 40.875 45.40625 35.40625 \nQ 44.1875 33.984375 37.640625 27.21875 \nQ 31.109375 20.453125 19.1875 8.296875 \nz\n\" id=\"DejaVuSans-50\"/>\n       </defs>\n       <use xlink:href=\"#DejaVuSans-50\"/>\n       <use x=\"63.623047\" xlink:href=\"#DejaVuSans-48\"/>\n       <use x=\"127.246094\" xlink:href=\"#DejaVuSans-48\"/>\n       <use x=\"190.869141\" xlink:href=\"#DejaVuSans-48\"/>\n      </g>\n     </g>\n    </g>\n    <g id=\"ytick_6\">\n     <g id=\"line2d_8\">\n      <g>\n       <use style=\"stroke:#000000;stroke-width:0.8;\" x=\"39.65\" xlink:href=\"#m1f1c9680e5\" y=\"41.515975\"/>\n      </g>\n     </g>\n     <g id=\"text_8\">\n      <!-- 2500 -->\n      <g transform=\"translate(7.2 45.315193)scale(0.1 -0.1)\">\n       <use xlink:href=\"#DejaVuSans-50\"/>\n       <use x=\"63.623047\" xlink:href=\"#DejaVuSans-53\"/>\n       <use x=\"127.246094\" xlink:href=\"#DejaVuSans-48\"/>\n       <use x=\"190.869141\" xlink:href=\"#DejaVuSans-48\"/>\n      </g>\n     </g>\n    </g>\n   </g>\n   <g id=\"patch_5\">\n    <path d=\"M 39.65 310.318125 \nL 39.65 22.318125 \n\" style=\"fill:none;stroke:#000000;stroke-linecap:square;stroke-linejoin:miter;stroke-width:0.8;\"/>\n   </g>\n   <g id=\"patch_6\">\n    <path d=\"M 471.65 310.318125 \nL 471.65 22.318125 \n\" style=\"fill:none;stroke:#000000;stroke-linecap:square;stroke-linejoin:miter;stroke-width:0.8;\"/>\n   </g>\n   <g id=\"patch_7\">\n    <path d=\"M 39.65 310.318125 \nL 471.65 310.318125 \n\" style=\"fill:none;stroke:#000000;stroke-linecap:square;stroke-linejoin:miter;stroke-width:0.8;\"/>\n   </g>\n   <g id=\"patch_8\">\n    <path d=\"M 39.65 22.318125 \nL 471.65 22.318125 \n\" style=\"fill:none;stroke:#000000;stroke-linecap:square;stroke-linejoin:miter;stroke-width:0.8;\"/>\n   </g>\n   <g id=\"text_9\">\n    <!-- Number of examples of each class -->\n    <g transform=\"translate(152.128438 16.318125)scale(0.12 -0.12)\">\n     <defs>\n      <path d=\"M 9.8125 72.90625 \nL 23.09375 72.90625 \nL 55.421875 11.921875 \nL 55.421875 72.90625 \nL 64.984375 72.90625 \nL 64.984375 0 \nL 51.703125 0 \nL 19.390625 60.984375 \nL 19.390625 0 \nL 9.8125 0 \nz\n\" id=\"DejaVuSans-78\"/>\n      <path d=\"M 8.5 21.578125 \nL 8.5 54.6875 \nL 17.484375 54.6875 \nL 17.484375 21.921875 \nQ 17.484375 14.15625 20.5 10.265625 \nQ 23.53125 6.390625 29.59375 6.390625 \nQ 36.859375 6.390625 41.078125 11.03125 \nQ 45.3125 15.671875 45.3125 23.6875 \nL 45.3125 54.6875 \nL 54.296875 54.6875 \nL 54.296875 0 \nL 45.3125 0 \nL 45.3125 8.40625 \nQ 42.046875 3.421875 37.71875 1 \nQ 33.40625 -1.421875 27.6875 -1.421875 \nQ 18.265625 -1.421875 13.375 4.4375 \nQ 8.5 10.296875 8.5 21.578125 \nz\nM 31.109375 56 \nz\n\" id=\"DejaVuSans-117\"/>\n      <path d=\"M 48.6875 27.296875 \nQ 48.6875 37.203125 44.609375 42.84375 \nQ 40.53125 48.484375 33.40625 48.484375 \nQ 26.265625 48.484375 22.1875 42.84375 \nQ 18.109375 37.203125 18.109375 27.296875 \nQ 18.109375 17.390625 22.1875 11.75 \nQ 26.265625 6.109375 33.40625 6.109375 \nQ 40.53125 6.109375 44.609375 11.75 \nQ 48.6875 17.390625 48.6875 27.296875 \nz\nM 18.109375 46.390625 \nQ 20.953125 51.265625 25.265625 53.625 \nQ 29.59375 56 35.59375 56 \nQ 45.5625 56 51.78125 48.09375 \nQ 58.015625 40.1875 58.015625 27.296875 \nQ 58.015625 14.40625 51.78125 6.484375 \nQ 45.5625 -1.421875 35.59375 -1.421875 \nQ 29.59375 -1.421875 25.265625 0.953125 \nQ 20.953125 3.328125 18.109375 8.203125 \nL 18.109375 0 \nL 9.078125 0 \nL 9.078125 75.984375 \nL 18.109375 75.984375 \nz\n\" id=\"DejaVuSans-98\"/>\n      <path d=\"M 56.203125 29.59375 \nL 56.203125 25.203125 \nL 14.890625 25.203125 \nQ 15.484375 15.921875 20.484375 11.0625 \nQ 25.484375 6.203125 34.421875 6.203125 \nQ 39.59375 6.203125 44.453125 7.46875 \nQ 49.3125 8.734375 54.109375 11.28125 \nL 54.109375 2.78125 \nQ 49.265625 0.734375 44.1875 -0.34375 \nQ 39.109375 -1.421875 33.890625 -1.421875 \nQ 20.796875 -1.421875 13.15625 6.1875 \nQ 5.515625 13.8125 5.515625 26.8125 \nQ 5.515625 40.234375 12.765625 48.109375 \nQ 20.015625 56 32.328125 56 \nQ 43.359375 56 49.78125 48.890625 \nQ 56.203125 41.796875 56.203125 29.59375 \nz\nM 47.21875 32.234375 \nQ 47.125 39.59375 43.09375 43.984375 \nQ 39.0625 48.390625 32.421875 48.390625 \nQ 24.90625 48.390625 20.390625 44.140625 \nQ 15.875 39.890625 15.1875 32.171875 \nz\n\" id=\"DejaVuSans-101\"/>\n      <path d=\"M 41.109375 46.296875 \nQ 39.59375 47.171875 37.8125 47.578125 \nQ 36.03125 48 33.890625 48 \nQ 26.265625 48 22.1875 43.046875 \nQ 18.109375 38.09375 18.109375 28.8125 \nL 18.109375 0 \nL 9.078125 0 \nL 9.078125 54.6875 \nL 18.109375 54.6875 \nL 18.109375 46.1875 \nQ 20.953125 51.171875 25.484375 53.578125 \nQ 30.03125 56 36.53125 56 \nQ 37.453125 56 38.578125 55.875 \nQ 39.703125 55.765625 41.0625 55.515625 \nz\n\" id=\"DejaVuSans-114\"/>\n      <path id=\"DejaVuSans-32\"/>\n      <path d=\"M 37.109375 75.984375 \nL 37.109375 68.5 \nL 28.515625 68.5 \nQ 23.6875 68.5 21.796875 66.546875 \nQ 19.921875 64.59375 19.921875 59.515625 \nL 19.921875 54.6875 \nL 34.71875 54.6875 \nL 34.71875 47.703125 \nL 19.921875 47.703125 \nL 19.921875 0 \nL 10.890625 0 \nL 10.890625 47.703125 \nL 2.296875 47.703125 \nL 2.296875 54.6875 \nL 10.890625 54.6875 \nL 10.890625 58.5 \nQ 10.890625 67.625 15.140625 71.796875 \nQ 19.390625 75.984375 28.609375 75.984375 \nz\n\" id=\"DejaVuSans-102\"/>\n      <path d=\"M 54.890625 54.6875 \nL 35.109375 28.078125 \nL 55.90625 0 \nL 45.3125 0 \nL 29.390625 21.484375 \nL 13.484375 0 \nL 2.875 0 \nL 24.125 28.609375 \nL 4.6875 54.6875 \nL 15.28125 54.6875 \nL 29.78125 35.203125 \nL 44.28125 54.6875 \nz\n\" id=\"DejaVuSans-120\"/>\n      <path d=\"M 9.421875 75.984375 \nL 18.40625 75.984375 \nL 18.40625 0 \nL 9.421875 0 \nz\n\" id=\"DejaVuSans-108\"/>\n      <path d=\"M 48.78125 52.59375 \nL 48.78125 44.1875 \nQ 44.96875 46.296875 41.140625 47.34375 \nQ 37.3125 48.390625 33.40625 48.390625 \nQ 24.65625 48.390625 19.8125 42.84375 \nQ 14.984375 37.3125 14.984375 27.296875 \nQ 14.984375 17.28125 19.8125 11.734375 \nQ 24.65625 6.203125 33.40625 6.203125 \nQ 37.3125 6.203125 41.140625 7.25 \nQ 44.96875 8.296875 48.78125 10.40625 \nL 48.78125 2.09375 \nQ 45.015625 0.34375 40.984375 -0.53125 \nQ 36.96875 -1.421875 32.421875 -1.421875 \nQ 20.0625 -1.421875 12.78125 6.34375 \nQ 5.515625 14.109375 5.515625 27.296875 \nQ 5.515625 40.671875 12.859375 48.328125 \nQ 20.21875 56 33.015625 56 \nQ 37.15625 56 41.109375 55.140625 \nQ 45.0625 54.296875 48.78125 52.59375 \nz\n\" id=\"DejaVuSans-99\"/>\n      <path d=\"M 54.890625 33.015625 \nL 54.890625 0 \nL 45.90625 0 \nL 45.90625 32.71875 \nQ 45.90625 40.484375 42.875 44.328125 \nQ 39.84375 48.1875 33.796875 48.1875 \nQ 26.515625 48.1875 22.3125 43.546875 \nQ 18.109375 38.921875 18.109375 30.90625 \nL 18.109375 0 \nL 9.078125 0 \nL 9.078125 75.984375 \nL 18.109375 75.984375 \nL 18.109375 46.1875 \nQ 21.34375 51.125 25.703125 53.5625 \nQ 30.078125 56 35.796875 56 \nQ 45.21875 56 50.046875 50.171875 \nQ 54.890625 44.34375 54.890625 33.015625 \nz\n\" id=\"DejaVuSans-104\"/>\n     </defs>\n     <use xlink:href=\"#DejaVuSans-78\"/>\n     <use x=\"74.804688\" xlink:href=\"#DejaVuSans-117\"/>\n     <use x=\"138.183594\" xlink:href=\"#DejaVuSans-109\"/>\n     <use x=\"235.595703\" xlink:href=\"#DejaVuSans-98\"/>\n     <use x=\"299.072266\" xlink:href=\"#DejaVuSans-101\"/>\n     <use x=\"360.595703\" xlink:href=\"#DejaVuSans-114\"/>\n     <use x=\"401.708984\" xlink:href=\"#DejaVuSans-32\"/>\n     <use x=\"433.496094\" xlink:href=\"#DejaVuSans-111\"/>\n     <use x=\"494.677734\" xlink:href=\"#DejaVuSans-102\"/>\n     <use x=\"529.882812\" xlink:href=\"#DejaVuSans-32\"/>\n     <use x=\"561.669922\" xlink:href=\"#DejaVuSans-101\"/>\n     <use x=\"621.443359\" xlink:href=\"#DejaVuSans-120\"/>\n     <use x=\"680.623047\" xlink:href=\"#DejaVuSans-97\"/>\n     <use x=\"741.902344\" xlink:href=\"#DejaVuSans-109\"/>\n     <use x=\"839.314453\" xlink:href=\"#DejaVuSans-112\"/>\n     <use x=\"902.791016\" xlink:href=\"#DejaVuSans-108\"/>\n     <use x=\"930.574219\" xlink:href=\"#DejaVuSans-101\"/>\n     <use x=\"992.097656\" xlink:href=\"#DejaVuSans-115\"/>\n     <use x=\"1044.197266\" xlink:href=\"#DejaVuSans-32\"/>\n     <use x=\"1075.984375\" xlink:href=\"#DejaVuSans-111\"/>\n     <use x=\"1137.166016\" xlink:href=\"#DejaVuSans-102\"/>\n     <use x=\"1172.371094\" xlink:href=\"#DejaVuSans-32\"/>\n     <use x=\"1204.158203\" xlink:href=\"#DejaVuSans-101\"/>\n     <use x=\"1265.681641\" xlink:href=\"#DejaVuSans-97\"/>\n     <use x=\"1326.960938\" xlink:href=\"#DejaVuSans-99\"/>\n     <use x=\"1381.941406\" xlink:href=\"#DejaVuSans-104\"/>\n     <use x=\"1445.320312\" xlink:href=\"#DejaVuSans-32\"/>\n     <use x=\"1477.107422\" xlink:href=\"#DejaVuSans-99\"/>\n     <use x=\"1532.087891\" xlink:href=\"#DejaVuSans-108\"/>\n     <use x=\"1559.871094\" xlink:href=\"#DejaVuSans-97\"/>\n     <use x=\"1621.150391\" xlink:href=\"#DejaVuSans-115\"/>\n     <use x=\"1673.25\" xlink:href=\"#DejaVuSans-115\"/>\n    </g>\n   </g>\n  </g>\n </g>\n <defs>\n  <clipPath id=\"pa3d4ad564e\">\n   <rect height=\"288\" width=\"432\" x=\"39.65\" y=\"22.318125\"/>\n  </clipPath>\n </defs>\n</svg>\n",
      "image/png": "[encoded data removed]"
     },
     "metadata": {
      "needs_background": "light"
     }
    }
   ],
   "source": [
    "import matplotlib.pyplot as plt\n",
    "\n",
    "fig = plt.figure()\n",
    "ax = fig.add_axes([0,0,1,1])\n",
    "ax.bar([\"spam\", \"non-spam\"],[len(spam_filenames), len(clean_filesnames)])\n",
    "\n",
    "plt.title(\"Number of examples of each class\")\n",
    "plt.show()"
   ]
  },
  {
   "source": [
    "The dataset mostly consists of `non-spam` emails."
   ],
   "cell_type": "markdown",
   "metadata": {}
  },
  {
   "cell_type": "code",
   "execution_count": 6,
   "metadata": {},
   "outputs": [],
   "source": [
    "import email\n",
    "import email.policy\n",
    "\n",
    "ALL_EMAILS_DIR = os.path.join(DATA_DIR, \"all\")\n",
    "\n",
    "def load_email(filename):\n",
    "    with open(os.path.join(ALL_EMAILS_DIR, filename), \"rb\") as f:\n",
    "        return email.parser.BytesParser(policy=email.policy.default).parse(f)"
   ]
  },
  {
   "cell_type": "code",
   "execution_count": 7,
   "metadata": {},
   "outputs": [],
   "source": [
    "example_spam_email = load_email(spam_filenames[123])\n"
   ]
  },
  {
   "source": [
    "Let's see an example of spam email."
   ],
   "cell_type": "markdown",
   "metadata": {}
  },
  {
   "cell_type": "code",
   "execution_count": 8,
   "metadata": {},
   "outputs": [
    {
     "output_type": "stream",
     "name": "stdout",
     "text": [
      "Header Field Names:\n ['Return-Path', 'Delivered-To', 'Received', 'Received', 'Received', 'Received', 'Received', 'From', 'To', 'X-Mailer', 'Content-Type', 'Message-Id', 'Subject', 'Sender', 'Errors-To', 'X-Beenthere', 'X-Mailman-Version', 'Precedence', 'List-Help', 'List-Post', 'List-Subscribe', 'List-Id', 'List-Unsubscribe', 'List-Archive', 'X-Original-Date', 'Date', 'Content-Transfer-Encoding', 'X-MIME-Autoconverted']\n"
     ]
    }
   ],
   "source": [
    "print('Header Field Names:\\n',example_spam_email.keys())"
   ]
  },
  {
   "cell_type": "code",
   "execution_count": 9,
   "metadata": {},
   "outputs": [
    {
     "output_type": "stream",
     "name": "stdout",
     "text": [
      "Subject:\n [scoop] Haberdar olun\n"
     ]
    }
   ],
   "source": [
    "\n",
    "print('Subject:\\n',example_spam_email['Subject'])\n"
   ]
  },
  {
   "cell_type": "code",
   "execution_count": 10,
   "metadata": {},
   "outputs": [
    {
     "output_type": "stream",
     "name": "stdout",
     "text": [
      "Message Field Values:\n ['<sitescooper-talk-admin@lists.sourceforge.net>', 'zzzz@localhost.example.com', 'from localhost (localhost [127.0.0.1])\\tby phobos.labs.example.com (Postfix) with ESMTP id 92C1843F9B\\tfor <zzzz@localhost>; Mon, 26 Aug 2002 15:15:19 -0400 (EDT)', 'from phobos [127.0.0.1]\\tby localhost with IMAP (fetchmail-5.9.0)\\tfor zzzz@localhost (single-drop); Mon, 26 Aug 2002 20:15:19 +0100 (IST)', 'from usw-sf-list2.sourceforge.net (usw-sf-fw2.sourceforge.net    [216.136.171.252]) by dogma.slashnull.org (8.11.6/8.11.6) with ESMTP id    g7QJ9ZZ05743 for <zzzz-scoop@jmason.org>; Mon, 26 Aug 2002 20:09:35 +0100', 'from usw-sf-list1-b.sourceforge.net ([10.3.1.13]    helo=usw-sf-list1.sourceforge.net) by usw-sf-list2.sourceforge.net with    esmtp (Exim 3.31-VA-mm2 #1 (Debian)) id 17jPEm-0001Sc-00; Mon,    26 Aug 2002 12:09:20 -0700', 'from [65.198.220.134] (helo=ejhvvet) by    usw-sf-list1.sourceforge.net with smtp (Exim 3.31-VA-mm2 #1 (Debian)) id    17jPDw-0006Aq-00 for <sitescooper-talk@lists.sourceforge.net>;    Mon, 26 Aug 2002 12:08:29 -0700', 'Senem Oncul <smgrdphcv@t-online.de>', 'sitescooper-talk@lists.sourceforge.net', 'Microsoft Outlook Express 5.50.4133.2400', 'text/plain', '<vewaeurtngep@lists.sourceforge.net>', '[scoop] Haberdar olun', 'sitescooper-talk-admin@lists.sourceforge.net', 'sitescooper-talk-admin@lists.sourceforge.net', 'sitescooper-talk@lists.sourceforge.net', '2.0.9-sf.net', 'bulk', '<mailto:sitescooper-talk-request@lists.sourceforge.net?subject=help>', '<mailto:sitescooper-talk@lists.sourceforge.net>', '<https://lists.sourceforge.net/lists/listinfo/sitescooper-talk>,    <mailto:sitescooper-talk-request@lists.sourceforge.net?subject=subscribe>', 'Discussion of sitescooper - see http://sitescooper.org/    <sitescooper-talk.lists.sourceforge.net>', '<https://lists.sourceforge.net/lists/listinfo/sitescooper-talk>,    <mailto:sitescooper-talk-request@lists.sourceforge.net?subject=unsubscribe>', '<http://www.geocrawler.com/redir-sf.php3?list=sitescooper-talk>', 'Mon, 26 Aug 2002 20:05:24 -0400', 'Mon, 26 Aug 2002 20:05:24 -0400', '8bit', 'from base64 to 8bit by dogma.slashnull.org id    g7QJ9ZZ05743']\n"
     ]
    }
   ],
   "source": [
    "print('Message Field Values:\\n',example_spam_email.values())"
   ]
  },
  {
   "cell_type": "code",
   "execution_count": 11,
   "metadata": {
    "tags": []
   },
   "outputs": [
    {
     "output_type": "stream",
     "name": "stdout",
     "text": [
      "Message Content:\n HABERDAR.COM - HABER VE MEDYA PORTALI\nArt�k t�m haberleri sadece tek siteden takip edebileceksiniz. Haberdar.com a��ld�!\nHaber ba�l�klar�, spor haberleri, teknoloji haberleri, k�lt�r ve sanat haberleri, internet haberleri, bilim ve uzay, \nsinema, sa�l�k...\nArad���n�z i�erik http://www.haberdar.com adresinde\nSadece t�klay�n ve haberdar olun\n\n�������������������������������������������+,������X���'���u��9 ��8�y�\u001f�\u0016�����W\\zYi����g�jw����~��DA���i����\f��za�x���&�����������\u001e���}�\u001d{�}�������������������������������������J+^��(�����d����x%��R���r�)z��jY��+-��(��\u001e~��{���\u001bm����X�������y�+���z����l�X��)���\"��\u001c��^��Z\n\n\n"
     ]
    }
   ],
   "source": [
    "print('Message Content:\\n',example_spam_email.get_content())"
   ]
  },
  {
   "source": [
    "## Data preparation"
   ],
   "cell_type": "markdown",
   "metadata": {}
  },
  {
   "source": [
    "First we need to prepare the training and test `dataset` for our model."
   ],
   "cell_type": "markdown",
   "metadata": {}
  },
  {
   "cell_type": "code",
   "execution_count": 12,
   "metadata": {},
   "outputs": [
    {
     "output_type": "stream",
     "name": "stdout",
     "text": [
      "Importing clean mails\n",
      "\n",
      "\n",
      "Importing spam mails\n",
      "\n"
     ]
    }
   ],
   "source": [
    "print(\"Importing clean mails\\n\")\n",
    "clean_emails = [load_email(email) for email in clean_filesnames]\n",
    "print(\"\\nImporting spam mails\\n\")\n",
    "spam_emails = [load_email(email) for email in spam_filenames]\n"
   ]
  },
  {
   "source": [
    "### Struture of emails"
   ],
   "cell_type": "markdown",
   "metadata": {}
  },
  {
   "cell_type": "code",
   "execution_count": 13,
   "metadata": {},
   "outputs": [],
   "source": [
    "from collections import Counter\n",
    "\n",
    "def get_email_structure(email):\n",
    "    if isinstance(email, str):\n",
    "        return email\n",
    "    payload = email.get_payload()\n",
    "    if isinstance(payload, list):\n",
    "        return \"multipart({})\".format(\", \".join([\n",
    "            get_email_structure(sub_email)\n",
    "            for sub_email in payload\n",
    "        ]))\n",
    "    else:\n",
    "        return email.get_content_type()\n",
    "\n",
    "def structures_counter(emails):\n",
    "    structures = Counter()\n",
    "    for email in emails:\n",
    "        structure = get_email_structure(email)\n",
    "        structures[structure] += 1\n",
    "    return structures\n"
   ]
  },
  {
   "cell_type": "code",
   "execution_count": 14,
   "metadata": {},
   "outputs": [
    {
     "output_type": "stream",
     "name": "stdout",
     "text": [
      "Clean mails structure:\n Counter({'text/plain': 2453, 'multipart(text/plain, application/pgp-signature)': 72, 'multipart(text/plain, text/html)': 8, 'multipart(text/plain, text/plain)': 4, 'multipart(text/plain)': 3, 'multipart(text/plain, application/octet-stream)': 2, 'multipart(text/plain, text/enriched)': 1, 'multipart(text/plain, application/ms-tnef, text/plain)': 1, 'multipart(multipart(text/plain, text/plain, text/plain), application/pgp-signature)': 1, 'multipart(text/plain, video/mng)': 1, 'multipart(text/plain, multipart(text/plain))': 1, 'multipart(text/plain, application/x-pkcs7-signature)': 1, 'multipart(text/plain, multipart(text/plain, text/plain), text/rfc822-headers)': 1, 'multipart(text/plain, multipart(text/plain, text/plain), multipart(multipart(text/plain, application/x-pkcs7-signature)))': 1, 'multipart(text/plain, application/x-java-applet)': 1})\n"
     ]
    }
   ],
   "source": [
    "clean_structures = structures_counter(clean_emails)\n",
    "print(\"Clean mails structure:\\n\", clean_structures)"
   ]
  },
  {
   "cell_type": "code",
   "execution_count": 15,
   "metadata": {},
   "outputs": [
    {
     "output_type": "stream",
     "name": "stdout",
     "text": [
      "Clean mails structure:\n Counter({'text/plain': 222, 'text/html': 181, 'multipart(text/plain, text/html)': 45, 'multipart(text/html)': 19, 'multipart(text/plain)': 19, 'multipart(multipart(text/html))': 5, 'multipart(text/plain, image/jpeg)': 3, 'multipart(text/html, application/octet-stream)': 2, 'multipart(text/plain, application/octet-stream)': 1, 'multipart(text/html, text/plain)': 1, 'multipart(multipart(text/html), application/octet-stream, image/jpeg)': 1, 'multipart(multipart(text/plain, text/html), image/gif)': 1, 'multipart/alternative': 1})\n"
     ]
    }
   ],
   "source": [
    "spam_structures = structures_counter(spam_emails)\n",
    "print(\"Clean mails structure:\\n\", spam_structures)"
   ]
  },
  {
   "cell_type": "code",
   "execution_count": 16,
   "metadata": {},
   "outputs": [
    {
     "output_type": "stream",
     "name": "stderr",
     "text": [
      "/usr/local/anaconda3/envs/CI/lib/python3.7/site-packages/ipykernel_launcher.py:13: UserWarning: Matplotlib is currently using module://ipykernel.pylab.backend_inline, which is a non-GUI backend, so cannot show the figure.\n  del sys.path[0]\n"
     ]
    },
    {
     "output_type": "display_data",
     "data": {
      "text/plain": "<Figure size 1080x288 with 2 Axes>",
      "image/svg+xml": "<?xml version=\"1.0\" encoding=\"utf-8\" standalone=\"no\"?>\n<!DOCTYPE svg PUBLIC \"-//W3C//DTD SVG 1.1//EN\"\n  \"http://www.w3.org/Graphics/SVG/1.1/DTD/svg11.dtd\">\n<!-- Created with matplotlib (https://matplotlib.org/) -->\n<svg height=\"260.64pt\" version=\"1.1\" viewBox=\"0 0 910.751023 260.64\" width=\"910.751023pt\" xmlns=\"http://www.w3.org/2000/svg\" xmlns:xlink=\"http://www.w3.org/1999/xlink\">\n <metadata>\n  <rdf:RDF xmlns:cc=\"http://creativecommons.org/ns#\" xmlns:dc=\"http://purl.org/dc/elements/1.1/\" xmlns:rdf=\"http://www.w3.org/1999/02/22-rdf-syntax-ns#\">\n   <cc:Work>\n    <dc:type rdf:resource=\"http://purl.org/dc/dcmitype/StillImage\"/>\n    <dc:date>2021-06-18T15:59:47.542949</dc:date>\n    <dc:format>image/svg+xml</dc:format>\n    <dc:creator>\n     <cc:Agent>\n      <dc:title>Matplotlib v3.3.4, https://matplotlib.org/</dc:title>\n     </cc:Agent>\n    </dc:creator>\n   </cc:Work>\n  </rdf:RDF>\n </metadata>\n <defs>\n  <style type=\"text/css\">*{stroke-linecap:butt;stroke-linejoin:round;}</style>\n </defs>\n <g id=\"figure_1\">\n  <g id=\"patch_1\">\n   <path d=\"M 0 260.64 \nL 910.751023 260.64 \nL 910.751023 0 \nL 0 0 \nz\n\" style=\"fill:none;\"/>\n  </g>\n  <g id=\"axes_1\">\n   <g id=\"patch_2\">\n    <path d=\"M 202.896 144.72 \nC 202.896 122.870822 194.662926 101.804236 179.84785 85.744967 \nC 165.032774 69.685698 144.696988 59.784165 122.91866 58.026036 \nC 101.140332 56.267908 79.479571 62.779129 62.280259 76.25393 \nC 45.080947 89.728731 33.575171 109.201832 30.070316 130.768069 \nL 115.92 144.72 \nL 202.896 144.72 \nz\n\" style=\"fill:#1f77b4;\"/>\n   </g>\n   <g id=\"patch_3\">\n    <path d=\"M 30.070316 130.768069 \nC 27.223469 148.285422 29.80523 166.261428 37.467084 182.269495 \nC 45.128938 198.277561 57.509883 211.563436 72.938606 220.333652 \nC 88.36733 229.103868 106.116878 232.945198 123.791228 231.339099 \nC 141.465578 229.733 158.231968 222.755147 171.827092 211.347484 \nL 115.92 144.72 \nL 30.070316 130.768069 \nz\n\" style=\"fill:#ff7f0e;\"/>\n   </g>\n   <g id=\"patch_4\">\n    <path d=\"M 171.827092 211.347484 \nC 171.976178 211.222386 172.124844 211.096788 172.273087 210.970692 \nC 172.421329 210.844596 172.569149 210.718003 172.716542 210.590915 \nL 115.92 144.72 \nL 171.827092 211.347484 \nz\n\" style=\"fill:#2ca02c;\"/>\n   </g>\n   <g id=\"patch_5\">\n    <path d=\"M 172.716542 210.590915 \nC 175.517955 208.175424 178.162425 205.58368 180.633839 202.831476 \nC 183.105252 200.079272 185.398578 197.172209 187.499843 194.128002 \nL 115.92 144.72 \nL 172.716542 210.590915 \nz\n\" style=\"fill:#d62728;\"/>\n   </g>\n   <g id=\"patch_6\">\n    <path d=\"M 187.499843 194.128002 \nC 192.484276 186.906805 196.347388 178.972739 198.957801 170.595628 \nC 201.568215 162.218516 202.896 153.494411 202.896 144.720002 \nL 115.92 144.72 \nL 187.499843 194.128002 \nz\n\" style=\"fill:#9467bd;\"/>\n   </g>\n   <g id=\"matplotlib.axis_1\"/>\n   <g id=\"matplotlib.axis_2\"/>\n   <g id=\"text_1\">\n    <!-- text/plain -->\n    <g transform=\"translate(123.618526 52.116015)scale(0.1 -0.1)\">\n     <defs>\n      <path d=\"M 18.3125 70.21875 \nL 18.3125 54.6875 \nL 36.8125 54.6875 \nL 36.8125 47.703125 \nL 18.3125 47.703125 \nL 18.3125 18.015625 \nQ 18.3125 11.328125 20.140625 9.421875 \nQ 21.96875 7.515625 27.59375 7.515625 \nL 36.8125 7.515625 \nL 36.8125 0 \nL 27.59375 0 \nQ 17.1875 0 13.234375 3.875 \nQ 9.28125 7.765625 9.28125 18.015625 \nL 9.28125 47.703125 \nL 2.6875 47.703125 \nL 2.6875 54.6875 \nL 9.28125 54.6875 \nL 9.28125 70.21875 \nz\n\" id=\"DejaVuSans-116\"/>\n      <path d=\"M 56.203125 29.59375 \nL 56.203125 25.203125 \nL 14.890625 25.203125 \nQ 15.484375 15.921875 20.484375 11.0625 \nQ 25.484375 6.203125 34.421875 6.203125 \nQ 39.59375 6.203125 44.453125 7.46875 \nQ 49.3125 8.734375 54.109375 11.28125 \nL 54.109375 2.78125 \nQ 49.265625 0.734375 44.1875 -0.34375 \nQ 39.109375 -1.421875 33.890625 -1.421875 \nQ 20.796875 -1.421875 13.15625 6.1875 \nQ 5.515625 13.8125 5.515625 26.8125 \nQ 5.515625 40.234375 12.765625 48.109375 \nQ 20.015625 56 32.328125 56 \nQ 43.359375 56 49.78125 48.890625 \nQ 56.203125 41.796875 56.203125 29.59375 \nz\nM 47.21875 32.234375 \nQ 47.125 39.59375 43.09375 43.984375 \nQ 39.0625 48.390625 32.421875 48.390625 \nQ 24.90625 48.390625 20.390625 44.140625 \nQ 15.875 39.890625 15.1875 32.171875 \nz\n\" id=\"DejaVuSans-101\"/>\n      <path d=\"M 54.890625 54.6875 \nL 35.109375 28.078125 \nL 55.90625 0 \nL 45.3125 0 \nL 29.390625 21.484375 \nL 13.484375 0 \nL 2.875 0 \nL 24.125 28.609375 \nL 4.6875 54.6875 \nL 15.28125 54.6875 \nL 29.78125 35.203125 \nL 44.28125 54.6875 \nz\n\" id=\"DejaVuSans-120\"/>\n      <path d=\"M 25.390625 72.90625 \nL 33.6875 72.90625 \nL 8.296875 -9.28125 \nL 0 -9.28125 \nz\n\" id=\"DejaVuSans-47\"/>\n      <path d=\"M 18.109375 8.203125 \nL 18.109375 -20.796875 \nL 9.078125 -20.796875 \nL 9.078125 54.6875 \nL 18.109375 54.6875 \nL 18.109375 46.390625 \nQ 20.953125 51.265625 25.265625 53.625 \nQ 29.59375 56 35.59375 56 \nQ 45.5625 56 51.78125 48.09375 \nQ 58.015625 40.1875 58.015625 27.296875 \nQ 58.015625 14.40625 51.78125 6.484375 \nQ 45.5625 -1.421875 35.59375 -1.421875 \nQ 29.59375 -1.421875 25.265625 0.953125 \nQ 20.953125 3.328125 18.109375 8.203125 \nz\nM 48.6875 27.296875 \nQ 48.6875 37.203125 44.609375 42.84375 \nQ 40.53125 48.484375 33.40625 48.484375 \nQ 26.265625 48.484375 22.1875 42.84375 \nQ 18.109375 37.203125 18.109375 27.296875 \nQ 18.109375 17.390625 22.1875 11.75 \nQ 26.265625 6.109375 33.40625 6.109375 \nQ 40.53125 6.109375 44.609375 11.75 \nQ 48.6875 17.390625 48.6875 27.296875 \nz\n\" id=\"DejaVuSans-112\"/>\n      <path d=\"M 9.421875 75.984375 \nL 18.40625 75.984375 \nL 18.40625 0 \nL 9.421875 0 \nz\n\" id=\"DejaVuSans-108\"/>\n      <path d=\"M 34.28125 27.484375 \nQ 23.390625 27.484375 19.1875 25 \nQ 14.984375 22.515625 14.984375 16.5 \nQ 14.984375 11.71875 18.140625 8.90625 \nQ 21.296875 6.109375 26.703125 6.109375 \nQ 34.1875 6.109375 38.703125 11.40625 \nQ 43.21875 16.703125 43.21875 25.484375 \nL 43.21875 27.484375 \nz\nM 52.203125 31.203125 \nL 52.203125 0 \nL 43.21875 0 \nL 43.21875 8.296875 \nQ 40.140625 3.328125 35.546875 0.953125 \nQ 30.953125 -1.421875 24.3125 -1.421875 \nQ 15.921875 -1.421875 10.953125 3.296875 \nQ 6 8.015625 6 15.921875 \nQ 6 25.140625 12.171875 29.828125 \nQ 18.359375 34.515625 30.609375 34.515625 \nL 43.21875 34.515625 \nL 43.21875 35.40625 \nQ 43.21875 41.609375 39.140625 45 \nQ 35.0625 48.390625 27.6875 48.390625 \nQ 23 48.390625 18.546875 47.265625 \nQ 14.109375 46.140625 10.015625 43.890625 \nL 10.015625 52.203125 \nQ 14.9375 54.109375 19.578125 55.046875 \nQ 24.21875 56 28.609375 56 \nQ 40.484375 56 46.34375 49.84375 \nQ 52.203125 43.703125 52.203125 31.203125 \nz\n\" id=\"DejaVuSans-97\"/>\n      <path d=\"M 9.421875 54.6875 \nL 18.40625 54.6875 \nL 18.40625 0 \nL 9.421875 0 \nz\nM 9.421875 75.984375 \nL 18.40625 75.984375 \nL 18.40625 64.59375 \nL 9.421875 64.59375 \nz\n\" id=\"DejaVuSans-105\"/>\n      <path d=\"M 54.890625 33.015625 \nL 54.890625 0 \nL 45.90625 0 \nL 45.90625 32.71875 \nQ 45.90625 40.484375 42.875 44.328125 \nQ 39.84375 48.1875 33.796875 48.1875 \nQ 26.515625 48.1875 22.3125 43.546875 \nQ 18.109375 38.921875 18.109375 30.90625 \nL 18.109375 0 \nL 9.078125 0 \nL 9.078125 54.6875 \nL 18.109375 54.6875 \nL 18.109375 46.1875 \nQ 21.34375 51.125 25.703125 53.5625 \nQ 30.078125 56 35.796875 56 \nQ 45.21875 56 50.046875 50.171875 \nQ 54.890625 44.34375 54.890625 33.015625 \nz\n\" id=\"DejaVuSans-110\"/>\n     </defs>\n     <use xlink:href=\"#DejaVuSans-116\"/>\n     <use x=\"39.208984\" xlink:href=\"#DejaVuSans-101\"/>\n     <use x=\"98.982422\" xlink:href=\"#DejaVuSans-120\"/>\n     <use x=\"158.162109\" xlink:href=\"#DejaVuSans-116\"/>\n     <use x=\"197.371094\" xlink:href=\"#DejaVuSans-47\"/>\n     <use x=\"231.0625\" xlink:href=\"#DejaVuSans-112\"/>\n     <use x=\"294.539062\" xlink:href=\"#DejaVuSans-108\"/>\n     <use x=\"322.322266\" xlink:href=\"#DejaVuSans-97\"/>\n     <use x=\"383.601562\" xlink:href=\"#DejaVuSans-105\"/>\n     <use x=\"411.384766\" xlink:href=\"#DejaVuSans-110\"/>\n    </g>\n   </g>\n   <g id=\"text_2\">\n    <!-- text/html -->\n    <g transform=\"translate(22.757654 230.654392)scale(0.1 -0.1)\">\n     <defs>\n      <path d=\"M 54.890625 33.015625 \nL 54.890625 0 \nL 45.90625 0 \nL 45.90625 32.71875 \nQ 45.90625 40.484375 42.875 44.328125 \nQ 39.84375 48.1875 33.796875 48.1875 \nQ 26.515625 48.1875 22.3125 43.546875 \nQ 18.109375 38.921875 18.109375 30.90625 \nL 18.109375 0 \nL 9.078125 0 \nL 9.078125 75.984375 \nL 18.109375 75.984375 \nL 18.109375 46.1875 \nQ 21.34375 51.125 25.703125 53.5625 \nQ 30.078125 56 35.796875 56 \nQ 45.21875 56 50.046875 50.171875 \nQ 54.890625 44.34375 54.890625 33.015625 \nz\n\" id=\"DejaVuSans-104\"/>\n      <path d=\"M 52 44.1875 \nQ 55.375 50.25 60.0625 53.125 \nQ 64.75 56 71.09375 56 \nQ 79.640625 56 84.28125 50.015625 \nQ 88.921875 44.046875 88.921875 33.015625 \nL 88.921875 0 \nL 79.890625 0 \nL 79.890625 32.71875 \nQ 79.890625 40.578125 77.09375 44.375 \nQ 74.3125 48.1875 68.609375 48.1875 \nQ 61.625 48.1875 57.5625 43.546875 \nQ 53.515625 38.921875 53.515625 30.90625 \nL 53.515625 0 \nL 44.484375 0 \nL 44.484375 32.71875 \nQ 44.484375 40.625 41.703125 44.40625 \nQ 38.921875 48.1875 33.109375 48.1875 \nQ 26.21875 48.1875 22.15625 43.53125 \nQ 18.109375 38.875 18.109375 30.90625 \nL 18.109375 0 \nL 9.078125 0 \nL 9.078125 54.6875 \nL 18.109375 54.6875 \nL 18.109375 46.1875 \nQ 21.1875 51.21875 25.484375 53.609375 \nQ 29.78125 56 35.6875 56 \nQ 41.65625 56 45.828125 52.96875 \nQ 50 49.953125 52 44.1875 \nz\n\" id=\"DejaVuSans-109\"/>\n     </defs>\n     <use xlink:href=\"#DejaVuSans-116\"/>\n     <use x=\"39.208984\" xlink:href=\"#DejaVuSans-101\"/>\n     <use x=\"98.982422\" xlink:href=\"#DejaVuSans-120\"/>\n     <use x=\"158.162109\" xlink:href=\"#DejaVuSans-116\"/>\n     <use x=\"197.371094\" xlink:href=\"#DejaVuSans-47\"/>\n     <use x=\"231.0625\" xlink:href=\"#DejaVuSans-104\"/>\n     <use x=\"294.441406\" xlink:href=\"#DejaVuSans-116\"/>\n     <use x=\"333.650391\" xlink:href=\"#DejaVuSans-109\"/>\n     <use x=\"431.0625\" xlink:href=\"#DejaVuSans-108\"/>\n    </g>\n   </g>\n   <g id=\"text_3\">\n    <!-- multipart(text/plain, application/octet-stream) -->\n    <g transform=\"translate(177.908395 220.355136)scale(0.1 -0.1)\">\n     <defs>\n      <path d=\"M 8.5 21.578125 \nL 8.5 54.6875 \nL 17.484375 54.6875 \nL 17.484375 21.921875 \nQ 17.484375 14.15625 20.5 10.265625 \nQ 23.53125 6.390625 29.59375 6.390625 \nQ 36.859375 6.390625 41.078125 11.03125 \nQ 45.3125 15.671875 45.3125 23.6875 \nL 45.3125 54.6875 \nL 54.296875 54.6875 \nL 54.296875 0 \nL 45.3125 0 \nL 45.3125 8.40625 \nQ 42.046875 3.421875 37.71875 1 \nQ 33.40625 -1.421875 27.6875 -1.421875 \nQ 18.265625 -1.421875 13.375 4.4375 \nQ 8.5 10.296875 8.5 21.578125 \nz\nM 31.109375 56 \nz\n\" id=\"DejaVuSans-117\"/>\n      <path d=\"M 41.109375 46.296875 \nQ 39.59375 47.171875 37.8125 47.578125 \nQ 36.03125 48 33.890625 48 \nQ 26.265625 48 22.1875 43.046875 \nQ 18.109375 38.09375 18.109375 28.8125 \nL 18.109375 0 \nL 9.078125 0 \nL 9.078125 54.6875 \nL 18.109375 54.6875 \nL 18.109375 46.1875 \nQ 20.953125 51.171875 25.484375 53.578125 \nQ 30.03125 56 36.53125 56 \nQ 37.453125 56 38.578125 55.875 \nQ 39.703125 55.765625 41.0625 55.515625 \nz\n\" id=\"DejaVuSans-114\"/>\n      <path d=\"M 31 75.875 \nQ 24.46875 64.65625 21.28125 53.65625 \nQ 18.109375 42.671875 18.109375 31.390625 \nQ 18.109375 20.125 21.3125 9.0625 \nQ 24.515625 -2 31 -13.1875 \nL 23.1875 -13.1875 \nQ 15.875 -1.703125 12.234375 9.375 \nQ 8.59375 20.453125 8.59375 31.390625 \nQ 8.59375 42.28125 12.203125 53.3125 \nQ 15.828125 64.359375 23.1875 75.875 \nz\n\" id=\"DejaVuSans-40\"/>\n      <path d=\"M 11.71875 12.40625 \nL 22.015625 12.40625 \nL 22.015625 4 \nL 14.015625 -11.625 \nL 7.71875 -11.625 \nL 11.71875 4 \nz\n\" id=\"DejaVuSans-44\"/>\n      <path id=\"DejaVuSans-32\"/>\n      <path d=\"M 48.78125 52.59375 \nL 48.78125 44.1875 \nQ 44.96875 46.296875 41.140625 47.34375 \nQ 37.3125 48.390625 33.40625 48.390625 \nQ 24.65625 48.390625 19.8125 42.84375 \nQ 14.984375 37.3125 14.984375 27.296875 \nQ 14.984375 17.28125 19.8125 11.734375 \nQ 24.65625 6.203125 33.40625 6.203125 \nQ 37.3125 6.203125 41.140625 7.25 \nQ 44.96875 8.296875 48.78125 10.40625 \nL 48.78125 2.09375 \nQ 45.015625 0.34375 40.984375 -0.53125 \nQ 36.96875 -1.421875 32.421875 -1.421875 \nQ 20.0625 -1.421875 12.78125 6.34375 \nQ 5.515625 14.109375 5.515625 27.296875 \nQ 5.515625 40.671875 12.859375 48.328125 \nQ 20.21875 56 33.015625 56 \nQ 37.15625 56 41.109375 55.140625 \nQ 45.0625 54.296875 48.78125 52.59375 \nz\n\" id=\"DejaVuSans-99\"/>\n      <path d=\"M 30.609375 48.390625 \nQ 23.390625 48.390625 19.1875 42.75 \nQ 14.984375 37.109375 14.984375 27.296875 \nQ 14.984375 17.484375 19.15625 11.84375 \nQ 23.34375 6.203125 30.609375 6.203125 \nQ 37.796875 6.203125 41.984375 11.859375 \nQ 46.1875 17.53125 46.1875 27.296875 \nQ 46.1875 37.015625 41.984375 42.703125 \nQ 37.796875 48.390625 30.609375 48.390625 \nz\nM 30.609375 56 \nQ 42.328125 56 49.015625 48.375 \nQ 55.71875 40.765625 55.71875 27.296875 \nQ 55.71875 13.875 49.015625 6.21875 \nQ 42.328125 -1.421875 30.609375 -1.421875 \nQ 18.84375 -1.421875 12.171875 6.21875 \nQ 5.515625 13.875 5.515625 27.296875 \nQ 5.515625 40.765625 12.171875 48.375 \nQ 18.84375 56 30.609375 56 \nz\n\" id=\"DejaVuSans-111\"/>\n      <path d=\"M 4.890625 31.390625 \nL 31.203125 31.390625 \nL 31.203125 23.390625 \nL 4.890625 23.390625 \nz\n\" id=\"DejaVuSans-45\"/>\n      <path d=\"M 44.28125 53.078125 \nL 44.28125 44.578125 \nQ 40.484375 46.53125 36.375 47.5 \nQ 32.28125 48.484375 27.875 48.484375 \nQ 21.1875 48.484375 17.84375 46.4375 \nQ 14.5 44.390625 14.5 40.28125 \nQ 14.5 37.15625 16.890625 35.375 \nQ 19.28125 33.59375 26.515625 31.984375 \nL 29.59375 31.296875 \nQ 39.15625 29.25 43.1875 25.515625 \nQ 47.21875 21.78125 47.21875 15.09375 \nQ 47.21875 7.46875 41.1875 3.015625 \nQ 35.15625 -1.421875 24.609375 -1.421875 \nQ 20.21875 -1.421875 15.453125 -0.5625 \nQ 10.6875 0.296875 5.421875 2 \nL 5.421875 11.28125 \nQ 10.40625 8.6875 15.234375 7.390625 \nQ 20.0625 6.109375 24.8125 6.109375 \nQ 31.15625 6.109375 34.5625 8.28125 \nQ 37.984375 10.453125 37.984375 14.40625 \nQ 37.984375 18.0625 35.515625 20.015625 \nQ 33.0625 21.96875 24.703125 23.78125 \nL 21.578125 24.515625 \nQ 13.234375 26.265625 9.515625 29.90625 \nQ 5.8125 33.546875 5.8125 39.890625 \nQ 5.8125 47.609375 11.28125 51.796875 \nQ 16.75 56 26.8125 56 \nQ 31.78125 56 36.171875 55.265625 \nQ 40.578125 54.546875 44.28125 53.078125 \nz\n\" id=\"DejaVuSans-115\"/>\n      <path d=\"M 8.015625 75.875 \nL 15.828125 75.875 \nQ 23.140625 64.359375 26.78125 53.3125 \nQ 30.421875 42.28125 30.421875 31.390625 \nQ 30.421875 20.453125 26.78125 9.375 \nQ 23.140625 -1.703125 15.828125 -13.1875 \nL 8.015625 -13.1875 \nQ 14.5 -2 17.703125 9.0625 \nQ 20.90625 20.125 20.90625 31.390625 \nQ 20.90625 42.671875 17.703125 53.65625 \nQ 14.5 64.65625 8.015625 75.875 \nz\n\" id=\"DejaVuSans-41\"/>\n     </defs>\n     <use xlink:href=\"#DejaVuSans-109\"/>\n     <use x=\"97.412109\" xlink:href=\"#DejaVuSans-117\"/>\n     <use x=\"160.791016\" xlink:href=\"#DejaVuSans-108\"/>\n     <use x=\"188.574219\" xlink:href=\"#DejaVuSans-116\"/>\n     <use x=\"227.783203\" xlink:href=\"#DejaVuSans-105\"/>\n     <use x=\"255.566406\" xlink:href=\"#DejaVuSans-112\"/>\n     <use x=\"319.042969\" xlink:href=\"#DejaVuSans-97\"/>\n     <use x=\"380.322266\" xlink:href=\"#DejaVuSans-114\"/>\n     <use x=\"421.435547\" xlink:href=\"#DejaVuSans-116\"/>\n     <use x=\"460.644531\" xlink:href=\"#DejaVuSans-40\"/>\n     <use x=\"499.658203\" xlink:href=\"#DejaVuSans-116\"/>\n     <use x=\"538.867188\" xlink:href=\"#DejaVuSans-101\"/>\n     <use x=\"598.640625\" xlink:href=\"#DejaVuSans-120\"/>\n     <use x=\"657.820312\" xlink:href=\"#DejaVuSans-116\"/>\n     <use x=\"697.029297\" xlink:href=\"#DejaVuSans-47\"/>\n     <use x=\"730.720703\" xlink:href=\"#DejaVuSans-112\"/>\n     <use x=\"794.197266\" xlink:href=\"#DejaVuSans-108\"/>\n     <use x=\"821.980469\" xlink:href=\"#DejaVuSans-97\"/>\n     <use x=\"883.259766\" xlink:href=\"#DejaVuSans-105\"/>\n     <use x=\"911.042969\" xlink:href=\"#DejaVuSans-110\"/>\n     <use x=\"974.421875\" xlink:href=\"#DejaVuSans-44\"/>\n     <use x=\"1006.208984\" xlink:href=\"#DejaVuSans-32\"/>\n     <use x=\"1037.996094\" xlink:href=\"#DejaVuSans-97\"/>\n     <use x=\"1099.275391\" xlink:href=\"#DejaVuSans-112\"/>\n     <use x=\"1162.751953\" xlink:href=\"#DejaVuSans-112\"/>\n     <use x=\"1226.228516\" xlink:href=\"#DejaVuSans-108\"/>\n     <use x=\"1254.011719\" xlink:href=\"#DejaVuSans-105\"/>\n     <use x=\"1281.794922\" xlink:href=\"#DejaVuSans-99\"/>\n     <use x=\"1336.775391\" xlink:href=\"#DejaVuSans-97\"/>\n     <use x=\"1398.054688\" xlink:href=\"#DejaVuSans-116\"/>\n     <use x=\"1437.263672\" xlink:href=\"#DejaVuSans-105\"/>\n     <use x=\"1465.046875\" xlink:href=\"#DejaVuSans-111\"/>\n     <use x=\"1526.228516\" xlink:href=\"#DejaVuSans-110\"/>\n     <use x=\"1589.607422\" xlink:href=\"#DejaVuSans-47\"/>\n     <use x=\"1623.298828\" xlink:href=\"#DejaVuSans-111\"/>\n     <use x=\"1684.480469\" xlink:href=\"#DejaVuSans-99\"/>\n     <use x=\"1739.460938\" xlink:href=\"#DejaVuSans-116\"/>\n     <use x=\"1778.669922\" xlink:href=\"#DejaVuSans-101\"/>\n     <use x=\"1840.193359\" xlink:href=\"#DejaVuSans-116\"/>\n     <use x=\"1879.402344\" xlink:href=\"#DejaVuSans-45\"/>\n     <use x=\"1915.486328\" xlink:href=\"#DejaVuSans-115\"/>\n     <use x=\"1967.585938\" xlink:href=\"#DejaVuSans-116\"/>\n     <use x=\"2006.794922\" xlink:href=\"#DejaVuSans-114\"/>\n     <use x=\"2045.658203\" xlink:href=\"#DejaVuSans-101\"/>\n     <use x=\"2107.181641\" xlink:href=\"#DejaVuSans-97\"/>\n     <use x=\"2168.460938\" xlink:href=\"#DejaVuSans-109\"/>\n     <use x=\"2265.873047\" xlink:href=\"#DejaVuSans-41\"/>\n    </g>\n   </g>\n   <g id=\"text_4\">\n    <!-- multipart(text/html) -->\n    <g transform=\"translate(187.105223 211.401999)scale(0.1 -0.1)\">\n     <use xlink:href=\"#DejaVuSans-109\"/>\n     <use x=\"97.412109\" xlink:href=\"#DejaVuSans-117\"/>\n     <use x=\"160.791016\" xlink:href=\"#DejaVuSans-108\"/>\n     <use x=\"188.574219\" xlink:href=\"#DejaVuSans-116\"/>\n     <use x=\"227.783203\" xlink:href=\"#DejaVuSans-105\"/>\n     <use x=\"255.566406\" xlink:href=\"#DejaVuSans-112\"/>\n     <use x=\"319.042969\" xlink:href=\"#DejaVuSans-97\"/>\n     <use x=\"380.322266\" xlink:href=\"#DejaVuSans-114\"/>\n     <use x=\"421.435547\" xlink:href=\"#DejaVuSans-116\"/>\n     <use x=\"460.644531\" xlink:href=\"#DejaVuSans-40\"/>\n     <use x=\"499.658203\" xlink:href=\"#DejaVuSans-116\"/>\n     <use x=\"538.867188\" xlink:href=\"#DejaVuSans-101\"/>\n     <use x=\"598.640625\" xlink:href=\"#DejaVuSans-120\"/>\n     <use x=\"657.820312\" xlink:href=\"#DejaVuSans-116\"/>\n     <use x=\"697.029297\" xlink:href=\"#DejaVuSans-47\"/>\n     <use x=\"730.720703\" xlink:href=\"#DejaVuSans-104\"/>\n     <use x=\"794.099609\" xlink:href=\"#DejaVuSans-116\"/>\n     <use x=\"833.308594\" xlink:href=\"#DejaVuSans-109\"/>\n     <use x=\"930.720703\" xlink:href=\"#DejaVuSans-108\"/>\n     <use x=\"958.503906\" xlink:href=\"#DejaVuSans-41\"/>\n    </g>\n   </g>\n   <g id=\"text_5\">\n    <!-- multipart(text/plain, text/html) -->\n    <g transform=\"translate(207.261582 175.942566)scale(0.1 -0.1)\">\n     <use xlink:href=\"#DejaVuSans-109\"/>\n     <use x=\"97.412109\" xlink:href=\"#DejaVuSans-117\"/>\n     <use x=\"160.791016\" xlink:href=\"#DejaVuSans-108\"/>\n     <use x=\"188.574219\" xlink:href=\"#DejaVuSans-116\"/>\n     <use x=\"227.783203\" xlink:href=\"#DejaVuSans-105\"/>\n     <use x=\"255.566406\" xlink:href=\"#DejaVuSans-112\"/>\n     <use x=\"319.042969\" xlink:href=\"#DejaVuSans-97\"/>\n     <use x=\"380.322266\" xlink:href=\"#DejaVuSans-114\"/>\n     <use x=\"421.435547\" xlink:href=\"#DejaVuSans-116\"/>\n     <use x=\"460.644531\" xlink:href=\"#DejaVuSans-40\"/>\n     <use x=\"499.658203\" xlink:href=\"#DejaVuSans-116\"/>\n     <use x=\"538.867188\" xlink:href=\"#DejaVuSans-101\"/>\n     <use x=\"598.640625\" xlink:href=\"#DejaVuSans-120\"/>\n     <use x=\"657.820312\" xlink:href=\"#DejaVuSans-116\"/>\n     <use x=\"697.029297\" xlink:href=\"#DejaVuSans-47\"/>\n     <use x=\"730.720703\" xlink:href=\"#DejaVuSans-112\"/>\n     <use x=\"794.197266\" xlink:href=\"#DejaVuSans-108\"/>\n     <use x=\"821.980469\" xlink:href=\"#DejaVuSans-97\"/>\n     <use x=\"883.259766\" xlink:href=\"#DejaVuSans-105\"/>\n     <use x=\"911.042969\" xlink:href=\"#DejaVuSans-110\"/>\n     <use x=\"974.421875\" xlink:href=\"#DejaVuSans-44\"/>\n     <use x=\"1006.208984\" xlink:href=\"#DejaVuSans-32\"/>\n     <use x=\"1037.996094\" xlink:href=\"#DejaVuSans-116\"/>\n     <use x=\"1077.205078\" xlink:href=\"#DejaVuSans-101\"/>\n     <use x=\"1136.978516\" xlink:href=\"#DejaVuSans-120\"/>\n     <use x=\"1196.158203\" xlink:href=\"#DejaVuSans-116\"/>\n     <use x=\"1235.367188\" xlink:href=\"#DejaVuSans-47\"/>\n     <use x=\"1269.058594\" xlink:href=\"#DejaVuSans-104\"/>\n     <use x=\"1332.4375\" xlink:href=\"#DejaVuSans-116\"/>\n     <use x=\"1371.646484\" xlink:href=\"#DejaVuSans-109\"/>\n     <use x=\"1469.058594\" xlink:href=\"#DejaVuSans-108\"/>\n     <use x=\"1496.841797\" xlink:href=\"#DejaVuSans-41\"/>\n    </g>\n   </g>\n   <g id=\"text_6\">\n    <!-- Spam emails -->\n    <g transform=\"translate(77.20125 30)scale(0.12 -0.12)\">\n     <defs>\n      <path d=\"M 53.515625 70.515625 \nL 53.515625 60.890625 \nQ 47.90625 63.578125 42.921875 64.890625 \nQ 37.9375 66.21875 33.296875 66.21875 \nQ 25.25 66.21875 20.875 63.09375 \nQ 16.5 59.96875 16.5 54.203125 \nQ 16.5 49.359375 19.40625 46.890625 \nQ 22.3125 44.4375 30.421875 42.921875 \nL 36.375 41.703125 \nQ 47.40625 39.59375 52.65625 34.296875 \nQ 57.90625 29 57.90625 20.125 \nQ 57.90625 9.515625 50.796875 4.046875 \nQ 43.703125 -1.421875 29.984375 -1.421875 \nQ 24.8125 -1.421875 18.96875 -0.25 \nQ 13.140625 0.921875 6.890625 3.21875 \nL 6.890625 13.375 \nQ 12.890625 10.015625 18.65625 8.296875 \nQ 24.421875 6.59375 29.984375 6.59375 \nQ 38.421875 6.59375 43.015625 9.90625 \nQ 47.609375 13.234375 47.609375 19.390625 \nQ 47.609375 24.75 44.3125 27.78125 \nQ 41.015625 30.8125 33.5 32.328125 \nL 27.484375 33.5 \nQ 16.453125 35.6875 11.515625 40.375 \nQ 6.59375 45.0625 6.59375 53.421875 \nQ 6.59375 63.09375 13.40625 68.65625 \nQ 20.21875 74.21875 32.171875 74.21875 \nQ 37.3125 74.21875 42.625 73.28125 \nQ 47.953125 72.359375 53.515625 70.515625 \nz\n\" id=\"DejaVuSans-83\"/>\n     </defs>\n     <use xlink:href=\"#DejaVuSans-83\"/>\n     <use x=\"63.476562\" xlink:href=\"#DejaVuSans-112\"/>\n     <use x=\"126.953125\" xlink:href=\"#DejaVuSans-97\"/>\n     <use x=\"188.232422\" xlink:href=\"#DejaVuSans-109\"/>\n     <use x=\"285.644531\" xlink:href=\"#DejaVuSans-32\"/>\n     <use x=\"317.431641\" xlink:href=\"#DejaVuSans-101\"/>\n     <use x=\"378.955078\" xlink:href=\"#DejaVuSans-109\"/>\n     <use x=\"476.367188\" xlink:href=\"#DejaVuSans-97\"/>\n     <use x=\"537.646484\" xlink:href=\"#DejaVuSans-105\"/>\n     <use x=\"565.429688\" xlink:href=\"#DejaVuSans-108\"/>\n     <use x=\"593.212891\" xlink:href=\"#DejaVuSans-115\"/>\n    </g>\n   </g>\n  </g>\n  <g id=\"axes_2\">\n   <g id=\"patch_7\">\n    <path d=\"M 659.441455 144.72 \nC 659.441455 133.661333 657.332354 122.703457 653.227424 112.434881 \nC 649.122494 102.166304 643.096562 92.774207 635.473258 84.763005 \nC 627.849955 76.751803 618.768241 70.267528 608.715863 65.658426 \nC 598.663485 61.049325 587.823683 58.399414 576.778622 57.851012 \nC 565.733561 57.302609 554.684577 58.86571 544.225069 62.456368 \nC 533.765562 66.047025 524.086192 71.599786 515.706805 78.816432 \nC 507.327417 86.033078 500.400755 94.782061 495.298824 104.593504 \nC 490.196893 114.404947 487.012693 125.100003 485.917237 136.104279 \nC 484.821781 147.108555 485.835037 158.22146 488.902586 168.84616 \nC 491.970135 179.47086 497.036062 189.413684 503.828292 198.140637 \nC 510.620523 206.867591 519.015245 214.219596 528.56161 219.801802 \nC 538.107976 225.384009 548.631967 229.094662 559.56838 230.734476 \nC 570.504793 232.37429 581.654273 231.913373 592.418022 229.37648 \nC 603.18177 226.839587 613.363582 222.272962 622.416627 215.921861 \nC 631.469672 209.570759 639.228928 201.550953 645.277674 192.293157 \nC 651.32642 183.035361 655.554395 172.70833 657.734532 161.866692 \nL 572.465455 144.72 \nL 659.441455 144.72 \nz\n\" style=\"fill:#1f77b4;\"/>\n   </g>\n   <g id=\"patch_8\">\n    <path d=\"M 657.734532 161.866692 \nC 658.245011 159.328119 658.641871 156.768016 658.923926 154.194033 \nC 659.20598 151.62005 659.372948 149.034756 659.424329 146.445875 \nL 572.465455 144.72 \nL 657.734532 161.866692 \nz\n\" style=\"fill:#ff7f0e;\"/>\n   </g>\n   <g id=\"patch_9\">\n    <path d=\"M 659.424329 146.445875 \nC 659.430038 146.158269 659.434319 145.870637 659.437173 145.582988 \nC 659.440027 145.295339 659.441454 145.007678 659.441455 144.720015 \nL 572.465455 144.72 \nL 659.424329 146.445875 \nz\n\" style=\"fill:#2ca02c;\"/>\n   </g>\n   <g id=\"matplotlib.axis_3\"/>\n   <g id=\"matplotlib.axis_4\"/>\n   <g id=\"text_7\">\n    <!-- text/plain -->\n    <g transform=\"translate(429.785853 138.002081)scale(0.1 -0.1)\">\n     <use xlink:href=\"#DejaVuSans-116\"/>\n     <use x=\"39.208984\" xlink:href=\"#DejaVuSans-101\"/>\n     <use x=\"98.982422\" xlink:href=\"#DejaVuSans-120\"/>\n     <use x=\"158.162109\" xlink:href=\"#DejaVuSans-116\"/>\n     <use x=\"197.371094\" xlink:href=\"#DejaVuSans-47\"/>\n     <use x=\"231.0625\" xlink:href=\"#DejaVuSans-112\"/>\n     <use x=\"294.539062\" xlink:href=\"#DejaVuSans-108\"/>\n     <use x=\"322.322266\" xlink:href=\"#DejaVuSans-97\"/>\n     <use x=\"383.601562\" xlink:href=\"#DejaVuSans-105\"/>\n     <use x=\"411.384766\" xlink:href=\"#DejaVuSans-110\"/>\n    </g>\n   </g>\n   <g id=\"text_8\">\n    <!-- multipart(text/plain, application/pgp-signature) -->\n    <g transform=\"translate(667.569773 157.900811)scale(0.1 -0.1)\">\n     <defs>\n      <path d=\"M 45.40625 27.984375 \nQ 45.40625 37.75 41.375 43.109375 \nQ 37.359375 48.484375 30.078125 48.484375 \nQ 22.859375 48.484375 18.828125 43.109375 \nQ 14.796875 37.75 14.796875 27.984375 \nQ 14.796875 18.265625 18.828125 12.890625 \nQ 22.859375 7.515625 30.078125 7.515625 \nQ 37.359375 7.515625 41.375 12.890625 \nQ 45.40625 18.265625 45.40625 27.984375 \nz\nM 54.390625 6.78125 \nQ 54.390625 -7.171875 48.1875 -13.984375 \nQ 42 -20.796875 29.203125 -20.796875 \nQ 24.46875 -20.796875 20.265625 -20.09375 \nQ 16.0625 -19.390625 12.109375 -17.921875 \nL 12.109375 -9.1875 \nQ 16.0625 -11.328125 19.921875 -12.34375 \nQ 23.78125 -13.375 27.78125 -13.375 \nQ 36.625 -13.375 41.015625 -8.765625 \nQ 45.40625 -4.15625 45.40625 5.171875 \nL 45.40625 9.625 \nQ 42.625 4.78125 38.28125 2.390625 \nQ 33.9375 0 27.875 0 \nQ 17.828125 0 11.671875 7.65625 \nQ 5.515625 15.328125 5.515625 27.984375 \nQ 5.515625 40.671875 11.671875 48.328125 \nQ 17.828125 56 27.875 56 \nQ 33.9375 56 38.28125 53.609375 \nQ 42.625 51.21875 45.40625 46.390625 \nL 45.40625 54.6875 \nL 54.390625 54.6875 \nz\n\" id=\"DejaVuSans-103\"/>\n     </defs>\n     <use xlink:href=\"#DejaVuSans-109\"/>\n     <use x=\"97.412109\" xlink:href=\"#DejaVuSans-117\"/>\n     <use x=\"160.791016\" xlink:href=\"#DejaVuSans-108\"/>\n     <use x=\"188.574219\" xlink:href=\"#DejaVuSans-116\"/>\n     <use x=\"227.783203\" xlink:href=\"#DejaVuSans-105\"/>\n     <use x=\"255.566406\" xlink:href=\"#DejaVuSans-112\"/>\n     <use x=\"319.042969\" xlink:href=\"#DejaVuSans-97\"/>\n     <use x=\"380.322266\" xlink:href=\"#DejaVuSans-114\"/>\n     <use x=\"421.435547\" xlink:href=\"#DejaVuSans-116\"/>\n     <use x=\"460.644531\" xlink:href=\"#DejaVuSans-40\"/>\n     <use x=\"499.658203\" xlink:href=\"#DejaVuSans-116\"/>\n     <use x=\"538.867188\" xlink:href=\"#DejaVuSans-101\"/>\n     <use x=\"598.640625\" xlink:href=\"#DejaVuSans-120\"/>\n     <use x=\"657.820312\" xlink:href=\"#DejaVuSans-116\"/>\n     <use x=\"697.029297\" xlink:href=\"#DejaVuSans-47\"/>\n     <use x=\"730.720703\" xlink:href=\"#DejaVuSans-112\"/>\n     <use x=\"794.197266\" xlink:href=\"#DejaVuSans-108\"/>\n     <use x=\"821.980469\" xlink:href=\"#DejaVuSans-97\"/>\n     <use x=\"883.259766\" xlink:href=\"#DejaVuSans-105\"/>\n     <use x=\"911.042969\" xlink:href=\"#DejaVuSans-110\"/>\n     <use x=\"974.421875\" xlink:href=\"#DejaVuSans-44\"/>\n     <use x=\"1006.208984\" xlink:href=\"#DejaVuSans-32\"/>\n     <use x=\"1037.996094\" xlink:href=\"#DejaVuSans-97\"/>\n     <use x=\"1099.275391\" xlink:href=\"#DejaVuSans-112\"/>\n     <use x=\"1162.751953\" xlink:href=\"#DejaVuSans-112\"/>\n     <use x=\"1226.228516\" xlink:href=\"#DejaVuSans-108\"/>\n     <use x=\"1254.011719\" xlink:href=\"#DejaVuSans-105\"/>\n     <use x=\"1281.794922\" xlink:href=\"#DejaVuSans-99\"/>\n     <use x=\"1336.775391\" xlink:href=\"#DejaVuSans-97\"/>\n     <use x=\"1398.054688\" xlink:href=\"#DejaVuSans-116\"/>\n     <use x=\"1437.263672\" xlink:href=\"#DejaVuSans-105\"/>\n     <use x=\"1465.046875\" xlink:href=\"#DejaVuSans-111\"/>\n     <use x=\"1526.228516\" xlink:href=\"#DejaVuSans-110\"/>\n     <use x=\"1589.607422\" xlink:href=\"#DejaVuSans-47\"/>\n     <use x=\"1623.298828\" xlink:href=\"#DejaVuSans-112\"/>\n     <use x=\"1686.775391\" xlink:href=\"#DejaVuSans-103\"/>\n     <use x=\"1750.251953\" xlink:href=\"#DejaVuSans-112\"/>\n     <use x=\"1813.728516\" xlink:href=\"#DejaVuSans-45\"/>\n     <use x=\"1849.8125\" xlink:href=\"#DejaVuSans-115\"/>\n     <use x=\"1901.912109\" xlink:href=\"#DejaVuSans-105\"/>\n     <use x=\"1929.695312\" xlink:href=\"#DejaVuSans-103\"/>\n     <use x=\"1993.171875\" xlink:href=\"#DejaVuSans-110\"/>\n     <use x=\"2056.550781\" xlink:href=\"#DejaVuSans-97\"/>\n     <use x=\"2117.830078\" xlink:href=\"#DejaVuSans-116\"/>\n     <use x=\"2157.039062\" xlink:href=\"#DejaVuSans-117\"/>\n     <use x=\"2220.417969\" xlink:href=\"#DejaVuSans-114\"/>\n     <use x=\"2259.28125\" xlink:href=\"#DejaVuSans-101\"/>\n     <use x=\"2320.804688\" xlink:href=\"#DejaVuSans-41\"/>\n    </g>\n   </g>\n   <g id=\"text_9\">\n    <!-- multipart(text/plain, text/html) -->\n    <g transform=\"translate(668.134345 148.428662)scale(0.1 -0.1)\">\n     <use xlink:href=\"#DejaVuSans-109\"/>\n     <use x=\"97.412109\" xlink:href=\"#DejaVuSans-117\"/>\n     <use x=\"160.791016\" xlink:href=\"#DejaVuSans-108\"/>\n     <use x=\"188.574219\" xlink:href=\"#DejaVuSans-116\"/>\n     <use x=\"227.783203\" xlink:href=\"#DejaVuSans-105\"/>\n     <use x=\"255.566406\" xlink:href=\"#DejaVuSans-112\"/>\n     <use x=\"319.042969\" xlink:href=\"#DejaVuSans-97\"/>\n     <use x=\"380.322266\" xlink:href=\"#DejaVuSans-114\"/>\n     <use x=\"421.435547\" xlink:href=\"#DejaVuSans-116\"/>\n     <use x=\"460.644531\" xlink:href=\"#DejaVuSans-40\"/>\n     <use x=\"499.658203\" xlink:href=\"#DejaVuSans-116\"/>\n     <use x=\"538.867188\" xlink:href=\"#DejaVuSans-101\"/>\n     <use x=\"598.640625\" xlink:href=\"#DejaVuSans-120\"/>\n     <use x=\"657.820312\" xlink:href=\"#DejaVuSans-116\"/>\n     <use x=\"697.029297\" xlink:href=\"#DejaVuSans-47\"/>\n     <use x=\"730.720703\" xlink:href=\"#DejaVuSans-112\"/>\n     <use x=\"794.197266\" xlink:href=\"#DejaVuSans-108\"/>\n     <use x=\"821.980469\" xlink:href=\"#DejaVuSans-97\"/>\n     <use x=\"883.259766\" xlink:href=\"#DejaVuSans-105\"/>\n     <use x=\"911.042969\" xlink:href=\"#DejaVuSans-110\"/>\n     <use x=\"974.421875\" xlink:href=\"#DejaVuSans-44\"/>\n     <use x=\"1006.208984\" xlink:href=\"#DejaVuSans-32\"/>\n     <use x=\"1037.996094\" xlink:href=\"#DejaVuSans-116\"/>\n     <use x=\"1077.205078\" xlink:href=\"#DejaVuSans-101\"/>\n     <use x=\"1136.978516\" xlink:href=\"#DejaVuSans-120\"/>\n     <use x=\"1196.158203\" xlink:href=\"#DejaVuSans-116\"/>\n     <use x=\"1235.367188\" xlink:href=\"#DejaVuSans-47\"/>\n     <use x=\"1269.058594\" xlink:href=\"#DejaVuSans-104\"/>\n     <use x=\"1332.4375\" xlink:href=\"#DejaVuSans-116\"/>\n     <use x=\"1371.646484\" xlink:href=\"#DejaVuSans-109\"/>\n     <use x=\"1469.058594\" xlink:href=\"#DejaVuSans-108\"/>\n     <use x=\"1496.841797\" xlink:href=\"#DejaVuSans-41\"/>\n    </g>\n   </g>\n   <g id=\"text_10\">\n    <!-- Clean emails -->\n    <g transform=\"translate(533.858267 30)scale(0.12 -0.12)\">\n     <defs>\n      <path d=\"M 64.40625 67.28125 \nL 64.40625 56.890625 \nQ 59.421875 61.53125 53.78125 63.8125 \nQ 48.140625 66.109375 41.796875 66.109375 \nQ 29.296875 66.109375 22.65625 58.46875 \nQ 16.015625 50.828125 16.015625 36.375 \nQ 16.015625 21.96875 22.65625 14.328125 \nQ 29.296875 6.6875 41.796875 6.6875 \nQ 48.140625 6.6875 53.78125 8.984375 \nQ 59.421875 11.28125 64.40625 15.921875 \nL 64.40625 5.609375 \nQ 59.234375 2.09375 53.4375 0.328125 \nQ 47.65625 -1.421875 41.21875 -1.421875 \nQ 24.65625 -1.421875 15.125 8.703125 \nQ 5.609375 18.84375 5.609375 36.375 \nQ 5.609375 53.953125 15.125 64.078125 \nQ 24.65625 74.21875 41.21875 74.21875 \nQ 47.75 74.21875 53.53125 72.484375 \nQ 59.328125 70.75 64.40625 67.28125 \nz\n\" id=\"DejaVuSans-67\"/>\n     </defs>\n     <use xlink:href=\"#DejaVuSans-67\"/>\n     <use x=\"69.824219\" xlink:href=\"#DejaVuSans-108\"/>\n     <use x=\"97.607422\" xlink:href=\"#DejaVuSans-101\"/>\n     <use x=\"159.130859\" xlink:href=\"#DejaVuSans-97\"/>\n     <use x=\"220.410156\" xlink:href=\"#DejaVuSans-110\"/>\n     <use x=\"283.789062\" xlink:href=\"#DejaVuSans-32\"/>\n     <use x=\"315.576172\" xlink:href=\"#DejaVuSans-101\"/>\n     <use x=\"377.099609\" xlink:href=\"#DejaVuSans-109\"/>\n     <use x=\"474.511719\" xlink:href=\"#DejaVuSans-97\"/>\n     <use x=\"535.791016\" xlink:href=\"#DejaVuSans-105\"/>\n     <use x=\"563.574219\" xlink:href=\"#DejaVuSans-108\"/>\n     <use x=\"591.357422\" xlink:href=\"#DejaVuSans-115\"/>\n    </g>\n   </g>\n  </g>\n  <g id=\"text_11\">\n   <!-- Structures popularity -->\n   <g transform=\"translate(267.280227 16.318125)scale(0.12 -0.12)\">\n    <defs>\n     <path d=\"M 32.171875 -5.078125 \nQ 28.375 -14.84375 24.75 -17.8125 \nQ 21.140625 -20.796875 15.09375 -20.796875 \nL 7.90625 -20.796875 \nL 7.90625 -13.28125 \nL 13.1875 -13.28125 \nQ 16.890625 -13.28125 18.9375 -11.515625 \nQ 21 -9.765625 23.484375 -3.21875 \nL 25.09375 0.875 \nL 2.984375 54.6875 \nL 12.5 54.6875 \nL 29.59375 11.921875 \nL 46.6875 54.6875 \nL 56.203125 54.6875 \nz\n\" id=\"DejaVuSans-121\"/>\n    </defs>\n    <use xlink:href=\"#DejaVuSans-83\"/>\n    <use x=\"63.476562\" xlink:href=\"#DejaVuSans-116\"/>\n    <use x=\"102.685547\" xlink:href=\"#DejaVuSans-114\"/>\n    <use x=\"143.798828\" xlink:href=\"#DejaVuSans-117\"/>\n    <use x=\"207.177734\" xlink:href=\"#DejaVuSans-99\"/>\n    <use x=\"262.158203\" xlink:href=\"#DejaVuSans-116\"/>\n    <use x=\"301.367188\" xlink:href=\"#DejaVuSans-117\"/>\n    <use x=\"364.746094\" xlink:href=\"#DejaVuSans-114\"/>\n    <use x=\"403.609375\" xlink:href=\"#DejaVuSans-101\"/>\n    <use x=\"465.132812\" xlink:href=\"#DejaVuSans-115\"/>\n    <use x=\"517.232422\" xlink:href=\"#DejaVuSans-32\"/>\n    <use x=\"549.019531\" xlink:href=\"#DejaVuSans-112\"/>\n    <use x=\"612.496094\" xlink:href=\"#DejaVuSans-111\"/>\n    <use x=\"673.677734\" xlink:href=\"#DejaVuSans-112\"/>\n    <use x=\"737.154297\" xlink:href=\"#DejaVuSans-117\"/>\n    <use x=\"800.533203\" xlink:href=\"#DejaVuSans-108\"/>\n    <use x=\"828.316406\" xlink:href=\"#DejaVuSans-97\"/>\n    <use x=\"889.595703\" xlink:href=\"#DejaVuSans-114\"/>\n    <use x=\"930.708984\" xlink:href=\"#DejaVuSans-105\"/>\n    <use x=\"958.492188\" xlink:href=\"#DejaVuSans-116\"/>\n    <use x=\"997.701172\" xlink:href=\"#DejaVuSans-121\"/>\n   </g>\n  </g>\n </g>\n</svg>\n",
      "image/png": "[encoded data removed]"
     },
     "metadata": {}
    }
   ],
   "source": [
    "fig, (ax1, ax2) = plt.subplots(1, 2)\n",
    "fig.suptitle('Structures popularity')\n",
    "\n",
    "ax1.pie(list(spam_structures.values())[:5],labels=list(spam_structures.keys())[:5])\n",
    "ax1.set_title(\"Spam emails\")\n",
    "ax1.plot()\n",
    "\n",
    "ax2.pie(list(clean_structures.values())[:3],labels=list(clean_structures.keys())[:3])\n",
    "ax2.set_title(\"Clean emails\")\n",
    "ax2.plot() \n",
    "\n",
    "fig.set_figwidth(15)\n",
    "fig.show()"
   ]
  },
  {
   "source": [
    "As we can see in the plot above, spam emails consist mostly of plain text content while in the spam emails html and multipart structures are more common. \n",
    "\n",
    "In order to properly classify emails we need to use also the html text content so it has to be transformed into plain text. "
   ],
   "cell_type": "markdown",
   "metadata": {}
  },
  {
   "source": [
    "### Converting email contents to plain text"
   ],
   "cell_type": "markdown",
   "metadata": {}
  },
  {
   "source": [
    "As we could see in the example and the graphs above some of the emails are formatted as HTML documents. In order to work on them we need to transform them into plain text. I will use one of the most popular python HTML parser `BeautifulSoup`."
   ],
   "cell_type": "markdown",
   "metadata": {}
  },
  {
   "cell_type": "code",
   "execution_count": 17,
   "metadata": {
    "tags": []
   },
   "outputs": [
    {
     "output_type": "stream",
     "name": "stdout",
     "text": [
      "Message Content:\n HABERDAR.COM - HABER VE MEDYA PORTALI\nArt�k t�m haberleri sadece tek siteden takip edebileceksiniz. Haberdar.com a��ld�!\nHaber ba�l�klar�, spor haberleri, teknoloji haberleri, k�lt�r ve sanat haberleri, internet haberleri, bilim ve uzay, \nsinema, sa�l�k...\nArad���n�z i�erik http://www.haberdar.com adresinde\nSadece t�klay�n ve haberdar olun\n\n�������������������������������������������+,������X���'���u��9 ��8�y�\u001f�\u0016�����W\\zYi����g�jw����~��DA���i����\f��za�x���&�����������\u001e���}�\u001d{�}�������������������������������������J+^��(�����d����x%��R���r�)z��jY��+-��(��\u001e~��{���\u001bm����X�������y�+���z����l�X��)���\"��\u001c��^��Z\n\n\n"
     ]
    }
   ],
   "source": [
    "print('Message Content:\\n',example_spam_email.get_content())"
   ]
  },
  {
   "cell_type": "code",
   "execution_count": 18,
   "metadata": {},
   "outputs": [],
   "source": [
    "from bs4 import BeautifulSoup\n",
    "\n",
    "def html_to_plain(html_content):\n",
    "    try:\n",
    "        soup = BeautifulSoup(html_content, 'html.parser')\n",
    "        return soup.text.replace('\\n\\n','')\n",
    "    except:\n",
    "        return \"empty\"\n"
   ]
  },
  {
   "cell_type": "code",
   "execution_count": 19,
   "metadata": {},
   "outputs": [
    {
     "output_type": "stream",
     "name": "stdout",
     "text": [
      "HABERDAR.COM - HABER VE MEDYA PORTALI\nArt�k t�m haberleri sadece tek siteden takip edebileceksiniz. Haberdar.com a��ld�!\nHaber ba�l�klar�, spor haberleri, teknoloji haberleri, k�lt�r ve sanat haberleri, internet haberleri, bilim ve uzay, \nsinema, sa�l�k...\nArad���n�z i�erik http://www.haberdar.com adresinde\nSadece t�klay�n ve haberdar olun�������������������������������������������+,������X���'���u��9 ��8�y�\u001f�\u0016�����W\\zYi����g�jw����~��DA���i����\f��za�x���&�����������\u001e���}�\u001d{�}�������������������������������������J+^��(�����d����x%��R���r�)z��jY��+-��(��\u001e~��{���\u001bm����X�������y�+���z����l�X��)���\"��\u001c��^��Z\n"
     ]
    }
   ],
   "source": [
    "print(html_to_plain(example_spam_email.get_content()))"
   ]
  },
  {
   "cell_type": "code",
   "execution_count": 20,
   "metadata": {},
   "outputs": [],
   "source": [
    "def parse_email(email):\n",
    "    for part in email.walk():\n",
    "        part_type = part.get_content_type()\n",
    "        if part_type not in ['text/plain','text/html']:\n",
    "            continue\n",
    "        try:\n",
    "            part_content = part.get_content()\n",
    "        except: # in case of encoding issues\n",
    "            part_content = str(part.get_payload())\n",
    "        if part_type == 'text/plain':\n",
    "            return part_content\n",
    "        else:\n",
    "            return html_to_plain(part)"
   ]
  },
  {
   "source": [
    "spam_emails = [parse_email(email) for email in spam_emails]"
   ],
   "cell_type": "code",
   "metadata": {},
   "execution_count": 21,
   "outputs": []
  },
  {
   "cell_type": "code",
   "execution_count": 22,
   "metadata": {},
   "outputs": [],
   "source": [
    "clean_emails = [parse_email(email) for email in clean_emails]"
   ]
  },
  {
   "source": [
    "### Tokenization"
   ],
   "cell_type": "markdown",
   "metadata": {}
  },
  {
   "source": [
    "To use the emails content in order to train our model we need to transform the text into tokens. To acheive that I will use Python natural language processing module NLTK."
   ],
   "cell_type": "markdown",
   "metadata": {}
  },
  {
   "cell_type": "code",
   "execution_count": 23,
   "metadata": {},
   "outputs": [
    {
     "output_type": "stream",
     "name": "stdout",
     "text": [
      "crash => crash\ncrashes => crash\ncrashed => crash\ncrashing => crash\n"
     ]
    }
   ],
   "source": [
    "import nltk\n",
    "\n",
    "stemmer = nltk.PorterStemmer()\n",
    "for word in (\"crash\", \"crashes\", \"crashed\", \"crashing\"):\n",
    "        print(word, \"=>\", stemmer.stem(word))"
   ]
  },
  {
   "cell_type": "code",
   "execution_count": 24,
   "metadata": {},
   "outputs": [
    {
     "output_type": "execute_result",
     "data": {
      "text/plain": [
       "'test test test'"
      ]
     },
     "metadata": {},
     "execution_count": 24
    }
   ],
   "source": [
    "import string\n",
    "\n",
    "def remove_punctuation(text):\n",
    "    return text.translate(str.maketrans('', '', string.punctuation))\n",
    "\n",
    "\n",
    "remove_punctuation(\"test. test. test?\")"
   ]
  },
  {
   "cell_type": "code",
   "execution_count": 25,
   "metadata": {
    "tags": []
   },
   "outputs": [
    {
     "output_type": "stream",
     "name": "stderr",
     "text": [
      "100%|██████████| 4/4 [00:00<00:00, 5847.76it/s]\n"
     ]
    }
   ],
   "source": [
    "import re\n",
    "import tqdm\n",
    "import numpy as np\n",
    "\n",
    "class Tokenizer:\n",
    "    def __init__(self, text_leraning_set, vocabulary_size=1000):\n",
    "        self._dictionary = {}\n",
    "        self._words_count = Counter()\n",
    "        global_words_count = Counter()\n",
    "        for email in tqdm.tqdm(text_leraning_set):\n",
    "            email_word_count = self.get_words_counter(email)\n",
    "            self._words_count += email_word_count\n",
    "        most_frequent = self._words_count.most_common(vocabulary_size)\n",
    "\n",
    "        for idx, element in enumerate(most_frequent):\n",
    "            word, _ = element\n",
    "            self._dictionary[word] = idx\n",
    "\n",
    "    def clean_text(self, text):\n",
    "        \"\"\" Prepares the text and returns the list of stemmed words \"\"\"\n",
    "        if text is None:\n",
    "            text = 'empty'\n",
    "        text = text.lower()\n",
    "        text = remove_punctuation(text)\n",
    "        text = re.sub(\"\\s\\s+\" , \" \", text)\n",
    "        text = text.split(\" \")\n",
    "        return [stemmer.stem(word) for word in text]\n",
    "\n",
    "    def get_words_counter(self, text):\n",
    "        text = self.clean_text(text)\n",
    "        return Counter(text)\n",
    "\n",
    "    def transform(self, text):\n",
    "        text = self.clean_text(text)\n",
    "        words_list = self._dictionary.keys()\n",
    "        result_vector = np.zeros(len(self._dictionary))\n",
    "        for word in text:\n",
    "            if word in words_list:\n",
    "                index = self._dictionary[word]\n",
    "                result_vector[index] = 1\n",
    "        return result_vector\n",
    "\n",
    "\n",
    "test_tokenizer = Tokenizer([\"Example test sentence one\", \"here is another\", \"and next one\", \"Last sentence\"])"
   ]
  },
  {
   "cell_type": "code",
   "execution_count": 26,
   "metadata": {},
   "outputs": [
    {
     "output_type": "execute_result",
     "data": {
      "text/plain": [
       "{'sentenc': 0,\n",
       " 'one': 1,\n",
       " 'exampl': 2,\n",
       " 'test': 3,\n",
       " 'here': 4,\n",
       " 'is': 5,\n",
       " 'anoth': 6,\n",
       " 'and': 7,\n",
       " 'next': 8,\n",
       " 'last': 9}"
      ]
     },
     "metadata": {},
     "execution_count": 26
    }
   ],
   "source": [
    "test_tokenizer._dictionary"
   ]
  },
  {
   "cell_type": "code",
   "execution_count": 27,
   "metadata": {
    "tags": []
   },
   "outputs": [
    {
     "output_type": "execute_result",
     "data": {
      "text/plain": [
       "array([0., 1., 0., 0., 0., 0., 0., 1., 1., 0.])"
      ]
     },
     "metadata": {},
     "execution_count": 27
    }
   ],
   "source": [
    "test_tokenizer.transform(\"and next one\")"
   ]
  },
  {
   "source": [
    "Tokenizer method get_words_counter parses the text and returns dictionary of words from the text mapped to their count. Tokenizer on construction iterates through the emails and creates dictionary of size `vocabulary_size`."
   ],
   "cell_type": "markdown",
   "metadata": {}
  },
  {
   "cell_type": "code",
   "execution_count": 28,
   "metadata": {},
   "outputs": [
    {
     "output_type": "stream",
     "name": "stdout",
     "text": [
      "    Date:        Wed, 21 Aug 2002 10:54:46 -0500\n    From:        Chris Garrigues <cwg-dated-1030377287.06fa6d@DeepEddy.Com>\n    Message-ID:  <1029945287.4797.TMDA@deepeddy.vircio.com>\n\n\n  | I can't reproduce this error.\n\nFor me it is very repeatable... (like every time, without fail).\n\nThis is the debug log of the pick happening ...\n\n18:19:03 Pick_It {exec pick +inbox -list -lbrace -lbrace -subject ftp -rbrace -rbrace} {4852-4852 -sequence mercury}\n18:19:03 exec pick +inbox -list -lbrace -lbrace -subject ftp -rbrace -rbrace 4852-4852 -sequence mercury\n18:19:04 Ftoc_PickMsgs {{1 hit}}\n18:19:04 Marking 1 hits\n18:19:04 tkerror: syntax error in expression \"int ...\n\nNote, if I run the pick command by hand ...\n\ndelta$ pick +inbox -list -lbrace -lbrace -subject ftp -rbrace -rbrace  4852-4852 -sequence mercury\n1 hit\n\nThat's where the \"1 hit\" comes from (obviously).  The version of nmh I'm\nusing is ...\n\ndelta$ pick -version\npick -- nmh-1.0.4 [compiled on fuchsia.cs.mu.OZ.AU at Sun Mar 17 14:55:56 ICT 2002]\n\nAnd the relevant part of my .mh_profile ...\n\ndelta$ mhparam pick\n-seq sel -list\n\n\nSince the pick command works, the sequence (actually, both of them, the\none that's explicit on the command line, from the search popup, and the\none that comes from .mh_profile) do get created.\n\nkre\n\nps: this is still using the version of the code form a day ago, I haven't\nbeen able to reach the cvs repository today (local routing issue I think).\n\n\n\n_______________________________________________\nExmh-workers mailing list\nExmh-workers@redhat.com\nhttps://listman.redhat.com/mailman/listinfo/exmh-workers\n\n\nCounter({'the': 13, 'pick': 7, 'lbrace': 6, 'rbrace': 6, 'of': 5, 'from': 4, 'i': 4, 'is': 4, 'list': 4, 'sequenc': 4, 'thi': 3, 'inbox': 3, 'subject': 3, 'ftp': 3, '48524852': 3, '1': 3, 'command': 3, 'delta': 3, 'that': 3, '': 2, '2002': 2, 'error': 2, 'exec': 2, 'hit': 2, 'come': 2, 'version': 2, 'on': 2, 'and': 2, 'mhprofil': 2, 'the\\non': 2, 'date': 1, 'wed': 1, '21': 1, 'aug': 1, '105446': 1, '0500': 1, 'chri': 1, 'garrigu': 1, 'cwgdated103037728706fa6ddeepeddycom': 1, 'messageid': 1, '10299452874797tmdadeepeddyvirciocom': 1, 'cant': 1, 'reproduc': 1, 'for': 1, 'me': 1, 'it': 1, 'veri': 1, 'repeat': 1, 'like': 1, 'everi': 1, 'time': 1, 'without': 1, 'fail': 1, 'debug': 1, 'log': 1, 'happen': 1, '181903': 1, 'pickit': 1, 'mercury\\n181903': 1, 'mercury\\n181904': 1, 'ftocpickmsg': 1, 'hit\\n181904': 1, 'mark': 1, 'hits\\n181904': 1, 'tkerror': 1, 'syntax': 1, 'in': 1, 'express': 1, 'int': 1, 'note': 1, 'if': 1, 'run': 1, 'by': 1, 'hand': 1, 'mercury\\n1': 1, 'where': 1, 'obvious': 1, 'nmh': 1, 'im\\nus': 1, 'version\\npick': 1, 'nmh104': 1, 'compil': 1, 'fuchsiacsmuozau': 1, 'at': 1, 'sun': 1, 'mar': 1, '17': 1, '145556': 1, 'ict': 1, 'relev': 1, 'part': 1, 'my': 1, 'mhparam': 1, 'pick\\nseq': 1, 'sel': 1, 'sinc': 1, 'work': 1, 'actual': 1, 'both': 1, 'them': 1, 'explicit': 1, 'line': 1, 'search': 1, 'popup': 1, 'do': 1, 'get': 1, 'creat': 1, 'kre': 1, 'ps': 1, 'still': 1, 'use': 1, 'code': 1, 'form': 1, 'a': 1, 'day': 1, 'ago': 1, 'havent\\nbeen': 1, 'abl': 1, 'to': 1, 'reach': 1, 'cv': 1, 'repositori': 1, 'today': 1, 'local': 1, 'rout': 1, 'issu': 1, 'think': 1, 'exmhwork': 1, 'mail': 1, 'list\\nexmhworkersredhatcom\\nhttpslistmanredhatcommailmanlistinfoexmhwork': 1})\n"
     ]
    }
   ],
   "source": [
    "test_email_content = clean_emails[0]\n",
    "\n",
    "print(test_email_content)\n",
    "print(test_tokenizer.get_words_counter(test_email_content))\n"
   ]
  },
  {
   "cell_type": "code",
   "execution_count": 29,
   "metadata": {},
   "outputs": [
    {
     "output_type": "execute_result",
     "data": {
      "text/plain": [
       "['sentenc',\n",
       " 'one',\n",
       " 'exampl',\n",
       " 'test',\n",
       " 'here',\n",
       " 'is',\n",
       " 'anoth',\n",
       " 'and',\n",
       " 'next',\n",
       " 'last']"
      ]
     },
     "metadata": {},
     "execution_count": 29
    }
   ],
   "source": [
    "list(test_tokenizer._dictionary.keys())[0:25]"
   ]
  },
  {
   "source": [
    "Now lets create the leraning data set for the ML model."
   ],
   "cell_type": "markdown",
   "metadata": {}
  },
  {
   "cell_type": "code",
   "execution_count": 30,
   "metadata": {},
   "outputs": [
    {
     "output_type": "stream",
     "name": "stderr",
     "text": [
      "100%|██████████| 3052/3052 [00:15<00:00, 202.47it/s]\n"
     ]
    }
   ],
   "source": [
    "import pandas as pd\n",
    "\n",
    "all_emails = [*spam_emails, *clean_emails]\n",
    "tokenizer = Tokenizer(all_emails)\n",
    "\n",
    "vectors = [tokenizer.transform(email) for email in all_emails]\n",
    "labels = [\"spam\" for _ in spam_emails]+[\"clean\" for _ in clean_emails]"
   ]
  },
  {
   "cell_type": "code",
   "execution_count": 31,
   "metadata": {},
   "outputs": [],
   "source": [
    "df = pd.DataFrame({\"vector\": vectors, \"label\": labels})"
   ]
  },
  {
   "cell_type": "code",
   "execution_count": 32,
   "metadata": {},
   "outputs": [
    {
     "output_type": "execute_result",
     "data": {
      "text/plain": [
       "                                                 vector  label\n",
       "1817  [1.0, 1.0, 1.0, 1.0, 1.0, 0.0, 0.0, 1.0, 1.0, ...  clean\n",
       "2605  [0.0, 0.0, 0.0, 0.0, 0.0, 0.0, 0.0, 0.0, 0.0, ...  clean\n",
       "1707  [1.0, 1.0, 1.0, 1.0, 1.0, 1.0, 1.0, 1.0, 1.0, ...  clean\n",
       "1974  [1.0, 1.0, 1.0, 1.0, 1.0, 1.0, 1.0, 1.0, 1.0, ...  clean\n",
       "1560  [1.0, 1.0, 0.0, 1.0, 0.0, 1.0, 0.0, 1.0, 0.0, ...  clean"
      ],
      "text/html": "<div>\n<style scoped>\n    .dataframe tbody tr th:only-of-type {\n        vertical-align: middle;\n    }\n\n    .dataframe tbody tr th {\n        vertical-align: top;\n    }\n\n    .dataframe thead th {\n        text-align: right;\n    }\n</style>\n<table border=\"1\" class=\"dataframe\">\n  <thead>\n    <tr style=\"text-align: right;\">\n      <th></th>\n      <th>vector</th>\n      <th>label</th>\n    </tr>\n  </thead>\n  <tbody>\n    <tr>\n      <th>1817</th>\n      <td>[1.0, 1.0, 1.0, 1.0, 1.0, 0.0, 0.0, 1.0, 1.0, ...</td>\n      <td>clean</td>\n    </tr>\n    <tr>\n      <th>2605</th>\n      <td>[0.0, 0.0, 0.0, 0.0, 0.0, 0.0, 0.0, 0.0, 0.0, ...</td>\n      <td>clean</td>\n    </tr>\n    <tr>\n      <th>1707</th>\n      <td>[1.0, 1.0, 1.0, 1.0, 1.0, 1.0, 1.0, 1.0, 1.0, ...</td>\n      <td>clean</td>\n    </tr>\n    <tr>\n      <th>1974</th>\n      <td>[1.0, 1.0, 1.0, 1.0, 1.0, 1.0, 1.0, 1.0, 1.0, ...</td>\n      <td>clean</td>\n    </tr>\n    <tr>\n      <th>1560</th>\n      <td>[1.0, 1.0, 0.0, 1.0, 0.0, 1.0, 0.0, 1.0, 0.0, ...</td>\n      <td>clean</td>\n    </tr>\n  </tbody>\n</table>\n</div>"
     },
     "metadata": {},
     "execution_count": 32
    }
   ],
   "source": [
    "from sklearn.utils import shuffle\n",
    "\n",
    "df = shuffle(df)\n",
    "df.head()"
   ]
  },
  {
   "source": [
    "## Keras ML Model"
   ],
   "cell_type": "markdown",
   "metadata": {}
  },
  {
   "source": [
    "Now when we have the training data prepared I will prepare the train and test datasets as well as the model."
   ],
   "cell_type": "markdown",
   "metadata": {}
  },
  {
   "source": [
    "### Preparing model input"
   ],
   "cell_type": "markdown",
   "metadata": {}
  },
  {
   "cell_type": "code",
   "execution_count": 40,
   "metadata": {},
   "outputs": [
    {
     "output_type": "execute_result",
     "data": {
      "text/plain": [
       "(3052, 2)"
      ]
     },
     "metadata": {},
     "execution_count": 40
    }
   ],
   "source": [
    "df.shape"
   ]
  },
  {
   "cell_type": "code",
   "execution_count": 71,
   "metadata": {},
   "outputs": [],
   "source": [
    "from sklearn.model_selection import train_test_split\n",
    "\n",
    "X = df[\"vector\"]\n",
    "Y = df[\"label\"]\n",
    "\n",
    "test_size_factor = 0.3\n",
    "\n",
    "X_train, X_test, y_train, y_test = train_test_split(X, Y, test_size=test_size_factor, random_state=1000)"
   ]
  },
  {
   "cell_type": "code",
   "execution_count": 72,
   "metadata": {},
   "outputs": [],
   "source": [
    "from sklearn.preprocessing import LabelEncoder\n",
    "\n",
    "label_encoder = LabelEncoder()\n",
    "label_encoder.fit(Y)\n",
    "\n",
    "y_train = label_encoder.transform(y_train)\n",
    "y_test = label_encoder.transform(y_test)"
   ]
  },
  {
   "cell_type": "code",
   "execution_count": 73,
   "metadata": {},
   "outputs": [],
   "source": [
    "y_train = np.asarray(y_train).astype('float32')\n",
    "y_test = np.asarray(y_test).astype('float32')"
   ]
  },
  {
   "cell_type": "code",
   "execution_count": 82,
   "metadata": {},
   "outputs": [],
   "source": [
    "X_train = np.stack(np.array(X_train), axis=0)\n",
    "X_test = np.stack(np.array(X_test), axis=0)"
   ]
  },
  {
   "cell_type": "code",
   "execution_count": 83,
   "metadata": {},
   "outputs": [
    {
     "output_type": "stream",
     "name": "stdout",
     "text": [
      "Train set size:  2136\nTest set size:  916\n"
     ]
    }
   ],
   "source": [
    "print(\"Train set size: \", len(X_train))\n",
    "print(\"Test set size: \", len(X_test))"
   ]
  },
  {
   "source": [
    "### Building first model\n",
    "\n"
   ],
   "cell_type": "markdown",
   "metadata": {}
  },
  {
   "cell_type": "code",
   "execution_count": 89,
   "metadata": {},
   "outputs": [],
   "source": [
    "from tensorflow.keras.models import Sequential\n",
    "from tensorflow.keras import layers"
   ]
  },
  {
   "cell_type": "code",
   "execution_count": 93,
   "metadata": {},
   "outputs": [],
   "source": [
    "input_layer_dimension = X_train.shape[1]\n",
    "\n",
    "model = Sequential()\n",
    "model.add(layers.Dense(10, input_dim=input_layer_dimension, activation='relu'))\n",
    "model.add(layers.Dense(1, activation='sigmoid'))"
   ]
  },
  {
   "cell_type": "code",
   "execution_count": 94,
   "metadata": {},
   "outputs": [
    {
     "output_type": "stream",
     "name": "stdout",
     "text": [
      "Model: \"sequential_1\"\n_________________________________________________________________\nLayer (type)                 Output Shape              Param #   \n=================================================================\ndense (Dense)                (None, 10)                10010     \n_________________________________________________________________\ndense_1 (Dense)              (None, 1)                 11        \n=================================================================\nTotal params: 10,021\nTrainable params: 10,021\nNon-trainable params: 0\n_________________________________________________________________\n"
     ]
    }
   ],
   "source": [
    "model.compile(loss='binary_crossentropy', \n",
    "              optimizer='adam', \n",
    "              metrics=['accuracy'])\n",
    "model.summary()"
   ]
  },
  {
   "cell_type": "code",
   "execution_count": 95,
   "metadata": {},
   "outputs": [
    {
     "output_type": "stream",
     "name": "stdout",
     "text": [
      "Epoch 1/100\n",
      "214/214 [==============================] - 1s 2ms/step - loss: 0.3606 - accuracy: 0.8505 - val_loss: 0.1296 - val_accuracy: 0.9847\n",
      "Epoch 2/100\n",
      "214/214 [==============================] - 0s 1ms/step - loss: 0.1101 - accuracy: 0.9861 - val_loss: 0.0789 - val_accuracy: 0.9880\n",
      "Epoch 3/100\n",
      "214/214 [==============================] - 0s 1ms/step - loss: 0.0559 - accuracy: 0.9940 - val_loss: 0.0610 - val_accuracy: 0.9902\n",
      "Epoch 4/100\n",
      "214/214 [==============================] - 0s 1ms/step - loss: 0.0393 - accuracy: 0.9964 - val_loss: 0.0500 - val_accuracy: 0.9913\n",
      "Epoch 5/100\n",
      "214/214 [==============================] - 0s 1ms/step - loss: 0.0269 - accuracy: 0.9985 - val_loss: 0.0473 - val_accuracy: 0.9913\n",
      "Epoch 6/100\n",
      "214/214 [==============================] - 0s 1ms/step - loss: 0.0169 - accuracy: 0.9980 - val_loss: 0.0421 - val_accuracy: 0.9913\n",
      "Epoch 7/100\n",
      "214/214 [==============================] - 0s 1ms/step - loss: 0.0133 - accuracy: 0.9997 - val_loss: 0.0371 - val_accuracy: 0.9913\n",
      "Epoch 8/100\n",
      "214/214 [==============================] - 0s 1ms/step - loss: 0.0100 - accuracy: 1.0000 - val_loss: 0.0393 - val_accuracy: 0.9913\n",
      "Epoch 9/100\n",
      "214/214 [==============================] - 0s 1ms/step - loss: 0.0072 - accuracy: 1.0000 - val_loss: 0.0360 - val_accuracy: 0.9913\n",
      "Epoch 10/100\n",
      "214/214 [==============================] - 0s 1ms/step - loss: 0.0053 - accuracy: 1.0000 - val_loss: 0.0367 - val_accuracy: 0.9913\n",
      "Epoch 11/100\n",
      "214/214 [==============================] - 0s 1ms/step - loss: 0.0038 - accuracy: 1.0000 - val_loss: 0.0389 - val_accuracy: 0.9902\n",
      "Epoch 12/100\n",
      "214/214 [==============================] - 0s 1ms/step - loss: 0.0031 - accuracy: 1.0000 - val_loss: 0.0359 - val_accuracy: 0.9913\n",
      "Epoch 13/100\n",
      "214/214 [==============================] - 0s 1ms/step - loss: 0.0034 - accuracy: 1.0000 - val_loss: 0.0366 - val_accuracy: 0.9913\n",
      "Epoch 14/100\n",
      "214/214 [==============================] - 0s 1ms/step - loss: 0.0023 - accuracy: 1.0000 - val_loss: 0.0356 - val_accuracy: 0.9913\n",
      "Epoch 15/100\n",
      "214/214 [==============================] - 0s 1ms/step - loss: 0.0021 - accuracy: 1.0000 - val_loss: 0.0371 - val_accuracy: 0.9913\n",
      "Epoch 16/100\n",
      "214/214 [==============================] - 0s 1ms/step - loss: 0.0017 - accuracy: 1.0000 - val_loss: 0.0371 - val_accuracy: 0.9913\n",
      "Epoch 17/100\n",
      "214/214 [==============================] - 0s 1ms/step - loss: 0.0015 - accuracy: 1.0000 - val_loss: 0.0367 - val_accuracy: 0.9913\n",
      "Epoch 18/100\n",
      "214/214 [==============================] - 0s 1ms/step - loss: 0.0013 - accuracy: 1.0000 - val_loss: 0.0406 - val_accuracy: 0.9902\n",
      "Epoch 19/100\n",
      "214/214 [==============================] - 0s 1ms/step - loss: 0.0013 - accuracy: 1.0000 - val_loss: 0.0383 - val_accuracy: 0.9902\n",
      "Epoch 20/100\n",
      "214/214 [==============================] - 0s 1ms/step - loss: 9.1288e-04 - accuracy: 1.0000 - val_loss: 0.0367 - val_accuracy: 0.9913\n",
      "Epoch 21/100\n",
      "214/214 [==============================] - 0s 1ms/step - loss: 0.0012 - accuracy: 1.0000 - val_loss: 0.0364 - val_accuracy: 0.9913\n",
      "Epoch 22/100\n",
      "214/214 [==============================] - 0s 1ms/step - loss: 8.9916e-04 - accuracy: 1.0000 - val_loss: 0.0381 - val_accuracy: 0.9913\n",
      "Epoch 23/100\n",
      "214/214 [==============================] - 0s 1ms/step - loss: 8.1620e-04 - accuracy: 1.0000 - val_loss: 0.0372 - val_accuracy: 0.9913\n",
      "Epoch 24/100\n",
      "214/214 [==============================] - 0s 1ms/step - loss: 0.0010 - accuracy: 1.0000 - val_loss: 0.0385 - val_accuracy: 0.9913\n",
      "Epoch 25/100\n",
      "214/214 [==============================] - 0s 1ms/step - loss: 5.8984e-04 - accuracy: 1.0000 - val_loss: 0.0382 - val_accuracy: 0.9913\n",
      "Epoch 26/100\n",
      "214/214 [==============================] - 0s 1ms/step - loss: 5.2611e-04 - accuracy: 1.0000 - val_loss: 0.0388 - val_accuracy: 0.9902\n",
      "Epoch 27/100\n",
      "214/214 [==============================] - 0s 1ms/step - loss: 5.0721e-04 - accuracy: 1.0000 - val_loss: 0.0383 - val_accuracy: 0.9924\n",
      "Epoch 28/100\n",
      "214/214 [==============================] - 0s 1ms/step - loss: 6.2997e-04 - accuracy: 1.0000 - val_loss: 0.0400 - val_accuracy: 0.9924\n",
      "Epoch 29/100\n",
      "214/214 [==============================] - 0s 1ms/step - loss: 5.3011e-04 - accuracy: 1.0000 - val_loss: 0.0413 - val_accuracy: 0.9913\n",
      "Epoch 30/100\n",
      "214/214 [==============================] - 0s 1ms/step - loss: 8.1345e-04 - accuracy: 1.0000 - val_loss: 0.0419 - val_accuracy: 0.9913\n",
      "Epoch 31/100\n",
      "214/214 [==============================] - 0s 1ms/step - loss: 3.3392e-04 - accuracy: 1.0000 - val_loss: 0.0412 - val_accuracy: 0.9913\n",
      "Epoch 32/100\n",
      "214/214 [==============================] - 0s 1ms/step - loss: 4.2970e-04 - accuracy: 1.0000 - val_loss: 0.0428 - val_accuracy: 0.9913\n",
      "Epoch 33/100\n",
      "214/214 [==============================] - 0s 1ms/step - loss: 2.8641e-04 - accuracy: 1.0000 - val_loss: 0.0413 - val_accuracy: 0.9924\n",
      "Epoch 34/100\n",
      "214/214 [==============================] - 0s 1ms/step - loss: 2.4501e-04 - accuracy: 1.0000 - val_loss: 0.0421 - val_accuracy: 0.9924\n",
      "Epoch 35/100\n",
      "214/214 [==============================] - 0s 1ms/step - loss: 5.4951e-04 - accuracy: 1.0000 - val_loss: 0.0436 - val_accuracy: 0.9924\n",
      "Epoch 36/100\n",
      "214/214 [==============================] - 0s 1ms/step - loss: 4.3752e-04 - accuracy: 1.0000 - val_loss: 0.0444 - val_accuracy: 0.9924\n",
      "Epoch 37/100\n",
      "214/214 [==============================] - 0s 1ms/step - loss: 2.6430e-04 - accuracy: 1.0000 - val_loss: 0.0447 - val_accuracy: 0.9924\n",
      "Epoch 38/100\n",
      "214/214 [==============================] - 0s 1ms/step - loss: 1.3909e-04 - accuracy: 1.0000 - val_loss: 0.0447 - val_accuracy: 0.9924\n",
      "Epoch 39/100\n",
      "214/214 [==============================] - 0s 1ms/step - loss: 1.8980e-04 - accuracy: 1.0000 - val_loss: 0.0466 - val_accuracy: 0.9902\n",
      "Epoch 40/100\n",
      "214/214 [==============================] - 0s 1ms/step - loss: 1.8712e-04 - accuracy: 1.0000 - val_loss: 0.0474 - val_accuracy: 0.9902\n",
      "Epoch 41/100\n",
      "214/214 [==============================] - 0s 1ms/step - loss: 1.3761e-04 - accuracy: 1.0000 - val_loss: 0.0482 - val_accuracy: 0.9902\n",
      "Epoch 42/100\n",
      "214/214 [==============================] - 0s 1ms/step - loss: 1.5197e-04 - accuracy: 1.0000 - val_loss: 0.0495 - val_accuracy: 0.9902\n",
      "Epoch 43/100\n",
      "214/214 [==============================] - 0s 1ms/step - loss: 1.2718e-04 - accuracy: 1.0000 - val_loss: 0.0495 - val_accuracy: 0.9902\n",
      "Epoch 44/100\n",
      "214/214 [==============================] - 0s 1ms/step - loss: 1.0906e-04 - accuracy: 1.0000 - val_loss: 0.0495 - val_accuracy: 0.9913\n",
      "Epoch 45/100\n",
      "214/214 [==============================] - 0s 1ms/step - loss: 1.3281e-04 - accuracy: 1.0000 - val_loss: 0.0505 - val_accuracy: 0.9913\n",
      "Epoch 46/100\n",
      "214/214 [==============================] - 0s 1ms/step - loss: 1.0265e-04 - accuracy: 1.0000 - val_loss: 0.0532 - val_accuracy: 0.9902\n",
      "Epoch 47/100\n",
      "214/214 [==============================] - 0s 1ms/step - loss: 1.8004e-04 - accuracy: 1.0000 - val_loss: 0.0520 - val_accuracy: 0.9913\n",
      "Epoch 48/100\n",
      "214/214 [==============================] - 0s 1ms/step - loss: 1.4332e-04 - accuracy: 1.0000 - val_loss: 0.0524 - val_accuracy: 0.9913\n",
      "Epoch 49/100\n",
      "214/214 [==============================] - 0s 1ms/step - loss: 5.3928e-05 - accuracy: 1.0000 - val_loss: 0.0521 - val_accuracy: 0.9913\n",
      "Epoch 50/100\n",
      "214/214 [==============================] - 0s 1ms/step - loss: 1.2406e-04 - accuracy: 1.0000 - val_loss: 0.0544 - val_accuracy: 0.9913\n",
      "Epoch 51/100\n",
      "214/214 [==============================] - 0s 1ms/step - loss: 1.0285e-04 - accuracy: 1.0000 - val_loss: 0.0557 - val_accuracy: 0.9913\n",
      "Epoch 52/100\n",
      "214/214 [==============================] - 0s 1ms/step - loss: 1.4343e-04 - accuracy: 1.0000 - val_loss: 0.0545 - val_accuracy: 0.9913\n",
      "Epoch 53/100\n",
      "214/214 [==============================] - 0s 1ms/step - loss: 5.8902e-05 - accuracy: 1.0000 - val_loss: 0.0575 - val_accuracy: 0.9902\n",
      "Epoch 54/100\n",
      "214/214 [==============================] - 0s 1ms/step - loss: 7.5202e-05 - accuracy: 1.0000 - val_loss: 0.0570 - val_accuracy: 0.9913\n",
      "Epoch 55/100\n",
      "214/214 [==============================] - 0s 1ms/step - loss: 5.5610e-05 - accuracy: 1.0000 - val_loss: 0.0574 - val_accuracy: 0.9902\n",
      "Epoch 56/100\n",
      "214/214 [==============================] - 0s 1ms/step - loss: 5.0277e-05 - accuracy: 1.0000 - val_loss: 0.0595 - val_accuracy: 0.9913\n",
      "Epoch 57/100\n",
      "214/214 [==============================] - 0s 2ms/step - loss: 2.0669e-05 - accuracy: 1.0000 - val_loss: 0.0590 - val_accuracy: 0.9902\n",
      "Epoch 58/100\n",
      "214/214 [==============================] - 0s 1ms/step - loss: 6.2050e-05 - accuracy: 1.0000 - val_loss: 0.0603 - val_accuracy: 0.9902\n",
      "Epoch 59/100\n",
      "214/214 [==============================] - 0s 1ms/step - loss: 6.8079e-05 - accuracy: 1.0000 - val_loss: 0.0588 - val_accuracy: 0.9902\n",
      "Epoch 60/100\n",
      "214/214 [==============================] - 0s 1ms/step - loss: 4.7902e-05 - accuracy: 1.0000 - val_loss: 0.0607 - val_accuracy: 0.9902\n",
      "Epoch 61/100\n",
      "214/214 [==============================] - 0s 1ms/step - loss: 3.3642e-05 - accuracy: 1.0000 - val_loss: 0.0618 - val_accuracy: 0.9902\n",
      "Epoch 62/100\n",
      "214/214 [==============================] - 0s 1ms/step - loss: 5.7948e-05 - accuracy: 1.0000 - val_loss: 0.0620 - val_accuracy: 0.9902\n",
      "Epoch 63/100\n",
      "214/214 [==============================] - 0s 1ms/step - loss: 1.9888e-05 - accuracy: 1.0000 - val_loss: 0.0646 - val_accuracy: 0.9902\n",
      "Epoch 64/100\n",
      "214/214 [==============================] - 0s 1ms/step - loss: 3.1254e-05 - accuracy: 1.0000 - val_loss: 0.0642 - val_accuracy: 0.9902\n",
      "Epoch 65/100\n",
      "214/214 [==============================] - 0s 1ms/step - loss: 2.7723e-05 - accuracy: 1.0000 - val_loss: 0.0665 - val_accuracy: 0.9902\n",
      "Epoch 66/100\n",
      "214/214 [==============================] - 0s 1ms/step - loss: 4.5580e-05 - accuracy: 1.0000 - val_loss: 0.0649 - val_accuracy: 0.9902\n",
      "Epoch 67/100\n",
      "214/214 [==============================] - 0s 1ms/step - loss: 4.0638e-05 - accuracy: 1.0000 - val_loss: 0.0654 - val_accuracy: 0.9902\n",
      "Epoch 68/100\n",
      "214/214 [==============================] - 0s 1ms/step - loss: 3.6184e-05 - accuracy: 1.0000 - val_loss: 0.0677 - val_accuracy: 0.9902\n",
      "Epoch 69/100\n",
      "214/214 [==============================] - 0s 1ms/step - loss: 1.7902e-05 - accuracy: 1.0000 - val_loss: 0.0680 - val_accuracy: 0.9902\n",
      "Epoch 70/100\n",
      "214/214 [==============================] - 0s 1ms/step - loss: 4.9758e-05 - accuracy: 1.0000 - val_loss: 0.0688 - val_accuracy: 0.9902\n",
      "Epoch 71/100\n",
      "214/214 [==============================] - 0s 1ms/step - loss: 1.1325e-05 - accuracy: 1.0000 - val_loss: 0.0692 - val_accuracy: 0.9902\n",
      "Epoch 72/100\n",
      "214/214 [==============================] - 0s 1ms/step - loss: 1.3272e-05 - accuracy: 1.0000 - val_loss: 0.0715 - val_accuracy: 0.9902\n",
      "Epoch 73/100\n",
      "214/214 [==============================] - 0s 1ms/step - loss: 1.0766e-05 - accuracy: 1.0000 - val_loss: 0.0716 - val_accuracy: 0.9902\n",
      "Epoch 74/100\n",
      "214/214 [==============================] - 0s 1ms/step - loss: 1.1482e-05 - accuracy: 1.0000 - val_loss: 0.0727 - val_accuracy: 0.9902\n",
      "Epoch 75/100\n",
      "214/214 [==============================] - 0s 1ms/step - loss: 1.6954e-05 - accuracy: 1.0000 - val_loss: 0.0735 - val_accuracy: 0.9902\n",
      "Epoch 76/100\n",
      "214/214 [==============================] - 0s 1ms/step - loss: 1.2680e-05 - accuracy: 1.0000 - val_loss: 0.0738 - val_accuracy: 0.9902\n",
      "Epoch 77/100\n",
      "214/214 [==============================] - 0s 1ms/step - loss: 9.5412e-06 - accuracy: 1.0000 - val_loss: 0.0744 - val_accuracy: 0.9902\n",
      "Epoch 78/100\n",
      "214/214 [==============================] - 0s 1ms/step - loss: 2.1641e-05 - accuracy: 1.0000 - val_loss: 0.0751 - val_accuracy: 0.9902\n",
      "Epoch 79/100\n",
      "214/214 [==============================] - 0s 1ms/step - loss: 1.0488e-05 - accuracy: 1.0000 - val_loss: 0.0765 - val_accuracy: 0.9902\n",
      "Epoch 80/100\n",
      "214/214 [==============================] - 0s 1ms/step - loss: 6.2091e-06 - accuracy: 1.0000 - val_loss: 0.0760 - val_accuracy: 0.9902\n",
      "Epoch 81/100\n",
      "214/214 [==============================] - 0s 1ms/step - loss: 8.3897e-06 - accuracy: 1.0000 - val_loss: 0.0784 - val_accuracy: 0.9902\n",
      "Epoch 82/100\n",
      "214/214 [==============================] - 0s 2ms/step - loss: 8.8822e-06 - accuracy: 1.0000 - val_loss: 0.0785 - val_accuracy: 0.9902\n",
      "Epoch 83/100\n",
      "214/214 [==============================] - 0s 2ms/step - loss: 5.7895e-06 - accuracy: 1.0000 - val_loss: 0.0793 - val_accuracy: 0.9902\n",
      "Epoch 84/100\n",
      "214/214 [==============================] - 0s 2ms/step - loss: 2.1527e-06 - accuracy: 1.0000 - val_loss: 0.0805 - val_accuracy: 0.9902\n",
      "Epoch 85/100\n",
      "214/214 [==============================] - 0s 2ms/step - loss: 3.9087e-06 - accuracy: 1.0000 - val_loss: 0.0818 - val_accuracy: 0.9902\n",
      "Epoch 86/100\n",
      "214/214 [==============================] - 0s 2ms/step - loss: 3.5656e-06 - accuracy: 1.0000 - val_loss: 0.0831 - val_accuracy: 0.9902\n",
      "Epoch 87/100\n",
      "214/214 [==============================] - 0s 2ms/step - loss: 2.7772e-06 - accuracy: 1.0000 - val_loss: 0.0827 - val_accuracy: 0.9902\n",
      "Epoch 88/100\n",
      "214/214 [==============================] - 0s 1ms/step - loss: 4.4880e-06 - accuracy: 1.0000 - val_loss: 0.0839 - val_accuracy: 0.9902\n",
      "Epoch 89/100\n",
      "214/214 [==============================] - 0s 1ms/step - loss: 3.2544e-06 - accuracy: 1.0000 - val_loss: 0.0859 - val_accuracy: 0.9902\n",
      "Epoch 90/100\n",
      "214/214 [==============================] - 0s 1ms/step - loss: 2.4889e-06 - accuracy: 1.0000 - val_loss: 0.0860 - val_accuracy: 0.9902\n",
      "Epoch 91/100\n",
      "214/214 [==============================] - 0s 2ms/step - loss: 4.2744e-06 - accuracy: 1.0000 - val_loss: 0.0872 - val_accuracy: 0.9902\n",
      "Epoch 92/100\n",
      "214/214 [==============================] - 0s 1ms/step - loss: 3.7812e-06 - accuracy: 1.0000 - val_loss: 0.0866 - val_accuracy: 0.9902\n",
      "Epoch 93/100\n",
      "214/214 [==============================] - 0s 1ms/step - loss: 2.1332e-06 - accuracy: 1.0000 - val_loss: 0.0886 - val_accuracy: 0.9902\n",
      "Epoch 94/100\n",
      "214/214 [==============================] - 0s 2ms/step - loss: 1.6212e-06 - accuracy: 1.0000 - val_loss: 0.0898 - val_accuracy: 0.9902\n",
      "Epoch 95/100\n",
      "214/214 [==============================] - 0s 1ms/step - loss: 3.4359e-06 - accuracy: 1.0000 - val_loss: 0.0907 - val_accuracy: 0.9902\n",
      "Epoch 96/100\n",
      "214/214 [==============================] - 0s 1ms/step - loss: 3.6666e-06 - accuracy: 1.0000 - val_loss: 0.0918 - val_accuracy: 0.9902\n",
      "Epoch 97/100\n",
      "214/214 [==============================] - 0s 1ms/step - loss: 1.3648e-06 - accuracy: 1.0000 - val_loss: 0.0933 - val_accuracy: 0.9902\n",
      "Epoch 98/100\n",
      "214/214 [==============================] - 0s 1ms/step - loss: 2.0750e-06 - accuracy: 1.0000 - val_loss: 0.0934 - val_accuracy: 0.9902\n",
      "Epoch 99/100\n",
      "214/214 [==============================] - 0s 1ms/step - loss: 1.6273e-06 - accuracy: 1.0000 - val_loss: 0.0940 - val_accuracy: 0.9902\n",
      "Epoch 100/100\n",
      "214/214 [==============================] - 0s 1ms/step - loss: 8.9769e-07 - accuracy: 1.0000 - val_loss: 0.0957 - val_accuracy: 0.9902\n"
     ]
    }
   ],
   "source": [
    "history = model.fit(X_train, y_train,\n",
    "                    epochs=100,\n",
    "                    verbose=True,\n",
    "                    validation_data=(X_test, y_test),\n",
    "                    batch_size=10)"
   ]
  },
  {
   "cell_type": "code",
   "execution_count": 135,
   "metadata": {},
   "outputs": [],
   "source": [
    "def plot_history(history):\n",
    "    accuracy = history.history['accuracy']\n",
    "    val_accuracy = history.history['val_accuracy']\n",
    "    loss = history.history['loss']\n",
    "    val_loss = history.history['val_loss']\n",
    "    x = range(1, len(accuracy) + 1)\n",
    "\n",
    "    plt.figure(figsize=(12, 5))\n",
    "    plt.subplot(1, 2, 1)\n",
    "    plt.plot(x, accuracy, 'b', label='training')\n",
    "    plt.plot(x, val_accuracy, 'r', label='validation')\n",
    "    plt.title('Accuracy')\n",
    "    plt.legend()\n",
    "    plt.subplot(1, 2, 2)\n",
    "    plt.plot(x, loss, 'b', label='training')\n",
    "    plt.plot(x, val_loss, 'r', label='validation')\n",
    "    plt.title('Loss')\n",
    "    plt.legend()"
   ]
  },
  {
   "cell_type": "code",
   "execution_count": 136,
   "metadata": {},
   "outputs": [
    {
     "output_type": "display_data",
     "data": {
      "text/plain": "<Figure size 864x360 with 2 Axes>",
      "image/svg+xml": "<?xml version=\"1.0\" encoding=\"utf-8\" standalone=\"no\"?>\n<!DOCTYPE svg PUBLIC \"-//W3C//DTD SVG 1.1//EN\"\n  \"http://www.w3.org/Graphics/SVG/1.1/DTD/svg11.dtd\">\n<!-- Created with matplotlib (https://matplotlib.org/) -->\n<svg height=\"317.99625pt\" version=\"1.1\" viewBox=\"0 0 713.265625 317.99625\" width=\"713.265625pt\" xmlns=\"http://www.w3.org/2000/svg\" xmlns:xlink=\"http://www.w3.org/1999/xlink\">\n <metadata>\n  <rdf:RDF xmlns:cc=\"http://creativecommons.org/ns#\" xmlns:dc=\"http://purl.org/dc/elements/1.1/\" xmlns:rdf=\"http://www.w3.org/1999/02/22-rdf-syntax-ns#\">\n   <cc:Work>\n    <dc:type rdf:resource=\"http://purl.org/dc/dcmitype/StillImage\"/>\n    <dc:date>2021-06-18T17:34:42.366250</dc:date>\n    <dc:format>image/svg+xml</dc:format>\n    <dc:creator>\n     <cc:Agent>\n      <dc:title>Matplotlib v3.3.4, https://matplotlib.org/</dc:title>\n     </cc:Agent>\n    </dc:creator>\n   </cc:Work>\n  </rdf:RDF>\n </metadata>\n <defs>\n  <style type=\"text/css\">*{stroke-linecap:butt;stroke-linejoin:round;}</style>\n </defs>\n <g id=\"figure_1\">\n  <g id=\"patch_1\">\n   <path d=\"M 0 317.99625 \nL 713.265625 317.99625 \nL 713.265625 0 \nL 0 0 \nz\n\" style=\"fill:none;\"/>\n  </g>\n  <g id=\"axes_1\">\n   <g id=\"patch_2\">\n    <path d=\"M 36.465625 294.118125 \nL 340.829261 294.118125 \nL 340.829261 22.318125 \nL 36.465625 22.318125 \nz\n\" style=\"fill:#ffffff;\"/>\n   </g>\n   <g id=\"matplotlib.axis_1\">\n    <g id=\"xtick_1\">\n     <g id=\"line2d_1\">\n      <defs>\n       <path d=\"M 0 0 \nL 0 3.5 \n\" id=\"m8c3674a5cb\" style=\"stroke:#000000;stroke-width:0.8;\"/>\n      </defs>\n      <g>\n       <use style=\"stroke:#000000;stroke-width:0.8;\" x=\"47.505445\" xlink:href=\"#m8c3674a5cb\" y=\"294.118125\"/>\n      </g>\n     </g>\n     <g id=\"text_1\">\n      <!-- 0 -->\n      <g transform=\"translate(44.324195 308.716563)scale(0.1 -0.1)\">\n       <defs>\n        <path d=\"M 31.78125 66.40625 \nQ 24.171875 66.40625 20.328125 58.90625 \nQ 16.5 51.421875 16.5 36.375 \nQ 16.5 21.390625 20.328125 13.890625 \nQ 24.171875 6.390625 31.78125 6.390625 \nQ 39.453125 6.390625 43.28125 13.890625 \nQ 47.125 21.390625 47.125 36.375 \nQ 47.125 51.421875 43.28125 58.90625 \nQ 39.453125 66.40625 31.78125 66.40625 \nz\nM 31.78125 74.21875 \nQ 44.046875 74.21875 50.515625 64.515625 \nQ 56.984375 54.828125 56.984375 36.375 \nQ 56.984375 17.96875 50.515625 8.265625 \nQ 44.046875 -1.421875 31.78125 -1.421875 \nQ 19.53125 -1.421875 13.0625 8.265625 \nQ 6.59375 17.96875 6.59375 36.375 \nQ 6.59375 54.828125 13.0625 64.515625 \nQ 19.53125 74.21875 31.78125 74.21875 \nz\n\" id=\"DejaVuSans-48\"/>\n       </defs>\n       <use xlink:href=\"#DejaVuSans-48\"/>\n      </g>\n     </g>\n    </g>\n    <g id=\"xtick_2\">\n     <g id=\"line2d_2\">\n      <g>\n       <use style=\"stroke:#000000;stroke-width:0.8;\" x=\"103.403266\" xlink:href=\"#m8c3674a5cb\" y=\"294.118125\"/>\n      </g>\n     </g>\n     <g id=\"text_2\">\n      <!-- 20 -->\n      <g transform=\"translate(97.040766 308.716563)scale(0.1 -0.1)\">\n       <defs>\n        <path d=\"M 19.1875 8.296875 \nL 53.609375 8.296875 \nL 53.609375 0 \nL 7.328125 0 \nL 7.328125 8.296875 \nQ 12.9375 14.109375 22.625 23.890625 \nQ 32.328125 33.6875 34.8125 36.53125 \nQ 39.546875 41.84375 41.421875 45.53125 \nQ 43.3125 49.21875 43.3125 52.78125 \nQ 43.3125 58.59375 39.234375 62.25 \nQ 35.15625 65.921875 28.609375 65.921875 \nQ 23.96875 65.921875 18.8125 64.3125 \nQ 13.671875 62.703125 7.8125 59.421875 \nL 7.8125 69.390625 \nQ 13.765625 71.78125 18.9375 73 \nQ 24.125 74.21875 28.421875 74.21875 \nQ 39.75 74.21875 46.484375 68.546875 \nQ 53.21875 62.890625 53.21875 53.421875 \nQ 53.21875 48.921875 51.53125 44.890625 \nQ 49.859375 40.875 45.40625 35.40625 \nQ 44.1875 33.984375 37.640625 27.21875 \nQ 31.109375 20.453125 19.1875 8.296875 \nz\n\" id=\"DejaVuSans-50\"/>\n       </defs>\n       <use xlink:href=\"#DejaVuSans-50\"/>\n       <use x=\"63.623047\" xlink:href=\"#DejaVuSans-48\"/>\n      </g>\n     </g>\n    </g>\n    <g id=\"xtick_3\">\n     <g id=\"line2d_3\">\n      <g>\n       <use style=\"stroke:#000000;stroke-width:0.8;\" x=\"159.301087\" xlink:href=\"#m8c3674a5cb\" y=\"294.118125\"/>\n      </g>\n     </g>\n     <g id=\"text_3\">\n      <!-- 40 -->\n      <g transform=\"translate(152.938587 308.716563)scale(0.1 -0.1)\">\n       <defs>\n        <path d=\"M 37.796875 64.3125 \nL 12.890625 25.390625 \nL 37.796875 25.390625 \nz\nM 35.203125 72.90625 \nL 47.609375 72.90625 \nL 47.609375 25.390625 \nL 58.015625 25.390625 \nL 58.015625 17.1875 \nL 47.609375 17.1875 \nL 47.609375 0 \nL 37.796875 0 \nL 37.796875 17.1875 \nL 4.890625 17.1875 \nL 4.890625 26.703125 \nz\n\" id=\"DejaVuSans-52\"/>\n       </defs>\n       <use xlink:href=\"#DejaVuSans-52\"/>\n       <use x=\"63.623047\" xlink:href=\"#DejaVuSans-48\"/>\n      </g>\n     </g>\n    </g>\n    <g id=\"xtick_4\">\n     <g id=\"line2d_4\">\n      <g>\n       <use style=\"stroke:#000000;stroke-width:0.8;\" x=\"215.198908\" xlink:href=\"#m8c3674a5cb\" y=\"294.118125\"/>\n      </g>\n     </g>\n     <g id=\"text_4\">\n      <!-- 60 -->\n      <g transform=\"translate(208.836408 308.716563)scale(0.1 -0.1)\">\n       <defs>\n        <path d=\"M 33.015625 40.375 \nQ 26.375 40.375 22.484375 35.828125 \nQ 18.609375 31.296875 18.609375 23.390625 \nQ 18.609375 15.53125 22.484375 10.953125 \nQ 26.375 6.390625 33.015625 6.390625 \nQ 39.65625 6.390625 43.53125 10.953125 \nQ 47.40625 15.53125 47.40625 23.390625 \nQ 47.40625 31.296875 43.53125 35.828125 \nQ 39.65625 40.375 33.015625 40.375 \nz\nM 52.59375 71.296875 \nL 52.59375 62.3125 \nQ 48.875 64.0625 45.09375 64.984375 \nQ 41.3125 65.921875 37.59375 65.921875 \nQ 27.828125 65.921875 22.671875 59.328125 \nQ 17.53125 52.734375 16.796875 39.40625 \nQ 19.671875 43.65625 24.015625 45.921875 \nQ 28.375 48.1875 33.59375 48.1875 \nQ 44.578125 48.1875 50.953125 41.515625 \nQ 57.328125 34.859375 57.328125 23.390625 \nQ 57.328125 12.15625 50.6875 5.359375 \nQ 44.046875 -1.421875 33.015625 -1.421875 \nQ 20.359375 -1.421875 13.671875 8.265625 \nQ 6.984375 17.96875 6.984375 36.375 \nQ 6.984375 53.65625 15.1875 63.9375 \nQ 23.390625 74.21875 37.203125 74.21875 \nQ 40.921875 74.21875 44.703125 73.484375 \nQ 48.484375 72.75 52.59375 71.296875 \nz\n\" id=\"DejaVuSans-54\"/>\n       </defs>\n       <use xlink:href=\"#DejaVuSans-54\"/>\n       <use x=\"63.623047\" xlink:href=\"#DejaVuSans-48\"/>\n      </g>\n     </g>\n    </g>\n    <g id=\"xtick_5\">\n     <g id=\"line2d_5\">\n      <g>\n       <use style=\"stroke:#000000;stroke-width:0.8;\" x=\"271.096729\" xlink:href=\"#m8c3674a5cb\" y=\"294.118125\"/>\n      </g>\n     </g>\n     <g id=\"text_5\">\n      <!-- 80 -->\n      <g transform=\"translate(264.734229 308.716563)scale(0.1 -0.1)\">\n       <defs>\n        <path d=\"M 31.78125 34.625 \nQ 24.75 34.625 20.71875 30.859375 \nQ 16.703125 27.09375 16.703125 20.515625 \nQ 16.703125 13.921875 20.71875 10.15625 \nQ 24.75 6.390625 31.78125 6.390625 \nQ 38.8125 6.390625 42.859375 10.171875 \nQ 46.921875 13.96875 46.921875 20.515625 \nQ 46.921875 27.09375 42.890625 30.859375 \nQ 38.875 34.625 31.78125 34.625 \nz\nM 21.921875 38.8125 \nQ 15.578125 40.375 12.03125 44.71875 \nQ 8.5 49.078125 8.5 55.328125 \nQ 8.5 64.0625 14.71875 69.140625 \nQ 20.953125 74.21875 31.78125 74.21875 \nQ 42.671875 74.21875 48.875 69.140625 \nQ 55.078125 64.0625 55.078125 55.328125 \nQ 55.078125 49.078125 51.53125 44.71875 \nQ 48 40.375 41.703125 38.8125 \nQ 48.828125 37.15625 52.796875 32.3125 \nQ 56.78125 27.484375 56.78125 20.515625 \nQ 56.78125 9.90625 50.3125 4.234375 \nQ 43.84375 -1.421875 31.78125 -1.421875 \nQ 19.734375 -1.421875 13.25 4.234375 \nQ 6.78125 9.90625 6.78125 20.515625 \nQ 6.78125 27.484375 10.78125 32.3125 \nQ 14.796875 37.15625 21.921875 38.8125 \nz\nM 18.3125 54.390625 \nQ 18.3125 48.734375 21.84375 45.5625 \nQ 25.390625 42.390625 31.78125 42.390625 \nQ 38.140625 42.390625 41.71875 45.5625 \nQ 45.3125 48.734375 45.3125 54.390625 \nQ 45.3125 60.0625 41.71875 63.234375 \nQ 38.140625 66.40625 31.78125 66.40625 \nQ 25.390625 66.40625 21.84375 63.234375 \nQ 18.3125 60.0625 18.3125 54.390625 \nz\n\" id=\"DejaVuSans-56\"/>\n       </defs>\n       <use xlink:href=\"#DejaVuSans-56\"/>\n       <use x=\"63.623047\" xlink:href=\"#DejaVuSans-48\"/>\n      </g>\n     </g>\n    </g>\n    <g id=\"xtick_6\">\n     <g id=\"line2d_6\">\n      <g>\n       <use style=\"stroke:#000000;stroke-width:0.8;\" x=\"326.994551\" xlink:href=\"#m8c3674a5cb\" y=\"294.118125\"/>\n      </g>\n     </g>\n     <g id=\"text_6\">\n      <!-- 100 -->\n      <g transform=\"translate(317.450801 308.716563)scale(0.1 -0.1)\">\n       <defs>\n        <path d=\"M 12.40625 8.296875 \nL 28.515625 8.296875 \nL 28.515625 63.921875 \nL 10.984375 60.40625 \nL 10.984375 69.390625 \nL 28.421875 72.90625 \nL 38.28125 72.90625 \nL 38.28125 8.296875 \nL 54.390625 8.296875 \nL 54.390625 0 \nL 12.40625 0 \nz\n\" id=\"DejaVuSans-49\"/>\n       </defs>\n       <use xlink:href=\"#DejaVuSans-49\"/>\n       <use x=\"63.623047\" xlink:href=\"#DejaVuSans-48\"/>\n       <use x=\"127.246094\" xlink:href=\"#DejaVuSans-48\"/>\n      </g>\n     </g>\n    </g>\n   </g>\n   <g id=\"matplotlib.axis_2\">\n    <g id=\"ytick_1\">\n     <g id=\"line2d_7\">\n      <defs>\n       <path d=\"M 0 0 \nL -3.5 0 \n\" id=\"mf794cde88d\" style=\"stroke:#000000;stroke-width:0.8;\"/>\n      </defs>\n      <g>\n       <use style=\"stroke:#000000;stroke-width:0.8;\" x=\"36.465625\" xlink:href=\"#mf794cde88d\" y=\"281.301786\"/>\n      </g>\n     </g>\n     <g id=\"text_7\">\n      <!-- 0.90 -->\n      <g transform=\"translate(7.2 285.101005)scale(0.1 -0.1)\">\n       <defs>\n        <path d=\"M 10.6875 12.40625 \nL 21 12.40625 \nL 21 0 \nL 10.6875 0 \nz\n\" id=\"DejaVuSans-46\"/>\n        <path d=\"M 10.984375 1.515625 \nL 10.984375 10.5 \nQ 14.703125 8.734375 18.5 7.8125 \nQ 22.3125 6.890625 25.984375 6.890625 \nQ 35.75 6.890625 40.890625 13.453125 \nQ 46.046875 20.015625 46.78125 33.40625 \nQ 43.953125 29.203125 39.59375 26.953125 \nQ 35.25 24.703125 29.984375 24.703125 \nQ 19.046875 24.703125 12.671875 31.3125 \nQ 6.296875 37.9375 6.296875 49.421875 \nQ 6.296875 60.640625 12.9375 67.421875 \nQ 19.578125 74.21875 30.609375 74.21875 \nQ 43.265625 74.21875 49.921875 64.515625 \nQ 56.59375 54.828125 56.59375 36.375 \nQ 56.59375 19.140625 48.40625 8.859375 \nQ 40.234375 -1.421875 26.421875 -1.421875 \nQ 22.703125 -1.421875 18.890625 -0.6875 \nQ 15.09375 0.046875 10.984375 1.515625 \nz\nM 30.609375 32.421875 \nQ 37.25 32.421875 41.125 36.953125 \nQ 45.015625 41.5 45.015625 49.421875 \nQ 45.015625 57.28125 41.125 61.84375 \nQ 37.25 66.40625 30.609375 66.40625 \nQ 23.96875 66.40625 20.09375 61.84375 \nQ 16.21875 57.28125 16.21875 49.421875 \nQ 16.21875 41.5 20.09375 36.953125 \nQ 23.96875 32.421875 30.609375 32.421875 \nz\n\" id=\"DejaVuSans-57\"/>\n       </defs>\n       <use xlink:href=\"#DejaVuSans-48\"/>\n       <use x=\"63.623047\" xlink:href=\"#DejaVuSans-46\"/>\n       <use x=\"95.410156\" xlink:href=\"#DejaVuSans-57\"/>\n       <use x=\"159.033203\" xlink:href=\"#DejaVuSans-48\"/>\n      </g>\n     </g>\n    </g>\n    <g id=\"ytick_2\">\n     <g id=\"line2d_8\">\n      <g>\n       <use style=\"stroke:#000000;stroke-width:0.8;\" x=\"36.465625\" xlink:href=\"#mf794cde88d\" y=\"231.975963\"/>\n      </g>\n     </g>\n     <g id=\"text_8\">\n      <!-- 0.92 -->\n      <g transform=\"translate(7.2 235.775182)scale(0.1 -0.1)\">\n       <use xlink:href=\"#DejaVuSans-48\"/>\n       <use x=\"63.623047\" xlink:href=\"#DejaVuSans-46\"/>\n       <use x=\"95.410156\" xlink:href=\"#DejaVuSans-57\"/>\n       <use x=\"159.033203\" xlink:href=\"#DejaVuSans-50\"/>\n      </g>\n     </g>\n    </g>\n    <g id=\"ytick_3\">\n     <g id=\"line2d_9\">\n      <g>\n       <use style=\"stroke:#000000;stroke-width:0.8;\" x=\"36.465625\" xlink:href=\"#mf794cde88d\" y=\"182.65014\"/>\n      </g>\n     </g>\n     <g id=\"text_9\">\n      <!-- 0.94 -->\n      <g transform=\"translate(7.2 186.449359)scale(0.1 -0.1)\">\n       <use xlink:href=\"#DejaVuSans-48\"/>\n       <use x=\"63.623047\" xlink:href=\"#DejaVuSans-46\"/>\n       <use x=\"95.410156\" xlink:href=\"#DejaVuSans-57\"/>\n       <use x=\"159.033203\" xlink:href=\"#DejaVuSans-52\"/>\n      </g>\n     </g>\n    </g>\n    <g id=\"ytick_4\">\n     <g id=\"line2d_10\">\n      <g>\n       <use style=\"stroke:#000000;stroke-width:0.8;\" x=\"36.465625\" xlink:href=\"#mf794cde88d\" y=\"133.324317\"/>\n      </g>\n     </g>\n     <g id=\"text_10\">\n      <!-- 0.96 -->\n      <g transform=\"translate(7.2 137.123535)scale(0.1 -0.1)\">\n       <use xlink:href=\"#DejaVuSans-48\"/>\n       <use x=\"63.623047\" xlink:href=\"#DejaVuSans-46\"/>\n       <use x=\"95.410156\" xlink:href=\"#DejaVuSans-57\"/>\n       <use x=\"159.033203\" xlink:href=\"#DejaVuSans-54\"/>\n      </g>\n     </g>\n    </g>\n    <g id=\"ytick_5\">\n     <g id=\"line2d_11\">\n      <g>\n       <use style=\"stroke:#000000;stroke-width:0.8;\" x=\"36.465625\" xlink:href=\"#mf794cde88d\" y=\"83.998494\"/>\n      </g>\n     </g>\n     <g id=\"text_11\">\n      <!-- 0.98 -->\n      <g transform=\"translate(7.2 87.797712)scale(0.1 -0.1)\">\n       <use xlink:href=\"#DejaVuSans-48\"/>\n       <use x=\"63.623047\" xlink:href=\"#DejaVuSans-46\"/>\n       <use x=\"95.410156\" xlink:href=\"#DejaVuSans-57\"/>\n       <use x=\"159.033203\" xlink:href=\"#DejaVuSans-56\"/>\n      </g>\n     </g>\n    </g>\n    <g id=\"ytick_6\">\n     <g id=\"line2d_12\">\n      <g>\n       <use style=\"stroke:#000000;stroke-width:0.8;\" x=\"36.465625\" xlink:href=\"#mf794cde88d\" y=\"34.67267\"/>\n      </g>\n     </g>\n     <g id=\"text_12\">\n      <!-- 1.00 -->\n      <g transform=\"translate(7.2 38.471889)scale(0.1 -0.1)\">\n       <use xlink:href=\"#DejaVuSans-49\"/>\n       <use x=\"63.623047\" xlink:href=\"#DejaVuSans-46\"/>\n       <use x=\"95.410156\" xlink:href=\"#DejaVuSans-48\"/>\n       <use x=\"159.033203\" xlink:href=\"#DejaVuSans-48\"/>\n      </g>\n     </g>\n    </g>\n   </g>\n   <g id=\"line2d_13\">\n    <path clip-path=\"url(#pce67e76115)\" d=\"M 50.300336 281.76358 \nL 53.095227 65.847765 \nL 55.890118 49.682939 \nL 58.685009 40.445896 \nL 61.4799 36.981931 \nL 64.274791 38.136635 \nL 67.069682 36.981931 \nL 69.864573 34.67267 \nL 72.659464 34.67267 \nL 75.454355 34.67267 \nL 78.249246 34.67267 \nL 81.044137 34.67267 \nL 83.839028 34.67267 \nL 86.63392 34.67267 \nL 89.428811 34.67267 \nL 92.223702 34.67267 \nL 95.018593 34.67267 \nL 97.813484 34.67267 \nL 100.608375 34.67267 \nL 103.403266 34.67267 \nL 106.198157 34.67267 \nL 108.993048 34.67267 \nL 111.787939 34.67267 \nL 114.58283 34.67267 \nL 117.377721 34.67267 \nL 120.172612 34.67267 \nL 122.967503 34.67267 \nL 125.762394 34.67267 \nL 128.557285 34.67267 \nL 131.352176 34.67267 \nL 134.147068 34.67267 \nL 136.941959 34.67267 \nL 139.73685 34.67267 \nL 142.531741 34.67267 \nL 145.326632 34.67267 \nL 148.121523 34.67267 \nL 150.916414 34.67267 \nL 153.711305 34.67267 \nL 156.506196 34.67267 \nL 159.301087 34.67267 \nL 162.095978 34.67267 \nL 164.890869 34.67267 \nL 167.68576 34.67267 \nL 170.480651 34.67267 \nL 173.275542 34.67267 \nL 176.070433 34.67267 \nL 178.865324 34.67267 \nL 181.660216 34.67267 \nL 184.455107 34.67267 \nL 187.249998 34.67267 \nL 190.044889 34.67267 \nL 192.83978 34.67267 \nL 195.634671 34.67267 \nL 198.429562 34.67267 \nL 201.224453 34.67267 \nL 204.019344 34.67267 \nL 206.814235 34.67267 \nL 209.609126 34.67267 \nL 212.404017 34.67267 \nL 215.198908 34.67267 \nL 217.993799 34.67267 \nL 220.78869 34.67267 \nL 223.583581 34.67267 \nL 226.378472 34.67267 \nL 229.173364 34.67267 \nL 231.968255 34.67267 \nL 234.763146 34.67267 \nL 237.558037 34.67267 \nL 240.352928 34.67267 \nL 243.147819 34.67267 \nL 245.94271 34.67267 \nL 248.737601 34.67267 \nL 251.532492 34.67267 \nL 254.327383 34.67267 \nL 257.122274 34.67267 \nL 259.917165 34.67267 \nL 262.712056 34.67267 \nL 265.506947 34.67267 \nL 268.301838 34.67267 \nL 271.096729 34.67267 \nL 273.89162 34.67267 \nL 276.686512 34.67267 \nL 279.481403 34.67267 \nL 282.276294 34.67267 \nL 285.071185 34.67267 \nL 287.866076 34.67267 \nL 290.660967 34.67267 \nL 293.455858 34.67267 \nL 296.250749 34.67267 \nL 299.04564 34.67267 \nL 301.840531 34.67267 \nL 304.635422 34.67267 \nL 307.430313 34.67267 \nL 310.225204 34.67267 \nL 313.020095 34.67267 \nL 315.814986 34.67267 \nL 318.609877 34.67267 \nL 321.404769 34.67267 \nL 324.19966 34.67267 \nL 326.994551 34.67267 \n\" style=\"fill:none;stroke:#0000ff;stroke-linecap:square;stroke-width:1.5;\"/>\n   </g>\n   <g id=\"line2d_14\">\n    <path clip-path=\"url(#pce67e76115)\" d=\"M 50.300336 72.367028 \nL 53.095227 64.289687 \nL 55.890118 58.904841 \nL 58.685009 56.212345 \nL 61.4799 56.212345 \nL 64.274791 56.212345 \nL 67.069682 56.212345 \nL 69.864573 56.212345 \nL 72.659464 56.212345 \nL 75.454355 56.212345 \nL 78.249246 58.904841 \nL 81.044137 56.212345 \nL 83.839028 56.212345 \nL 86.63392 56.212345 \nL 89.428811 56.212345 \nL 92.223702 56.212345 \nL 95.018593 56.212345 \nL 97.813484 58.904841 \nL 100.608375 58.904841 \nL 103.403266 56.212345 \nL 106.198157 56.212345 \nL 108.993048 56.212345 \nL 111.787939 56.212345 \nL 114.58283 56.212345 \nL 117.377721 56.212345 \nL 120.172612 58.904841 \nL 122.967503 53.519849 \nL 125.762394 53.519849 \nL 128.557285 56.212345 \nL 131.352176 56.212345 \nL 134.147068 56.212345 \nL 136.941959 56.212345 \nL 139.73685 53.519849 \nL 142.531741 53.519849 \nL 145.326632 53.519849 \nL 148.121523 53.519849 \nL 150.916414 53.519849 \nL 153.711305 53.519849 \nL 156.506196 58.904841 \nL 159.301087 58.904841 \nL 162.095978 58.904841 \nL 164.890869 58.904841 \nL 167.68576 58.904841 \nL 170.480651 56.212345 \nL 173.275542 56.212345 \nL 176.070433 58.904841 \nL 178.865324 56.212345 \nL 181.660216 56.212345 \nL 184.455107 56.212345 \nL 187.249998 56.212345 \nL 190.044889 56.212345 \nL 192.83978 56.212345 \nL 195.634671 58.904841 \nL 198.429562 56.212345 \nL 201.224453 58.904841 \nL 204.019344 56.212345 \nL 206.814235 58.904841 \nL 209.609126 58.904841 \nL 212.404017 58.904841 \nL 215.198908 58.904841 \nL 217.993799 58.904841 \nL 220.78869 58.904841 \nL 223.583581 58.904841 \nL 226.378472 58.904841 \nL 229.173364 58.904841 \nL 231.968255 58.904841 \nL 234.763146 58.904841 \nL 237.558037 58.904841 \nL 240.352928 58.904841 \nL 243.147819 58.904841 \nL 245.94271 58.904841 \nL 248.737601 58.904841 \nL 251.532492 58.904841 \nL 254.327383 58.904841 \nL 257.122274 58.904841 \nL 259.917165 58.904841 \nL 262.712056 58.904841 \nL 265.506947 58.904841 \nL 268.301838 58.904841 \nL 271.096729 58.904841 \nL 273.89162 58.904841 \nL 276.686512 58.904841 \nL 279.481403 58.904841 \nL 282.276294 58.904841 \nL 285.071185 58.904841 \nL 287.866076 58.904841 \nL 290.660967 58.904841 \nL 293.455858 58.904841 \nL 296.250749 58.904841 \nL 299.04564 58.904841 \nL 301.840531 58.904841 \nL 304.635422 58.904841 \nL 307.430313 58.904841 \nL 310.225204 58.904841 \nL 313.020095 58.904841 \nL 315.814986 58.904841 \nL 318.609877 58.904841 \nL 321.404769 58.904841 \nL 324.19966 58.904841 \nL 326.994551 58.904841 \n\" style=\"fill:none;stroke:#ff0000;stroke-linecap:square;stroke-width:1.5;\"/>\n   </g>\n   <g id=\"patch_3\">\n    <path d=\"M 36.465625 294.118125 \nL 36.465625 22.318125 \n\" style=\"fill:none;stroke:#000000;stroke-linecap:square;stroke-linejoin:miter;stroke-width:0.8;\"/>\n   </g>\n   <g id=\"patch_4\">\n    <path d=\"M 340.829261 294.118125 \nL 340.829261 22.318125 \n\" style=\"fill:none;stroke:#000000;stroke-linecap:square;stroke-linejoin:miter;stroke-width:0.8;\"/>\n   </g>\n   <g id=\"patch_5\">\n    <path d=\"M 36.465625 294.118125 \nL 340.829261 294.118125 \n\" style=\"fill:none;stroke:#000000;stroke-linecap:square;stroke-linejoin:miter;stroke-width:0.8;\"/>\n   </g>\n   <g id=\"patch_6\">\n    <path d=\"M 36.465625 22.318125 \nL 340.829261 22.318125 \n\" style=\"fill:none;stroke:#000000;stroke-linecap:square;stroke-linejoin:miter;stroke-width:0.8;\"/>\n   </g>\n   <g id=\"text_13\">\n    <!-- Accuracy -->\n    <g transform=\"translate(161.253693 16.318125)scale(0.12 -0.12)\">\n     <defs>\n      <path d=\"M 34.1875 63.1875 \nL 20.796875 26.90625 \nL 47.609375 26.90625 \nz\nM 28.609375 72.90625 \nL 39.796875 72.90625 \nL 67.578125 0 \nL 57.328125 0 \nL 50.6875 18.703125 \nL 17.828125 18.703125 \nL 11.1875 0 \nL 0.78125 0 \nz\n\" id=\"DejaVuSans-65\"/>\n      <path d=\"M 48.78125 52.59375 \nL 48.78125 44.1875 \nQ 44.96875 46.296875 41.140625 47.34375 \nQ 37.3125 48.390625 33.40625 48.390625 \nQ 24.65625 48.390625 19.8125 42.84375 \nQ 14.984375 37.3125 14.984375 27.296875 \nQ 14.984375 17.28125 19.8125 11.734375 \nQ 24.65625 6.203125 33.40625 6.203125 \nQ 37.3125 6.203125 41.140625 7.25 \nQ 44.96875 8.296875 48.78125 10.40625 \nL 48.78125 2.09375 \nQ 45.015625 0.34375 40.984375 -0.53125 \nQ 36.96875 -1.421875 32.421875 -1.421875 \nQ 20.0625 -1.421875 12.78125 6.34375 \nQ 5.515625 14.109375 5.515625 27.296875 \nQ 5.515625 40.671875 12.859375 48.328125 \nQ 20.21875 56 33.015625 56 \nQ 37.15625 56 41.109375 55.140625 \nQ 45.0625 54.296875 48.78125 52.59375 \nz\n\" id=\"DejaVuSans-99\"/>\n      <path d=\"M 8.5 21.578125 \nL 8.5 54.6875 \nL 17.484375 54.6875 \nL 17.484375 21.921875 \nQ 17.484375 14.15625 20.5 10.265625 \nQ 23.53125 6.390625 29.59375 6.390625 \nQ 36.859375 6.390625 41.078125 11.03125 \nQ 45.3125 15.671875 45.3125 23.6875 \nL 45.3125 54.6875 \nL 54.296875 54.6875 \nL 54.296875 0 \nL 45.3125 0 \nL 45.3125 8.40625 \nQ 42.046875 3.421875 37.71875 1 \nQ 33.40625 -1.421875 27.6875 -1.421875 \nQ 18.265625 -1.421875 13.375 4.4375 \nQ 8.5 10.296875 8.5 21.578125 \nz\nM 31.109375 56 \nz\n\" id=\"DejaVuSans-117\"/>\n      <path d=\"M 41.109375 46.296875 \nQ 39.59375 47.171875 37.8125 47.578125 \nQ 36.03125 48 33.890625 48 \nQ 26.265625 48 22.1875 43.046875 \nQ 18.109375 38.09375 18.109375 28.8125 \nL 18.109375 0 \nL 9.078125 0 \nL 9.078125 54.6875 \nL 18.109375 54.6875 \nL 18.109375 46.1875 \nQ 20.953125 51.171875 25.484375 53.578125 \nQ 30.03125 56 36.53125 56 \nQ 37.453125 56 38.578125 55.875 \nQ 39.703125 55.765625 41.0625 55.515625 \nz\n\" id=\"DejaVuSans-114\"/>\n      <path d=\"M 34.28125 27.484375 \nQ 23.390625 27.484375 19.1875 25 \nQ 14.984375 22.515625 14.984375 16.5 \nQ 14.984375 11.71875 18.140625 8.90625 \nQ 21.296875 6.109375 26.703125 6.109375 \nQ 34.1875 6.109375 38.703125 11.40625 \nQ 43.21875 16.703125 43.21875 25.484375 \nL 43.21875 27.484375 \nz\nM 52.203125 31.203125 \nL 52.203125 0 \nL 43.21875 0 \nL 43.21875 8.296875 \nQ 40.140625 3.328125 35.546875 0.953125 \nQ 30.953125 -1.421875 24.3125 -1.421875 \nQ 15.921875 -1.421875 10.953125 3.296875 \nQ 6 8.015625 6 15.921875 \nQ 6 25.140625 12.171875 29.828125 \nQ 18.359375 34.515625 30.609375 34.515625 \nL 43.21875 34.515625 \nL 43.21875 35.40625 \nQ 43.21875 41.609375 39.140625 45 \nQ 35.0625 48.390625 27.6875 48.390625 \nQ 23 48.390625 18.546875 47.265625 \nQ 14.109375 46.140625 10.015625 43.890625 \nL 10.015625 52.203125 \nQ 14.9375 54.109375 19.578125 55.046875 \nQ 24.21875 56 28.609375 56 \nQ 40.484375 56 46.34375 49.84375 \nQ 52.203125 43.703125 52.203125 31.203125 \nz\n\" id=\"DejaVuSans-97\"/>\n      <path d=\"M 32.171875 -5.078125 \nQ 28.375 -14.84375 24.75 -17.8125 \nQ 21.140625 -20.796875 15.09375 -20.796875 \nL 7.90625 -20.796875 \nL 7.90625 -13.28125 \nL 13.1875 -13.28125 \nQ 16.890625 -13.28125 18.9375 -11.515625 \nQ 21 -9.765625 23.484375 -3.21875 \nL 25.09375 0.875 \nL 2.984375 54.6875 \nL 12.5 54.6875 \nL 29.59375 11.921875 \nL 46.6875 54.6875 \nL 56.203125 54.6875 \nz\n\" id=\"DejaVuSans-121\"/>\n     </defs>\n     <use xlink:href=\"#DejaVuSans-65\"/>\n     <use x=\"66.658203\" xlink:href=\"#DejaVuSans-99\"/>\n     <use x=\"121.638672\" xlink:href=\"#DejaVuSans-99\"/>\n     <use x=\"176.619141\" xlink:href=\"#DejaVuSans-117\"/>\n     <use x=\"239.998047\" xlink:href=\"#DejaVuSans-114\"/>\n     <use x=\"281.111328\" xlink:href=\"#DejaVuSans-97\"/>\n     <use x=\"342.390625\" xlink:href=\"#DejaVuSans-99\"/>\n     <use x=\"397.371094\" xlink:href=\"#DejaVuSans-121\"/>\n    </g>\n   </g>\n   <g id=\"legend_1\">\n    <g id=\"patch_7\">\n     <path d=\"M 252.594886 289.118125 \nL 333.829261 289.118125 \nQ 335.829261 289.118125 335.829261 287.118125 \nL 335.829261 258.761875 \nQ 335.829261 256.761875 333.829261 256.761875 \nL 252.594886 256.761875 \nQ 250.594886 256.761875 250.594886 258.761875 \nL 250.594886 287.118125 \nQ 250.594886 289.118125 252.594886 289.118125 \nz\n\" style=\"fill:#ffffff;opacity:0.8;stroke:#cccccc;stroke-linejoin:miter;\"/>\n    </g>\n    <g id=\"line2d_15\">\n     <path d=\"M 254.594886 264.860313 \nL 274.594886 264.860313 \n\" style=\"fill:none;stroke:#0000ff;stroke-linecap:square;stroke-width:1.5;\"/>\n    </g>\n    <g id=\"line2d_16\"/>\n    <g id=\"text_14\">\n     <!-- training -->\n     <g transform=\"translate(282.594886 268.360313)scale(0.1 -0.1)\">\n      <defs>\n       <path d=\"M 18.3125 70.21875 \nL 18.3125 54.6875 \nL 36.8125 54.6875 \nL 36.8125 47.703125 \nL 18.3125 47.703125 \nL 18.3125 18.015625 \nQ 18.3125 11.328125 20.140625 9.421875 \nQ 21.96875 7.515625 27.59375 7.515625 \nL 36.8125 7.515625 \nL 36.8125 0 \nL 27.59375 0 \nQ 17.1875 0 13.234375 3.875 \nQ 9.28125 7.765625 9.28125 18.015625 \nL 9.28125 47.703125 \nL 2.6875 47.703125 \nL 2.6875 54.6875 \nL 9.28125 54.6875 \nL 9.28125 70.21875 \nz\n\" id=\"DejaVuSans-116\"/>\n       <path d=\"M 9.421875 54.6875 \nL 18.40625 54.6875 \nL 18.40625 0 \nL 9.421875 0 \nz\nM 9.421875 75.984375 \nL 18.40625 75.984375 \nL 18.40625 64.59375 \nL 9.421875 64.59375 \nz\n\" id=\"DejaVuSans-105\"/>\n       <path d=\"M 54.890625 33.015625 \nL 54.890625 0 \nL 45.90625 0 \nL 45.90625 32.71875 \nQ 45.90625 40.484375 42.875 44.328125 \nQ 39.84375 48.1875 33.796875 48.1875 \nQ 26.515625 48.1875 22.3125 43.546875 \nQ 18.109375 38.921875 18.109375 30.90625 \nL 18.109375 0 \nL 9.078125 0 \nL 9.078125 54.6875 \nL 18.109375 54.6875 \nL 18.109375 46.1875 \nQ 21.34375 51.125 25.703125 53.5625 \nQ 30.078125 56 35.796875 56 \nQ 45.21875 56 50.046875 50.171875 \nQ 54.890625 44.34375 54.890625 33.015625 \nz\n\" id=\"DejaVuSans-110\"/>\n       <path d=\"M 45.40625 27.984375 \nQ 45.40625 37.75 41.375 43.109375 \nQ 37.359375 48.484375 30.078125 48.484375 \nQ 22.859375 48.484375 18.828125 43.109375 \nQ 14.796875 37.75 14.796875 27.984375 \nQ 14.796875 18.265625 18.828125 12.890625 \nQ 22.859375 7.515625 30.078125 7.515625 \nQ 37.359375 7.515625 41.375 12.890625 \nQ 45.40625 18.265625 45.40625 27.984375 \nz\nM 54.390625 6.78125 \nQ 54.390625 -7.171875 48.1875 -13.984375 \nQ 42 -20.796875 29.203125 -20.796875 \nQ 24.46875 -20.796875 20.265625 -20.09375 \nQ 16.0625 -19.390625 12.109375 -17.921875 \nL 12.109375 -9.1875 \nQ 16.0625 -11.328125 19.921875 -12.34375 \nQ 23.78125 -13.375 27.78125 -13.375 \nQ 36.625 -13.375 41.015625 -8.765625 \nQ 45.40625 -4.15625 45.40625 5.171875 \nL 45.40625 9.625 \nQ 42.625 4.78125 38.28125 2.390625 \nQ 33.9375 0 27.875 0 \nQ 17.828125 0 11.671875 7.65625 \nQ 5.515625 15.328125 5.515625 27.984375 \nQ 5.515625 40.671875 11.671875 48.328125 \nQ 17.828125 56 27.875 56 \nQ 33.9375 56 38.28125 53.609375 \nQ 42.625 51.21875 45.40625 46.390625 \nL 45.40625 54.6875 \nL 54.390625 54.6875 \nz\n\" id=\"DejaVuSans-103\"/>\n      </defs>\n      <use xlink:href=\"#DejaVuSans-116\"/>\n      <use x=\"39.208984\" xlink:href=\"#DejaVuSans-114\"/>\n      <use x=\"80.322266\" xlink:href=\"#DejaVuSans-97\"/>\n      <use x=\"141.601562\" xlink:href=\"#DejaVuSans-105\"/>\n      <use x=\"169.384766\" xlink:href=\"#DejaVuSans-110\"/>\n      <use x=\"232.763672\" xlink:href=\"#DejaVuSans-105\"/>\n      <use x=\"260.546875\" xlink:href=\"#DejaVuSans-110\"/>\n      <use x=\"323.925781\" xlink:href=\"#DejaVuSans-103\"/>\n     </g>\n    </g>\n    <g id=\"line2d_17\">\n     <path d=\"M 254.594886 279.538438 \nL 274.594886 279.538438 \n\" style=\"fill:none;stroke:#ff0000;stroke-linecap:square;stroke-width:1.5;\"/>\n    </g>\n    <g id=\"line2d_18\"/>\n    <g id=\"text_15\">\n     <!-- validation -->\n     <g transform=\"translate(282.594886 283.038438)scale(0.1 -0.1)\">\n      <defs>\n       <path d=\"M 2.984375 54.6875 \nL 12.5 54.6875 \nL 29.59375 8.796875 \nL 46.6875 54.6875 \nL 56.203125 54.6875 \nL 35.6875 0 \nL 23.484375 0 \nz\n\" id=\"DejaVuSans-118\"/>\n       <path d=\"M 9.421875 75.984375 \nL 18.40625 75.984375 \nL 18.40625 0 \nL 9.421875 0 \nz\n\" id=\"DejaVuSans-108\"/>\n       <path d=\"M 45.40625 46.390625 \nL 45.40625 75.984375 \nL 54.390625 75.984375 \nL 54.390625 0 \nL 45.40625 0 \nL 45.40625 8.203125 \nQ 42.578125 3.328125 38.25 0.953125 \nQ 33.9375 -1.421875 27.875 -1.421875 \nQ 17.96875 -1.421875 11.734375 6.484375 \nQ 5.515625 14.40625 5.515625 27.296875 \nQ 5.515625 40.1875 11.734375 48.09375 \nQ 17.96875 56 27.875 56 \nQ 33.9375 56 38.25 53.625 \nQ 42.578125 51.265625 45.40625 46.390625 \nz\nM 14.796875 27.296875 \nQ 14.796875 17.390625 18.875 11.75 \nQ 22.953125 6.109375 30.078125 6.109375 \nQ 37.203125 6.109375 41.296875 11.75 \nQ 45.40625 17.390625 45.40625 27.296875 \nQ 45.40625 37.203125 41.296875 42.84375 \nQ 37.203125 48.484375 30.078125 48.484375 \nQ 22.953125 48.484375 18.875 42.84375 \nQ 14.796875 37.203125 14.796875 27.296875 \nz\n\" id=\"DejaVuSans-100\"/>\n       <path d=\"M 30.609375 48.390625 \nQ 23.390625 48.390625 19.1875 42.75 \nQ 14.984375 37.109375 14.984375 27.296875 \nQ 14.984375 17.484375 19.15625 11.84375 \nQ 23.34375 6.203125 30.609375 6.203125 \nQ 37.796875 6.203125 41.984375 11.859375 \nQ 46.1875 17.53125 46.1875 27.296875 \nQ 46.1875 37.015625 41.984375 42.703125 \nQ 37.796875 48.390625 30.609375 48.390625 \nz\nM 30.609375 56 \nQ 42.328125 56 49.015625 48.375 \nQ 55.71875 40.765625 55.71875 27.296875 \nQ 55.71875 13.875 49.015625 6.21875 \nQ 42.328125 -1.421875 30.609375 -1.421875 \nQ 18.84375 -1.421875 12.171875 6.21875 \nQ 5.515625 13.875 5.515625 27.296875 \nQ 5.515625 40.765625 12.171875 48.375 \nQ 18.84375 56 30.609375 56 \nz\n\" id=\"DejaVuSans-111\"/>\n      </defs>\n      <use xlink:href=\"#DejaVuSans-118\"/>\n      <use x=\"59.179688\" xlink:href=\"#DejaVuSans-97\"/>\n      <use x=\"120.458984\" xlink:href=\"#DejaVuSans-108\"/>\n      <use x=\"148.242188\" xlink:href=\"#DejaVuSans-105\"/>\n      <use x=\"176.025391\" xlink:href=\"#DejaVuSans-100\"/>\n      <use x=\"239.501953\" xlink:href=\"#DejaVuSans-97\"/>\n      <use x=\"300.78125\" xlink:href=\"#DejaVuSans-116\"/>\n      <use x=\"339.990234\" xlink:href=\"#DejaVuSans-105\"/>\n      <use x=\"367.773438\" xlink:href=\"#DejaVuSans-111\"/>\n      <use x=\"428.955078\" xlink:href=\"#DejaVuSans-110\"/>\n     </g>\n    </g>\n   </g>\n  </g>\n  <g id=\"axes_2\">\n   <g id=\"patch_8\">\n    <path d=\"M 401.701989 294.118125 \nL 706.065625 294.118125 \nL 706.065625 22.318125 \nL 401.701989 22.318125 \nz\n\" style=\"fill:#ffffff;\"/>\n   </g>\n   <g id=\"matplotlib.axis_3\">\n    <g id=\"xtick_7\">\n     <g id=\"line2d_19\">\n      <g>\n       <use style=\"stroke:#000000;stroke-width:0.8;\" x=\"412.741808\" xlink:href=\"#m8c3674a5cb\" y=\"294.118125\"/>\n      </g>\n     </g>\n     <g id=\"text_16\">\n      <!-- 0 -->\n      <g transform=\"translate(409.560558 308.716563)scale(0.1 -0.1)\">\n       <use xlink:href=\"#DejaVuSans-48\"/>\n      </g>\n     </g>\n    </g>\n    <g id=\"xtick_8\">\n     <g id=\"line2d_20\">\n      <g>\n       <use style=\"stroke:#000000;stroke-width:0.8;\" x=\"468.63963\" xlink:href=\"#m8c3674a5cb\" y=\"294.118125\"/>\n      </g>\n     </g>\n     <g id=\"text_17\">\n      <!-- 20 -->\n      <g transform=\"translate(462.27713 308.716563)scale(0.1 -0.1)\">\n       <use xlink:href=\"#DejaVuSans-50\"/>\n       <use x=\"63.623047\" xlink:href=\"#DejaVuSans-48\"/>\n      </g>\n     </g>\n    </g>\n    <g id=\"xtick_9\">\n     <g id=\"line2d_21\">\n      <g>\n       <use style=\"stroke:#000000;stroke-width:0.8;\" x=\"524.537451\" xlink:href=\"#m8c3674a5cb\" y=\"294.118125\"/>\n      </g>\n     </g>\n     <g id=\"text_18\">\n      <!-- 40 -->\n      <g transform=\"translate(518.174951 308.716563)scale(0.1 -0.1)\">\n       <use xlink:href=\"#DejaVuSans-52\"/>\n       <use x=\"63.623047\" xlink:href=\"#DejaVuSans-48\"/>\n      </g>\n     </g>\n    </g>\n    <g id=\"xtick_10\">\n     <g id=\"line2d_22\">\n      <g>\n       <use style=\"stroke:#000000;stroke-width:0.8;\" x=\"580.435272\" xlink:href=\"#m8c3674a5cb\" y=\"294.118125\"/>\n      </g>\n     </g>\n     <g id=\"text_19\">\n      <!-- 60 -->\n      <g transform=\"translate(574.072772 308.716563)scale(0.1 -0.1)\">\n       <use xlink:href=\"#DejaVuSans-54\"/>\n       <use x=\"63.623047\" xlink:href=\"#DejaVuSans-48\"/>\n      </g>\n     </g>\n    </g>\n    <g id=\"xtick_11\">\n     <g id=\"line2d_23\">\n      <g>\n       <use style=\"stroke:#000000;stroke-width:0.8;\" x=\"636.333093\" xlink:href=\"#m8c3674a5cb\" y=\"294.118125\"/>\n      </g>\n     </g>\n     <g id=\"text_20\">\n      <!-- 80 -->\n      <g transform=\"translate(629.970593 308.716563)scale(0.1 -0.1)\">\n       <use xlink:href=\"#DejaVuSans-56\"/>\n       <use x=\"63.623047\" xlink:href=\"#DejaVuSans-48\"/>\n      </g>\n     </g>\n    </g>\n    <g id=\"xtick_12\">\n     <g id=\"line2d_24\">\n      <g>\n       <use style=\"stroke:#000000;stroke-width:0.8;\" x=\"692.230914\" xlink:href=\"#m8c3674a5cb\" y=\"294.118125\"/>\n      </g>\n     </g>\n     <g id=\"text_21\">\n      <!-- 100 -->\n      <g transform=\"translate(682.687164 308.716563)scale(0.1 -0.1)\">\n       <use xlink:href=\"#DejaVuSans-49\"/>\n       <use x=\"63.623047\" xlink:href=\"#DejaVuSans-48\"/>\n       <use x=\"127.246094\" xlink:href=\"#DejaVuSans-48\"/>\n      </g>\n     </g>\n    </g>\n   </g>\n   <g id=\"matplotlib.axis_4\">\n    <g id=\"ytick_7\">\n     <g id=\"line2d_25\">\n      <g>\n       <use style=\"stroke:#000000;stroke-width:0.8;\" x=\"401.701989\" xlink:href=\"#mf794cde88d\" y=\"281.765036\"/>\n      </g>\n     </g>\n     <g id=\"text_22\">\n      <!-- 0.00 -->\n      <g transform=\"translate(372.436364 285.564254)scale(0.1 -0.1)\">\n       <use xlink:href=\"#DejaVuSans-48\"/>\n       <use x=\"63.623047\" xlink:href=\"#DejaVuSans-46\"/>\n       <use x=\"95.410156\" xlink:href=\"#DejaVuSans-48\"/>\n       <use x=\"159.033203\" xlink:href=\"#DejaVuSans-48\"/>\n      </g>\n     </g>\n    </g>\n    <g id=\"ytick_8\">\n     <g id=\"line2d_26\">\n      <g>\n       <use style=\"stroke:#000000;stroke-width:0.8;\" x=\"401.701989\" xlink:href=\"#mf794cde88d\" y=\"233.594619\"/>\n      </g>\n     </g>\n     <g id=\"text_23\">\n      <!-- 0.05 -->\n      <g transform=\"translate(372.436364 237.393838)scale(0.1 -0.1)\">\n       <defs>\n        <path d=\"M 10.796875 72.90625 \nL 49.515625 72.90625 \nL 49.515625 64.59375 \nL 19.828125 64.59375 \nL 19.828125 46.734375 \nQ 21.96875 47.46875 24.109375 47.828125 \nQ 26.265625 48.1875 28.421875 48.1875 \nQ 40.625 48.1875 47.75 41.5 \nQ 54.890625 34.8125 54.890625 23.390625 \nQ 54.890625 11.625 47.5625 5.09375 \nQ 40.234375 -1.421875 26.90625 -1.421875 \nQ 22.3125 -1.421875 17.546875 -0.640625 \nQ 12.796875 0.140625 7.71875 1.703125 \nL 7.71875 11.625 \nQ 12.109375 9.234375 16.796875 8.0625 \nQ 21.484375 6.890625 26.703125 6.890625 \nQ 35.15625 6.890625 40.078125 11.328125 \nQ 45.015625 15.765625 45.015625 23.390625 \nQ 45.015625 31 40.078125 35.4375 \nQ 35.15625 39.890625 26.703125 39.890625 \nQ 22.75 39.890625 18.8125 39.015625 \nQ 14.890625 38.140625 10.796875 36.28125 \nz\n\" id=\"DejaVuSans-53\"/>\n       </defs>\n       <use xlink:href=\"#DejaVuSans-48\"/>\n       <use x=\"63.623047\" xlink:href=\"#DejaVuSans-46\"/>\n       <use x=\"95.410156\" xlink:href=\"#DejaVuSans-48\"/>\n       <use x=\"159.033203\" xlink:href=\"#DejaVuSans-53\"/>\n      </g>\n     </g>\n    </g>\n    <g id=\"ytick_9\">\n     <g id=\"line2d_27\">\n      <g>\n       <use style=\"stroke:#000000;stroke-width:0.8;\" x=\"401.701989\" xlink:href=\"#mf794cde88d\" y=\"185.424202\"/>\n      </g>\n     </g>\n     <g id=\"text_24\">\n      <!-- 0.10 -->\n      <g transform=\"translate(372.436364 189.223421)scale(0.1 -0.1)\">\n       <use xlink:href=\"#DejaVuSans-48\"/>\n       <use x=\"63.623047\" xlink:href=\"#DejaVuSans-46\"/>\n       <use x=\"95.410156\" xlink:href=\"#DejaVuSans-49\"/>\n       <use x=\"159.033203\" xlink:href=\"#DejaVuSans-48\"/>\n      </g>\n     </g>\n    </g>\n    <g id=\"ytick_10\">\n     <g id=\"line2d_28\">\n      <g>\n       <use style=\"stroke:#000000;stroke-width:0.8;\" x=\"401.701989\" xlink:href=\"#mf794cde88d\" y=\"137.253785\"/>\n      </g>\n     </g>\n     <g id=\"text_25\">\n      <!-- 0.15 -->\n      <g transform=\"translate(372.436364 141.053004)scale(0.1 -0.1)\">\n       <use xlink:href=\"#DejaVuSans-48\"/>\n       <use x=\"63.623047\" xlink:href=\"#DejaVuSans-46\"/>\n       <use x=\"95.410156\" xlink:href=\"#DejaVuSans-49\"/>\n       <use x=\"159.033203\" xlink:href=\"#DejaVuSans-53\"/>\n      </g>\n     </g>\n    </g>\n    <g id=\"ytick_11\">\n     <g id=\"line2d_29\">\n      <g>\n       <use style=\"stroke:#000000;stroke-width:0.8;\" x=\"401.701989\" xlink:href=\"#mf794cde88d\" y=\"89.083369\"/>\n      </g>\n     </g>\n     <g id=\"text_26\">\n      <!-- 0.20 -->\n      <g transform=\"translate(372.436364 92.882587)scale(0.1 -0.1)\">\n       <use xlink:href=\"#DejaVuSans-48\"/>\n       <use x=\"63.623047\" xlink:href=\"#DejaVuSans-46\"/>\n       <use x=\"95.410156\" xlink:href=\"#DejaVuSans-50\"/>\n       <use x=\"159.033203\" xlink:href=\"#DejaVuSans-48\"/>\n      </g>\n     </g>\n    </g>\n    <g id=\"ytick_12\">\n     <g id=\"line2d_30\">\n      <g>\n       <use style=\"stroke:#000000;stroke-width:0.8;\" x=\"401.701989\" xlink:href=\"#mf794cde88d\" y=\"40.912952\"/>\n      </g>\n     </g>\n     <g id=\"text_27\">\n      <!-- 0.25 -->\n      <g transform=\"translate(372.436364 44.712171)scale(0.1 -0.1)\">\n       <use xlink:href=\"#DejaVuSans-48\"/>\n       <use x=\"63.623047\" xlink:href=\"#DejaVuSans-46\"/>\n       <use x=\"95.410156\" xlink:href=\"#DejaVuSans-50\"/>\n       <use x=\"159.033203\" xlink:href=\"#DejaVuSans-53\"/>\n      </g>\n     </g>\n    </g>\n   </g>\n   <g id=\"line2d_31\">\n    <path clip-path=\"url(#pd751d7b32f)\" d=\"M 415.536699 34.67267 \nL 418.33159 194.252062 \nL 421.126481 231.089556 \nL 423.921373 248.655145 \nL 426.716264 259.167088 \nL 429.511155 265.939155 \nL 432.306046 270.309684 \nL 435.100937 273.220504 \nL 437.895828 275.199895 \nL 440.690719 277.193272 \nL 443.48561 278.258676 \nL 446.280501 278.91035 \nL 449.075392 279.444262 \nL 451.870283 279.695286 \nL 454.665174 279.919445 \nL 457.460065 280.154229 \nL 460.254956 280.350848 \nL 463.049847 280.512874 \nL 465.844738 280.612422 \nL 468.63963 280.728136 \nL 471.434521 280.815336 \nL 474.229412 280.888197 \nL 477.024303 280.968697 \nL 479.819194 281.041755 \nL 482.614085 281.103345 \nL 485.408976 281.128232 \nL 488.203867 281.192467 \nL 490.998758 281.238507 \nL 493.793649 281.278462 \nL 496.58854 281.304385 \nL 499.383431 281.33145 \nL 502.178322 281.328681 \nL 504.973213 281.413469 \nL 507.768104 281.427052 \nL 510.562995 281.440609 \nL 513.357886 281.456325 \nL 516.152778 281.515683 \nL 518.947669 281.527099 \nL 521.74256 281.542848 \nL 524.537451 281.55353 \nL 527.332342 281.570065 \nL 530.127233 281.582014 \nL 532.922124 281.592955 \nL 535.717015 281.608523 \nL 538.511906 281.619774 \nL 541.306797 281.632613 \nL 544.101688 281.63206 \nL 546.896579 281.649863 \nL 549.69147 281.656108 \nL 552.486361 281.666255 \nL 555.281252 281.670042 \nL 558.076143 281.682652 \nL 560.871034 281.685281 \nL 563.665926 281.691076 \nL 566.460817 281.695851 \nL 569.255708 281.703026 \nL 572.050599 281.70923 \nL 574.84549 281.712478 \nL 577.640381 281.715422 \nL 580.435272 281.715725 \nL 583.230163 281.722302 \nL 586.025054 281.726783 \nL 588.819945 281.72986 \nL 591.614836 281.732804 \nL 594.409727 281.735476 \nL 597.204618 281.7368 \nL 599.999509 281.738657 \nL 602.7944 281.741065 \nL 605.589291 281.743054 \nL 608.384182 281.744572 \nL 611.179074 281.746528 \nL 613.973965 281.747997 \nL 616.768856 281.749273 \nL 619.563747 281.750987 \nL 622.358638 281.752334 \nL 625.153529 281.753078 \nL 627.94842 281.753681 \nL 630.743311 281.75475 \nL 633.538202 281.75576 \nL 636.333093 281.756587 \nL 639.127984 281.757204 \nL 641.922875 281.758256 \nL 644.717766 281.758457 \nL 647.512657 281.759095 \nL 650.307548 281.759534 \nL 653.102439 281.760049 \nL 655.89733 281.760565 \nL 658.692222 281.760846 \nL 661.487113 281.7612 \nL 664.282004 281.761468 \nL 667.076895 281.761852 \nL 669.871786 281.762019 \nL 672.666677 281.762272 \nL 675.461568 281.762683 \nL 678.256459 281.762773 \nL 681.05135 281.762903 \nL 683.846241 281.763121 \nL 686.641132 281.763257 \nL 689.436023 281.763453 \nL 692.230914 281.76358 \n\" style=\"fill:none;stroke:#0000ff;stroke-linecap:square;stroke-width:1.5;\"/>\n   </g>\n   <g id=\"line2d_32\">\n    <path clip-path=\"url(#pd751d7b32f)\" d=\"M 415.536699 156.932205 \nL 418.33159 205.717088 \nL 421.126481 223.041906 \nL 423.921373 233.595135 \nL 426.716264 236.189641 \nL 429.511155 241.21916 \nL 432.306046 246.016957 \nL 435.100937 243.888863 \nL 437.895828 247.128147 \nL 440.690719 246.452938 \nL 443.48561 244.298408 \nL 446.280501 247.135328 \nL 449.075392 246.492776 \nL 451.870283 247.462639 \nL 454.665174 246.008892 \nL 457.460065 246.024232 \nL 460.254956 246.45596 \nL 463.049847 242.630604 \nL 465.844738 244.834892 \nL 468.63963 246.436024 \nL 471.434521 246.705771 \nL 474.229412 245.053963 \nL 477.024303 245.879879 \nL 479.819194 244.700273 \nL 482.614085 244.997135 \nL 485.408976 244.361423 \nL 488.203867 244.905293 \nL 490.998758 243.216809 \nL 493.793649 241.984305 \nL 496.58854 241.432798 \nL 499.383431 242.111868 \nL 502.178322 240.489137 \nL 504.973213 241.944485 \nL 507.768104 241.199249 \nL 510.562995 239.754463 \nL 513.357886 239.011337 \nL 516.152778 238.700776 \nL 518.947669 238.703234 \nL 521.74256 236.862506 \nL 524.537451 236.134382 \nL 527.332342 235.302895 \nL 530.127233 234.108437 \nL 532.922124 234.034192 \nL 535.717015 234.038682 \nL 538.511906 233.137695 \nL 541.306797 230.524867 \nL 544.101688 231.624748 \nL 546.896579 231.32285 \nL 549.69147 231.598143 \nL 552.486361 229.323669 \nL 555.281252 228.117382 \nL 558.076143 229.271729 \nL 560.871034 226.33052 \nL 563.665926 226.861448 \nL 566.460817 226.444553 \nL 569.255708 224.423353 \nL 572.050599 224.958692 \nL 574.84549 223.680956 \nL 577.640381 225.127306 \nL 580.435272 223.281334 \nL 583.230163 222.232456 \nL 586.025054 222.041906 \nL 588.819945 219.495984 \nL 591.614836 219.94663 \nL 594.409727 217.673086 \nL 597.204618 219.247928 \nL 599.999509 218.796902 \nL 602.7944 216.516438 \nL 605.589291 216.25829 \nL 608.384182 215.51553 \nL 611.179074 215.114964 \nL 613.973965 212.92477 \nL 616.768856 212.816469 \nL 619.563747 211.765402 \nL 622.358638 210.939543 \nL 625.153529 210.628091 \nL 627.94842 210.066747 \nL 630.743311 209.425311 \nL 633.538202 208.098366 \nL 636.333093 208.577774 \nL 639.127984 206.210952 \nL 641.922875 206.108509 \nL 644.717766 205.410331 \nL 647.512657 204.219243 \nL 650.307548 202.953907 \nL 653.102439 201.733705 \nL 655.89733 202.073337 \nL 658.692222 200.973546 \nL 661.487113 199.052432 \nL 664.282004 198.921168 \nL 667.076895 197.715194 \nL 669.871786 198.362523 \nL 672.666677 196.417118 \nL 675.461568 195.24216 \nL 678.256459 194.390273 \nL 681.05135 193.366625 \nL 683.846241 191.838985 \nL 686.641132 191.794101 \nL 689.436023 191.205962 \nL 692.230914 189.565347 \n\" style=\"fill:none;stroke:#ff0000;stroke-linecap:square;stroke-width:1.5;\"/>\n   </g>\n   <g id=\"patch_9\">\n    <path d=\"M 401.701989 294.118125 \nL 401.701989 22.318125 \n\" style=\"fill:none;stroke:#000000;stroke-linecap:square;stroke-linejoin:miter;stroke-width:0.8;\"/>\n   </g>\n   <g id=\"patch_10\">\n    <path d=\"M 706.065625 294.118125 \nL 706.065625 22.318125 \n\" style=\"fill:none;stroke:#000000;stroke-linecap:square;stroke-linejoin:miter;stroke-width:0.8;\"/>\n   </g>\n   <g id=\"patch_11\">\n    <path d=\"M 401.701989 294.118125 \nL 706.065625 294.118125 \n\" style=\"fill:none;stroke:#000000;stroke-linecap:square;stroke-linejoin:miter;stroke-width:0.8;\"/>\n   </g>\n   <g id=\"patch_12\">\n    <path d=\"M 401.701989 22.318125 \nL 706.065625 22.318125 \n\" style=\"fill:none;stroke:#000000;stroke-linecap:square;stroke-linejoin:miter;stroke-width:0.8;\"/>\n   </g>\n   <g id=\"text_28\">\n    <!-- Loss -->\n    <g transform=\"translate(540.723182 16.318125)scale(0.12 -0.12)\">\n     <defs>\n      <path d=\"M 9.8125 72.90625 \nL 19.671875 72.90625 \nL 19.671875 8.296875 \nL 55.171875 8.296875 \nL 55.171875 0 \nL 9.8125 0 \nz\n\" id=\"DejaVuSans-76\"/>\n      <path d=\"M 44.28125 53.078125 \nL 44.28125 44.578125 \nQ 40.484375 46.53125 36.375 47.5 \nQ 32.28125 48.484375 27.875 48.484375 \nQ 21.1875 48.484375 17.84375 46.4375 \nQ 14.5 44.390625 14.5 40.28125 \nQ 14.5 37.15625 16.890625 35.375 \nQ 19.28125 33.59375 26.515625 31.984375 \nL 29.59375 31.296875 \nQ 39.15625 29.25 43.1875 25.515625 \nQ 47.21875 21.78125 47.21875 15.09375 \nQ 47.21875 7.46875 41.1875 3.015625 \nQ 35.15625 -1.421875 24.609375 -1.421875 \nQ 20.21875 -1.421875 15.453125 -0.5625 \nQ 10.6875 0.296875 5.421875 2 \nL 5.421875 11.28125 \nQ 10.40625 8.6875 15.234375 7.390625 \nQ 20.0625 6.109375 24.8125 6.109375 \nQ 31.15625 6.109375 34.5625 8.28125 \nQ 37.984375 10.453125 37.984375 14.40625 \nQ 37.984375 18.0625 35.515625 20.015625 \nQ 33.0625 21.96875 24.703125 23.78125 \nL 21.578125 24.515625 \nQ 13.234375 26.265625 9.515625 29.90625 \nQ 5.8125 33.546875 5.8125 39.890625 \nQ 5.8125 47.609375 11.28125 51.796875 \nQ 16.75 56 26.8125 56 \nQ 31.78125 56 36.171875 55.265625 \nQ 40.578125 54.546875 44.28125 53.078125 \nz\n\" id=\"DejaVuSans-115\"/>\n     </defs>\n     <use xlink:href=\"#DejaVuSans-76\"/>\n     <use x=\"53.962891\" xlink:href=\"#DejaVuSans-111\"/>\n     <use x=\"115.144531\" xlink:href=\"#DejaVuSans-115\"/>\n     <use x=\"167.244141\" xlink:href=\"#DejaVuSans-115\"/>\n    </g>\n   </g>\n   <g id=\"legend_2\">\n    <g id=\"patch_13\">\n     <path d=\"M 617.83125 59.674375 \nL 699.065625 59.674375 \nQ 701.065625 59.674375 701.065625 57.674375 \nL 701.065625 29.318125 \nQ 701.065625 27.318125 699.065625 27.318125 \nL 617.83125 27.318125 \nQ 615.83125 27.318125 615.83125 29.318125 \nL 615.83125 57.674375 \nQ 615.83125 59.674375 617.83125 59.674375 \nz\n\" style=\"fill:#ffffff;opacity:0.8;stroke:#cccccc;stroke-linejoin:miter;\"/>\n    </g>\n    <g id=\"line2d_33\">\n     <path d=\"M 619.83125 35.416562 \nL 639.83125 35.416562 \n\" style=\"fill:none;stroke:#0000ff;stroke-linecap:square;stroke-width:1.5;\"/>\n    </g>\n    <g id=\"line2d_34\"/>\n    <g id=\"text_29\">\n     <!-- training -->\n     <g transform=\"translate(647.83125 38.916562)scale(0.1 -0.1)\">\n      <use xlink:href=\"#DejaVuSans-116\"/>\n      <use x=\"39.208984\" xlink:href=\"#DejaVuSans-114\"/>\n      <use x=\"80.322266\" xlink:href=\"#DejaVuSans-97\"/>\n      <use x=\"141.601562\" xlink:href=\"#DejaVuSans-105\"/>\n      <use x=\"169.384766\" xlink:href=\"#DejaVuSans-110\"/>\n      <use x=\"232.763672\" xlink:href=\"#DejaVuSans-105\"/>\n      <use x=\"260.546875\" xlink:href=\"#DejaVuSans-110\"/>\n      <use x=\"323.925781\" xlink:href=\"#DejaVuSans-103\"/>\n     </g>\n    </g>\n    <g id=\"line2d_35\">\n     <path d=\"M 619.83125 50.094688 \nL 639.83125 50.094688 \n\" style=\"fill:none;stroke:#ff0000;stroke-linecap:square;stroke-width:1.5;\"/>\n    </g>\n    <g id=\"line2d_36\"/>\n    <g id=\"text_30\">\n     <!-- validation -->\n     <g transform=\"translate(647.83125 53.594688)scale(0.1 -0.1)\">\n      <use xlink:href=\"#DejaVuSans-118\"/>\n      <use x=\"59.179688\" xlink:href=\"#DejaVuSans-97\"/>\n      <use x=\"120.458984\" xlink:href=\"#DejaVuSans-108\"/>\n      <use x=\"148.242188\" xlink:href=\"#DejaVuSans-105\"/>\n      <use x=\"176.025391\" xlink:href=\"#DejaVuSans-100\"/>\n      <use x=\"239.501953\" xlink:href=\"#DejaVuSans-97\"/>\n      <use x=\"300.78125\" xlink:href=\"#DejaVuSans-116\"/>\n      <use x=\"339.990234\" xlink:href=\"#DejaVuSans-105\"/>\n      <use x=\"367.773438\" xlink:href=\"#DejaVuSans-111\"/>\n      <use x=\"428.955078\" xlink:href=\"#DejaVuSans-110\"/>\n     </g>\n    </g>\n   </g>\n  </g>\n </g>\n <defs>\n  <clipPath id=\"pce67e76115\">\n   <rect height=\"271.8\" width=\"304.363636\" x=\"36.465625\" y=\"22.318125\"/>\n  </clipPath>\n  <clipPath id=\"pd751d7b32f\">\n   <rect height=\"271.8\" width=\"304.363636\" x=\"401.701989\" y=\"22.318125\"/>\n  </clipPath>\n </defs>\n</svg>\n",
      "image/png": "[encoded data removed]"
     },
     "metadata": {
      "needs_background": "light"
     }
    }
   ],
   "source": [
    "plot_history(history)"
   ]
  },
  {
   "cell_type": "code",
   "execution_count": 137,
   "metadata": {},
   "outputs": [
    {
     "output_type": "stream",
     "name": "stdout",
     "text": [
      "Training Accuracy: 100.00%\nTesting Accuracy:  99.02%\n"
     ]
    }
   ],
   "source": [
    "loss, accuracy = model.evaluate(X_train, y_train, verbose=False)\n",
    "print(\"Training Accuracy: {:.2%}\".format(accuracy))\n",
    "loss, accuracy = model.evaluate(X_test, y_test, verbose=False)\n",
    "print(\"Testing Accuracy:  {:.2%}\".format(accuracy))"
   ]
  },
  {
   "source": [
    "As you can see the accuracy on both `training` and `test` data is already very good. Let's see whether we can squeeze out something more."
   ],
   "cell_type": "markdown",
   "metadata": {}
  },
  {
   "cell_type": "code",
   "execution_count": null,
   "metadata": {},
   "outputs": [],
   "source": []
  },
  {
   "source": [
    "## Logistic Regression"
   ],
   "cell_type": "markdown",
   "metadata": {}
  },
  {
   "source": [
    "Now let's compare our previous models performance with LogisticRegresion model."
   ],
   "cell_type": "markdown",
   "metadata": {}
  },
  {
   "cell_type": "code",
   "execution_count": 87,
   "metadata": {},
   "outputs": [
    {
     "output_type": "stream",
     "name": "stdout",
     "text": [
      "Accuracy: 98.69%\n"
     ]
    }
   ],
   "source": [
    "from sklearn.linear_model import LogisticRegression\n",
    "\n",
    "classifier = LogisticRegression()\n",
    "classifier.fit(X_train, y_train)\n",
    "\n",
    "score = classifier.score(X_test, y_test)\n",
    "\n",
    "print(\"Accuracy:\", \"{:.2%}\".format(score))"
   ]
  },
  {
   "source": [
    "As you can see that the logistic regression result is pretty impresive – above 95%."
   ],
   "cell_type": "markdown",
   "metadata": {}
  }
 ]
}