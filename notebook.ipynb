{
 "metadata": {
  "language_info": {
   "codemirror_mode": {
    "name": "ipython",
    "version": 3
   },
   "file_extension": ".py",
   "mimetype": "text/x-python",
   "name": "python",
   "nbconvert_exporter": "python",
   "pygments_lexer": "ipython3",
   "version": "3.7.7"
  },
  "orig_nbformat": 4,
  "kernelspec": {
   "name": "python3",
   "display_name": "Python 3.7.7 64-bit ('CI': conda)"
  },
  "interpreter": {
   "hash": "f7083fe511133daffeb49be461125359fe7d6b3c2688ba4e67215bcacd5aa8a4"
  }
 },
 "nbformat": 4,
 "nbformat_minor": 2,
 "cells": [
  {
   "source": [
    "# Spam emails filter"
   ],
   "cell_type": "markdown",
   "metadata": {}
  },
  {
   "source": [
    "## Data exploration"
   ],
   "cell_type": "markdown",
   "metadata": {}
  },
  {
   "cell_type": "code",
   "execution_count": 1,
   "metadata": {},
   "outputs": [],
   "source": [
    "import os\n",
    "\n",
    "cwd = os.getcwd()\n",
    "DATA_DIR = os.path.join(cwd, \"data\")"
   ]
  },
  {
   "source": [
    "The dataset is divided into examples of two groups of emails: `spam` and not spam `clean`."
   ],
   "cell_type": "markdown",
   "metadata": {}
  },
  {
   "cell_type": "code",
   "execution_count": 2,
   "metadata": {},
   "outputs": [
    {
     "output_type": "execute_result",
     "data": {
      "text/plain": [
       "['spam', 'all', 'clean']"
      ]
     },
     "metadata": {},
     "execution_count": 2
    }
   ],
   "source": [
    "os.listdir(DATA_DIR)"
   ]
  },
  {
   "cell_type": "code",
   "execution_count": 3,
   "metadata": {},
   "outputs": [],
   "source": [
    "def get_filenames(dir_name):\n",
    "    return [name for name in sorted(os.listdir(dir_name))]"
   ]
  },
  {
   "cell_type": "code",
   "execution_count": 4,
   "metadata": {},
   "outputs": [],
   "source": [
    "\n",
    "clean_filesnames = get_filenames(os.path.join(DATA_DIR, 'clean'))\n",
    "spam_filenames = get_filenames(os.path.join(DATA_DIR, 'spam'))\n"
   ]
  },
  {
   "cell_type": "code",
   "execution_count": 5,
   "metadata": {},
   "outputs": [
    {
     "output_type": "display_data",
     "data": {
      "text/plain": "<Figure size 432x288 with 1 Axes>",
      "image/svg+xml": "<?xml version=\"1.0\" encoding=\"utf-8\" standalone=\"no\"?>\n<!DOCTYPE svg PUBLIC \"-//W3C//DTD SVG 1.1//EN\"\n  \"http://www.w3.org/Graphics/SVG/1.1/DTD/svg11.dtd\">\n<!-- Created with matplotlib (https://matplotlib.org/) -->\n<svg height=\"334.19625pt\" version=\"1.1\" viewBox=\"0 0 478.85 334.19625\" width=\"478.85pt\" xmlns=\"http://www.w3.org/2000/svg\" xmlns:xlink=\"http://www.w3.org/1999/xlink\">\n <metadata>\n  <rdf:RDF xmlns:cc=\"http://creativecommons.org/ns#\" xmlns:dc=\"http://purl.org/dc/elements/1.1/\" xmlns:rdf=\"http://www.w3.org/1999/02/22-rdf-syntax-ns#\">\n   <cc:Work>\n    <dc:type rdf:resource=\"http://purl.org/dc/dcmitype/StillImage\"/>\n    <dc:date>2021-06-18T14:38:55.202436</dc:date>\n    <dc:format>image/svg+xml</dc:format>\n    <dc:creator>\n     <cc:Agent>\n      <dc:title>Matplotlib v3.3.4, https://matplotlib.org/</dc:title>\n     </cc:Agent>\n    </dc:creator>\n   </cc:Work>\n  </rdf:RDF>\n </metadata>\n <defs>\n  <style type=\"text/css\">*{stroke-linecap:butt;stroke-linejoin:round;}</style>\n </defs>\n <g id=\"figure_1\">\n  <g id=\"patch_1\">\n   <path d=\"M 0 334.19625 \nL 478.85 334.19625 \nL 478.85 0 \nL 0 0 \nz\n\" style=\"fill:none;\"/>\n  </g>\n  <g id=\"axes_1\">\n   <g id=\"patch_2\">\n    <path d=\"M 39.65 310.318125 \nL 471.65 310.318125 \nL 471.65 22.318125 \nL 39.65 22.318125 \nz\n\" style=\"fill:#ffffff;\"/>\n   </g>\n   <g id=\"patch_3\">\n    <path clip-path=\"url(#p5d65b29372)\" d=\"M 59.286364 310.318125 \nL 233.831818 310.318125 \nL 233.831818 256.450174 \nL 59.286364 256.450174 \nz\n\" style=\"fill:#1f77b4;\"/>\n   </g>\n   <g id=\"patch_4\">\n    <path clip-path=\"url(#p5d65b29372)\" d=\"M 277.468182 310.318125 \nL 452.013636 310.318125 \nL 452.013636 36.032411 \nL 277.468182 36.032411 \nz\n\" style=\"fill:#1f77b4;\"/>\n   </g>\n   <g id=\"matplotlib.axis_1\">\n    <g id=\"xtick_1\">\n     <g id=\"line2d_1\">\n      <defs>\n       <path d=\"M 0 0 \nL 0 3.5 \n\" id=\"m935503771d\" style=\"stroke:#000000;stroke-width:0.8;\"/>\n      </defs>\n      <g>\n       <use style=\"stroke:#000000;stroke-width:0.8;\" x=\"146.559091\" xlink:href=\"#m935503771d\" y=\"310.318125\"/>\n      </g>\n     </g>\n     <g id=\"text_1\">\n      <!-- spam -->\n      <g transform=\"translate(132.84581 324.916562)scale(0.1 -0.1)\">\n       <defs>\n        <path d=\"M 44.28125 53.078125 \nL 44.28125 44.578125 \nQ 40.484375 46.53125 36.375 47.5 \nQ 32.28125 48.484375 27.875 48.484375 \nQ 21.1875 48.484375 17.84375 46.4375 \nQ 14.5 44.390625 14.5 40.28125 \nQ 14.5 37.15625 16.890625 35.375 \nQ 19.28125 33.59375 26.515625 31.984375 \nL 29.59375 31.296875 \nQ 39.15625 29.25 43.1875 25.515625 \nQ 47.21875 21.78125 47.21875 15.09375 \nQ 47.21875 7.46875 41.1875 3.015625 \nQ 35.15625 -1.421875 24.609375 -1.421875 \nQ 20.21875 -1.421875 15.453125 -0.5625 \nQ 10.6875 0.296875 5.421875 2 \nL 5.421875 11.28125 \nQ 10.40625 8.6875 15.234375 7.390625 \nQ 20.0625 6.109375 24.8125 6.109375 \nQ 31.15625 6.109375 34.5625 8.28125 \nQ 37.984375 10.453125 37.984375 14.40625 \nQ 37.984375 18.0625 35.515625 20.015625 \nQ 33.0625 21.96875 24.703125 23.78125 \nL 21.578125 24.515625 \nQ 13.234375 26.265625 9.515625 29.90625 \nQ 5.8125 33.546875 5.8125 39.890625 \nQ 5.8125 47.609375 11.28125 51.796875 \nQ 16.75 56 26.8125 56 \nQ 31.78125 56 36.171875 55.265625 \nQ 40.578125 54.546875 44.28125 53.078125 \nz\n\" id=\"DejaVuSans-115\"/>\n        <path d=\"M 18.109375 8.203125 \nL 18.109375 -20.796875 \nL 9.078125 -20.796875 \nL 9.078125 54.6875 \nL 18.109375 54.6875 \nL 18.109375 46.390625 \nQ 20.953125 51.265625 25.265625 53.625 \nQ 29.59375 56 35.59375 56 \nQ 45.5625 56 51.78125 48.09375 \nQ 58.015625 40.1875 58.015625 27.296875 \nQ 58.015625 14.40625 51.78125 6.484375 \nQ 45.5625 -1.421875 35.59375 -1.421875 \nQ 29.59375 -1.421875 25.265625 0.953125 \nQ 20.953125 3.328125 18.109375 8.203125 \nz\nM 48.6875 27.296875 \nQ 48.6875 37.203125 44.609375 42.84375 \nQ 40.53125 48.484375 33.40625 48.484375 \nQ 26.265625 48.484375 22.1875 42.84375 \nQ 18.109375 37.203125 18.109375 27.296875 \nQ 18.109375 17.390625 22.1875 11.75 \nQ 26.265625 6.109375 33.40625 6.109375 \nQ 40.53125 6.109375 44.609375 11.75 \nQ 48.6875 17.390625 48.6875 27.296875 \nz\n\" id=\"DejaVuSans-112\"/>\n        <path d=\"M 34.28125 27.484375 \nQ 23.390625 27.484375 19.1875 25 \nQ 14.984375 22.515625 14.984375 16.5 \nQ 14.984375 11.71875 18.140625 8.90625 \nQ 21.296875 6.109375 26.703125 6.109375 \nQ 34.1875 6.109375 38.703125 11.40625 \nQ 43.21875 16.703125 43.21875 25.484375 \nL 43.21875 27.484375 \nz\nM 52.203125 31.203125 \nL 52.203125 0 \nL 43.21875 0 \nL 43.21875 8.296875 \nQ 40.140625 3.328125 35.546875 0.953125 \nQ 30.953125 -1.421875 24.3125 -1.421875 \nQ 15.921875 -1.421875 10.953125 3.296875 \nQ 6 8.015625 6 15.921875 \nQ 6 25.140625 12.171875 29.828125 \nQ 18.359375 34.515625 30.609375 34.515625 \nL 43.21875 34.515625 \nL 43.21875 35.40625 \nQ 43.21875 41.609375 39.140625 45 \nQ 35.0625 48.390625 27.6875 48.390625 \nQ 23 48.390625 18.546875 47.265625 \nQ 14.109375 46.140625 10.015625 43.890625 \nL 10.015625 52.203125 \nQ 14.9375 54.109375 19.578125 55.046875 \nQ 24.21875 56 28.609375 56 \nQ 40.484375 56 46.34375 49.84375 \nQ 52.203125 43.703125 52.203125 31.203125 \nz\n\" id=\"DejaVuSans-97\"/>\n        <path d=\"M 52 44.1875 \nQ 55.375 50.25 60.0625 53.125 \nQ 64.75 56 71.09375 56 \nQ 79.640625 56 84.28125 50.015625 \nQ 88.921875 44.046875 88.921875 33.015625 \nL 88.921875 0 \nL 79.890625 0 \nL 79.890625 32.71875 \nQ 79.890625 40.578125 77.09375 44.375 \nQ 74.3125 48.1875 68.609375 48.1875 \nQ 61.625 48.1875 57.5625 43.546875 \nQ 53.515625 38.921875 53.515625 30.90625 \nL 53.515625 0 \nL 44.484375 0 \nL 44.484375 32.71875 \nQ 44.484375 40.625 41.703125 44.40625 \nQ 38.921875 48.1875 33.109375 48.1875 \nQ 26.21875 48.1875 22.15625 43.53125 \nQ 18.109375 38.875 18.109375 30.90625 \nL 18.109375 0 \nL 9.078125 0 \nL 9.078125 54.6875 \nL 18.109375 54.6875 \nL 18.109375 46.1875 \nQ 21.1875 51.21875 25.484375 53.609375 \nQ 29.78125 56 35.6875 56 \nQ 41.65625 56 45.828125 52.96875 \nQ 50 49.953125 52 44.1875 \nz\n\" id=\"DejaVuSans-109\"/>\n       </defs>\n       <use xlink:href=\"#DejaVuSans-115\"/>\n       <use x=\"52.099609\" xlink:href=\"#DejaVuSans-112\"/>\n       <use x=\"115.576172\" xlink:href=\"#DejaVuSans-97\"/>\n       <use x=\"176.855469\" xlink:href=\"#DejaVuSans-109\"/>\n      </g>\n     </g>\n    </g>\n    <g id=\"xtick_2\">\n     <g id=\"line2d_2\">\n      <g>\n       <use style=\"stroke:#000000;stroke-width:0.8;\" x=\"364.740909\" xlink:href=\"#m935503771d\" y=\"310.318125\"/>\n      </g>\n     </g>\n     <g id=\"text_2\">\n      <!-- non-spam -->\n      <g transform=\"translate(339.826847 324.916562)scale(0.1 -0.1)\">\n       <defs>\n        <path d=\"M 54.890625 33.015625 \nL 54.890625 0 \nL 45.90625 0 \nL 45.90625 32.71875 \nQ 45.90625 40.484375 42.875 44.328125 \nQ 39.84375 48.1875 33.796875 48.1875 \nQ 26.515625 48.1875 22.3125 43.546875 \nQ 18.109375 38.921875 18.109375 30.90625 \nL 18.109375 0 \nL 9.078125 0 \nL 9.078125 54.6875 \nL 18.109375 54.6875 \nL 18.109375 46.1875 \nQ 21.34375 51.125 25.703125 53.5625 \nQ 30.078125 56 35.796875 56 \nQ 45.21875 56 50.046875 50.171875 \nQ 54.890625 44.34375 54.890625 33.015625 \nz\n\" id=\"DejaVuSans-110\"/>\n        <path d=\"M 30.609375 48.390625 \nQ 23.390625 48.390625 19.1875 42.75 \nQ 14.984375 37.109375 14.984375 27.296875 \nQ 14.984375 17.484375 19.15625 11.84375 \nQ 23.34375 6.203125 30.609375 6.203125 \nQ 37.796875 6.203125 41.984375 11.859375 \nQ 46.1875 17.53125 46.1875 27.296875 \nQ 46.1875 37.015625 41.984375 42.703125 \nQ 37.796875 48.390625 30.609375 48.390625 \nz\nM 30.609375 56 \nQ 42.328125 56 49.015625 48.375 \nQ 55.71875 40.765625 55.71875 27.296875 \nQ 55.71875 13.875 49.015625 6.21875 \nQ 42.328125 -1.421875 30.609375 -1.421875 \nQ 18.84375 -1.421875 12.171875 6.21875 \nQ 5.515625 13.875 5.515625 27.296875 \nQ 5.515625 40.765625 12.171875 48.375 \nQ 18.84375 56 30.609375 56 \nz\n\" id=\"DejaVuSans-111\"/>\n        <path d=\"M 4.890625 31.390625 \nL 31.203125 31.390625 \nL 31.203125 23.390625 \nL 4.890625 23.390625 \nz\n\" id=\"DejaVuSans-45\"/>\n       </defs>\n       <use xlink:href=\"#DejaVuSans-110\"/>\n       <use x=\"63.378906\" xlink:href=\"#DejaVuSans-111\"/>\n       <use x=\"124.560547\" xlink:href=\"#DejaVuSans-110\"/>\n       <use x=\"187.939453\" xlink:href=\"#DejaVuSans-45\"/>\n       <use x=\"224.023438\" xlink:href=\"#DejaVuSans-115\"/>\n       <use x=\"276.123047\" xlink:href=\"#DejaVuSans-112\"/>\n       <use x=\"339.599609\" xlink:href=\"#DejaVuSans-97\"/>\n       <use x=\"400.878906\" xlink:href=\"#DejaVuSans-109\"/>\n      </g>\n     </g>\n    </g>\n   </g>\n   <g id=\"matplotlib.axis_2\">\n    <g id=\"ytick_1\">\n     <g id=\"line2d_3\">\n      <defs>\n       <path d=\"M 0 0 \nL -3.5 0 \n\" id=\"m461a0f2099\" style=\"stroke:#000000;stroke-width:0.8;\"/>\n      </defs>\n      <g>\n       <use style=\"stroke:#000000;stroke-width:0.8;\" x=\"39.65\" xlink:href=\"#m461a0f2099\" y=\"310.318125\"/>\n      </g>\n     </g>\n     <g id=\"text_3\">\n      <!-- 0 -->\n      <g transform=\"translate(26.2875 314.117344)scale(0.1 -0.1)\">\n       <defs>\n        <path d=\"M 31.78125 66.40625 \nQ 24.171875 66.40625 20.328125 58.90625 \nQ 16.5 51.421875 16.5 36.375 \nQ 16.5 21.390625 20.328125 13.890625 \nQ 24.171875 6.390625 31.78125 6.390625 \nQ 39.453125 6.390625 43.28125 13.890625 \nQ 47.125 21.390625 47.125 36.375 \nQ 47.125 51.421875 43.28125 58.90625 \nQ 39.453125 66.40625 31.78125 66.40625 \nz\nM 31.78125 74.21875 \nQ 44.046875 74.21875 50.515625 64.515625 \nQ 56.984375 54.828125 56.984375 36.375 \nQ 56.984375 17.96875 50.515625 8.265625 \nQ 44.046875 -1.421875 31.78125 -1.421875 \nQ 19.53125 -1.421875 13.0625 8.265625 \nQ 6.59375 17.96875 6.59375 36.375 \nQ 6.59375 54.828125 13.0625 64.515625 \nQ 19.53125 74.21875 31.78125 74.21875 \nz\n\" id=\"DejaVuSans-48\"/>\n       </defs>\n       <use xlink:href=\"#DejaVuSans-48\"/>\n      </g>\n     </g>\n    </g>\n    <g id=\"ytick_2\">\n     <g id=\"line2d_4\">\n      <g>\n       <use style=\"stroke:#000000;stroke-width:0.8;\" x=\"39.65\" xlink:href=\"#m461a0f2099\" y=\"256.557695\"/>\n      </g>\n     </g>\n     <g id=\"text_4\">\n      <!-- 500 -->\n      <g transform=\"translate(13.5625 260.356914)scale(0.1 -0.1)\">\n       <defs>\n        <path d=\"M 10.796875 72.90625 \nL 49.515625 72.90625 \nL 49.515625 64.59375 \nL 19.828125 64.59375 \nL 19.828125 46.734375 \nQ 21.96875 47.46875 24.109375 47.828125 \nQ 26.265625 48.1875 28.421875 48.1875 \nQ 40.625 48.1875 47.75 41.5 \nQ 54.890625 34.8125 54.890625 23.390625 \nQ 54.890625 11.625 47.5625 5.09375 \nQ 40.234375 -1.421875 26.90625 -1.421875 \nQ 22.3125 -1.421875 17.546875 -0.640625 \nQ 12.796875 0.140625 7.71875 1.703125 \nL 7.71875 11.625 \nQ 12.109375 9.234375 16.796875 8.0625 \nQ 21.484375 6.890625 26.703125 6.890625 \nQ 35.15625 6.890625 40.078125 11.328125 \nQ 45.015625 15.765625 45.015625 23.390625 \nQ 45.015625 31 40.078125 35.4375 \nQ 35.15625 39.890625 26.703125 39.890625 \nQ 22.75 39.890625 18.8125 39.015625 \nQ 14.890625 38.140625 10.796875 36.28125 \nz\n\" id=\"DejaVuSans-53\"/>\n       </defs>\n       <use xlink:href=\"#DejaVuSans-53\"/>\n       <use x=\"63.623047\" xlink:href=\"#DejaVuSans-48\"/>\n       <use x=\"127.246094\" xlink:href=\"#DejaVuSans-48\"/>\n      </g>\n     </g>\n    </g>\n    <g id=\"ytick_3\">\n     <g id=\"line2d_5\">\n      <g>\n       <use style=\"stroke:#000000;stroke-width:0.8;\" x=\"39.65\" xlink:href=\"#m461a0f2099\" y=\"202.797265\"/>\n      </g>\n     </g>\n     <g id=\"text_5\">\n      <!-- 1000 -->\n      <g transform=\"translate(7.2 206.596484)scale(0.1 -0.1)\">\n       <defs>\n        <path d=\"M 12.40625 8.296875 \nL 28.515625 8.296875 \nL 28.515625 63.921875 \nL 10.984375 60.40625 \nL 10.984375 69.390625 \nL 28.421875 72.90625 \nL 38.28125 72.90625 \nL 38.28125 8.296875 \nL 54.390625 8.296875 \nL 54.390625 0 \nL 12.40625 0 \nz\n\" id=\"DejaVuSans-49\"/>\n       </defs>\n       <use xlink:href=\"#DejaVuSans-49\"/>\n       <use x=\"63.623047\" xlink:href=\"#DejaVuSans-48\"/>\n       <use x=\"127.246094\" xlink:href=\"#DejaVuSans-48\"/>\n       <use x=\"190.869141\" xlink:href=\"#DejaVuSans-48\"/>\n      </g>\n     </g>\n    </g>\n    <g id=\"ytick_4\">\n     <g id=\"line2d_6\">\n      <g>\n       <use style=\"stroke:#000000;stroke-width:0.8;\" x=\"39.65\" xlink:href=\"#m461a0f2099\" y=\"149.036835\"/>\n      </g>\n     </g>\n     <g id=\"text_6\">\n      <!-- 1500 -->\n      <g transform=\"translate(7.2 152.836053)scale(0.1 -0.1)\">\n       <use xlink:href=\"#DejaVuSans-49\"/>\n       <use x=\"63.623047\" xlink:href=\"#DejaVuSans-53\"/>\n       <use x=\"127.246094\" xlink:href=\"#DejaVuSans-48\"/>\n       <use x=\"190.869141\" xlink:href=\"#DejaVuSans-48\"/>\n      </g>\n     </g>\n    </g>\n    <g id=\"ytick_5\">\n     <g id=\"line2d_7\">\n      <g>\n       <use style=\"stroke:#000000;stroke-width:0.8;\" x=\"39.65\" xlink:href=\"#m461a0f2099\" y=\"95.276405\"/>\n      </g>\n     </g>\n     <g id=\"text_7\">\n      <!-- 2000 -->\n      <g transform=\"translate(7.2 99.075623)scale(0.1 -0.1)\">\n       <defs>\n        <path d=\"M 19.1875 8.296875 \nL 53.609375 8.296875 \nL 53.609375 0 \nL 7.328125 0 \nL 7.328125 8.296875 \nQ 12.9375 14.109375 22.625 23.890625 \nQ 32.328125 33.6875 34.8125 36.53125 \nQ 39.546875 41.84375 41.421875 45.53125 \nQ 43.3125 49.21875 43.3125 52.78125 \nQ 43.3125 58.59375 39.234375 62.25 \nQ 35.15625 65.921875 28.609375 65.921875 \nQ 23.96875 65.921875 18.8125 64.3125 \nQ 13.671875 62.703125 7.8125 59.421875 \nL 7.8125 69.390625 \nQ 13.765625 71.78125 18.9375 73 \nQ 24.125 74.21875 28.421875 74.21875 \nQ 39.75 74.21875 46.484375 68.546875 \nQ 53.21875 62.890625 53.21875 53.421875 \nQ 53.21875 48.921875 51.53125 44.890625 \nQ 49.859375 40.875 45.40625 35.40625 \nQ 44.1875 33.984375 37.640625 27.21875 \nQ 31.109375 20.453125 19.1875 8.296875 \nz\n\" id=\"DejaVuSans-50\"/>\n       </defs>\n       <use xlink:href=\"#DejaVuSans-50\"/>\n       <use x=\"63.623047\" xlink:href=\"#DejaVuSans-48\"/>\n       <use x=\"127.246094\" xlink:href=\"#DejaVuSans-48\"/>\n       <use x=\"190.869141\" xlink:href=\"#DejaVuSans-48\"/>\n      </g>\n     </g>\n    </g>\n    <g id=\"ytick_6\">\n     <g id=\"line2d_8\">\n      <g>\n       <use style=\"stroke:#000000;stroke-width:0.8;\" x=\"39.65\" xlink:href=\"#m461a0f2099\" y=\"41.515975\"/>\n      </g>\n     </g>\n     <g id=\"text_8\">\n      <!-- 2500 -->\n      <g transform=\"translate(7.2 45.315193)scale(0.1 -0.1)\">\n       <use xlink:href=\"#DejaVuSans-50\"/>\n       <use x=\"63.623047\" xlink:href=\"#DejaVuSans-53\"/>\n       <use x=\"127.246094\" xlink:href=\"#DejaVuSans-48\"/>\n       <use x=\"190.869141\" xlink:href=\"#DejaVuSans-48\"/>\n      </g>\n     </g>\n    </g>\n   </g>\n   <g id=\"patch_5\">\n    <path d=\"M 39.65 310.318125 \nL 39.65 22.318125 \n\" style=\"fill:none;stroke:#000000;stroke-linecap:square;stroke-linejoin:miter;stroke-width:0.8;\"/>\n   </g>\n   <g id=\"patch_6\">\n    <path d=\"M 471.65 310.318125 \nL 471.65 22.318125 \n\" style=\"fill:none;stroke:#000000;stroke-linecap:square;stroke-linejoin:miter;stroke-width:0.8;\"/>\n   </g>\n   <g id=\"patch_7\">\n    <path d=\"M 39.65 310.318125 \nL 471.65 310.318125 \n\" style=\"fill:none;stroke:#000000;stroke-linecap:square;stroke-linejoin:miter;stroke-width:0.8;\"/>\n   </g>\n   <g id=\"patch_8\">\n    <path d=\"M 39.65 22.318125 \nL 471.65 22.318125 \n\" style=\"fill:none;stroke:#000000;stroke-linecap:square;stroke-linejoin:miter;stroke-width:0.8;\"/>\n   </g>\n   <g id=\"text_9\">\n    <!-- Number of examples of each class -->\n    <g transform=\"translate(152.128438 16.318125)scale(0.12 -0.12)\">\n     <defs>\n      <path d=\"M 9.8125 72.90625 \nL 23.09375 72.90625 \nL 55.421875 11.921875 \nL 55.421875 72.90625 \nL 64.984375 72.90625 \nL 64.984375 0 \nL 51.703125 0 \nL 19.390625 60.984375 \nL 19.390625 0 \nL 9.8125 0 \nz\n\" id=\"DejaVuSans-78\"/>\n      <path d=\"M 8.5 21.578125 \nL 8.5 54.6875 \nL 17.484375 54.6875 \nL 17.484375 21.921875 \nQ 17.484375 14.15625 20.5 10.265625 \nQ 23.53125 6.390625 29.59375 6.390625 \nQ 36.859375 6.390625 41.078125 11.03125 \nQ 45.3125 15.671875 45.3125 23.6875 \nL 45.3125 54.6875 \nL 54.296875 54.6875 \nL 54.296875 0 \nL 45.3125 0 \nL 45.3125 8.40625 \nQ 42.046875 3.421875 37.71875 1 \nQ 33.40625 -1.421875 27.6875 -1.421875 \nQ 18.265625 -1.421875 13.375 4.4375 \nQ 8.5 10.296875 8.5 21.578125 \nz\nM 31.109375 56 \nz\n\" id=\"DejaVuSans-117\"/>\n      <path d=\"M 48.6875 27.296875 \nQ 48.6875 37.203125 44.609375 42.84375 \nQ 40.53125 48.484375 33.40625 48.484375 \nQ 26.265625 48.484375 22.1875 42.84375 \nQ 18.109375 37.203125 18.109375 27.296875 \nQ 18.109375 17.390625 22.1875 11.75 \nQ 26.265625 6.109375 33.40625 6.109375 \nQ 40.53125 6.109375 44.609375 11.75 \nQ 48.6875 17.390625 48.6875 27.296875 \nz\nM 18.109375 46.390625 \nQ 20.953125 51.265625 25.265625 53.625 \nQ 29.59375 56 35.59375 56 \nQ 45.5625 56 51.78125 48.09375 \nQ 58.015625 40.1875 58.015625 27.296875 \nQ 58.015625 14.40625 51.78125 6.484375 \nQ 45.5625 -1.421875 35.59375 -1.421875 \nQ 29.59375 -1.421875 25.265625 0.953125 \nQ 20.953125 3.328125 18.109375 8.203125 \nL 18.109375 0 \nL 9.078125 0 \nL 9.078125 75.984375 \nL 18.109375 75.984375 \nz\n\" id=\"DejaVuSans-98\"/>\n      <path d=\"M 56.203125 29.59375 \nL 56.203125 25.203125 \nL 14.890625 25.203125 \nQ 15.484375 15.921875 20.484375 11.0625 \nQ 25.484375 6.203125 34.421875 6.203125 \nQ 39.59375 6.203125 44.453125 7.46875 \nQ 49.3125 8.734375 54.109375 11.28125 \nL 54.109375 2.78125 \nQ 49.265625 0.734375 44.1875 -0.34375 \nQ 39.109375 -1.421875 33.890625 -1.421875 \nQ 20.796875 -1.421875 13.15625 6.1875 \nQ 5.515625 13.8125 5.515625 26.8125 \nQ 5.515625 40.234375 12.765625 48.109375 \nQ 20.015625 56 32.328125 56 \nQ 43.359375 56 49.78125 48.890625 \nQ 56.203125 41.796875 56.203125 29.59375 \nz\nM 47.21875 32.234375 \nQ 47.125 39.59375 43.09375 43.984375 \nQ 39.0625 48.390625 32.421875 48.390625 \nQ 24.90625 48.390625 20.390625 44.140625 \nQ 15.875 39.890625 15.1875 32.171875 \nz\n\" id=\"DejaVuSans-101\"/>\n      <path d=\"M 41.109375 46.296875 \nQ 39.59375 47.171875 37.8125 47.578125 \nQ 36.03125 48 33.890625 48 \nQ 26.265625 48 22.1875 43.046875 \nQ 18.109375 38.09375 18.109375 28.8125 \nL 18.109375 0 \nL 9.078125 0 \nL 9.078125 54.6875 \nL 18.109375 54.6875 \nL 18.109375 46.1875 \nQ 20.953125 51.171875 25.484375 53.578125 \nQ 30.03125 56 36.53125 56 \nQ 37.453125 56 38.578125 55.875 \nQ 39.703125 55.765625 41.0625 55.515625 \nz\n\" id=\"DejaVuSans-114\"/>\n      <path id=\"DejaVuSans-32\"/>\n      <path d=\"M 37.109375 75.984375 \nL 37.109375 68.5 \nL 28.515625 68.5 \nQ 23.6875 68.5 21.796875 66.546875 \nQ 19.921875 64.59375 19.921875 59.515625 \nL 19.921875 54.6875 \nL 34.71875 54.6875 \nL 34.71875 47.703125 \nL 19.921875 47.703125 \nL 19.921875 0 \nL 10.890625 0 \nL 10.890625 47.703125 \nL 2.296875 47.703125 \nL 2.296875 54.6875 \nL 10.890625 54.6875 \nL 10.890625 58.5 \nQ 10.890625 67.625 15.140625 71.796875 \nQ 19.390625 75.984375 28.609375 75.984375 \nz\n\" id=\"DejaVuSans-102\"/>\n      <path d=\"M 54.890625 54.6875 \nL 35.109375 28.078125 \nL 55.90625 0 \nL 45.3125 0 \nL 29.390625 21.484375 \nL 13.484375 0 \nL 2.875 0 \nL 24.125 28.609375 \nL 4.6875 54.6875 \nL 15.28125 54.6875 \nL 29.78125 35.203125 \nL 44.28125 54.6875 \nz\n\" id=\"DejaVuSans-120\"/>\n      <path d=\"M 9.421875 75.984375 \nL 18.40625 75.984375 \nL 18.40625 0 \nL 9.421875 0 \nz\n\" id=\"DejaVuSans-108\"/>\n      <path d=\"M 48.78125 52.59375 \nL 48.78125 44.1875 \nQ 44.96875 46.296875 41.140625 47.34375 \nQ 37.3125 48.390625 33.40625 48.390625 \nQ 24.65625 48.390625 19.8125 42.84375 \nQ 14.984375 37.3125 14.984375 27.296875 \nQ 14.984375 17.28125 19.8125 11.734375 \nQ 24.65625 6.203125 33.40625 6.203125 \nQ 37.3125 6.203125 41.140625 7.25 \nQ 44.96875 8.296875 48.78125 10.40625 \nL 48.78125 2.09375 \nQ 45.015625 0.34375 40.984375 -0.53125 \nQ 36.96875 -1.421875 32.421875 -1.421875 \nQ 20.0625 -1.421875 12.78125 6.34375 \nQ 5.515625 14.109375 5.515625 27.296875 \nQ 5.515625 40.671875 12.859375 48.328125 \nQ 20.21875 56 33.015625 56 \nQ 37.15625 56 41.109375 55.140625 \nQ 45.0625 54.296875 48.78125 52.59375 \nz\n\" id=\"DejaVuSans-99\"/>\n      <path d=\"M 54.890625 33.015625 \nL 54.890625 0 \nL 45.90625 0 \nL 45.90625 32.71875 \nQ 45.90625 40.484375 42.875 44.328125 \nQ 39.84375 48.1875 33.796875 48.1875 \nQ 26.515625 48.1875 22.3125 43.546875 \nQ 18.109375 38.921875 18.109375 30.90625 \nL 18.109375 0 \nL 9.078125 0 \nL 9.078125 75.984375 \nL 18.109375 75.984375 \nL 18.109375 46.1875 \nQ 21.34375 51.125 25.703125 53.5625 \nQ 30.078125 56 35.796875 56 \nQ 45.21875 56 50.046875 50.171875 \nQ 54.890625 44.34375 54.890625 33.015625 \nz\n\" id=\"DejaVuSans-104\"/>\n     </defs>\n     <use xlink:href=\"#DejaVuSans-78\"/>\n     <use x=\"74.804688\" xlink:href=\"#DejaVuSans-117\"/>\n     <use x=\"138.183594\" xlink:href=\"#DejaVuSans-109\"/>\n     <use x=\"235.595703\" xlink:href=\"#DejaVuSans-98\"/>\n     <use x=\"299.072266\" xlink:href=\"#DejaVuSans-101\"/>\n     <use x=\"360.595703\" xlink:href=\"#DejaVuSans-114\"/>\n     <use x=\"401.708984\" xlink:href=\"#DejaVuSans-32\"/>\n     <use x=\"433.496094\" xlink:href=\"#DejaVuSans-111\"/>\n     <use x=\"494.677734\" xlink:href=\"#DejaVuSans-102\"/>\n     <use x=\"529.882812\" xlink:href=\"#DejaVuSans-32\"/>\n     <use x=\"561.669922\" xlink:href=\"#DejaVuSans-101\"/>\n     <use x=\"621.443359\" xlink:href=\"#DejaVuSans-120\"/>\n     <use x=\"680.623047\" xlink:href=\"#DejaVuSans-97\"/>\n     <use x=\"741.902344\" xlink:href=\"#DejaVuSans-109\"/>\n     <use x=\"839.314453\" xlink:href=\"#DejaVuSans-112\"/>\n     <use x=\"902.791016\" xlink:href=\"#DejaVuSans-108\"/>\n     <use x=\"930.574219\" xlink:href=\"#DejaVuSans-101\"/>\n     <use x=\"992.097656\" xlink:href=\"#DejaVuSans-115\"/>\n     <use x=\"1044.197266\" xlink:href=\"#DejaVuSans-32\"/>\n     <use x=\"1075.984375\" xlink:href=\"#DejaVuSans-111\"/>\n     <use x=\"1137.166016\" xlink:href=\"#DejaVuSans-102\"/>\n     <use x=\"1172.371094\" xlink:href=\"#DejaVuSans-32\"/>\n     <use x=\"1204.158203\" xlink:href=\"#DejaVuSans-101\"/>\n     <use x=\"1265.681641\" xlink:href=\"#DejaVuSans-97\"/>\n     <use x=\"1326.960938\" xlink:href=\"#DejaVuSans-99\"/>\n     <use x=\"1381.941406\" xlink:href=\"#DejaVuSans-104\"/>\n     <use x=\"1445.320312\" xlink:href=\"#DejaVuSans-32\"/>\n     <use x=\"1477.107422\" xlink:href=\"#DejaVuSans-99\"/>\n     <use x=\"1532.087891\" xlink:href=\"#DejaVuSans-108\"/>\n     <use x=\"1559.871094\" xlink:href=\"#DejaVuSans-97\"/>\n     <use x=\"1621.150391\" xlink:href=\"#DejaVuSans-115\"/>\n     <use x=\"1673.25\" xlink:href=\"#DejaVuSans-115\"/>\n    </g>\n   </g>\n  </g>\n </g>\n <defs>\n  <clipPath id=\"p5d65b29372\">\n   <rect height=\"288\" width=\"432\" x=\"39.65\" y=\"22.318125\"/>\n  </clipPath>\n </defs>\n</svg>\n",
      "image/png": "[encoded data removed]"
     },
     "metadata": {
      "needs_background": "light"
     }
    }
   ],
   "source": [
    "import matplotlib.pyplot as plt\n",
    "\n",
    "fig = plt.figure()\n",
    "ax = fig.add_axes([0,0,1,1])\n",
    "ax.bar([\"spam\", \"non-spam\"],[len(spam_filenames), len(clean_filesnames)])\n",
    "\n",
    "plt.title(\"Number of examples of each class\")\n",
    "plt.show()"
   ]
  },
  {
   "source": [
    "The dataset mostly consists of `non-spam` emails."
   ],
   "cell_type": "markdown",
   "metadata": {}
  },
  {
   "cell_type": "code",
   "execution_count": 6,
   "metadata": {},
   "outputs": [],
   "source": [
    "import email\n",
    "import email.policy\n",
    "\n",
    "ALL_EMAILS_DIR = os.path.join(DATA_DIR, \"all\")\n",
    "\n",
    "def load_email(filename):\n",
    "    with open(os.path.join(ALL_EMAILS_DIR, filename), \"rb\") as f:\n",
    "        return email.parser.BytesParser(policy=email.policy.default).parse(f)"
   ]
  },
  {
   "cell_type": "code",
   "execution_count": 7,
   "metadata": {},
   "outputs": [],
   "source": [
    "from random import randrange\n",
    "\n",
    "example_spam_email = load_email(spam_filenames[randrange(len(spam_filenames))])\n"
   ]
  },
  {
   "source": [
    "Let's see an example of spam email."
   ],
   "cell_type": "markdown",
   "metadata": {}
  },
  {
   "cell_type": "code",
   "execution_count": 8,
   "metadata": {},
   "outputs": [
    {
     "output_type": "stream",
     "name": "stdout",
     "text": [
      "Header Field Names:\n ['Return-Path', 'Delivered-To', 'Received', 'Received', 'Received', 'Received', 'Received', 'Received', 'Content-Type', 'Content-Disposition', 'Content-Transfer-Encoding', 'MIME-Version', 'From', 'Reply-To', 'To', 'Message-Id', 'X-Info', 'Subject', 'Sender', 'Errors-To', 'X-Beenthere', 'X-Mailman-Version', 'Precedence', 'List-Help', 'List-Post', 'List-Subscribe', 'List-Id', 'List-Unsubscribe', 'List-Archive', 'X-Original-Date', 'Date']\n"
     ]
    }
   ],
   "source": [
    "print('Header Field Names:\\n',example_spam_email.keys())"
   ]
  },
  {
   "cell_type": "code",
   "execution_count": 9,
   "metadata": {},
   "outputs": [
    {
     "output_type": "stream",
     "name": "stdout",
     "text": [
      "Subject:\n [ILUG-Social] Claim Your $25 Kmart Gift Card\n"
     ]
    }
   ],
   "source": [
    "\n",
    "print('Subject:\\n',example_spam_email['Subject'])\n"
   ]
  },
  {
   "cell_type": "code",
   "execution_count": 10,
   "metadata": {},
   "outputs": [
    {
     "output_type": "stream",
     "name": "stdout",
     "text": [
      "Message Field Values:\n ['<social-admin@linux.ie>', 'zzzz@localhost.jmason.org', 'from localhost (jalapeno [127.0.0.1])\\tby zzzzason.org (Postfix) with ESMTP id 87C5416F03\\tfor <zzzz@localhost>; Thu, 19 Sep 2002 17:49:37 +0100 (IST)', 'from jalapeno [127.0.0.1]\\tby localhost with IMAP (fetchmail-5.9.0)\\tfor zzzz@localhost (single-drop); Thu, 19 Sep 2002 17:49:37 +0100 (IST)', 'from lugh.tuatha.org (root@lugh.tuatha.org [194.125.145.45]) by    dogma.slashnull.org (8.11.6/8.11.6) with ESMTP id g8JGM4C27587 for    <zzzz+ilug-social@jmason.org>; Thu, 19 Sep 2002 17:22:04 +0100', 'from lugh.tuatha.org (list@localhost [127.0.0.1]) by    lugh.tuatha.org (8.12.3/8.9.3) with ESMTP id g8JGM5Ft007785;    Thu, 19 Sep 2002 17:22:05 +0100', 'from teleport3.azoogle.com (teleport3.azoogle.com    [66.197.170.6]) by lugh.tuatha.org (8.12.3/8.9.3) with SMTP id    g8JGLnFu007757 for <Social@Linux.Ie>; Thu, 19 Sep 2002 17:21:50 +0100', 'from azoogle by teleport3.azoogle.com with local (Azoogle 2.1)    id 93-10429-1090346 for Social@Linux.Ie; Thu, 19 Sep 2002 16:21:48 GMT', 'text/plain; charset=\"us-ascii\"', 'inline', '7bit', '1.0', 'You$25 GiftCard <prizemama@reply2.azoogle.com>', 'You$25 GiftCard <prizemama-93-10429-1090346@reply2.azoogle.com>', 'Social@linux.ie', '<93-10429-1090346@teleport3.azoogle.com>', 'please report abuse of this service to abuse@azoogle.com', '[ILUG-Social] Claim Your $25 Kmart Gift Card', 'social-admin@linux.ie', 'social-admin@linux.ie', 'social@linux.ie', '2.0.11', 'bulk', '<mailto:social-request@linux.ie?subject=help>', '<mailto:social@linux.ie>', '<http://www.linux.ie/mailman/listinfo/social>,    <mailto:social-request@linux.ie?subject=subscribe>', \"Irish Linux Users' Group social events <social.linux.ie>\", '<http://www.linux.ie/mailman/listinfo/social>,    <mailto:social-request@linux.ie?subject=unsubscribe>', '<http://www.linux.ie/pipermail/social/>', 'Thu, 19 Sep 2002 16:21:48 GMT', 'Thu, 19 Sep 2002 16:21:48 +0000']\n"
     ]
    }
   ],
   "source": [
    "print('Message Field Values:\\n',example_spam_email.values())"
   ]
  },
  {
   "cell_type": "code",
   "execution_count": 11,
   "metadata": {
    "tags": []
   },
   "outputs": [
    {
     "output_type": "stream",
     "name": "stdout",
     "text": [
      "Message Content:\n 1) Claim Your $25 Kmart Gift Card\nhttp://www.adclick.ws/p.cfm?o=320&s=pk00001\n\n2) Auto Loans, Fast Approvals for Any Credit!\nhttp://www.adclick.ws/p.cfm?o=383&s=pk1\n\n3) Are You Paying Too Much for Auto Insurance - Find Out?\nhttp://www.adclick.ws/p.cfm?o=334&s=pk1\n\nHave a Wonderful Day,\nPrizeMama.com\n\n\n\n\n\n\n\n\n\n------------------\nYou are receiving this email because you have opted-in to receive\nemail from publisher: prizemama.  To unsubscribe, click below:\n\nhttp://u2.azoogle.com/?z=93-1090346-62lLC4\n-- \nIrish Linux Users' Group Social Events: social@linux.ie\nhttp://www.linux.ie/mailman/listinfo/social for (un)subscription information.\nList maintainer: listmaster@linux.ie\n\n\n\n"
     ]
    }
   ],
   "source": [
    "print('Message Content:\\n',example_spam_email.get_content())"
   ]
  },
  {
   "source": [
    "## Data preparation"
   ],
   "cell_type": "markdown",
   "metadata": {}
  },
  {
   "source": [
    "First we need to prepare the training and test `dataset` for our model."
   ],
   "cell_type": "markdown",
   "metadata": {}
  },
  {
   "cell_type": "code",
   "execution_count": 12,
   "metadata": {},
   "outputs": [
    {
     "output_type": "stream",
     "name": "stdout",
     "text": [
      "Importing clean mails\n",
      "\n",
      "\n",
      "Importing spam mails\n",
      "\n"
     ]
    }
   ],
   "source": [
    "print(\"Importing clean mails\\n\")\n",
    "clean_emails = [load_email(email) for email in clean_filesnames]\n",
    "print(\"\\nImporting spam mails\\n\")\n",
    "spam_emails = [load_email(email) for email in spam_filenames]\n"
   ]
  },
  {
   "source": [
    "### Struture of emails"
   ],
   "cell_type": "markdown",
   "metadata": {}
  },
  {
   "cell_type": "code",
   "execution_count": 13,
   "metadata": {},
   "outputs": [],
   "source": [
    "from collections import Counter\n",
    "\n",
    "def get_email_structure(email):\n",
    "    if isinstance(email, str):\n",
    "        return email\n",
    "    payload = email.get_payload()\n",
    "    if isinstance(payload, list):\n",
    "        return \"multipart({})\".format(\", \".join([\n",
    "            get_email_structure(sub_email)\n",
    "            for sub_email in payload\n",
    "        ]))\n",
    "    else:\n",
    "        return email.get_content_type()\n",
    "\n",
    "def structures_counter(emails):\n",
    "    structures = Counter()\n",
    "    for email in emails:\n",
    "        structure = get_email_structure(email)\n",
    "        structures[structure] += 1\n",
    "    return structures\n"
   ]
  },
  {
   "cell_type": "code",
   "execution_count": 14,
   "metadata": {},
   "outputs": [
    {
     "output_type": "stream",
     "name": "stdout",
     "text": [
      "Clean mails structure:\n Counter({'text/plain': 2453, 'multipart(text/plain, application/pgp-signature)': 72, 'multipart(text/plain, text/html)': 8, 'multipart(text/plain, text/plain)': 4, 'multipart(text/plain)': 3, 'multipart(text/plain, application/octet-stream)': 2, 'multipart(text/plain, text/enriched)': 1, 'multipart(text/plain, application/ms-tnef, text/plain)': 1, 'multipart(multipart(text/plain, text/plain, text/plain), application/pgp-signature)': 1, 'multipart(text/plain, video/mng)': 1, 'multipart(text/plain, multipart(text/plain))': 1, 'multipart(text/plain, application/x-pkcs7-signature)': 1, 'multipart(text/plain, multipart(text/plain, text/plain), text/rfc822-headers)': 1, 'multipart(text/plain, multipart(text/plain, text/plain), multipart(multipart(text/plain, application/x-pkcs7-signature)))': 1, 'multipart(text/plain, application/x-java-applet)': 1})\n"
     ]
    }
   ],
   "source": [
    "clean_structures = structures_counter(clean_emails)\n",
    "print(\"Clean mails structure:\\n\", clean_structures)"
   ]
  },
  {
   "cell_type": "code",
   "execution_count": 15,
   "metadata": {},
   "outputs": [
    {
     "output_type": "stream",
     "name": "stdout",
     "text": [
      "Clean mails structure:\n Counter({'text/plain': 222, 'text/html': 181, 'multipart(text/plain, text/html)': 45, 'multipart(text/html)': 19, 'multipart(text/plain)': 19, 'multipart(multipart(text/html))': 5, 'multipart(text/plain, image/jpeg)': 3, 'multipart(text/html, application/octet-stream)': 2, 'multipart(text/plain, application/octet-stream)': 1, 'multipart(text/html, text/plain)': 1, 'multipart(multipart(text/html), application/octet-stream, image/jpeg)': 1, 'multipart(multipart(text/plain, text/html), image/gif)': 1, 'multipart/alternative': 1})\n"
     ]
    }
   ],
   "source": [
    "spam_structures = structures_counter(spam_emails)\n",
    "print(\"Clean mails structure:\\n\", spam_structures)"
   ]
  },
  {
   "cell_type": "code",
   "execution_count": 16,
   "metadata": {},
   "outputs": [
    {
     "output_type": "stream",
     "name": "stderr",
     "text": [
      "/usr/local/anaconda3/envs/CI/lib/python3.7/site-packages/ipykernel_launcher.py:13: UserWarning: Matplotlib is currently using module://ipykernel.pylab.backend_inline, which is a non-GUI backend, so cannot show the figure.\n  del sys.path[0]\n"
     ]
    },
    {
     "output_type": "display_data",
     "data": {
      "text/plain": "<Figure size 1080x288 with 2 Axes>",
      "image/svg+xml": "<?xml version=\"1.0\" encoding=\"utf-8\" standalone=\"no\"?>\n<!DOCTYPE svg PUBLIC \"-//W3C//DTD SVG 1.1//EN\"\n  \"http://www.w3.org/Graphics/SVG/1.1/DTD/svg11.dtd\">\n<!-- Created with matplotlib (https://matplotlib.org/) -->\n<svg height=\"260.64pt\" version=\"1.1\" viewBox=\"0 0 910.751023 260.64\" width=\"910.751023pt\" xmlns=\"http://www.w3.org/2000/svg\" xmlns:xlink=\"http://www.w3.org/1999/xlink\">\n <metadata>\n  <rdf:RDF xmlns:cc=\"http://creativecommons.org/ns#\" xmlns:dc=\"http://purl.org/dc/elements/1.1/\" xmlns:rdf=\"http://www.w3.org/1999/02/22-rdf-syntax-ns#\">\n   <cc:Work>\n    <dc:type rdf:resource=\"http://purl.org/dc/dcmitype/StillImage\"/>\n    <dc:date>2021-06-18T14:38:59.811797</dc:date>\n    <dc:format>image/svg+xml</dc:format>\n    <dc:creator>\n     <cc:Agent>\n      <dc:title>Matplotlib v3.3.4, https://matplotlib.org/</dc:title>\n     </cc:Agent>\n    </dc:creator>\n   </cc:Work>\n  </rdf:RDF>\n </metadata>\n <defs>\n  <style type=\"text/css\">*{stroke-linecap:butt;stroke-linejoin:round;}</style>\n </defs>\n <g id=\"figure_1\">\n  <g id=\"patch_1\">\n   <path d=\"M 0 260.64 \nL 910.751023 260.64 \nL 910.751023 0 \nL 0 0 \nz\n\" style=\"fill:none;\"/>\n  </g>\n  <g id=\"axes_1\">\n   <g id=\"patch_2\">\n    <path d=\"M 202.896 144.72 \nC 202.896 122.870822 194.662926 101.804236 179.84785 85.744967 \nC 165.032774 69.685698 144.696988 59.784165 122.91866 58.026036 \nC 101.140332 56.267908 79.479571 62.779129 62.280259 76.25393 \nC 45.080947 89.728731 33.575171 109.201832 30.070316 130.768069 \nL 115.92 144.72 \nL 202.896 144.72 \nz\n\" style=\"fill:#1f77b4;\"/>\n   </g>\n   <g id=\"patch_3\">\n    <path d=\"M 30.070316 130.768069 \nC 27.223469 148.285422 29.80523 166.261428 37.467084 182.269495 \nC 45.128938 198.277561 57.509883 211.563436 72.938606 220.333652 \nC 88.36733 229.103868 106.116878 232.945198 123.791228 231.339099 \nC 141.465578 229.733 158.231968 222.755147 171.827092 211.347484 \nL 115.92 144.72 \nL 30.070316 130.768069 \nz\n\" style=\"fill:#ff7f0e;\"/>\n   </g>\n   <g id=\"patch_4\">\n    <path d=\"M 171.827092 211.347484 \nC 171.976178 211.222386 172.124844 211.096788 172.273087 210.970692 \nC 172.421329 210.844596 172.569149 210.718003 172.716542 210.590915 \nL 115.92 144.72 \nL 171.827092 211.347484 \nz\n\" style=\"fill:#2ca02c;\"/>\n   </g>\n   <g id=\"patch_5\">\n    <path d=\"M 172.716542 210.590915 \nC 175.517955 208.175424 178.162425 205.58368 180.633839 202.831476 \nC 183.105252 200.079272 185.398578 197.172209 187.499843 194.128002 \nL 115.92 144.72 \nL 172.716542 210.590915 \nz\n\" style=\"fill:#d62728;\"/>\n   </g>\n   <g id=\"patch_6\">\n    <path d=\"M 187.499843 194.128002 \nC 192.484276 186.906805 196.347388 178.972739 198.957801 170.595628 \nC 201.568215 162.218516 202.896 153.494411 202.896 144.720002 \nL 115.92 144.72 \nL 187.499843 194.128002 \nz\n\" style=\"fill:#9467bd;\"/>\n   </g>\n   <g id=\"matplotlib.axis_1\"/>\n   <g id=\"matplotlib.axis_2\"/>\n   <g id=\"text_1\">\n    <!-- text/plain -->\n    <g transform=\"translate(123.618526 52.116015)scale(0.1 -0.1)\">\n     <defs>\n      <path d=\"M 18.3125 70.21875 \nL 18.3125 54.6875 \nL 36.8125 54.6875 \nL 36.8125 47.703125 \nL 18.3125 47.703125 \nL 18.3125 18.015625 \nQ 18.3125 11.328125 20.140625 9.421875 \nQ 21.96875 7.515625 27.59375 7.515625 \nL 36.8125 7.515625 \nL 36.8125 0 \nL 27.59375 0 \nQ 17.1875 0 13.234375 3.875 \nQ 9.28125 7.765625 9.28125 18.015625 \nL 9.28125 47.703125 \nL 2.6875 47.703125 \nL 2.6875 54.6875 \nL 9.28125 54.6875 \nL 9.28125 70.21875 \nz\n\" id=\"DejaVuSans-116\"/>\n      <path d=\"M 56.203125 29.59375 \nL 56.203125 25.203125 \nL 14.890625 25.203125 \nQ 15.484375 15.921875 20.484375 11.0625 \nQ 25.484375 6.203125 34.421875 6.203125 \nQ 39.59375 6.203125 44.453125 7.46875 \nQ 49.3125 8.734375 54.109375 11.28125 \nL 54.109375 2.78125 \nQ 49.265625 0.734375 44.1875 -0.34375 \nQ 39.109375 -1.421875 33.890625 -1.421875 \nQ 20.796875 -1.421875 13.15625 6.1875 \nQ 5.515625 13.8125 5.515625 26.8125 \nQ 5.515625 40.234375 12.765625 48.109375 \nQ 20.015625 56 32.328125 56 \nQ 43.359375 56 49.78125 48.890625 \nQ 56.203125 41.796875 56.203125 29.59375 \nz\nM 47.21875 32.234375 \nQ 47.125 39.59375 43.09375 43.984375 \nQ 39.0625 48.390625 32.421875 48.390625 \nQ 24.90625 48.390625 20.390625 44.140625 \nQ 15.875 39.890625 15.1875 32.171875 \nz\n\" id=\"DejaVuSans-101\"/>\n      <path d=\"M 54.890625 54.6875 \nL 35.109375 28.078125 \nL 55.90625 0 \nL 45.3125 0 \nL 29.390625 21.484375 \nL 13.484375 0 \nL 2.875 0 \nL 24.125 28.609375 \nL 4.6875 54.6875 \nL 15.28125 54.6875 \nL 29.78125 35.203125 \nL 44.28125 54.6875 \nz\n\" id=\"DejaVuSans-120\"/>\n      <path d=\"M 25.390625 72.90625 \nL 33.6875 72.90625 \nL 8.296875 -9.28125 \nL 0 -9.28125 \nz\n\" id=\"DejaVuSans-47\"/>\n      <path d=\"M 18.109375 8.203125 \nL 18.109375 -20.796875 \nL 9.078125 -20.796875 \nL 9.078125 54.6875 \nL 18.109375 54.6875 \nL 18.109375 46.390625 \nQ 20.953125 51.265625 25.265625 53.625 \nQ 29.59375 56 35.59375 56 \nQ 45.5625 56 51.78125 48.09375 \nQ 58.015625 40.1875 58.015625 27.296875 \nQ 58.015625 14.40625 51.78125 6.484375 \nQ 45.5625 -1.421875 35.59375 -1.421875 \nQ 29.59375 -1.421875 25.265625 0.953125 \nQ 20.953125 3.328125 18.109375 8.203125 \nz\nM 48.6875 27.296875 \nQ 48.6875 37.203125 44.609375 42.84375 \nQ 40.53125 48.484375 33.40625 48.484375 \nQ 26.265625 48.484375 22.1875 42.84375 \nQ 18.109375 37.203125 18.109375 27.296875 \nQ 18.109375 17.390625 22.1875 11.75 \nQ 26.265625 6.109375 33.40625 6.109375 \nQ 40.53125 6.109375 44.609375 11.75 \nQ 48.6875 17.390625 48.6875 27.296875 \nz\n\" id=\"DejaVuSans-112\"/>\n      <path d=\"M 9.421875 75.984375 \nL 18.40625 75.984375 \nL 18.40625 0 \nL 9.421875 0 \nz\n\" id=\"DejaVuSans-108\"/>\n      <path d=\"M 34.28125 27.484375 \nQ 23.390625 27.484375 19.1875 25 \nQ 14.984375 22.515625 14.984375 16.5 \nQ 14.984375 11.71875 18.140625 8.90625 \nQ 21.296875 6.109375 26.703125 6.109375 \nQ 34.1875 6.109375 38.703125 11.40625 \nQ 43.21875 16.703125 43.21875 25.484375 \nL 43.21875 27.484375 \nz\nM 52.203125 31.203125 \nL 52.203125 0 \nL 43.21875 0 \nL 43.21875 8.296875 \nQ 40.140625 3.328125 35.546875 0.953125 \nQ 30.953125 -1.421875 24.3125 -1.421875 \nQ 15.921875 -1.421875 10.953125 3.296875 \nQ 6 8.015625 6 15.921875 \nQ 6 25.140625 12.171875 29.828125 \nQ 18.359375 34.515625 30.609375 34.515625 \nL 43.21875 34.515625 \nL 43.21875 35.40625 \nQ 43.21875 41.609375 39.140625 45 \nQ 35.0625 48.390625 27.6875 48.390625 \nQ 23 48.390625 18.546875 47.265625 \nQ 14.109375 46.140625 10.015625 43.890625 \nL 10.015625 52.203125 \nQ 14.9375 54.109375 19.578125 55.046875 \nQ 24.21875 56 28.609375 56 \nQ 40.484375 56 46.34375 49.84375 \nQ 52.203125 43.703125 52.203125 31.203125 \nz\n\" id=\"DejaVuSans-97\"/>\n      <path d=\"M 9.421875 54.6875 \nL 18.40625 54.6875 \nL 18.40625 0 \nL 9.421875 0 \nz\nM 9.421875 75.984375 \nL 18.40625 75.984375 \nL 18.40625 64.59375 \nL 9.421875 64.59375 \nz\n\" id=\"DejaVuSans-105\"/>\n      <path d=\"M 54.890625 33.015625 \nL 54.890625 0 \nL 45.90625 0 \nL 45.90625 32.71875 \nQ 45.90625 40.484375 42.875 44.328125 \nQ 39.84375 48.1875 33.796875 48.1875 \nQ 26.515625 48.1875 22.3125 43.546875 \nQ 18.109375 38.921875 18.109375 30.90625 \nL 18.109375 0 \nL 9.078125 0 \nL 9.078125 54.6875 \nL 18.109375 54.6875 \nL 18.109375 46.1875 \nQ 21.34375 51.125 25.703125 53.5625 \nQ 30.078125 56 35.796875 56 \nQ 45.21875 56 50.046875 50.171875 \nQ 54.890625 44.34375 54.890625 33.015625 \nz\n\" id=\"DejaVuSans-110\"/>\n     </defs>\n     <use xlink:href=\"#DejaVuSans-116\"/>\n     <use x=\"39.208984\" xlink:href=\"#DejaVuSans-101\"/>\n     <use x=\"98.982422\" xlink:href=\"#DejaVuSans-120\"/>\n     <use x=\"158.162109\" xlink:href=\"#DejaVuSans-116\"/>\n     <use x=\"197.371094\" xlink:href=\"#DejaVuSans-47\"/>\n     <use x=\"231.0625\" xlink:href=\"#DejaVuSans-112\"/>\n     <use x=\"294.539062\" xlink:href=\"#DejaVuSans-108\"/>\n     <use x=\"322.322266\" xlink:href=\"#DejaVuSans-97\"/>\n     <use x=\"383.601562\" xlink:href=\"#DejaVuSans-105\"/>\n     <use x=\"411.384766\" xlink:href=\"#DejaVuSans-110\"/>\n    </g>\n   </g>\n   <g id=\"text_2\">\n    <!-- text/html -->\n    <g transform=\"translate(22.757654 230.654392)scale(0.1 -0.1)\">\n     <defs>\n      <path d=\"M 54.890625 33.015625 \nL 54.890625 0 \nL 45.90625 0 \nL 45.90625 32.71875 \nQ 45.90625 40.484375 42.875 44.328125 \nQ 39.84375 48.1875 33.796875 48.1875 \nQ 26.515625 48.1875 22.3125 43.546875 \nQ 18.109375 38.921875 18.109375 30.90625 \nL 18.109375 0 \nL 9.078125 0 \nL 9.078125 75.984375 \nL 18.109375 75.984375 \nL 18.109375 46.1875 \nQ 21.34375 51.125 25.703125 53.5625 \nQ 30.078125 56 35.796875 56 \nQ 45.21875 56 50.046875 50.171875 \nQ 54.890625 44.34375 54.890625 33.015625 \nz\n\" id=\"DejaVuSans-104\"/>\n      <path d=\"M 52 44.1875 \nQ 55.375 50.25 60.0625 53.125 \nQ 64.75 56 71.09375 56 \nQ 79.640625 56 84.28125 50.015625 \nQ 88.921875 44.046875 88.921875 33.015625 \nL 88.921875 0 \nL 79.890625 0 \nL 79.890625 32.71875 \nQ 79.890625 40.578125 77.09375 44.375 \nQ 74.3125 48.1875 68.609375 48.1875 \nQ 61.625 48.1875 57.5625 43.546875 \nQ 53.515625 38.921875 53.515625 30.90625 \nL 53.515625 0 \nL 44.484375 0 \nL 44.484375 32.71875 \nQ 44.484375 40.625 41.703125 44.40625 \nQ 38.921875 48.1875 33.109375 48.1875 \nQ 26.21875 48.1875 22.15625 43.53125 \nQ 18.109375 38.875 18.109375 30.90625 \nL 18.109375 0 \nL 9.078125 0 \nL 9.078125 54.6875 \nL 18.109375 54.6875 \nL 18.109375 46.1875 \nQ 21.1875 51.21875 25.484375 53.609375 \nQ 29.78125 56 35.6875 56 \nQ 41.65625 56 45.828125 52.96875 \nQ 50 49.953125 52 44.1875 \nz\n\" id=\"DejaVuSans-109\"/>\n     </defs>\n     <use xlink:href=\"#DejaVuSans-116\"/>\n     <use x=\"39.208984\" xlink:href=\"#DejaVuSans-101\"/>\n     <use x=\"98.982422\" xlink:href=\"#DejaVuSans-120\"/>\n     <use x=\"158.162109\" xlink:href=\"#DejaVuSans-116\"/>\n     <use x=\"197.371094\" xlink:href=\"#DejaVuSans-47\"/>\n     <use x=\"231.0625\" xlink:href=\"#DejaVuSans-104\"/>\n     <use x=\"294.441406\" xlink:href=\"#DejaVuSans-116\"/>\n     <use x=\"333.650391\" xlink:href=\"#DejaVuSans-109\"/>\n     <use x=\"431.0625\" xlink:href=\"#DejaVuSans-108\"/>\n    </g>\n   </g>\n   <g id=\"text_3\">\n    <!-- multipart(text/plain, application/octet-stream) -->\n    <g transform=\"translate(177.908395 220.355136)scale(0.1 -0.1)\">\n     <defs>\n      <path d=\"M 8.5 21.578125 \nL 8.5 54.6875 \nL 17.484375 54.6875 \nL 17.484375 21.921875 \nQ 17.484375 14.15625 20.5 10.265625 \nQ 23.53125 6.390625 29.59375 6.390625 \nQ 36.859375 6.390625 41.078125 11.03125 \nQ 45.3125 15.671875 45.3125 23.6875 \nL 45.3125 54.6875 \nL 54.296875 54.6875 \nL 54.296875 0 \nL 45.3125 0 \nL 45.3125 8.40625 \nQ 42.046875 3.421875 37.71875 1 \nQ 33.40625 -1.421875 27.6875 -1.421875 \nQ 18.265625 -1.421875 13.375 4.4375 \nQ 8.5 10.296875 8.5 21.578125 \nz\nM 31.109375 56 \nz\n\" id=\"DejaVuSans-117\"/>\n      <path d=\"M 41.109375 46.296875 \nQ 39.59375 47.171875 37.8125 47.578125 \nQ 36.03125 48 33.890625 48 \nQ 26.265625 48 22.1875 43.046875 \nQ 18.109375 38.09375 18.109375 28.8125 \nL 18.109375 0 \nL 9.078125 0 \nL 9.078125 54.6875 \nL 18.109375 54.6875 \nL 18.109375 46.1875 \nQ 20.953125 51.171875 25.484375 53.578125 \nQ 30.03125 56 36.53125 56 \nQ 37.453125 56 38.578125 55.875 \nQ 39.703125 55.765625 41.0625 55.515625 \nz\n\" id=\"DejaVuSans-114\"/>\n      <path d=\"M 31 75.875 \nQ 24.46875 64.65625 21.28125 53.65625 \nQ 18.109375 42.671875 18.109375 31.390625 \nQ 18.109375 20.125 21.3125 9.0625 \nQ 24.515625 -2 31 -13.1875 \nL 23.1875 -13.1875 \nQ 15.875 -1.703125 12.234375 9.375 \nQ 8.59375 20.453125 8.59375 31.390625 \nQ 8.59375 42.28125 12.203125 53.3125 \nQ 15.828125 64.359375 23.1875 75.875 \nz\n\" id=\"DejaVuSans-40\"/>\n      <path d=\"M 11.71875 12.40625 \nL 22.015625 12.40625 \nL 22.015625 4 \nL 14.015625 -11.625 \nL 7.71875 -11.625 \nL 11.71875 4 \nz\n\" id=\"DejaVuSans-44\"/>\n      <path id=\"DejaVuSans-32\"/>\n      <path d=\"M 48.78125 52.59375 \nL 48.78125 44.1875 \nQ 44.96875 46.296875 41.140625 47.34375 \nQ 37.3125 48.390625 33.40625 48.390625 \nQ 24.65625 48.390625 19.8125 42.84375 \nQ 14.984375 37.3125 14.984375 27.296875 \nQ 14.984375 17.28125 19.8125 11.734375 \nQ 24.65625 6.203125 33.40625 6.203125 \nQ 37.3125 6.203125 41.140625 7.25 \nQ 44.96875 8.296875 48.78125 10.40625 \nL 48.78125 2.09375 \nQ 45.015625 0.34375 40.984375 -0.53125 \nQ 36.96875 -1.421875 32.421875 -1.421875 \nQ 20.0625 -1.421875 12.78125 6.34375 \nQ 5.515625 14.109375 5.515625 27.296875 \nQ 5.515625 40.671875 12.859375 48.328125 \nQ 20.21875 56 33.015625 56 \nQ 37.15625 56 41.109375 55.140625 \nQ 45.0625 54.296875 48.78125 52.59375 \nz\n\" id=\"DejaVuSans-99\"/>\n      <path d=\"M 30.609375 48.390625 \nQ 23.390625 48.390625 19.1875 42.75 \nQ 14.984375 37.109375 14.984375 27.296875 \nQ 14.984375 17.484375 19.15625 11.84375 \nQ 23.34375 6.203125 30.609375 6.203125 \nQ 37.796875 6.203125 41.984375 11.859375 \nQ 46.1875 17.53125 46.1875 27.296875 \nQ 46.1875 37.015625 41.984375 42.703125 \nQ 37.796875 48.390625 30.609375 48.390625 \nz\nM 30.609375 56 \nQ 42.328125 56 49.015625 48.375 \nQ 55.71875 40.765625 55.71875 27.296875 \nQ 55.71875 13.875 49.015625 6.21875 \nQ 42.328125 -1.421875 30.609375 -1.421875 \nQ 18.84375 -1.421875 12.171875 6.21875 \nQ 5.515625 13.875 5.515625 27.296875 \nQ 5.515625 40.765625 12.171875 48.375 \nQ 18.84375 56 30.609375 56 \nz\n\" id=\"DejaVuSans-111\"/>\n      <path d=\"M 4.890625 31.390625 \nL 31.203125 31.390625 \nL 31.203125 23.390625 \nL 4.890625 23.390625 \nz\n\" id=\"DejaVuSans-45\"/>\n      <path d=\"M 44.28125 53.078125 \nL 44.28125 44.578125 \nQ 40.484375 46.53125 36.375 47.5 \nQ 32.28125 48.484375 27.875 48.484375 \nQ 21.1875 48.484375 17.84375 46.4375 \nQ 14.5 44.390625 14.5 40.28125 \nQ 14.5 37.15625 16.890625 35.375 \nQ 19.28125 33.59375 26.515625 31.984375 \nL 29.59375 31.296875 \nQ 39.15625 29.25 43.1875 25.515625 \nQ 47.21875 21.78125 47.21875 15.09375 \nQ 47.21875 7.46875 41.1875 3.015625 \nQ 35.15625 -1.421875 24.609375 -1.421875 \nQ 20.21875 -1.421875 15.453125 -0.5625 \nQ 10.6875 0.296875 5.421875 2 \nL 5.421875 11.28125 \nQ 10.40625 8.6875 15.234375 7.390625 \nQ 20.0625 6.109375 24.8125 6.109375 \nQ 31.15625 6.109375 34.5625 8.28125 \nQ 37.984375 10.453125 37.984375 14.40625 \nQ 37.984375 18.0625 35.515625 20.015625 \nQ 33.0625 21.96875 24.703125 23.78125 \nL 21.578125 24.515625 \nQ 13.234375 26.265625 9.515625 29.90625 \nQ 5.8125 33.546875 5.8125 39.890625 \nQ 5.8125 47.609375 11.28125 51.796875 \nQ 16.75 56 26.8125 56 \nQ 31.78125 56 36.171875 55.265625 \nQ 40.578125 54.546875 44.28125 53.078125 \nz\n\" id=\"DejaVuSans-115\"/>\n      <path d=\"M 8.015625 75.875 \nL 15.828125 75.875 \nQ 23.140625 64.359375 26.78125 53.3125 \nQ 30.421875 42.28125 30.421875 31.390625 \nQ 30.421875 20.453125 26.78125 9.375 \nQ 23.140625 -1.703125 15.828125 -13.1875 \nL 8.015625 -13.1875 \nQ 14.5 -2 17.703125 9.0625 \nQ 20.90625 20.125 20.90625 31.390625 \nQ 20.90625 42.671875 17.703125 53.65625 \nQ 14.5 64.65625 8.015625 75.875 \nz\n\" id=\"DejaVuSans-41\"/>\n     </defs>\n     <use xlink:href=\"#DejaVuSans-109\"/>\n     <use x=\"97.412109\" xlink:href=\"#DejaVuSans-117\"/>\n     <use x=\"160.791016\" xlink:href=\"#DejaVuSans-108\"/>\n     <use x=\"188.574219\" xlink:href=\"#DejaVuSans-116\"/>\n     <use x=\"227.783203\" xlink:href=\"#DejaVuSans-105\"/>\n     <use x=\"255.566406\" xlink:href=\"#DejaVuSans-112\"/>\n     <use x=\"319.042969\" xlink:href=\"#DejaVuSans-97\"/>\n     <use x=\"380.322266\" xlink:href=\"#DejaVuSans-114\"/>\n     <use x=\"421.435547\" xlink:href=\"#DejaVuSans-116\"/>\n     <use x=\"460.644531\" xlink:href=\"#DejaVuSans-40\"/>\n     <use x=\"499.658203\" xlink:href=\"#DejaVuSans-116\"/>\n     <use x=\"538.867188\" xlink:href=\"#DejaVuSans-101\"/>\n     <use x=\"598.640625\" xlink:href=\"#DejaVuSans-120\"/>\n     <use x=\"657.820312\" xlink:href=\"#DejaVuSans-116\"/>\n     <use x=\"697.029297\" xlink:href=\"#DejaVuSans-47\"/>\n     <use x=\"730.720703\" xlink:href=\"#DejaVuSans-112\"/>\n     <use x=\"794.197266\" xlink:href=\"#DejaVuSans-108\"/>\n     <use x=\"821.980469\" xlink:href=\"#DejaVuSans-97\"/>\n     <use x=\"883.259766\" xlink:href=\"#DejaVuSans-105\"/>\n     <use x=\"911.042969\" xlink:href=\"#DejaVuSans-110\"/>\n     <use x=\"974.421875\" xlink:href=\"#DejaVuSans-44\"/>\n     <use x=\"1006.208984\" xlink:href=\"#DejaVuSans-32\"/>\n     <use x=\"1037.996094\" xlink:href=\"#DejaVuSans-97\"/>\n     <use x=\"1099.275391\" xlink:href=\"#DejaVuSans-112\"/>\n     <use x=\"1162.751953\" xlink:href=\"#DejaVuSans-112\"/>\n     <use x=\"1226.228516\" xlink:href=\"#DejaVuSans-108\"/>\n     <use x=\"1254.011719\" xlink:href=\"#DejaVuSans-105\"/>\n     <use x=\"1281.794922\" xlink:href=\"#DejaVuSans-99\"/>\n     <use x=\"1336.775391\" xlink:href=\"#DejaVuSans-97\"/>\n     <use x=\"1398.054688\" xlink:href=\"#DejaVuSans-116\"/>\n     <use x=\"1437.263672\" xlink:href=\"#DejaVuSans-105\"/>\n     <use x=\"1465.046875\" xlink:href=\"#DejaVuSans-111\"/>\n     <use x=\"1526.228516\" xlink:href=\"#DejaVuSans-110\"/>\n     <use x=\"1589.607422\" xlink:href=\"#DejaVuSans-47\"/>\n     <use x=\"1623.298828\" xlink:href=\"#DejaVuSans-111\"/>\n     <use x=\"1684.480469\" xlink:href=\"#DejaVuSans-99\"/>\n     <use x=\"1739.460938\" xlink:href=\"#DejaVuSans-116\"/>\n     <use x=\"1778.669922\" xlink:href=\"#DejaVuSans-101\"/>\n     <use x=\"1840.193359\" xlink:href=\"#DejaVuSans-116\"/>\n     <use x=\"1879.402344\" xlink:href=\"#DejaVuSans-45\"/>\n     <use x=\"1915.486328\" xlink:href=\"#DejaVuSans-115\"/>\n     <use x=\"1967.585938\" xlink:href=\"#DejaVuSans-116\"/>\n     <use x=\"2006.794922\" xlink:href=\"#DejaVuSans-114\"/>\n     <use x=\"2045.658203\" xlink:href=\"#DejaVuSans-101\"/>\n     <use x=\"2107.181641\" xlink:href=\"#DejaVuSans-97\"/>\n     <use x=\"2168.460938\" xlink:href=\"#DejaVuSans-109\"/>\n     <use x=\"2265.873047\" xlink:href=\"#DejaVuSans-41\"/>\n    </g>\n   </g>\n   <g id=\"text_4\">\n    <!-- multipart(text/html) -->\n    <g transform=\"translate(187.105223 211.401999)scale(0.1 -0.1)\">\n     <use xlink:href=\"#DejaVuSans-109\"/>\n     <use x=\"97.412109\" xlink:href=\"#DejaVuSans-117\"/>\n     <use x=\"160.791016\" xlink:href=\"#DejaVuSans-108\"/>\n     <use x=\"188.574219\" xlink:href=\"#DejaVuSans-116\"/>\n     <use x=\"227.783203\" xlink:href=\"#DejaVuSans-105\"/>\n     <use x=\"255.566406\" xlink:href=\"#DejaVuSans-112\"/>\n     <use x=\"319.042969\" xlink:href=\"#DejaVuSans-97\"/>\n     <use x=\"380.322266\" xlink:href=\"#DejaVuSans-114\"/>\n     <use x=\"421.435547\" xlink:href=\"#DejaVuSans-116\"/>\n     <use x=\"460.644531\" xlink:href=\"#DejaVuSans-40\"/>\n     <use x=\"499.658203\" xlink:href=\"#DejaVuSans-116\"/>\n     <use x=\"538.867188\" xlink:href=\"#DejaVuSans-101\"/>\n     <use x=\"598.640625\" xlink:href=\"#DejaVuSans-120\"/>\n     <use x=\"657.820312\" xlink:href=\"#DejaVuSans-116\"/>\n     <use x=\"697.029297\" xlink:href=\"#DejaVuSans-47\"/>\n     <use x=\"730.720703\" xlink:href=\"#DejaVuSans-104\"/>\n     <use x=\"794.099609\" xlink:href=\"#DejaVuSans-116\"/>\n     <use x=\"833.308594\" xlink:href=\"#DejaVuSans-109\"/>\n     <use x=\"930.720703\" xlink:href=\"#DejaVuSans-108\"/>\n     <use x=\"958.503906\" xlink:href=\"#DejaVuSans-41\"/>\n    </g>\n   </g>\n   <g id=\"text_5\">\n    <!-- multipart(text/plain, text/html) -->\n    <g transform=\"translate(207.261582 175.942566)scale(0.1 -0.1)\">\n     <use xlink:href=\"#DejaVuSans-109\"/>\n     <use x=\"97.412109\" xlink:href=\"#DejaVuSans-117\"/>\n     <use x=\"160.791016\" xlink:href=\"#DejaVuSans-108\"/>\n     <use x=\"188.574219\" xlink:href=\"#DejaVuSans-116\"/>\n     <use x=\"227.783203\" xlink:href=\"#DejaVuSans-105\"/>\n     <use x=\"255.566406\" xlink:href=\"#DejaVuSans-112\"/>\n     <use x=\"319.042969\" xlink:href=\"#DejaVuSans-97\"/>\n     <use x=\"380.322266\" xlink:href=\"#DejaVuSans-114\"/>\n     <use x=\"421.435547\" xlink:href=\"#DejaVuSans-116\"/>\n     <use x=\"460.644531\" xlink:href=\"#DejaVuSans-40\"/>\n     <use x=\"499.658203\" xlink:href=\"#DejaVuSans-116\"/>\n     <use x=\"538.867188\" xlink:href=\"#DejaVuSans-101\"/>\n     <use x=\"598.640625\" xlink:href=\"#DejaVuSans-120\"/>\n     <use x=\"657.820312\" xlink:href=\"#DejaVuSans-116\"/>\n     <use x=\"697.029297\" xlink:href=\"#DejaVuSans-47\"/>\n     <use x=\"730.720703\" xlink:href=\"#DejaVuSans-112\"/>\n     <use x=\"794.197266\" xlink:href=\"#DejaVuSans-108\"/>\n     <use x=\"821.980469\" xlink:href=\"#DejaVuSans-97\"/>\n     <use x=\"883.259766\" xlink:href=\"#DejaVuSans-105\"/>\n     <use x=\"911.042969\" xlink:href=\"#DejaVuSans-110\"/>\n     <use x=\"974.421875\" xlink:href=\"#DejaVuSans-44\"/>\n     <use x=\"1006.208984\" xlink:href=\"#DejaVuSans-32\"/>\n     <use x=\"1037.996094\" xlink:href=\"#DejaVuSans-116\"/>\n     <use x=\"1077.205078\" xlink:href=\"#DejaVuSans-101\"/>\n     <use x=\"1136.978516\" xlink:href=\"#DejaVuSans-120\"/>\n     <use x=\"1196.158203\" xlink:href=\"#DejaVuSans-116\"/>\n     <use x=\"1235.367188\" xlink:href=\"#DejaVuSans-47\"/>\n     <use x=\"1269.058594\" xlink:href=\"#DejaVuSans-104\"/>\n     <use x=\"1332.4375\" xlink:href=\"#DejaVuSans-116\"/>\n     <use x=\"1371.646484\" xlink:href=\"#DejaVuSans-109\"/>\n     <use x=\"1469.058594\" xlink:href=\"#DejaVuSans-108\"/>\n     <use x=\"1496.841797\" xlink:href=\"#DejaVuSans-41\"/>\n    </g>\n   </g>\n   <g id=\"text_6\">\n    <!-- Spam emails -->\n    <g transform=\"translate(77.20125 30)scale(0.12 -0.12)\">\n     <defs>\n      <path d=\"M 53.515625 70.515625 \nL 53.515625 60.890625 \nQ 47.90625 63.578125 42.921875 64.890625 \nQ 37.9375 66.21875 33.296875 66.21875 \nQ 25.25 66.21875 20.875 63.09375 \nQ 16.5 59.96875 16.5 54.203125 \nQ 16.5 49.359375 19.40625 46.890625 \nQ 22.3125 44.4375 30.421875 42.921875 \nL 36.375 41.703125 \nQ 47.40625 39.59375 52.65625 34.296875 \nQ 57.90625 29 57.90625 20.125 \nQ 57.90625 9.515625 50.796875 4.046875 \nQ 43.703125 -1.421875 29.984375 -1.421875 \nQ 24.8125 -1.421875 18.96875 -0.25 \nQ 13.140625 0.921875 6.890625 3.21875 \nL 6.890625 13.375 \nQ 12.890625 10.015625 18.65625 8.296875 \nQ 24.421875 6.59375 29.984375 6.59375 \nQ 38.421875 6.59375 43.015625 9.90625 \nQ 47.609375 13.234375 47.609375 19.390625 \nQ 47.609375 24.75 44.3125 27.78125 \nQ 41.015625 30.8125 33.5 32.328125 \nL 27.484375 33.5 \nQ 16.453125 35.6875 11.515625 40.375 \nQ 6.59375 45.0625 6.59375 53.421875 \nQ 6.59375 63.09375 13.40625 68.65625 \nQ 20.21875 74.21875 32.171875 74.21875 \nQ 37.3125 74.21875 42.625 73.28125 \nQ 47.953125 72.359375 53.515625 70.515625 \nz\n\" id=\"DejaVuSans-83\"/>\n     </defs>\n     <use xlink:href=\"#DejaVuSans-83\"/>\n     <use x=\"63.476562\" xlink:href=\"#DejaVuSans-112\"/>\n     <use x=\"126.953125\" xlink:href=\"#DejaVuSans-97\"/>\n     <use x=\"188.232422\" xlink:href=\"#DejaVuSans-109\"/>\n     <use x=\"285.644531\" xlink:href=\"#DejaVuSans-32\"/>\n     <use x=\"317.431641\" xlink:href=\"#DejaVuSans-101\"/>\n     <use x=\"378.955078\" xlink:href=\"#DejaVuSans-109\"/>\n     <use x=\"476.367188\" xlink:href=\"#DejaVuSans-97\"/>\n     <use x=\"537.646484\" xlink:href=\"#DejaVuSans-105\"/>\n     <use x=\"565.429688\" xlink:href=\"#DejaVuSans-108\"/>\n     <use x=\"593.212891\" xlink:href=\"#DejaVuSans-115\"/>\n    </g>\n   </g>\n  </g>\n  <g id=\"axes_2\">\n   <g id=\"patch_7\">\n    <path d=\"M 659.441455 144.72 \nC 659.441455 133.661333 657.332354 122.703457 653.227424 112.434881 \nC 649.122494 102.166304 643.096562 92.774207 635.473258 84.763005 \nC 627.849955 76.751803 618.768241 70.267528 608.715863 65.658426 \nC 598.663485 61.049325 587.823683 58.399414 576.778622 57.851012 \nC 565.733561 57.302609 554.684577 58.86571 544.225069 62.456368 \nC 533.765562 66.047025 524.086192 71.599786 515.706805 78.816432 \nC 507.327417 86.033078 500.400755 94.782061 495.298824 104.593504 \nC 490.196893 114.404947 487.012693 125.100003 485.917237 136.104279 \nC 484.821781 147.108555 485.835037 158.22146 488.902586 168.84616 \nC 491.970135 179.47086 497.036062 189.413684 503.828292 198.140637 \nC 510.620523 206.867591 519.015245 214.219596 528.56161 219.801802 \nC 538.107976 225.384009 548.631967 229.094662 559.56838 230.734476 \nC 570.504793 232.37429 581.654273 231.913373 592.418022 229.37648 \nC 603.18177 226.839587 613.363582 222.272962 622.416627 215.921861 \nC 631.469672 209.570759 639.228928 201.550953 645.277674 192.293157 \nC 651.32642 183.035361 655.554395 172.70833 657.734532 161.866692 \nL 572.465455 144.72 \nL 659.441455 144.72 \nz\n\" style=\"fill:#1f77b4;\"/>\n   </g>\n   <g id=\"patch_8\">\n    <path d=\"M 657.734532 161.866692 \nC 658.245011 159.328119 658.641871 156.768016 658.923926 154.194033 \nC 659.20598 151.62005 659.372948 149.034756 659.424329 146.445875 \nL 572.465455 144.72 \nL 657.734532 161.866692 \nz\n\" style=\"fill:#ff7f0e;\"/>\n   </g>\n   <g id=\"patch_9\">\n    <path d=\"M 659.424329 146.445875 \nC 659.430038 146.158269 659.434319 145.870637 659.437173 145.582988 \nC 659.440027 145.295339 659.441454 145.007678 659.441455 144.720015 \nL 572.465455 144.72 \nL 659.424329 146.445875 \nz\n\" style=\"fill:#2ca02c;\"/>\n   </g>\n   <g id=\"matplotlib.axis_3\"/>\n   <g id=\"matplotlib.axis_4\"/>\n   <g id=\"text_7\">\n    <!-- text/plain -->\n    <g transform=\"translate(429.785853 138.002081)scale(0.1 -0.1)\">\n     <use xlink:href=\"#DejaVuSans-116\"/>\n     <use x=\"39.208984\" xlink:href=\"#DejaVuSans-101\"/>\n     <use x=\"98.982422\" xlink:href=\"#DejaVuSans-120\"/>\n     <use x=\"158.162109\" xlink:href=\"#DejaVuSans-116\"/>\n     <use x=\"197.371094\" xlink:href=\"#DejaVuSans-47\"/>\n     <use x=\"231.0625\" xlink:href=\"#DejaVuSans-112\"/>\n     <use x=\"294.539062\" xlink:href=\"#DejaVuSans-108\"/>\n     <use x=\"322.322266\" xlink:href=\"#DejaVuSans-97\"/>\n     <use x=\"383.601562\" xlink:href=\"#DejaVuSans-105\"/>\n     <use x=\"411.384766\" xlink:href=\"#DejaVuSans-110\"/>\n    </g>\n   </g>\n   <g id=\"text_8\">\n    <!-- multipart(text/plain, application/pgp-signature) -->\n    <g transform=\"translate(667.569773 157.900811)scale(0.1 -0.1)\">\n     <defs>\n      <path d=\"M 45.40625 27.984375 \nQ 45.40625 37.75 41.375 43.109375 \nQ 37.359375 48.484375 30.078125 48.484375 \nQ 22.859375 48.484375 18.828125 43.109375 \nQ 14.796875 37.75 14.796875 27.984375 \nQ 14.796875 18.265625 18.828125 12.890625 \nQ 22.859375 7.515625 30.078125 7.515625 \nQ 37.359375 7.515625 41.375 12.890625 \nQ 45.40625 18.265625 45.40625 27.984375 \nz\nM 54.390625 6.78125 \nQ 54.390625 -7.171875 48.1875 -13.984375 \nQ 42 -20.796875 29.203125 -20.796875 \nQ 24.46875 -20.796875 20.265625 -20.09375 \nQ 16.0625 -19.390625 12.109375 -17.921875 \nL 12.109375 -9.1875 \nQ 16.0625 -11.328125 19.921875 -12.34375 \nQ 23.78125 -13.375 27.78125 -13.375 \nQ 36.625 -13.375 41.015625 -8.765625 \nQ 45.40625 -4.15625 45.40625 5.171875 \nL 45.40625 9.625 \nQ 42.625 4.78125 38.28125 2.390625 \nQ 33.9375 0 27.875 0 \nQ 17.828125 0 11.671875 7.65625 \nQ 5.515625 15.328125 5.515625 27.984375 \nQ 5.515625 40.671875 11.671875 48.328125 \nQ 17.828125 56 27.875 56 \nQ 33.9375 56 38.28125 53.609375 \nQ 42.625 51.21875 45.40625 46.390625 \nL 45.40625 54.6875 \nL 54.390625 54.6875 \nz\n\" id=\"DejaVuSans-103\"/>\n     </defs>\n     <use xlink:href=\"#DejaVuSans-109\"/>\n     <use x=\"97.412109\" xlink:href=\"#DejaVuSans-117\"/>\n     <use x=\"160.791016\" xlink:href=\"#DejaVuSans-108\"/>\n     <use x=\"188.574219\" xlink:href=\"#DejaVuSans-116\"/>\n     <use x=\"227.783203\" xlink:href=\"#DejaVuSans-105\"/>\n     <use x=\"255.566406\" xlink:href=\"#DejaVuSans-112\"/>\n     <use x=\"319.042969\" xlink:href=\"#DejaVuSans-97\"/>\n     <use x=\"380.322266\" xlink:href=\"#DejaVuSans-114\"/>\n     <use x=\"421.435547\" xlink:href=\"#DejaVuSans-116\"/>\n     <use x=\"460.644531\" xlink:href=\"#DejaVuSans-40\"/>\n     <use x=\"499.658203\" xlink:href=\"#DejaVuSans-116\"/>\n     <use x=\"538.867188\" xlink:href=\"#DejaVuSans-101\"/>\n     <use x=\"598.640625\" xlink:href=\"#DejaVuSans-120\"/>\n     <use x=\"657.820312\" xlink:href=\"#DejaVuSans-116\"/>\n     <use x=\"697.029297\" xlink:href=\"#DejaVuSans-47\"/>\n     <use x=\"730.720703\" xlink:href=\"#DejaVuSans-112\"/>\n     <use x=\"794.197266\" xlink:href=\"#DejaVuSans-108\"/>\n     <use x=\"821.980469\" xlink:href=\"#DejaVuSans-97\"/>\n     <use x=\"883.259766\" xlink:href=\"#DejaVuSans-105\"/>\n     <use x=\"911.042969\" xlink:href=\"#DejaVuSans-110\"/>\n     <use x=\"974.421875\" xlink:href=\"#DejaVuSans-44\"/>\n     <use x=\"1006.208984\" xlink:href=\"#DejaVuSans-32\"/>\n     <use x=\"1037.996094\" xlink:href=\"#DejaVuSans-97\"/>\n     <use x=\"1099.275391\" xlink:href=\"#DejaVuSans-112\"/>\n     <use x=\"1162.751953\" xlink:href=\"#DejaVuSans-112\"/>\n     <use x=\"1226.228516\" xlink:href=\"#DejaVuSans-108\"/>\n     <use x=\"1254.011719\" xlink:href=\"#DejaVuSans-105\"/>\n     <use x=\"1281.794922\" xlink:href=\"#DejaVuSans-99\"/>\n     <use x=\"1336.775391\" xlink:href=\"#DejaVuSans-97\"/>\n     <use x=\"1398.054688\" xlink:href=\"#DejaVuSans-116\"/>\n     <use x=\"1437.263672\" xlink:href=\"#DejaVuSans-105\"/>\n     <use x=\"1465.046875\" xlink:href=\"#DejaVuSans-111\"/>\n     <use x=\"1526.228516\" xlink:href=\"#DejaVuSans-110\"/>\n     <use x=\"1589.607422\" xlink:href=\"#DejaVuSans-47\"/>\n     <use x=\"1623.298828\" xlink:href=\"#DejaVuSans-112\"/>\n     <use x=\"1686.775391\" xlink:href=\"#DejaVuSans-103\"/>\n     <use x=\"1750.251953\" xlink:href=\"#DejaVuSans-112\"/>\n     <use x=\"1813.728516\" xlink:href=\"#DejaVuSans-45\"/>\n     <use x=\"1849.8125\" xlink:href=\"#DejaVuSans-115\"/>\n     <use x=\"1901.912109\" xlink:href=\"#DejaVuSans-105\"/>\n     <use x=\"1929.695312\" xlink:href=\"#DejaVuSans-103\"/>\n     <use x=\"1993.171875\" xlink:href=\"#DejaVuSans-110\"/>\n     <use x=\"2056.550781\" xlink:href=\"#DejaVuSans-97\"/>\n     <use x=\"2117.830078\" xlink:href=\"#DejaVuSans-116\"/>\n     <use x=\"2157.039062\" xlink:href=\"#DejaVuSans-117\"/>\n     <use x=\"2220.417969\" xlink:href=\"#DejaVuSans-114\"/>\n     <use x=\"2259.28125\" xlink:href=\"#DejaVuSans-101\"/>\n     <use x=\"2320.804688\" xlink:href=\"#DejaVuSans-41\"/>\n    </g>\n   </g>\n   <g id=\"text_9\">\n    <!-- multipart(text/plain, text/html) -->\n    <g transform=\"translate(668.134345 148.428662)scale(0.1 -0.1)\">\n     <use xlink:href=\"#DejaVuSans-109\"/>\n     <use x=\"97.412109\" xlink:href=\"#DejaVuSans-117\"/>\n     <use x=\"160.791016\" xlink:href=\"#DejaVuSans-108\"/>\n     <use x=\"188.574219\" xlink:href=\"#DejaVuSans-116\"/>\n     <use x=\"227.783203\" xlink:href=\"#DejaVuSans-105\"/>\n     <use x=\"255.566406\" xlink:href=\"#DejaVuSans-112\"/>\n     <use x=\"319.042969\" xlink:href=\"#DejaVuSans-97\"/>\n     <use x=\"380.322266\" xlink:href=\"#DejaVuSans-114\"/>\n     <use x=\"421.435547\" xlink:href=\"#DejaVuSans-116\"/>\n     <use x=\"460.644531\" xlink:href=\"#DejaVuSans-40\"/>\n     <use x=\"499.658203\" xlink:href=\"#DejaVuSans-116\"/>\n     <use x=\"538.867188\" xlink:href=\"#DejaVuSans-101\"/>\n     <use x=\"598.640625\" xlink:href=\"#DejaVuSans-120\"/>\n     <use x=\"657.820312\" xlink:href=\"#DejaVuSans-116\"/>\n     <use x=\"697.029297\" xlink:href=\"#DejaVuSans-47\"/>\n     <use x=\"730.720703\" xlink:href=\"#DejaVuSans-112\"/>\n     <use x=\"794.197266\" xlink:href=\"#DejaVuSans-108\"/>\n     <use x=\"821.980469\" xlink:href=\"#DejaVuSans-97\"/>\n     <use x=\"883.259766\" xlink:href=\"#DejaVuSans-105\"/>\n     <use x=\"911.042969\" xlink:href=\"#DejaVuSans-110\"/>\n     <use x=\"974.421875\" xlink:href=\"#DejaVuSans-44\"/>\n     <use x=\"1006.208984\" xlink:href=\"#DejaVuSans-32\"/>\n     <use x=\"1037.996094\" xlink:href=\"#DejaVuSans-116\"/>\n     <use x=\"1077.205078\" xlink:href=\"#DejaVuSans-101\"/>\n     <use x=\"1136.978516\" xlink:href=\"#DejaVuSans-120\"/>\n     <use x=\"1196.158203\" xlink:href=\"#DejaVuSans-116\"/>\n     <use x=\"1235.367188\" xlink:href=\"#DejaVuSans-47\"/>\n     <use x=\"1269.058594\" xlink:href=\"#DejaVuSans-104\"/>\n     <use x=\"1332.4375\" xlink:href=\"#DejaVuSans-116\"/>\n     <use x=\"1371.646484\" xlink:href=\"#DejaVuSans-109\"/>\n     <use x=\"1469.058594\" xlink:href=\"#DejaVuSans-108\"/>\n     <use x=\"1496.841797\" xlink:href=\"#DejaVuSans-41\"/>\n    </g>\n   </g>\n   <g id=\"text_10\">\n    <!-- Clean emails -->\n    <g transform=\"translate(533.858267 30)scale(0.12 -0.12)\">\n     <defs>\n      <path d=\"M 64.40625 67.28125 \nL 64.40625 56.890625 \nQ 59.421875 61.53125 53.78125 63.8125 \nQ 48.140625 66.109375 41.796875 66.109375 \nQ 29.296875 66.109375 22.65625 58.46875 \nQ 16.015625 50.828125 16.015625 36.375 \nQ 16.015625 21.96875 22.65625 14.328125 \nQ 29.296875 6.6875 41.796875 6.6875 \nQ 48.140625 6.6875 53.78125 8.984375 \nQ 59.421875 11.28125 64.40625 15.921875 \nL 64.40625 5.609375 \nQ 59.234375 2.09375 53.4375 0.328125 \nQ 47.65625 -1.421875 41.21875 -1.421875 \nQ 24.65625 -1.421875 15.125 8.703125 \nQ 5.609375 18.84375 5.609375 36.375 \nQ 5.609375 53.953125 15.125 64.078125 \nQ 24.65625 74.21875 41.21875 74.21875 \nQ 47.75 74.21875 53.53125 72.484375 \nQ 59.328125 70.75 64.40625 67.28125 \nz\n\" id=\"DejaVuSans-67\"/>\n     </defs>\n     <use xlink:href=\"#DejaVuSans-67\"/>\n     <use x=\"69.824219\" xlink:href=\"#DejaVuSans-108\"/>\n     <use x=\"97.607422\" xlink:href=\"#DejaVuSans-101\"/>\n     <use x=\"159.130859\" xlink:href=\"#DejaVuSans-97\"/>\n     <use x=\"220.410156\" xlink:href=\"#DejaVuSans-110\"/>\n     <use x=\"283.789062\" xlink:href=\"#DejaVuSans-32\"/>\n     <use x=\"315.576172\" xlink:href=\"#DejaVuSans-101\"/>\n     <use x=\"377.099609\" xlink:href=\"#DejaVuSans-109\"/>\n     <use x=\"474.511719\" xlink:href=\"#DejaVuSans-97\"/>\n     <use x=\"535.791016\" xlink:href=\"#DejaVuSans-105\"/>\n     <use x=\"563.574219\" xlink:href=\"#DejaVuSans-108\"/>\n     <use x=\"591.357422\" xlink:href=\"#DejaVuSans-115\"/>\n    </g>\n   </g>\n  </g>\n  <g id=\"text_11\">\n   <!-- Structures popularity -->\n   <g transform=\"translate(267.280227 16.318125)scale(0.12 -0.12)\">\n    <defs>\n     <path d=\"M 32.171875 -5.078125 \nQ 28.375 -14.84375 24.75 -17.8125 \nQ 21.140625 -20.796875 15.09375 -20.796875 \nL 7.90625 -20.796875 \nL 7.90625 -13.28125 \nL 13.1875 -13.28125 \nQ 16.890625 -13.28125 18.9375 -11.515625 \nQ 21 -9.765625 23.484375 -3.21875 \nL 25.09375 0.875 \nL 2.984375 54.6875 \nL 12.5 54.6875 \nL 29.59375 11.921875 \nL 46.6875 54.6875 \nL 56.203125 54.6875 \nz\n\" id=\"DejaVuSans-121\"/>\n    </defs>\n    <use xlink:href=\"#DejaVuSans-83\"/>\n    <use x=\"63.476562\" xlink:href=\"#DejaVuSans-116\"/>\n    <use x=\"102.685547\" xlink:href=\"#DejaVuSans-114\"/>\n    <use x=\"143.798828\" xlink:href=\"#DejaVuSans-117\"/>\n    <use x=\"207.177734\" xlink:href=\"#DejaVuSans-99\"/>\n    <use x=\"262.158203\" xlink:href=\"#DejaVuSans-116\"/>\n    <use x=\"301.367188\" xlink:href=\"#DejaVuSans-117\"/>\n    <use x=\"364.746094\" xlink:href=\"#DejaVuSans-114\"/>\n    <use x=\"403.609375\" xlink:href=\"#DejaVuSans-101\"/>\n    <use x=\"465.132812\" xlink:href=\"#DejaVuSans-115\"/>\n    <use x=\"517.232422\" xlink:href=\"#DejaVuSans-32\"/>\n    <use x=\"549.019531\" xlink:href=\"#DejaVuSans-112\"/>\n    <use x=\"612.496094\" xlink:href=\"#DejaVuSans-111\"/>\n    <use x=\"673.677734\" xlink:href=\"#DejaVuSans-112\"/>\n    <use x=\"737.154297\" xlink:href=\"#DejaVuSans-117\"/>\n    <use x=\"800.533203\" xlink:href=\"#DejaVuSans-108\"/>\n    <use x=\"828.316406\" xlink:href=\"#DejaVuSans-97\"/>\n    <use x=\"889.595703\" xlink:href=\"#DejaVuSans-114\"/>\n    <use x=\"930.708984\" xlink:href=\"#DejaVuSans-105\"/>\n    <use x=\"958.492188\" xlink:href=\"#DejaVuSans-116\"/>\n    <use x=\"997.701172\" xlink:href=\"#DejaVuSans-121\"/>\n   </g>\n  </g>\n </g>\n</svg>\n",
      "image/png": "[encoded data removed]"
     },
     "metadata": {}
    }
   ],
   "source": [
    "fig, (ax1, ax2) = plt.subplots(1, 2)\n",
    "fig.suptitle('Structures popularity')\n",
    "\n",
    "ax1.pie(list(spam_structures.values())[:5],labels=list(spam_structures.keys())[:5])\n",
    "ax1.set_title(\"Spam emails\")\n",
    "ax1.plot()\n",
    "\n",
    "ax2.pie(list(clean_structures.values())[:3],labels=list(clean_structures.keys())[:3])\n",
    "ax2.set_title(\"Clean emails\")\n",
    "ax2.plot() \n",
    "\n",
    "fig.set_figwidth(15)\n",
    "fig.show()"
   ]
  },
  {
   "source": [
    "As we can see in the plot above, spam emails consist mostly of plain text content while in the spam emails html and multipart structures are more common. \n",
    "\n",
    "In order to properly classify emails we need to use also the html text content so it has to be transformed into plain text. "
   ],
   "cell_type": "markdown",
   "metadata": {}
  },
  {
   "source": [
    "### Converting email contents to plain text"
   ],
   "cell_type": "markdown",
   "metadata": {}
  },
  {
   "source": [
    "As we could see in the example and the graphs above some of the emails are formatted as HTML documents. In order to work on them we need to transform them into plain text. I will use one of the most popular python HTML parser `BeautifulSoup`."
   ],
   "cell_type": "markdown",
   "metadata": {}
  },
  {
   "cell_type": "code",
   "execution_count": 17,
   "metadata": {
    "tags": []
   },
   "outputs": [
    {
     "output_type": "stream",
     "name": "stdout",
     "text": [
      "Message Content:\n 1) Claim Your $25 Kmart Gift Card\nhttp://www.adclick.ws/p.cfm?o=320&s=pk00001\n\n2) Auto Loans, Fast Approvals for Any Credit!\nhttp://www.adclick.ws/p.cfm?o=383&s=pk1\n\n3) Are You Paying Too Much for Auto Insurance - Find Out?\nhttp://www.adclick.ws/p.cfm?o=334&s=pk1\n\nHave a Wonderful Day,\nPrizeMama.com\n\n\n\n\n\n\n\n\n\n------------------\nYou are receiving this email because you have opted-in to receive\nemail from publisher: prizemama.  To unsubscribe, click below:\n\nhttp://u2.azoogle.com/?z=93-1090346-62lLC4\n-- \nIrish Linux Users' Group Social Events: social@linux.ie\nhttp://www.linux.ie/mailman/listinfo/social for (un)subscription information.\nList maintainer: listmaster@linux.ie\n\n\n\n"
     ]
    }
   ],
   "source": [
    "print('Message Content:\\n',example_spam_email.get_content())"
   ]
  },
  {
   "cell_type": "code",
   "execution_count": 18,
   "metadata": {},
   "outputs": [],
   "source": [
    "from bs4 import BeautifulSoup\n",
    "\n",
    "def html_to_plain(html_content):\n",
    "    try:\n",
    "        soup = BeautifulSoup(html_content, 'html.parser')\n",
    "        return soup.text.replace('\\n\\n','')\n",
    "    except:\n",
    "        return \"empty\"\n"
   ]
  },
  {
   "cell_type": "code",
   "execution_count": 19,
   "metadata": {},
   "outputs": [
    {
     "output_type": "stream",
     "name": "stdout",
     "text": [
      "1) Claim Your $25 Kmart Gift Card\nhttp://www.adclick.ws/p.cfm?o=320&s=pk000012) Auto Loans, Fast Approvals for Any Credit!\nhttp://www.adclick.ws/p.cfm?o=383&s=pk13) Are You Paying Too Much for Auto Insurance - Find Out?\nhttp://www.adclick.ws/p.cfm?o=334&s=pk1Have a Wonderful Day,\nPrizeMama.com------------------\nYou are receiving this email because you have opted-in to receive\nemail from publisher: prizemama.  To unsubscribe, click below:http://u2.azoogle.com/?z=93-1090346-62lLC4\n-- \nIrish Linux Users' Group Social Events: social@linux.ie\nhttp://www.linux.ie/mailman/listinfo/social for (un)subscription information.\nList maintainer: listmaster@linux.ie\n\n"
     ]
    }
   ],
   "source": [
    "print(html_to_plain(example_spam_email.get_content()))"
   ]
  },
  {
   "cell_type": "code",
   "execution_count": 20,
   "metadata": {},
   "outputs": [],
   "source": [
    "def parse_email(email):\n",
    "    for part in email.walk():\n",
    "        part_type = part.get_content_type()\n",
    "        if part_type not in ['text/plain','text/html']:\n",
    "            continue\n",
    "        try:\n",
    "            part_content = part.get_content()\n",
    "        except: # in case of encoding issues\n",
    "            part_content = str(part.get_payload())\n",
    "        if part_type == 'text/plain':\n",
    "            return part_content\n",
    "        else:\n",
    "            return html_to_plain(part)"
   ]
  },
  {
   "source": [
    "spam_emails = [parse_email(email) for email in spam_emails]"
   ],
   "cell_type": "code",
   "metadata": {},
   "execution_count": 21,
   "outputs": []
  },
  {
   "cell_type": "code",
   "execution_count": 22,
   "metadata": {},
   "outputs": [],
   "source": [
    "clean_emails = [parse_email(email) for email in clean_emails]"
   ]
  },
  {
   "source": [
    "### Tokenization"
   ],
   "cell_type": "markdown",
   "metadata": {}
  },
  {
   "source": [
    "To use the emails content in order to train our model we need to transform the text into tokens. To acheive that I will use Python natural language processing module NLTK."
   ],
   "cell_type": "markdown",
   "metadata": {}
  },
  {
   "cell_type": "code",
   "execution_count": 23,
   "metadata": {},
   "outputs": [
    {
     "output_type": "stream",
     "name": "stdout",
     "text": [
      "crash => crash\ncrashes => crash\ncrashed => crash\ncrashing => crash\n"
     ]
    }
   ],
   "source": [
    "import nltk\n",
    "\n",
    "stemmer = nltk.PorterStemmer()\n",
    "for word in (\"crash\", \"crashes\", \"crashed\", \"crashing\"):\n",
    "        print(word, \"=>\", stemmer.stem(word))"
   ]
  },
  {
   "cell_type": "code",
   "execution_count": 24,
   "metadata": {},
   "outputs": [
    {
     "output_type": "execute_result",
     "data": {
      "text/plain": [
       "'test test test'"
      ]
     },
     "metadata": {},
     "execution_count": 24
    }
   ],
   "source": [
    "import string\n",
    "\n",
    "def remove_punctuation(text):\n",
    "    return text.translate(str.maketrans('', '', string.punctuation))\n",
    "\n",
    "\n",
    "remove_punctuation(\"test. test. test?\")"
   ]
  },
  {
   "cell_type": "code",
   "execution_count": 25,
   "metadata": {
    "tags": []
   },
   "outputs": [
    {
     "output_type": "stream",
     "name": "stderr",
     "text": [
      "100%|██████████| 4/4 [00:00<00:00, 5251.08it/s]\n"
     ]
    }
   ],
   "source": [
    "import re\n",
    "import tqdm\n",
    "import numpy as np\n",
    "\n",
    "class Tokenizer:\n",
    "    def __init__(self, text_leraning_set, vocabulary_size=1000):\n",
    "        self._dictionary = {}\n",
    "        self._words_count = Counter()\n",
    "        global_words_count = Counter()\n",
    "        for email in tqdm.tqdm(text_leraning_set):\n",
    "            email_word_count = self.get_words_counter(email)\n",
    "            self._words_count += email_word_count\n",
    "        most_frequent = self._words_count.most_common(vocabulary_size)\n",
    "\n",
    "        for idx, element in enumerate(most_frequent):\n",
    "            word, _ = element\n",
    "            self._dictionary[word] = idx\n",
    "\n",
    "    def clean_text(self, text):\n",
    "        \"\"\" Prepares the text and returns the list of stemmed words \"\"\"\n",
    "        if text is None:\n",
    "            text = 'empty'\n",
    "        text = text.lower()\n",
    "        text = remove_punctuation(text)\n",
    "        text = re.sub(\"\\s\\s+\" , \" \", text)\n",
    "        text = text.split(\" \")\n",
    "        return [stemmer.stem(word) for word in text]\n",
    "\n",
    "    def get_words_counter(self, text):\n",
    "        text = self.clean_text(text)\n",
    "        return Counter(text)\n",
    "\n",
    "    def transform(self, text):\n",
    "        text = self.clean_text(text)\n",
    "        words_list = self._dictionary.keys()\n",
    "        result_vector = np.zeros(len(self._dictionary))\n",
    "        for word in text:\n",
    "            if word in words_list:\n",
    "                index = self._dictionary[word]\n",
    "                result_vector[index] = 1\n",
    "        return result_vector\n",
    "\n",
    "\n",
    "test_tokenizer = Tokenizer([\"Example test sentence one\", \"here is another\", \"and next one\", \"Last sentence\"])"
   ]
  },
  {
   "cell_type": "code",
   "execution_count": 26,
   "metadata": {},
   "outputs": [
    {
     "output_type": "execute_result",
     "data": {
      "text/plain": [
       "{'sentenc': 0,\n",
       " 'one': 1,\n",
       " 'exampl': 2,\n",
       " 'test': 3,\n",
       " 'here': 4,\n",
       " 'is': 5,\n",
       " 'anoth': 6,\n",
       " 'and': 7,\n",
       " 'next': 8,\n",
       " 'last': 9}"
      ]
     },
     "metadata": {},
     "execution_count": 26
    }
   ],
   "source": [
    "test_tokenizer._dictionary"
   ]
  },
  {
   "cell_type": "code",
   "execution_count": 27,
   "metadata": {
    "tags": []
   },
   "outputs": [
    {
     "output_type": "execute_result",
     "data": {
      "text/plain": [
       "array([0., 1., 0., 0., 0., 0., 0., 1., 1., 0.])"
      ]
     },
     "metadata": {},
     "execution_count": 27
    }
   ],
   "source": [
    "test_tokenizer.transform(\"and next one\")"
   ]
  },
  {
   "source": [
    "Tokenizer method get_words_counter parses the text and returns dictionary of words from the text mapped to their count. Tokenizer on construction iterates through the emails and creates dictionary of size `vocabulary_size`."
   ],
   "cell_type": "markdown",
   "metadata": {}
  },
  {
   "cell_type": "code",
   "execution_count": 38,
   "metadata": {},
   "outputs": [
    {
     "output_type": "stream",
     "name": "stdout",
     "text": [
      "    Date:        Wed, 21 Aug 2002 10:54:46 -0500\n    From:        Chris Garrigues <cwg-dated-1030377287.06fa6d@DeepEddy.Com>\n    Message-ID:  <1029945287.4797.TMDA@deepeddy.vircio.com>\n\n\n  | I can't reproduce this error.\n\nFor me it is very repeatable... (like every time, without fail).\n\nThis is the debug log of the pick happening ...\n\n18:19:03 Pick_It {exec pick +inbox -list -lbrace -lbrace -subject ftp -rbrace -rbrace} {4852-4852 -sequence mercury}\n18:19:03 exec pick +inbox -list -lbrace -lbrace -subject ftp -rbrace -rbrace 4852-4852 -sequence mercury\n18:19:04 Ftoc_PickMsgs {{1 hit}}\n18:19:04 Marking 1 hits\n18:19:04 tkerror: syntax error in expression \"int ...\n\nNote, if I run the pick command by hand ...\n\ndelta$ pick +inbox -list -lbrace -lbrace -subject ftp -rbrace -rbrace  4852-4852 -sequence mercury\n1 hit\n\nThat's where the \"1 hit\" comes from (obviously).  The version of nmh I'm\nusing is ...\n\ndelta$ pick -version\npick -- nmh-1.0.4 [compiled on fuchsia.cs.mu.OZ.AU at Sun Mar 17 14:55:56 ICT 2002]\n\nAnd the relevant part of my .mh_profile ...\n\ndelta$ mhparam pick\n-seq sel -list\n\n\nSince the pick command works, the sequence (actually, both of them, the\none that's explicit on the command line, from the search popup, and the\none that comes from .mh_profile) do get created.\n\nkre\n\nps: this is still using the version of the code form a day ago, I haven't\nbeen able to reach the cvs repository today (local routing issue I think).\n\n\n\n_______________________________________________\nExmh-workers mailing list\nExmh-workers@redhat.com\nhttps://listman.redhat.com/mailman/listinfo/exmh-workers\n\n\nCounter({'the': 13, 'pick': 7, 'lbrace': 6, 'rbrace': 6, 'of': 5, 'from': 4, 'i': 4, 'is': 4, 'list': 4, 'sequenc': 4, 'thi': 3, 'inbox': 3, 'subject': 3, 'ftp': 3, '48524852': 3, '1': 3, 'command': 3, 'delta': 3, 'that': 3, '': 2, '2002': 2, 'error': 2, 'exec': 2, 'hit': 2, 'come': 2, 'version': 2, 'on': 2, 'and': 2, 'mhprofil': 2, 'the\\non': 2, 'date': 1, 'wed': 1, '21': 1, 'aug': 1, '105446': 1, '0500': 1, 'chri': 1, 'garrigu': 1, 'cwgdated103037728706fa6ddeepeddycom': 1, 'messageid': 1, '10299452874797tmdadeepeddyvirciocom': 1, 'cant': 1, 'reproduc': 1, 'for': 1, 'me': 1, 'it': 1, 'veri': 1, 'repeat': 1, 'like': 1, 'everi': 1, 'time': 1, 'without': 1, 'fail': 1, 'debug': 1, 'log': 1, 'happen': 1, '181903': 1, 'pickit': 1, 'mercury\\n181903': 1, 'mercury\\n181904': 1, 'ftocpickmsg': 1, 'hit\\n181904': 1, 'mark': 1, 'hits\\n181904': 1, 'tkerror': 1, 'syntax': 1, 'in': 1, 'express': 1, 'int': 1, 'note': 1, 'if': 1, 'run': 1, 'by': 1, 'hand': 1, 'mercury\\n1': 1, 'where': 1, 'obvious': 1, 'nmh': 1, 'im\\nus': 1, 'version\\npick': 1, 'nmh104': 1, 'compil': 1, 'fuchsiacsmuozau': 1, 'at': 1, 'sun': 1, 'mar': 1, '17': 1, '145556': 1, 'ict': 1, 'relev': 1, 'part': 1, 'my': 1, 'mhparam': 1, 'pick\\nseq': 1, 'sel': 1, 'sinc': 1, 'work': 1, 'actual': 1, 'both': 1, 'them': 1, 'explicit': 1, 'line': 1, 'search': 1, 'popup': 1, 'do': 1, 'get': 1, 'creat': 1, 'kre': 1, 'ps': 1, 'still': 1, 'use': 1, 'code': 1, 'form': 1, 'a': 1, 'day': 1, 'ago': 1, 'havent\\nbeen': 1, 'abl': 1, 'to': 1, 'reach': 1, 'cv': 1, 'repositori': 1, 'today': 1, 'local': 1, 'rout': 1, 'issu': 1, 'think': 1, 'exmhwork': 1, 'mail': 1, 'list\\nexmhworkersredhatcom\\nhttpslistmanredhatcommailmanlistinfoexmhwork': 1})\n"
     ]
    }
   ],
   "source": [
    "test_email_content = clean_emails[0]\n",
    "\n",
    "print(test_email_content)\n",
    "print(tokenizer.get_words_counter(test_email_content))\n"
   ]
  },
  {
   "cell_type": "code",
   "execution_count": 95,
   "metadata": {},
   "outputs": [
    {
     "output_type": "execute_result",
     "data": {
      "text/plain": [
       "['the',\n",
       " 'to',\n",
       " 'and',\n",
       " 'of',\n",
       " 'a',\n",
       " 'in',\n",
       " 'it',\n",
       " 'is',\n",
       " 'that',\n",
       " 'i',\n",
       " 'for',\n",
       " 'on',\n",
       " 'thi',\n",
       " 'you',\n",
       " 'be',\n",
       " 'with',\n",
       " '',\n",
       " 'have',\n",
       " 'not',\n",
       " 'as',\n",
       " 'are',\n",
       " 'from',\n",
       " 'but',\n",
       " 'at',\n",
       " 'use']"
      ]
     },
     "metadata": {},
     "execution_count": 95
    }
   ],
   "source": [
    "list(tokenizer._dictionary.keys())[0:25]"
   ]
  },
  {
   "source": [
    "Now lets create the leraning data set for the ML model."
   ],
   "cell_type": "markdown",
   "metadata": {}
  },
  {
   "cell_type": "code",
   "execution_count": 32,
   "metadata": {},
   "outputs": [
    {
     "output_type": "stream",
     "name": "stderr",
     "text": [
      "100%|██████████| 3052/3052 [00:15<00:00, 200.87it/s]\n"
     ]
    }
   ],
   "source": [
    "import pandas as pd\n",
    "\n",
    "all_emails = [*spam_emails, *clean_emails]\n",
    "tokenizer = Tokenizer(all_emails)\n",
    "\n",
    "vectors = [tokenizer.transform(email) for email in all_emails]\n",
    "labels = [\"spam\" for _ in spam_emails]+[\"clean\" for _ in clean_emails]"
   ]
  },
  {
   "cell_type": "code",
   "execution_count": 33,
   "metadata": {},
   "outputs": [],
   "source": [
    "df = pd.DataFrame({\"vector\": vectors, \"label\": labels})"
   ]
  },
  {
   "cell_type": "code",
   "execution_count": 37,
   "metadata": {},
   "outputs": [
    {
     "output_type": "execute_result",
     "data": {
      "text/plain": [
       "                                                 vector  label\n",
       "1754  [1.0, 1.0, 1.0, 1.0, 1.0, 0.0, 0.0, 1.0, 1.0, ...  clean\n",
       "2405  [1.0, 1.0, 1.0, 1.0, 0.0, 1.0, 0.0, 0.0, 0.0, ...  clean\n",
       "2692  [0.0, 0.0, 0.0, 0.0, 1.0, 1.0, 0.0, 0.0, 1.0, ...  clean\n",
       "766   [1.0, 1.0, 0.0, 1.0, 1.0, 1.0, 1.0, 1.0, 0.0, ...  clean\n",
       "261   [0.0, 0.0, 0.0, 0.0, 0.0, 0.0, 0.0, 0.0, 0.0, ...   spam"
      ],
      "text/html": "<div>\n<style scoped>\n    .dataframe tbody tr th:only-of-type {\n        vertical-align: middle;\n    }\n\n    .dataframe tbody tr th {\n        vertical-align: top;\n    }\n\n    .dataframe thead th {\n        text-align: right;\n    }\n</style>\n<table border=\"1\" class=\"dataframe\">\n  <thead>\n    <tr style=\"text-align: right;\">\n      <th></th>\n      <th>vector</th>\n      <th>label</th>\n    </tr>\n  </thead>\n  <tbody>\n    <tr>\n      <th>1754</th>\n      <td>[1.0, 1.0, 1.0, 1.0, 1.0, 0.0, 0.0, 1.0, 1.0, ...</td>\n      <td>clean</td>\n    </tr>\n    <tr>\n      <th>2405</th>\n      <td>[1.0, 1.0, 1.0, 1.0, 0.0, 1.0, 0.0, 0.0, 0.0, ...</td>\n      <td>clean</td>\n    </tr>\n    <tr>\n      <th>2692</th>\n      <td>[0.0, 0.0, 0.0, 0.0, 1.0, 1.0, 0.0, 0.0, 1.0, ...</td>\n      <td>clean</td>\n    </tr>\n    <tr>\n      <th>766</th>\n      <td>[1.0, 1.0, 0.0, 1.0, 1.0, 1.0, 1.0, 1.0, 0.0, ...</td>\n      <td>clean</td>\n    </tr>\n    <tr>\n      <th>261</th>\n      <td>[0.0, 0.0, 0.0, 0.0, 0.0, 0.0, 0.0, 0.0, 0.0, ...</td>\n      <td>spam</td>\n    </tr>\n  </tbody>\n</table>\n</div>"
     },
     "metadata": {},
     "execution_count": 37
    }
   ],
   "source": [
    "from sklearn.utils import shuffle\n",
    "\n",
    "df = shuffle(df)\n",
    "df.head()"
   ]
  },
  {
   "cell_type": "code",
   "execution_count": null,
   "metadata": {},
   "outputs": [],
   "source": []
  }
 ]
}